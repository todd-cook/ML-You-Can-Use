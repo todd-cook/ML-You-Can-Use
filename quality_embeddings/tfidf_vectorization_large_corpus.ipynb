{
 "cells": [
  {
   "cell_type": "markdown",
   "id": "01004e47",
   "metadata": {},
   "source": [
    "# TfIdf Vectorization of a large corpus\n",
    "Usually Tfidf vectors need to be trained on a domain-specific corpus. However, in many cases, a generic baseline of idf values can be good enough, and helpful for computing generic tasks like weighting sentence embeddings. Besides the obvious memory challenges with processing a large corpus, there are important questions that need to be resolved when organizing a collection of documents:\n",
    "\n",
    "* What is considered a document?\n",
    "    * is one epistle one document?\n",
    "    * is one section or chapter of one speech one document?\n",
    "    * is one poem a one document? ranging from epigram to a book of epic poetry?\n",
    "    * is one chapter in a prose book one document?\n",
    "    * Disagree with any of these? then you'll want to train your own word idf mapping and compare results.\n",
    "* How can we compare TfIdf vectors, what are some simple baselines?\n",
    "\n",
    "In this notebook we'll work towards creating a generic tfidf vector for a discrete but general purpose corpus.\n",
    "Of course, any time you can limit the scope of your documents to a particular domain and train on those, then you will get better results, but to handle unseen data in a robust manner, a general idf mapping is better than assuming a uniform distribution!\n",
    "\n",
    "We'll look at the Tessearae corpus, and generate a word : idf mapping that we can use elsewhere for computing sentence embeddings.\n",
    "\n",
    "We'll generate and assess tfidf vectors of the Tesserae corpus broken into (by turns):\n",
    "* 762 files\n",
    "* 49,938 docs"
   ]
  },
  {
   "cell_type": "code",
   "execution_count": 1,
   "id": "a64f9baf",
   "metadata": {},
   "outputs": [],
   "source": [
    "import os\n",
    "import pickle\n",
    "import re\n",
    "import sys\n",
    "from collections import Counter, defaultdict\n",
    "from glob import glob\n",
    "from pathlib import Path\n",
    "currentdir = Path.cwd()\n",
    "parentdir = os.path.dirname(currentdir)\n",
    "sys.path.insert(0,parentdir)\n",
    "from tqdm import tqdm\n",
    "from cltk.alphabet.lat import normalize_lat\n",
    "from cltk.sentence.lat import LatinPunktSentenceTokenizer\n",
    "from cltk.tokenizers.lat.lat import LatinWordTokenizer\n",
    "from mlyoucanuse.text_cleaners import swallow\n",
    "from scipy.spatial.distance import cosine\n",
    "from sklearn.feature_extraction.text import TfidfVectorizer\n",
    "from sklearn.metrics import mean_squared_error as mse\n",
    "import matplotlib.pyplot as plt"
   ]
  },
  {
   "cell_type": "code",
   "execution_count": 2,
   "id": "a67f5bdd",
   "metadata": {},
   "outputs": [
    {
     "name": "stdout",
     "output_type": "stream",
     "text": [
      "Tesserae corpus contains: 762 files\n"
     ]
    }
   ],
   "source": [
    "tesserae = glob(os.path.expanduser('~/cltk_data/latin/text/latin_text_tesserae/texts/*.tess'))\n",
    "print(f\"Tesserae corpus contains: {len(tesserae)} files\")"
   ]
  },
  {
   "cell_type": "markdown",
   "id": "6434a39e",
   "metadata": {},
   "source": [
    "# Conversions and helper functions"
   ]
  },
  {
   "cell_type": "code",
   "execution_count": 3,
   "id": "680c30a0",
   "metadata": {},
   "outputs": [],
   "source": [
    "ANY_ANGLE = re.compile(\"<.[^>]+>\") # used to remove tesserae metadata \n",
    "\n",
    "toker = LatinWordTokenizer()\n",
    "sent_toker = LatinPunktSentenceTokenizer()\n",
    "\n",
    "def toker_call(text):\n",
    "    # skip blank lines\n",
    "    if text.strip() is None:\n",
    "        return []\n",
    "    text = swallow(text, ANY_ANGLE)        \n",
    "    # normalize effectively reduces our corpus diversity by 0.028%\n",
    "    text = normalize_lat(text, drop_accents=True, \n",
    "                         drop_macrons=True,\n",
    "                         jv_replacement=True,\n",
    "                         ligature_replacement=True)\n",
    "    return toker.tokenize(text)"
   ]
  },
  {
   "cell_type": "code",
   "execution_count": 4,
   "id": "5249302c",
   "metadata": {},
   "outputs": [
    {
     "name": "stderr",
     "output_type": "stream",
     "text": [
      "/Users/todd/opt/anaconda3/envs/mlycu3.8/lib/python3.8/site-packages/sklearn/feature_extraction/text.py:489: UserWarning: The parameter 'token_pattern' will not be used since 'tokenizer' is not None'\n",
      "  warnings.warn(\"The parameter 'token_pattern' will not be used\"\n",
      "  0%|          | 65/299456 [00:00<07:44, 644.12it/s]"
     ]
    },
    {
     "name": "stdout",
     "output_type": "stream",
     "text": [
      "size of vocab: 299,456\n"
     ]
    },
    {
     "name": "stderr",
     "output_type": "stream",
     "text": [
      "100%|██████████| 299456/299456 [06:36<00:00, 754.70it/s]\n"
     ]
    }
   ],
   "source": [
    "vectorizer = TfidfVectorizer(input='filename', tokenizer=toker_call) \n",
    "vectorizer.fit(tesserae)\n",
    "print(f\"size of vocab: {len(vectorizer.vocabulary_):,}\")\n",
    "word_idf_files = {key: vectorizer.idf_[idx] \n",
    "            for key,idx in tqdm(vectorizer.vocabulary_.items(), total=len(vectorizer.idf_))}\n",
    "del vectorizer"
   ]
  },
  {
   "cell_type": "markdown",
   "id": "1d172765",
   "metadata": {},
   "source": [
    "# Corpus to Documents functions"
   ]
  },
  {
   "cell_type": "code",
   "execution_count": 5,
   "id": "ecc9399f",
   "metadata": {},
   "outputs": [],
   "source": [
    "def count_numbers(text):\n",
    "    \"\"\"\n",
    "    Count the numbers groups in a line of text\n",
    "    \n",
    "    >>> count_numbers ('<caes. gal. 8.0.4>')\n",
    "    3\n",
    "    >>> count_numbers('<caes. gal. 1.10.1>')\n",
    "    3\n",
    "    >>> count_numbers(\"<ov. her. 1.116>        Protinus\")\n",
    "    2\n",
    "    >>> count_numbers(\"<cic. arch. 1> si quid est in me ingeni\")\n",
    "    1\n",
    "    \"\"\"\n",
    "    if re.search(r'\\d+\\.\\d+\\.\\d+', text):\n",
    "        return 3\n",
    "    if re.search(r'\\d+\\.\\d+', text):\n",
    "        return 2\n",
    "    if re.search(r'\\d+', text):\n",
    "        return 1\n",
    "    return 0\n",
    "\n",
    "\n",
    "def make_file_docs(filename):\n",
    "    \"\"\"given a filename return a dictionary with a list of docs.\n",
    "    \n",
    "    if two numbers found, join on the first one \n",
    "    <verg. aen. 9.10>\tNec satis: extremas Corythi penetravit ad urbes\n",
    "    <verg. ecl. 1.2> silvestrem tenui Musam meditaris avena;\n",
    "\n",
    "    if 3 numbers found, create a doc for each cluster of the first two numbers\n",
    "    <livy. urbe. 31.1.3> tot enim sunt a primo Punico ad secundum bellum finitum—\n",
    "    if just one number split on that\n",
    "    \"<cic. arch. 1> si quid est in me ingeni\"\n",
    "    \n",
    "    \"\"\"\n",
    "    file_docs =defaultdict(list)\n",
    "    file_stats = {}\n",
    "    file = os.path.basename(filename)\n",
    "    ibook = None\n",
    "    ichapter = None\n",
    "    with open(filename, 'rt') as fin:\n",
    "        prev_ch= None\n",
    "        lines =[]\n",
    "        all_text=\"\"\n",
    "        for line in fin:\n",
    "            numbers_found = count_numbers(line)\n",
    "            if numbers_found == 0:\n",
    "                if line.strip():\n",
    "                    text = swallow(line, ANY_ANGLE)     \n",
    "                    file_docs[f\"{file}\"].append(text)\n",
    "                continue\n",
    "            if numbers_found == 3:\n",
    "                match = re.search(r'\\d+\\.\\d+\\.\\d+', line) \n",
    "                if not match:\n",
    "                    continue\n",
    "                start, end = match.span()\n",
    "                num_section = line[start:end]\n",
    "                book, chapter, sent = num_section.split(\".\")\n",
    "                ibook = int(book)\n",
    "                ichapter = int(chapter)\n",
    "                text = swallow(line, ANY_ANGLE)     \n",
    "                if prev_ch == None:\n",
    "                    lines.append(text)\n",
    "                    prev_ch = ichapter\n",
    "                    continue\n",
    "                if prev_ch != ichapter:\n",
    "                    file_docs[f\"{file}.{ibook}.{prev_ch}\"].extend(lines)\n",
    "                    lines = []\n",
    "                    lines.append(text)\n",
    "                    prev_ch = ichapter\n",
    "                else:\n",
    "                    lines.append(text)                \n",
    "            if numbers_found ==2:\n",
    "                if line.strip():\n",
    "                    match = re.search(r'\\d+\\.\\d+', line) \n",
    "                    if not match:\n",
    "                        continue\n",
    "                    start, end = match.span()                                      \n",
    "                    num_section = line[start:end]\n",
    "                    book, chapter = num_section.split(\".\")\n",
    "                    ibook = int(book)\n",
    "                    ichapter = int(chapter)\n",
    "                    text = swallow(line, ANY_ANGLE)     \n",
    "                    file_docs[f\"{file}.{ibook}\"].append(text)\n",
    "                continue                                    \n",
    "            if numbers_found ==1:\n",
    "                if line.strip():\n",
    "                    match = re.search(r'\\d+', line) \n",
    "                    start, end = match.span()                                      \n",
    "                    num_section = line[start:end]\n",
    "                    ibook = int(num_section)\n",
    "                    text = swallow(line, ANY_ANGLE)     \n",
    "                    file_docs[f\"{file}.{ibook}\"].append(text)\n",
    "                continue                                                                    \n",
    "    if ibook and ichapter and lines:\n",
    "        all_text = ' '.join(lines)\n",
    "        file_docs[f\"{file}.{ibook}.{ichapter}\"].append(all_text)\n",
    "        prev_ch = None\n",
    "    return file_docs\n",
    "\n",
    "def make_docs(files):\n",
    "    docs = []\n",
    "    for file in files:\n",
    "        try:\n",
    "            file_docs = make_file_docs(  file )\n",
    "            for key in file_docs:\n",
    "                docs.append(' '.join(file_docs[key]))\n",
    "        except Exception as ex:\n",
    "            print(\"fail with\", file)\n",
    "            raise(ex)\n",
    "    return docs"
   ]
  },
  {
   "cell_type": "markdown",
   "id": "adbbef78",
   "metadata": {},
   "source": [
    "## Tests of corpus processing"
   ]
  },
  {
   "cell_type": "code",
   "execution_count": 7,
   "id": "96692157",
   "metadata": {},
   "outputs": [],
   "source": [
    "base = os.path.expanduser(\"~/cltk_data/latin/text/latin_text_tesserae/texts/\")\n",
    "file_docs = make_file_docs(f\"{base}caesar.de_bello_gallico.part.1.tess\")\n",
    "assert(len(file_docs)==54)\n",
    "file_docs = make_file_docs(f\"{base}vergil.eclogues.tess\")\n",
    "assert(len(file_docs)==10)\n",
    "file_docs = make_file_docs(f\"{base}ovid.fasti.part.1.tess\")\n",
    "assert(len(file_docs)==1)\n",
    "# print(len(file_docs))\n",
    "# file_docs \n",
    "\n",
    "test_files = [ f\"{base}caesar.de_bello_gallico.part.1.tess\" ,\n",
    "              f\"{base}vergil.eclogues.tess\",\n",
    "              f\"{base}ovid.fasti.part.1.tess\"] \n",
    "docs = make_docs(test_files)\n",
    "assert(len(docs)==65)"
   ]
  },
  {
   "cell_type": "code",
   "execution_count": 10,
   "id": "d71f04bc",
   "metadata": {},
   "outputs": [
    {
     "name": "stdout",
     "output_type": "stream",
     "text": [
      "762 corpus files broken up into 49,938 documents\n"
     ]
    },
    {
     "name": "stderr",
     "output_type": "stream",
     "text": [
      "100%|██████████| 299406/299406 [06:29<00:00, 768.23it/s]"
     ]
    },
    {
     "name": "stdout",
     "output_type": "stream",
     "text": [
      "distinct words 299,406\n"
     ]
    },
    {
     "name": "stderr",
     "output_type": "stream",
     "text": [
      "\n"
     ]
    }
   ],
   "source": [
    "docs = make_docs(tesserae)\n",
    "print(f\"{len(tesserae)} corpus files broken up into {len(docs):,} documents\") \n",
    "\n",
    "vectorizer = TfidfVectorizer(tokenizer=toker_call) \n",
    "vectorizer.fit(docs)\n",
    "word_idf = {key: vectorizer.idf_[idx] \n",
    "            for key,idx in tqdm(vectorizer.vocabulary_.items(), total=len(vectorizer.idf_))}\n",
    "del vectorizer\n",
    "print(f\"distinct words {len(word_idf):,}\")"
   ]
  },
  {
   "cell_type": "code",
   "execution_count": 11,
   "id": "f0a69c84",
   "metadata": {},
   "outputs": [
    {
     "data": {
      "image/png": "[encoded data removed]",
      "text/plain": [
       "<Figure size 432x288 with 1 Axes>"
      ]
     },
     "metadata": {
      "needs_background": "light"
     },
     "output_type": "display_data"
    }
   ],
   "source": [
    "token_lengths = [len(tmp.split()) for tmp in docs]\n",
    "counter = Counter(token_lengths)\n",
    "indices_counts = list(counter.items())\n",
    "indices_counts.sort(key=lambda x:x[0])\n",
    "indices, counts = zip(*indices_counts )\n",
    "fig = plt.figure()\n",
    "ax = fig.add_subplot(2, 1, 1)\n",
    "line, = ax.plot(counts, color='blue', lw=2)\n",
    "ax.set_yscale('log')\n",
    "plt.title(\"Document Token Counts\")\n",
    "plt.xlabel(\"# Tokens per Doc\")\n",
    "plt.ylabel(\"# of Docs\")\n",
    "plt.show()"
   ]
  },
  {
   "cell_type": "markdown",
   "id": "1199d010",
   "metadata": {},
   "source": [
    "## This word : idf mapping we'll save for sentence vectorization"
   ]
  },
  {
   "cell_type": "code",
   "execution_count": 12,
   "id": "63e4ca35",
   "metadata": {},
   "outputs": [],
   "source": [
    "latin_idf_dict_file = \"word_idf.latin.pkl\"\n",
    "with open(latin_idf_dict_file, 'wb') as fout:\n",
    "    pickle.dump(word_idf, fout)"
   ]
  },
  {
   "cell_type": "markdown",
   "id": "3578f698",
   "metadata": {},
   "source": [
    "## Compare the idf values using Mean Square Error, Cosine\n",
    "These values become more meaningful as the ETL processes are changed; the measurements may well indicate how much value have shifted."
   ]
  },
  {
   "cell_type": "code",
   "execution_count": 20,
   "id": "628dcb60",
   "metadata": {},
   "outputs": [
    {
     "name": "stdout",
     "output_type": "stream",
     "text": [
      "Words Idfs vocab size: 299,406, Words Idf from files 299,456\n",
      "Total # shared vocab: 299,387\n",
      "MSE: 16.972181321245785\n",
      "Cosine: 0.0015073304069079807\n"
     ]
    }
   ],
   "source": [
    "words_idfs = list(word_idf.items())\n",
    "words_idfs.sort(key=lambda x: x[0])\n",
    "words_idf_files = list(word_idf_files.items())\n",
    "words_idf_files.sort(key=lambda x: x[0])\n",
    "print(f\"Words Idfs vocab size: {len(words_idfs):,}, Words Idf from files {len(words_idf_files):,}\") \n",
    "words_idfs = [(key, word_idf.get(key)) for key,val in words_idfs\n",
    "              if key in word_idf_files]\n",
    "words_idf_files = [(key, word_idf_files.get(key)) for key,val in words_idf_files \n",
    "                  if key in word_idf]\n",
    "assert( len(words_idfs) == len(words_idf_files))\n",
    "print(f\"Total # shared vocab: {len(words_idfs):,}\")\n",
    "_, idfs = zip(*words_idfs)\n",
    "_, idfs2 = zip(*words_idf_files)\n",
    "print(f\"MSE: {mse(idfs, idfs2)}\")\n",
    "print(f\"Cosine: {cosine(idfs, idfs2)}\")"
   ]
  }
 ],
 "metadata": {
  "kernelspec": {
   "display_name": "Python (mlycu3.8)",
   "language": "python",
   "name": "mlycu3.8"
  },
  "language_info": {
   "codemirror_mode": {
    "name": "ipython",
    "version": 3
   },
   "file_extension": ".py",
   "mimetype": "text/x-python",
   "name": "python",
   "nbconvert_exporter": "python",
   "pygments_lexer": "ipython3",
   "version": "3.8.8"
  }
 },
 "nbformat": 4,
 "nbformat_minor": 5
}
