{
 "cells": [
  {
   "cell_type": "markdown",
   "metadata": {},
   "source": [
    "# Sentence Similarities in Seneca\n",
    "In this notebook, we're going to generate sentence embeddings for sentence comparisons using the approach detailed in the paper: _A Simple but Tough-to-Beat Baseline for Sentence Embeddings_ by Sanjeev Arora, Yingyu Liang, Tengyu Ma https://openreview.net/pdf?id=SyK00v5xx "
   ]
  },
  {
   "cell_type": "code",
   "execution_count": 1,
   "metadata": {
    "pycharm": {
     "name": "#%%\n"
    }
   },
   "outputs": [],
   "source": [
    "import os\n",
    "import pickle\n",
    "import re\n",
    "import sys\n",
    "from typing import Optional, Dict\n",
    "from glob import glob\n",
    "from pathlib import Path\n",
    "currentdir = Path.cwd()\n",
    "parentdir = os.path.dirname(currentdir)\n",
    "sys.path.insert(0,parentdir)\n",
    "import numpy as np\n",
    "from tqdm import tqdm\n",
    "from cltk import NLP\n",
    "from cltk.alphabet.lat import normalize_lat\n",
    "from cltk.core.data_types import Pipeline\n",
    "from cltk.embeddings import LatinEmbeddingsProcess\n",
    "from cltk.languages.utils import get_lang\n",
    "from cltk.sentence.lat import LatinPunktSentenceTokenizer\n",
    "from cltk.tokenizers.lat.lat import LatinWordTokenizer\n",
    "from cltk.tokenizers import LatinTokenizationProcess\n",
    "from cltk.dependency.processes import LatinStanzaProcess\n",
    "from cltk.alphabet.processes import LatinNormalizeProcess\n",
    "from mlyoucanuse.text_cleaners import swallow\n",
    "from scipy.spatial.distance import cosine\n",
    "from sklearn.decomposition import TruncatedSVD"
   ]
  },
  {
   "cell_type": "code",
   "execution_count": 2,
   "metadata": {
    "pycharm": {
     "name": "#%%\n"
    }
   },
   "outputs": [
    {
     "name": "stdout",
     "output_type": "stream",
     "text": [
      "Tesserae corpus contains: 762 files\n"
     ]
    }
   ],
   "source": [
    "tesserae = glob(os.path.expanduser('~/cltk_data/latin/text/latin_text_tesserae/texts/*.tess'))\n",
    "print(f\"Tesserae corpus contains: {len(tesserae)} files\")"
   ]
  },
  {
   "cell_type": "markdown",
   "metadata": {},
   "source": [
    "# Conversions and helper functions"
   ]
  },
  {
   "cell_type": "code",
   "execution_count": 3,
   "metadata": {
    "pycharm": {
     "name": "#%%\n"
    }
   },
   "outputs": [],
   "source": [
    "ANY_ANGLE = re.compile(\"<.[^>]+>\") # used to remove tesserae metadata \n",
    "\n",
    "toker = LatinWordTokenizer()\n",
    "sent_toker = LatinPunktSentenceTokenizer()\n",
    "\n",
    "def toker_call(text):\n",
    "    text = swallow(text, ANY_ANGLE)        \n",
    "    # normalize effectively reduces our corpus diversity by 0.028%\n",
    "    text = normalize_lat(text, drop_accents=True, \n",
    "                         drop_macrons=True,\n",
    "                         jv_replacement=True,\n",
    "                         ligature_replacement=True)\n",
    "    return toker.tokenize(text)"
   ]
  },
  {
   "cell_type": "markdown",
   "metadata": {},
   "source": [
    "# Load our generic word: idf value mappings, or generate and bring your own"
   ]
  },
  {
   "cell_type": "code",
   "execution_count": 4,
   "metadata": {
    "pycharm": {
     "name": "#%%\n"
    }
   },
   "outputs": [],
   "source": [
    "latin_idf_dict_file =\"word_idf.latin.pkl\"\n",
    "\n",
    "if not os.path.exists(latin_idf_dict_file):\n",
    "    print(\"please run the notebook `tfidf_vectorization_large_corpus` to generate the idf pickle file\")\n",
    "else:\n",
    "    with open(latin_idf_dict_file, 'rb') as fin:\n",
    "        word_idf = pickle.load(fin) "
   ]
  },
  {
   "cell_type": "markdown",
   "metadata": {},
   "source": [
    "# Set up embedding processing"
   ]
  },
  {
   "cell_type": "code",
   "execution_count": 5,
   "metadata": {
    "pycharm": {
     "name": "#%%\n"
    }
   },
   "outputs": [
    {
     "name": "stdout",
     "output_type": "stream",
     "text": [
      "‎𐤀 CLTK version '1.0.14'.\n",
      "Pipeline for language 'Latin' (ISO: 'lat'): `LatinNormalizeProcess`, `LatinTokenizationProcess`, `LatinStanzaProcess`, `LatinEmbeddingsProcess`.\n"
     ]
    }
   ],
   "source": [
    "# a_pipeline = Pipeline(description=\"A custom Latin pipeline\", processes=[LatinTokenizationProcess, LatinEmbeddingsProcess], language=get_lang(\"lat\"))\n",
    "a_pipeline = Pipeline(description=\"A custom Latin pipeline\", processes=[LatinNormalizeProcess, LatinTokenizationProcess, LatinStanzaProcess, LatinEmbeddingsProcess], language=get_lang(\"lat\"))\n",
    "cltk_nlp = NLP(language=\"lat\", custom_pipeline=a_pipeline)\n",
    "\n",
    "# These values are needed while generating sentence embeddings\n",
    "min_idf = np.min(np.array(list(word_idf.values())))\n",
    "max_idf = np.max(np.array(list(word_idf.values())))\n",
    "mean_idf = np.mean(np.array(list(word_idf.values())))\n",
    "\n",
    "def rescale_idf(val):\n",
    "    return (val - min_idf) / (max_idf - min_idf)\n",
    "\n",
    "def compute_pc(X, npc=1):\n",
    "    \"\"\"\n",
    "    Compute the principal components. DO NOT MAKE THE DATA ZERO MEAN!\n",
    "    :param X: X[i,:] is a data point\n",
    "    :param npc: number of principal components to remove\n",
    "    :return: component_[i,:] is the i-th pc\n",
    "    \n",
    "    # This has been adapted from the SIF paper code: https://openreview.net/pdf?id=SyK00v5xx\n",
    "    \"\"\"\n",
    "    svd = TruncatedSVD(n_components=npc, n_iter=7, random_state=0)\n",
    "    svd.fit(X)\n",
    "    return svd.components_\n",
    "\n",
    "def remove_pc(X, npc=1):\n",
    "    \"\"\"\n",
    "    Remove the projection on the principal components\n",
    "    :param X: X[i,:] is a data point\n",
    "    :param npc: number of principal components to remove\n",
    "    :return: XX[i, :] is the data point after removing its projection\n",
    "    \n",
    "    # This has been adapted from the SIF paper code: https://openreview.net/pdf?id=SyK00v5xx\n",
    "    \"\"\"\n",
    "    pc = compute_pc(X, npc)\n",
    "    if npc==1:\n",
    "        XX = X - X.dot(pc.transpose()) * pc\n",
    "    else:\n",
    "        XX = X - X.dot(pc.transpose()).dot(pc)\n",
    "    return XX\n",
    "\n",
    "def get_sent_embeddings(text:str, word_idf_map:Optional[Dict[str,float]]=None):\n",
    "    \"\"\"\n",
    "    Provides the weighted average of a sentence's word vectors with the principle component removed.\n",
    "    \n",
    "    Expectations:\n",
    "    Word can only appear once in a sentence, multiple occurrences are collapsed.\n",
    "    Must have 2 or more embeddings, otherwise Principle Component cannot be found and removed.\n",
    "    \n",
    "    \"\"\"\n",
    "    cltk_doc = cltk_nlp.analyze(text=' '.join(toker.tokenize(text)))    \n",
    "    if word_idf_map:\n",
    "        word_idf = word_idf_map\n",
    "    # else: load pickle file\n",
    "    \n",
    "    embed_map = {\n",
    "        tmp.string: (rescale_idf(word_idf.get(tmp.string.lower(), min_idf)), tmp.embedding)\n",
    "        for tmp in cltk_doc.words\n",
    "        if not np.all((tmp.embedding == 0)) # skip empty embeddings\n",
    "    }    \n",
    "    words = embed_map.keys()\n",
    "    weights_embedds = embed_map.values()\n",
    "    if len(weights_embedds) < 2: # we can't create a sentence embedding for just one word\n",
    "        return np.zeros(300)    \n",
    "    weights, embedds = zip(*weights_embedds)\n",
    "    if sum(weights) == 0:\n",
    "        return np.zeros(300)    \n",
    "    embedds = np.array(embedds)    \n",
    "    scale_factor = 1 / sum(weights) \n",
    "    scaled_vals = np.array([tmp * scale_factor for tmp in weights])\n",
    "    # apply our weighted terms to the adjusted embeddings\n",
    "    weighted_embeds = embedds * scaled_vals[:,None]\n",
    "    mean_wt_embed = np.sum(weighted_embeds, axis=0)\n",
    "    return mean_wt_embed"
   ]
  },
  {
   "cell_type": "markdown",
   "metadata": {},
   "source": [
    "# Generate sentence embeddings for all of Seneca's sentences"
   ]
  },
  {
   "cell_type": "code",
   "execution_count": 6,
   "metadata": {
    "pycharm": {
     "name": "#%%\n"
    }
   },
   "outputs": [
    {
     "name": "stderr",
     "output_type": "stream",
     "text": [
      "\r",
      "  0%|          | 0/42 [00:00<?, ?it/s]"
     ]
    },
    {
     "name": "stdout",
     "output_type": "stream",
     "text": [
      "Number of Seneca documents: 42\n"
     ]
    },
    {
     "name": "stderr",
     "output_type": "stream",
     "text": [
      "100%|██████████| 42/42 [55:05<00:00, 78.70s/it] \n"
     ]
    }
   ],
   "source": [
    "seneca = [tmp for tmp in tesserae if 'seneca.' in tmp] \n",
    "print(f\"Number of Seneca documents: {len(seneca)}\")\n",
    "\n",
    "seneca_sents = {}\n",
    "for file in tqdm(seneca, total=len(seneca)):\n",
    "    with open (file, 'rt') as fin:\n",
    "        text = fin.read()\n",
    "        text = swallow(text, ANY_ANGLE)        \n",
    "        sents = sent_toker.tokenize(text)\n",
    "        for idx, sent in enumerate(sents):\n",
    "            text = normalize_lat(sent, drop_accents=True, \n",
    "                         drop_macrons=True,\n",
    "                         jv_replacement=True,\n",
    "                         ligature_replacement=True)     \n",
    "            seneca_sents[text] = get_sent_embeddings(text, word_idf)"
   ]
  },
  {
   "cell_type": "markdown",
   "metadata": {},
   "source": [
    "## Looking for similar sentences:\n",
    "we'll look for sentences similar to the one that recently gave birth to this book title:\n",
    "\n",
    "https://www.amazon.com/Dying-Every-Day-Seneca-Court/dp/0307743748/ \n",
    "\n",
    "* \"Cotidie enim demitur aliqua pars uitae, et tunc quoque, cum crescimus, uita decrescit.\" \n",
    "* \"Everyday we lose some part of our life, and moreover, while we grow old, our body grows weak.\""
   ]
  },
  {
   "cell_type": "code",
   "execution_count": 7,
   "metadata": {
    "pycharm": {
     "name": "#%%\n"
    },
    "scrolled": false
   },
   "outputs": [
    {
     "name": "stdout",
     "output_type": "stream",
     "text": [
      "Looking for target sentence: Cotidie enim demitur aliqua pars uitae, et tunc quoque, cum crescimus, uita decrescit. at index: 4874\n",
      "Results:\n",
      "0.000: Cotidie enim demitur aliqua pars uitae, et tunc quoque, cum crescimus, uita decrescit.\n",
      "0.588: sunt aliqua parum salubria.\n",
      "0.600: tunc hauriantur.\n",
      "0.614: Deinde quod naturale est non decrescit mora; dolorem dies longa consumit.\n",
      "0.616: Necessaria iudicat, quorum magna pars superuacua est.\n",
      "0.618: Facilius enim crescit dignitas quam incipit.\n",
      "0.627: magna pars ueri latet.\n",
      "0.636: Uideo istic crystallina, quorum accendit fragilitas pretium ; omnium enim rerum uoluptas apud imperitos ipso, quo fugari debet, periculo crescit.\n",
      "0.645: Quomodo illa non crescit, sic ne uirtus quidem; habet numeros suos, plena est.\n",
      "0.649: Idem facit ratio; non late patet, si aspicias: in opere crescit.\n",
      "0.658: Fluunt enim et in assidua deminutione atque adiectione sunt.\n",
      "0.658: Nec*' hoc nouum est, quaedam crescendo mutari.\n",
      "0.663: Plus, quam profligauimus, restat, sed magna pars est profectus uelle proficere.\n",
      "0.668: Maria non crescunt.\n",
      "0.672: Terram hanc cum urbibus populisque et fluminibus et ambitu maris puncti loco ponimus ad uniuersa referentes ; minorem portionem aetas nostra quam puncti habet, si omni tempori comparetur, cuius maior est mensura quam  mundi, utpote cum ille se intra huius spatium totiens remetiatur.\n",
      "0.676: Itaque maior pars in uestimentis degitur.\n",
      "0.677: Praeterea ne aliis quidem tunc prodesse prohibetur, cum illum aliquae necessitates premunt.\n",
      "0.677: Aeque magna est, etiam si in se recessit undique exclusa.\n",
      "0.678: Itaque in aequo est longa et breuis, diffusa et angustior, in multa loca multasque partes distributa et in unum coacta.\n",
      "0.678: Illud probo, quod omnia ad aliquem profectum redigis et tunc tantum offenderis, ubi summa subtilitate nihil agitur.\n",
      "0.683: Quid si illi etiam nunc permiseris crescere?\n",
      "0.686: Nec enim essent ita communia, nisi pars illorum pertineret ad singulos; socium efficit etiam quod ex minima portione commune est.\n",
      "0.689: Quamdiu sic aestimantur, magno inter se dissident spatio; cum ad uirtutem uentum est, utraque par est et quae per laeta procedit et quae per tristia.\n",
      "0.690: Damnum non tunc factum : apparuit.\n",
      "0.697: Hoc quod futurum dico, cum  maxime fit, et pars eius magna iam facta est, nam quod uiximus.\n",
      "0.699: Si uoluissem lenocinari mihi, debuit paulatim opus crescere et ea pars in finem reseruari, quam quilibet etiam satiatus appeteret.\n",
      "0.701: Itaque media sunt haec, quae plurimum interualli recipiunt; uirtus in utroque par est.\n",
      "0.703: Cum magna pars consilii sit in tempore, necesse est euenire, ut de quibusdam rebus tunc ad te perferatur sententia mea, cum iam contraria potior est.\n",
      "0.703: nolunt manus\n",
      " parere, crescit pondus et dextram grauat;\n",
      " admotus ipsis Bacchus a labris fugit\n",
      " circaque rictus ore decepto fluit\n",
      " et ipsa trepido mensa subsiluit solo.\n",
      "0.705: Res agitur intus magna, par annis decem.\n",
      "0.706: sed ecce pugnax ignis in partes duas\n",
      " discedit et se scindit unius sacri\n",
      " discors fauilla— genitor, horresco intuens:\n",
      " libata Bacchi dona permutat cruor\n",
      " ambitque densus regium fumus caput\n",
      " ipsosque circa spissior uultus sedet\n",
      " et nube densa sordidam lucem abdidit.\n",
      "0.707: Nihil, quantum ad ipsas uirtutes; plurimum inter illa, in quibus uirtus utraque ostenditur.\n",
      "0.707: Summa adiectio quare plurimum facit uel exigua ?\n",
      "0.708: Mihi tamen necessarium erat concutere corpus, ut siue bilis insederat faucibus, discuteretur, siue ipse ex aliqua causa spiritus densior erat, extenuaret illum iactatio, quam profuisse mihi sensi.\n",
      "0.708: paeniteat licet,\n",
      " feci— uoluptas magna me inuitam subit,\n",
      " et ecce crescit, derat hoc unum mihi,\n",
      " spectator iste.\n",
      "0.709: Primum, an sit aliquod ex distantibus bonum, etiamnunc quaeritur et pars utraque sententias habet.\n",
      "0.710: In arce summa Pelopiae pars est domus\n",
      " conuersa ad austros, cuius extremum latus\n",
      " aequale monti crescit atque urbem premit\n",
      " et contumacem regibus populum suis\n",
      " habet sub ictu; fulget hic turbae capax\n",
      " immane.\n",
      "0.710: Et hoc in ista clade mirandum accidit:\n",
      " alit unda flammas, quoque prohibetur magis,\n",
      " magis ardet ignis: ipsa praesidia occupat.\n",
      "0.710: Sic tuto serpens etiam pestifera tractatur, dum riget frigore; non desunt tunc illi uenena, sed torpent.\n",
      "0.710: Tertia ista pars praecipiendi ex utroque est, et ex decretis et ex habitu.\n",
      "0.711: Statim enim ab imo uestietur nec magna pars quemadmodum in oliuetis ueteribus arida et retorrida erit.\n",
      "0.711: Magis hac uoluptate, quae maxima est, fruimur, dum absumus.\n",
      "0.711: Periit itaque ex decreto suo.\n",
      "0.712: Hoc aliquis secutus exemplar lapidem asperum aspero inposuit ad similitudinem dentium, quorum pars immobilis motum alterius exspectat; deinde utriusque attritu grana franguntur et saepius regeruntur, donec ad minutiam frequenter trita redigantur.\n",
      "0.712: Quidam uero tunc incipiunt, cum desinendum est.\n",
      "0.714: Sequitur ergo ut, cum contemplatiua sit, habeat decreta sua.\n",
      "0.715: Agricola euersis arboribus, quas aut uentus radicitus euulsit aut contortus repentino impetu turbo praefregit, subolem ex illis residuam fouet et in amissarum uicem semina statim plantasque disponit ; et momento (nam ut ad damna, ita ad incrementa rapidum ueloxque tempus est) adolescunt amissis laetiora.\n",
      "0.715: Ut antiquiora, quae uetustas obduxit, transeam, Phocide relicta Graii, qui nunc Massiliam incolunt, prius in hac insula  consederunt, ex qua quid eos fugauerit, incertum est, utrum caeli grauitas an praepotentis Italiae conspectus an natura importuosi maris; nam in causa non fuisse feritatem accolarum eo apparet, quod maxime tunc trucibus et inconditis Galliae populis se inter- posuerunt.\n",
      "0.717: Et si uolueris attendere, maxima pars uitae elabitur male agentibus, magna nihil agentibus, tota uita aliud agentibus.\n",
      "0.717: Nam cum summa uitae beatae sit solida securitas et eius inconcussa fiducia, sollicitudinis colligunt causas et per insidiosum iter uitae non tantum ferunt sarcinas, sed trahunt; ita longius ab effectu eius, quod petunt, semper abscedunt et quo plus operae inpenderunt, hoc se magis impediunt et feruntur retro.\n"
     ]
    }
   ],
   "source": [
    "sentences = []  \n",
    "embeddings = [] \n",
    "for key, val in seneca_sents.items():\n",
    "    sentences.append(key)\n",
    "    embeddings.append(val)\n",
    "\n",
    "embeddings = remove_pc(np.array(embeddings))\n",
    "    \n",
    "target_idx = [idx for idx, tmp in enumerate(sentences)\n",
    "             if tmp.startswith('Cotidie enim demitur')][0]\n",
    "print(f\"Looking for target sentence: {sentences[target_idx]} at index: {target_idx}\") \n",
    "\n",
    "scores = [(sentences[idx], cosine(embeddings[target_idx], embeddings[idx])) \n",
    "            for idx in range(len(embeddings))\n",
    "            if not np.all((embeddings[idx] == 0)) ]\n",
    "\n",
    "results = sorted(scores, key=lambda x: x[1])\n",
    "top50 = results[:50]\n",
    "print(\"Results:\")\n",
    "for sent, score in top50:\n",
    "    print(f\"{score:.3f}: {sent}\")"
   ]
  },
  {
   "cell_type": "markdown",
   "metadata": {},
   "source": [
    "Here are some older results, using a coarser tfidf pickle file, and using the mean idf value for unseen items, instead of the min idf value for OOV, and applying the PCA removal during sentence embedding creation.\n",
    "\n",
    "Looking for target sentence: Cotidie enim demitur aliqua pars uitae, et tunc quoque, cum crescimus, uita decrescit. at index: 4874\n",
    "\n",
    "Results:\n",
    "\n",
    "0.000: Cotidie enim demitur aliqua pars uitae, et tunc quoque, cum crescimus, uita decrescit.\n",
    "\n",
    "0.425: Deinde quod naturale est non decrescit mora; dolorem dies longa consumit.\n",
    "\n",
    "0.456: Quo enim crescet, quod plenum est ?\n",
    "\n",
    "0.506: Quomodo illa non crescit, sic ne uirtus quidem; habet numeros suos, plena est.\n",
    "\n",
    "0.529: Pompeius non aequo laturus animo quemquam alium esse in re publica magnum et modum impositurus incrementa, \n",
    "quae grauia illi uidebantur, etiam cum in commune crescerent.\n",
    "\n",
    "0.533: Quid si illi etiam nunc permiseris crescere?\n",
    "\n",
    "0.542: Corpus enim multis eget rebus, ut ualeat; animus ex se crescit, se ipse alit, se exercet.\n",
    "\n",
    "0.551: Idem facit ratio; non late patet, si aspicias: in opere crescit.\n",
    "\n",
    "0.559: Haec bona non crescunt, si plena sunt.\n",
    "\n",
    "0.567: Nam si ulla sunt, crescent et interim inpedient.\n",
    "\n",
    "0.579: numquam meus cessabit in poenas furor\n",
    "crescetque semper, quae ferarum immanitas,\n",
    "quae Scylla, quae Charybdis Ausonium mare\n",
    "Siculumque sorbens quaeue anhelantem premens\n",
    "Titana tantis Aetna feruebit minis?\n",
    "\n",
    "0.599: Deinde cum represso sanguine sicci uulneris dolor cresceret et crus suspensum equo paulatim optorpuisset, \n",
    "coactus absistere \" Omnes,\" inquit, \" iurant esse me Iouis filium, sed uulnus hoc hominem esse me clamat.\"\n",
    "\n",
    "0.602: Ne itaque inuideris fratri tuo; quiescit.\n",
    "\n",
    "0.610: Facilius enim crescit dignitas quam incipit.\n",
    "\n",
    "0.618: Gaudium illi adferet, fiduciam confirmabit, ex conspectu mutuae tranquillitatis crescet utriusque \n",
    "laetitia.\n",
    "\n",
    "0.622: Nec*' hoc nouum est, quaedam crescendo mutari.\n",
    "\n",
    "0.623: Omnia enim uitia in aperto leniora sunt; morbi quoque tunc ad sanitatem inclinant, cum ex abdito erumpunt \n",
    "ac uim suam proferunt.\n",
    "\n",
    "0.627: Non est uir fortis ac strenuus qui laborem fugit, nisi crescit illi animus ipsa rerum difficultate.\"\n",
    "\n",
    "0.629: Et ut scias quemadmodum incipiant adfectus aut crescant aut efferantur, est primus motus non uoluntarius, \n",
    "quasi praeparatio adfectus et quaedam comminatio ; alter cum uoluntate non contumaci, tamquam oporteat me \n",
    "uindicari, cum laesus sim, aut oporteat hunc poenas dare, cum scelus fecerit ; tertius motus est iam impotens, \n",
    "qui non si oportet ulcisci uult, sed utique, qui rationem euicit.\n",
    "\n",
    "0.633: paeniteat licet,\n",
    "feci— uoluptas magna me inuitam subit,\n",
    "et ecce crescit, derat hoc unum mihi,\n",
    "spectator iste.\n",
    "\n",
    "0.642: Saepe enim talia exempla necessitas exigit.\n",
    "\n",
    "0.644: Non enim deminutionem malorum in bono uiro intellego, sed uacationem; nulla debent esse, non parua.\n",
    "\n",
    "0.646: haec, quamuis auidus nec patiens morae,\n",
    "deceptus totiens tangere neglegit\n",
    "obliquatque oculos oraque comprimit\n",
    "inclusisque famem dentibus alligat\n",
    "sed tunc diuitias omne nemus suas\n",
    "demittit propius pomaque desuper\n",
    "insultant foliis mitia languidis\n",
    "accenduntque famem, quae iubet irritas\n",
    "exercere manus— has ubi protulit\n",
    "et falli libuit, totus in arduum\n",
    "autumnus rapitur siluaque mobilis,\n",
    "instat deinde sitis non leuior fame;\n",
    "qua cum percaluit sanguis et igneis\n",
    "exarsit facibus, stat miser obuios\n",
    "fluctus ore petens, quos profugus latex\n",
    "auertit sterili deficiens uado\n",
    "conantem que sequi deserit; hic bibit\n",
    "altum de rapido gurgite puluerem.\n",
    "\n",
    "0.647: An tu ad suum finem hanc euocas, in quantum potest plurimum crescere ?\n",
    "\n",
    "0.651: Si in nostra potestate non est, an sint adfectus, ne illud quidem est, quanti sint; si ipsis permisisti \n",
    "incipere, cum causis suis crescent tantique erunt, quanti fient.\n",
    "\n",
    "0.651: Et illa crescunt mora tantoque plus soluendum est, quanto tardius.\n",
    "\n",
    "0.652: Et quam impatiens iuris aequi pietas Africam fuerit, cunctis apparuit; eodem enim die Scipio Africanus, \n",
    "quo uiatoris manibus fratrem abstulerat, tribuno quoque plebis priuatus intercessit.\n",
    "\n",
    "0.652: Saepe enim in hiemem reuoluitur.\n",
    "\n",
    "0.653: Summum enim bonum nec infringitur nec augetur; in suo modo permanet, utcumque fortuna se gessit.\n",
    "\n",
    "0.656: Plurimum ; diuitiae enim apud sapientem uirum in seruitute sunt, apud stultum in imperio ; sapiens \n",
    "diuitiis nihil permittit, uobis diuitiae omnia ; uos, tamquam aliquis uobis aeternam possessionem earum \n",
    "promiserit, adsuescitis illis et cohaeretis, sapiens tunc maxime paupertatem meditatur, cum in mediis diuitiis \n",
    "con- stitit.\n",
    "\n",
    "0.660: Non est, quod quisquam excusationem mentis ingratae ab infirmitate atque inopia petat et dicat : \" Quid \n",
    "enim faciam et quomodo ?\n",
    "\n",
    "0.662: Infinita scilicet cupido crescendi, cum sibi uni parum magnus uideretur.\n",
    "\n",
    "0.666: Non est summa felicitatis nostrae in carne ponenda; bona illa sunt uera, quae ratio dat, solida ac \n",
    "sempiterna, quae cadere non possunt, ne decrescere quidem aut minui.\n",
    "\n",
    "0.667: Quia unusquisque in eiusmodi suorum casu irascitur, putas iudicaturos homines id fieri debere quod \n",
    "faciunt; fere enim iustum quisque affectum iudicat quem adgnoscit.\n",
    "\n",
    "0.667: Temperatus enim timor cohibet animos, adsiduus uero et acer et extrema admouens in audaciam iacentes \n",
    "excitat et omnia experiri suadet.\n",
    "\n",
    "0.669: Uirtus enim concordi animo decreta peragit.\n",
    "\n",
    "0.669: Sed custodienti quoque elabitur eoque citius, quo est acrior, desinit.\n",
    "\n",
    "0.669: Soluet hunc 'questum lacrimasque nostras\n",
    "sparget huc illuc agitata classis,\n",
    "cum tuba iussi dare uela nautae\n",
    "et simul uentis properante remo\n",
    "prenderint altum fugietque litus,\n",
    "quis status mentis miseris, ubi omnis\n",
    "terra decrescet pelagusque crescet,\n",
    "celsa cum longe latitabit Ide?\n",
    "\n",
    "0.670: Satis praestiterit ratio, si id unum ex dolore, quod et superest et abundat, exciderit; ut quidem nullum \n",
    "omnino esse eum patiatur, nec sperandum ulli nec concupiscendum est.\n",
    "\n",
    "0.671: Non uideo enim, quomodo non in infimum agatur e fastigio suo deiecta uirtus.\n",
    "\n",
    "0.673: Illa enim, quae fortuita sunt, plurimum discriminis recipiunt; aestimantur enim utilitate sumentium.\n",
    "\n",
    "0.674: Ille enim, quod est primum, scit uiuere ?\n",
    "\n",
    "0.674: Nihil humile, nihil seruile patiatur; numquam illi necesse sit rogare suppliciter nec prosit rogasse, \n",
    "potius causae suae et prioribus factis et bonis in futurum promissis donetur.\n",
    "\n",
    "0.675: Commota enim semel et excussa mens ei seruit quo impellitur.\n",
    "\n",
    "0.675: Sontes enim ille inexplicabilis subit, cui difficile est modum imponere, quia paulatim surrepit et non \n",
    "desinit serpere.\n",
    "\n",
    "0.676: Neque enim, si aliquid illi maius in quod transeat, restat, non hoc quoque in quo nascitur, secundum \n",
    "naturam est.\n",
    "\n",
    "0.676: Non enim prohibentur opera eius omnia, sed tantum ad alios pertinentia; ipse semper in actu est, in \n",
    "effectu tunc maximus, cum illi fortuna se opposuit.\n",
    "\n",
    "0.677: Et haec refugienda sunt, ex quibus noua occupatio multiplexque nascetur, nec accedendum eo, unde liber \n",
    "regressus non sit ; iis admouenda manus est, quorum finem aut facere aut certe sperare possis, relinquenda, quae \n",
    "latius actu procedunt nec ubi proposueris desinunt.\n",
    "\n",
    "0.679: Et in totum inaequalis est ; modo ultra quam oportet excurrit, modo citerius debito resistit ; sibi enim \n",
    "indulget et ex libidine iudicat et audire non uult et patrocinio non relinquit locum et ea tenet quae inuasit et \n",
    "eripi sibi iudicium suum, etiam si prauum est, non sinit.\n",
    "\n",
    "0.680: Eodem animo  beneficium debetur, quo datur, et ideo non est neclegenter dandum ; sibi enim quisque debet, \n",
    "quod a nesciente accepit ; ne tarde quidem, quia, cum omni in officio magni aestimetur dantis uoluntas, qui tarde \n",
    "fecit, diu noluit ; utique non contumeliose ; nam eum ita natura comparatum sit, ut altius iniuriae quam merita \n",
    "descendant et illa cito defluant, has tenax memoria custodiat, quid expectat, qui offendit, dum obligat ?\n"
   ]
  },
  {
   "cell_type": "markdown",
   "metadata": {},
   "source": [
    "# Next steps\n",
    "* In the paper they mentioned that common words of negation are automatically downweighted via TfIdf and that accuracy could probably be boosted by _cooking_ those values appropriately. This is left as an exercise for the reader, but don't go burning down the house."
   ]
  }
 ],
 "metadata": {
  "kernelspec": {
   "display_name": "Python 3",
   "language": "python",
   "name": "python3"
  },
  "language_info": {
   "codemirror_mode": {
    "name": "ipython",
    "version": 3
   },
   "file_extension": ".py",
   "mimetype": "text/x-python",
   "name": "python",
   "nbconvert_exporter": "python",
   "pygments_lexer": "ipython3",
   "version": "3.8.8"
  }
 },
 "nbformat": 4,
 "nbformat_minor": 2
}