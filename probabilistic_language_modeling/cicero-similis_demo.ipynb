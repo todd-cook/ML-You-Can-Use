{
 "cells": [
  {
   "cell_type": "markdown",
   "metadata": {},
   "source": [
    "# Cicero-similis Latin Language Model demo\n",
    "This notebook was used to support a talk I gave at the Cicero Digitalis Conference on Feb 25, 2021\n",
    "video here: https://www.youtube.com/watch?v=tJwmXZHZ924"
   ]
  },
  {
   "cell_type": "code",
   "execution_count": 1,
   "metadata": {},
   "outputs": [],
   "source": [
    "from transformers import BertForMaskedLM, AutoTokenizer, FillMaskPipeline"
   ]
  },
  {
   "cell_type": "code",
   "execution_count": 2,
   "metadata": {},
   "outputs": [],
   "source": [
    "tokenizer = AutoTokenizer.from_pretrained(\"cook/cicero-similis\")\n",
    "model = BertForMaskedLM.from_pretrained(\"cook/cicero-similis\")"
   ]
  },
  {
   "cell_type": "code",
   "execution_count": 3,
   "metadata": {},
   "outputs": [
    {
     "name": "stdout",
     "output_type": "stream",
     "text": [
      "Using partial sentence, `animal` predicted at index: 11; `anima` at 113\n"
     ]
    }
   ],
   "source": [
    "fill_mask = FillMaskPipeline(model=model, tokenizer=tokenizer)\n",
    "fill_mask.top_k = 125\n",
    "# Cicero, De Re Publica, VI, 32, 2\n",
    "# \"animal\" is found in A, Q, PhD manuscripts\n",
    "# 'anima' H^1 Macr. et codd. Tusc.\n",
    "results = fill_mask(\"inanimum est enim omne quod pulsu agitatur externo; quod autem est [MASK],\")\n",
    "predicted_token_ids = [datum['token'] for datum in results]\n",
    "predicted_words = tokenizer.convert_ids_to_tokens(predicted_token_ids)\n",
    "animal_idx, anima_idx = predicted_words.index('animal'), predicted_words.index('anima') \n",
    "print(f\"Using partial sentence, `animal` predicted at index: {animal_idx}; `anima` at {anima_idx}\")"
   ]
  },
  {
   "cell_type": "code",
   "execution_count": 4,
   "metadata": {},
   "outputs": [
    {
     "name": "stdout",
     "output_type": "stream",
     "text": [
      "Using full sentence, `animal` predicted at index: 8; `anima` at 27\n"
     ]
    }
   ],
   "source": [
    "fill_mask.top_k = 100\n",
    "results = fill_mask(\"\"\"\n",
    "inanimum est enim omne quod pulsu agitatur externo; quod autem est [MASK], \n",
    "id motu cietur interiore et suo, nam haec est propria natura animi atque uis; \n",
    "quae si est una ex omnibus quae sese moueat, neque nata certe est et aeterna est.\"\"\")\n",
    "predicted_token_ids = [datum['token'] for datum in results]\n",
    "predicted_words = tokenizer.convert_ids_to_tokens(predicted_token_ids)\n",
    "animal_idx, anima_idx = predicted_words.index('animal'), predicted_words.index('anima') \n",
    "print(f\"Using full sentence, `animal` predicted at index: {animal_idx}; `anima` at {anima_idx}\")"
   ]
  },
  {
   "cell_type": "code",
   "execution_count": 5,
   "metadata": {},
   "outputs": [
    {
     "data": {
      "text/plain": [
       "[{'sequence': 'inanimum est enim omne quod pulsu agitatur externo ; quod autem est corpus, id motu cietur interiore et suo, nam haec est propria natura animi atque uis ; quae si est una ex omnibus quae sese moueat, neque nata certe est et aeterna est.',\n",
       "  'score': 0.03179331496357918,\n",
       "  'token': 870,\n",
       "  'token_str': 'corpus'},\n",
       " {'sequence': 'inanimum est enim omne quod pulsu agitatur externo ; quod autem est natura, id motu cietur interiore et suo, nam haec est propria natura animi atque uis ; quae si est una ex omnibus quae sese moueat, neque nata certe est et aeterna est.',\n",
       "  'score': 0.026661323383450508,\n",
       "  'token': 850,\n",
       "  'token_str': 'natura'},\n",
       " {'sequence': 'inanimum est enim omne quod pulsu agitatur externo ; quod autem est inane, id motu cietur interiore et suo, nam haec est propria natura animi atque uis ; quae si est una ex omnibus quae sese moueat, neque nata certe est et aeterna est.',\n",
       "  'score': 0.024686694145202637,\n",
       "  'token': 11020,\n",
       "  'token_str': 'inane'}]"
      ]
     },
     "execution_count": 5,
     "metadata": {},
     "output_type": "execute_result"
    }
   ],
   "source": [
    "results[:3]"
   ]
  },
  {
   "cell_type": "markdown",
   "metadata": {},
   "source": [
    "# Sentence Probabilities"
   ]
  },
  {
   "cell_type": "code",
   "execution_count": 6,
   "metadata": {},
   "outputs": [],
   "source": [
    "# Add parent dir, so we can access our common code\n",
    "import os, sys, inspect\n",
    "currentdir = os.path.dirname(os.path.abspath(inspect.getfile(inspect.currentframe())))\n",
    "parentdir = os.path.dirname(currentdir)\n",
    "sys.path.insert(0,parentdir) \n",
    "\n",
    "from mlyoucanuse.bert_fun import (\n",
    "    get_alternate_words, \n",
    "    get_word_probabilities,\n",
    "    get_word_in_sentence_probability, \n",
    "    sum_log_probabilities) \n",
    "from cltk.stem.latin.j_v import JVReplacer\n",
    "replacer = JVReplacer()\n",
    "\n",
    "from cltk.tokenize.word import WordTokenizer\n",
    "latin_tokenizer = WordTokenizer('latin')\n",
    "def clean(text):\n",
    "    return ' '.join(latin_tokenizer.tokenize(replacer.replace(text)))\n"
   ]
  },
  {
   "cell_type": "code",
   "execution_count": 7,
   "metadata": {},
   "outputs": [],
   "source": [
    "# Cicero, De Senectute, II,2\n",
    "malum_potest_sentence =\"\"\"Rem haud sane difficilem, Scipio et Laeli, admirari uidemini;\n",
    " quibus enim nihil est in ipsis opis ad bene beateque vivendum, eis omnis aetas gravis est;\n",
    "  qui autem omnia bona a se ipsi petunt, eis nihil malum potest videri quod naturae necessitas afferat.\"\"\"\n",
    "\n",
    "potest_malum_sentence = \"\"\"Rem haud sane difficilem, Scipio et Laeli, admirari videmini;\n",
    " quibus enim nihil est in ipsis opis ad bene beateque vivendum, eis omnis aetas gravis est;\n",
    "  qui autem omnia bona a se ipsi petunt, eis nihil potest malum videri quod naturae necessitas afferat.\"\"\""
   ]
  },
  {
   "cell_type": "code",
   "execution_count": 8,
   "metadata": {},
   "outputs": [
    {
     "data": {
      "text/plain": [
       "-205.22707244920045"
      ]
     },
     "execution_count": 8,
     "metadata": {},
     "output_type": "execute_result"
    }
   ],
   "source": [
    "res = get_word_probabilities(clean(malum_potest_sentence), \n",
    "                             bert_tokenizer=tokenizer, bert_model=model)\n",
    "sum_log_probabilities(res, boost_factor=1)"
   ]
  },
  {
   "cell_type": "code",
   "execution_count": 9,
   "metadata": {},
   "outputs": [
    {
     "data": {
      "text/plain": [
       "-205.5083616649547"
      ]
     },
     "execution_count": 9,
     "metadata": {},
     "output_type": "execute_result"
    }
   ],
   "source": [
    "res = get_word_probabilities(clean(potest_malum_sentence), \n",
    "                             bert_tokenizer=tokenizer, bert_model=model)\n",
    "sum_log_probabilities(res, boost_factor=1)"
   ]
  },
  {
   "cell_type": "code",
   "execution_count": 10,
   "metadata": {},
   "outputs": [
    {
     "data": {
      "text/plain": [
       "(('quid', ('quid',), (0.0005871062749065459,)),\n",
       " ('est', ('est',), (0.23766015470027924,)),\n",
       " ('ueritas', ('ueritas',), (2.761857285804581e-05,)),\n",
       " ('.', ('.',), (0.00977017916738987,)))"
      ]
     },
     "execution_count": 10,
     "metadata": {},
     "output_type": "execute_result"
    }
   ],
   "source": [
    "res = get_word_probabilities(clean('quid est veritas.'), bert_tokenizer=tokenizer, bert_model=model)\n",
    "res"
   ]
  },
  {
   "cell_type": "code",
   "execution_count": 11,
   "metadata": {},
   "outputs": [
    {
     "data": {
      "text/plain": [
       "-24.002660810659727"
      ]
     },
     "execution_count": 11,
     "metadata": {},
     "output_type": "execute_result"
    }
   ],
   "source": [
    "sum_log_probabilities(res, boost_factor=1)"
   ]
  },
  {
   "cell_type": "code",
   "execution_count": 12,
   "metadata": {},
   "outputs": [
    {
     "data": {
      "text/plain": [
       "3.7651029780095805e-11"
      ]
     },
     "execution_count": 12,
     "metadata": {},
     "output_type": "execute_result"
    }
   ],
   "source": [
    " 0.0005871062749065459 * 0.23766015470027924 * 2.761857285804581e-05 * 0.00977017916738987"
   ]
  },
  {
   "cell_type": "code",
   "execution_count": 20,
   "metadata": {},
   "outputs": [],
   "source": [
    "from cltk.corpus.readers import get_corpus_reader\n",
    "from cltk.stem.latin.j_v import JVReplacer\n",
    "from cltk.tokenize.latin.sentence import SentenceTokenizer\n",
    "from cltk.tokenize.word import WordTokenizer\n",
    "\n",
    "from mlyoucanuse.aeoe_replacer import AEOEReplacer\n",
    "from mlyoucanuse.text_cleaners import ( normalize_accents, disappear_angle_brackets,\n",
    "                                        drop_punct, disappear_round_brackets,\n",
    "                                        truecase, dehyphenate, accept_editorial,\n",
    "                                        swallow_braces, swallow_obelized_words,\n",
    "                                        swallow_square_brackets)\n",
    "from tqdm import tqdm\n",
    "import random"
   ]
  },
  {
   "cell_type": "code",
   "execution_count": 18,
   "metadata": {},
   "outputs": [
    {
     "data": {
      "text/plain": [
       "122"
      ]
     },
     "execution_count": 18,
     "metadata": {},
     "output_type": "execute_result"
    }
   ],
   "source": [
    "tesserae = get_corpus_reader(corpus_name='latin_text_tesserae', language='latin')\n",
    "cicero_files = [ file for file in tesserae.fileids() if '/cicero' in file] \n",
    "len(cicero_files)\n"
   ]
  },
  {
   "cell_type": "code",
   "execution_count": 19,
   "metadata": {},
   "outputs": [],
   "source": [
    "test_sentences = []"
   ]
  },
  {
   "cell_type": "code",
   "execution_count": 27,
   "metadata": {},
   "outputs": [],
   "source": [
    "import numpy as np"
   ]
  },
  {
   "cell_type": "code",
   "execution_count": 23,
   "metadata": {},
   "outputs": [
    {
     "name": "stderr",
     "output_type": "stream",
     "text": [
      "100%|██████████| 122/122 [00:22<00:00,  5.35it/s]\n"
     ]
    }
   ],
   "source": [
    "tesserae = get_corpus_reader(corpus_name='latin_text_tesserae', language='latin')\n",
    "jv_replacer = JVReplacer()\n",
    "aeoe_replacer = AEOEReplacer()\n",
    "toker = WordTokenizer('latin')\n",
    "sent_toker = SentenceTokenizer()\n",
    "\n",
    "\n",
    "for file in tqdm(cicero_files,  total=len(cicero_files)):\n",
    "    curr_finds = 0\n",
    "    for sent in tesserae.sents(file):\n",
    "        sent = aeoe_replacer.replace(jv_replacer.replace(sent))\n",
    "        sent = normalize_accents(sent)\n",
    "        sent = accept_editorial(sent)\n",
    "        tokens = toker.tokenize(sent)\n",
    "        if curr_finds > 10:\n",
    "            continue\n",
    "        if len(tokens) >7:\n",
    "            mask_idx = random.randint(0, len(tokens)-1)\n",
    "            masked_token = tokens[mask_idx] + \"\"\n",
    "            tokens[mask_idx] =\"[MASK]\"\n",
    "            test_sentences.append( (masked_token, ' '.join(tokens))  )\n",
    "            curr_finds +=1\n",
    "            \n",
    "            \n",
    "            \n",
    " "
   ]
  },
  {
   "cell_type": "code",
   "execution_count": 24,
   "metadata": {},
   "outputs": [],
   "source": [
    "hundred = random.sample(test_sentences, 100)"
   ]
  },
  {
   "cell_type": "code",
   "execution_count": 33,
   "metadata": {},
   "outputs": [],
   "source": [
    "import matplotlib.pyplot as plt"
   ]
  },
  {
   "cell_type": "code",
   "execution_count": 25,
   "metadata": {},
   "outputs": [
    {
     "data": {
      "text/plain": [
       "[('nobis',\n",
       "  'In Cumano nuper cum cum me Atticus noster esset , nuntiatum est [MASK] a M. Uarro -ne uenisse eum Roma pridie uesperi et , nisi de uia fessus esset , continuo ad nos uenturum fuisse .'),\n",
       " ('hominem',\n",
       "  'quod cum audissemus , nullam moram interponendam putauimus quin uideremus [MASK] cum nobis et studiis eisdem et uetustate amicitiae coniunctum ; itaque confestim ad eum ire perreximus .')]"
      ]
     },
     "execution_count": 25,
     "metadata": {},
     "output_type": "execute_result"
    }
   ],
   "source": [
    "test_sentences[:2]"
   ]
  },
  {
   "cell_type": "code",
   "execution_count": 36,
   "metadata": {},
   "outputs": [],
   "source": [
    "fill_mask.top_k = 1000\n",
    "scores=[]\n",
    "for goal_word, test_sent in random.sample(test_sentences,200):    \n",
    "    results = fill_mask(test_sent)\n",
    "    predicted_token_ids = [datum['token'] for datum in results]\n",
    "    predicted_words = tokenizer.convert_ids_to_tokens(predicted_token_ids)\n",
    "    if goal_word in predicted_words:\n",
    "        idx = predicted_words.index(goal_word)\n",
    "        scores.append(idx)\n",
    "    else:\n",
    "        scores.append(1000)"
   ]
  },
  {
   "cell_type": "code",
   "execution_count": 37,
   "metadata": {},
   "outputs": [
    {
     "data": {
      "text/plain": [
       "(419.52718279034076, 285.73)"
      ]
     },
     "execution_count": 37,
     "metadata": {},
     "output_type": "execute_result"
    }
   ],
   "source": [
    "ar_scores = np.array(scores)\n",
    "np.std(ar_scores), np.mean(ar_scores)"
   ]
  },
  {
   "cell_type": "code",
   "execution_count": 38,
   "metadata": {},
   "outputs": [
    {
     "data": {
      "text/plain": [
       "[1000,\n",
       " 93,\n",
       " 0,\n",
       " 0,\n",
       " 28,\n",
       " 951,\n",
       " 2,\n",
       " 0,\n",
       " 0,\n",
       " 1000,\n",
       " 104,\n",
       " 6,\n",
       " 1000,\n",
       " 10,\n",
       " 30,\n",
       " 0,\n",
       " 87,\n",
       " 1,\n",
       " 30,\n",
       " 11,\n",
       " 1000,\n",
       " 4,\n",
       " 237,\n",
       " 833,\n",
       " 1,\n",
       " 19,\n",
       " 89,\n",
       " 1000,\n",
       " 683,\n",
       " 1,\n",
       " 44,\n",
       " 311,\n",
       " 13,\n",
       " 1000,\n",
       " 11,\n",
       " 0,\n",
       " 1,\n",
       " 0,\n",
       " 7,\n",
       " 470,\n",
       " 3,\n",
       " 921,\n",
       " 7,\n",
       " 1000,\n",
       " 1000,\n",
       " 30,\n",
       " 870,\n",
       " 49,\n",
       " 6,\n",
       " 45,\n",
       " 1000,\n",
       " 70,\n",
       " 0,\n",
       " 19,\n",
       " 4,\n",
       " 1000,\n",
       " 13,\n",
       " 14,\n",
       " 1000,\n",
       " 175,\n",
       " 23,\n",
       " 283,\n",
       " 5,\n",
       " 0,\n",
       " 0,\n",
       " 29,\n",
       " 1000,\n",
       " 1000,\n",
       " 1000,\n",
       " 0,\n",
       " 1000,\n",
       " 0,\n",
       " 0,\n",
       " 82,\n",
       " 31,\n",
       " 275,\n",
       " 1000,\n",
       " 0,\n",
       " 0,\n",
       " 1000,\n",
       " 43,\n",
       " 251,\n",
       " 1000,\n",
       " 1,\n",
       " 2,\n",
       " 1000,\n",
       " 1,\n",
       " 1000,\n",
       " 0,\n",
       " 1000,\n",
       " 1000,\n",
       " 14,\n",
       " 0,\n",
       " 46,\n",
       " 1000,\n",
       " 486,\n",
       " 0,\n",
       " 1,\n",
       " 1000,\n",
       " 1000,\n",
       " 28,\n",
       " 1000,\n",
       " 20,\n",
       " 6,\n",
       " 0,\n",
       " 0,\n",
       " 1000,\n",
       " 1000,\n",
       " 1000,\n",
       " 4,\n",
       " 0,\n",
       " 9,\n",
       " 5,\n",
       " 4,\n",
       " 0,\n",
       " 9,\n",
       " 2,\n",
       " 45,\n",
       " 1,\n",
       " 177,\n",
       " 0,\n",
       " 2,\n",
       " 0,\n",
       " 1,\n",
       " 197,\n",
       " 7,\n",
       " 1000,\n",
       " 1000,\n",
       " 0,\n",
       " 0,\n",
       " 0,\n",
       " 0,\n",
       " 6,\n",
       " 47,\n",
       " 10,\n",
       " 5,\n",
       " 1000,\n",
       " 3,\n",
       " 3,\n",
       " 0,\n",
       " 129,\n",
       " 21,\n",
       " 152,\n",
       " 0,\n",
       " 15,\n",
       " 1000,\n",
       " 1000,\n",
       " 6,\n",
       " 1,\n",
       " 40,\n",
       " 1000,\n",
       " 1000,\n",
       " 675,\n",
       " 2,\n",
       " 1000,\n",
       " 0,\n",
       " 1000,\n",
       " 0,\n",
       " 1,\n",
       " 1000,\n",
       " 1000,\n",
       " 0,\n",
       " 51,\n",
       " 128,\n",
       " 254,\n",
       " 0,\n",
       " 172,\n",
       " 2,\n",
       " 131,\n",
       " 445,\n",
       " 1000,\n",
       " 73,\n",
       " 6,\n",
       " 0,\n",
       " 1000,\n",
       " 0,\n",
       " 37,\n",
       " 82,\n",
       " 32,\n",
       " 3,\n",
       " 4,\n",
       " 1,\n",
       " 1000,\n",
       " 1,\n",
       " 2,\n",
       " 0,\n",
       " 0,\n",
       " 1000,\n",
       " 0,\n",
       " 71,\n",
       " 0,\n",
       " 113,\n",
       " 0,\n",
       " 0,\n",
       " 1000,\n",
       " 0,\n",
       " 5,\n",
       " 1000,\n",
       " 0,\n",
       " 24]"
      ]
     },
     "execution_count": 38,
     "metadata": {},
     "output_type": "execute_result"
    }
   ],
   "source": [
    "scores"
   ]
  },
  {
   "cell_type": "code",
   "execution_count": 51,
   "metadata": {},
   "outputs": [
    {
     "data": {
      "image/png": "[encoded data removed]",
      "text/plain": [
       "<Figure size 504x360 with 1 Axes>"
      ]
     },
     "metadata": {
      "needs_background": "light"
     },
     "output_type": "display_data"
    }
   ],
   "source": [
    "fig = plt.figure(figsize=(7,5))\n",
    "plt.plot(sorted(scores), label='where masked value was predicted')\n",
    "plt.xlabel(\"200 sentences of Cicero\")\n",
    "plt.vlines(44, 0, 50, label=\"zero score cutoff\")\n",
    "plt.ylabel(\"Index where masked token was found\")\n",
    "plt.title(\"Language model predicts a randomly masked token\")\n",
    "plt.tight_layout(pad=0.5, w_pad=20, h_pad=0.5)\n",
    "plt.legend()\n",
    "plt.savefig('200sentence.test.png')\n"
   ]
  },
  {
   "cell_type": "code",
   "execution_count": 35,
   "metadata": {},
   "outputs": [
    {
     "data": {
      "text/plain": [
       "1366"
      ]
     },
     "execution_count": 35,
     "metadata": {},
     "output_type": "execute_result"
    }
   ],
   "source": [
    "len(test_sentences)"
   ]
  },
  {
   "cell_type": "code",
   "execution_count": 44,
   "metadata": {},
   "outputs": [
    {
     "data": {
      "text/plain": [
       "44"
      ]
     },
     "execution_count": 44,
     "metadata": {},
     "output_type": "execute_result"
    }
   ],
   "source": [
    "scores.count(0)"
   ]
  },
  {
   "cell_type": "code",
   "execution_count": null,
   "metadata": {},
   "outputs": [],
   "source": []
  }
 ],
 "metadata": {
  "kernelspec": {
   "display_name": "mlyoucanusep37",
   "language": "python",
   "name": "mlyoucanusep37"
  },
  "language_info": {
   "codemirror_mode": {
    "name": "ipython",
    "version": 3
   },
   "file_extension": ".py",
   "mimetype": "text/x-python",
   "name": "python",
   "nbconvert_exporter": "python",
   "pygments_lexer": "ipython3",
   "version": "3.7.0"
  }
 },
 "nbformat": 4,
 "nbformat_minor": 2
}
