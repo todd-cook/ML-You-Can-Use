{
 "cells": [
  {
   "cell_type": "markdown",
   "metadata": {},
   "source": [
    "# Analysis of the Cicero corpus & comparison to other authors and works"
   ]
  },
  {
   "cell_type": "code",
   "execution_count": 1,
   "metadata": {},
   "outputs": [
    {
     "ename": "AttributeError",
     "evalue": "module 'typing' has no attribute 'OrderedDict'",
     "output_type": "error",
     "traceback": [
      "\u001b[0;31m---------------------------------------------------------------------------\u001b[0m",
      "\u001b[0;31mAttributeError\u001b[0m                            Traceback (most recent call last)",
      "\u001b[0;32m<ipython-input-1-f4ccd5f9d183>\u001b[0m in \u001b[0;36m<module>\u001b[0;34m\u001b[0m\n\u001b[1;32m      8\u001b[0m \u001b[0;32mfrom\u001b[0m \u001b[0mtyping\u001b[0m \u001b[0;32mimport\u001b[0m \u001b[0mList\u001b[0m\u001b[0;34m,\u001b[0m \u001b[0mDict\u001b[0m\u001b[0;34m,\u001b[0m \u001b[0mTuple\u001b[0m\u001b[0;34m\u001b[0m\u001b[0m\n\u001b[1;32m      9\u001b[0m \u001b[0;34m\u001b[0m\u001b[0m\n\u001b[0;32m---> 10\u001b[0;31m \u001b[0;32mfrom\u001b[0m \u001b[0mcltk\u001b[0m\u001b[0;34m.\u001b[0m\u001b[0mcorpus\u001b[0m\u001b[0;34m.\u001b[0m\u001b[0mlatin\u001b[0m\u001b[0;34m.\u001b[0m\u001b[0mphi5_index\u001b[0m \u001b[0;32mimport\u001b[0m \u001b[0mPHI5_INDEX\u001b[0m\u001b[0;34m\u001b[0m\u001b[0m\n\u001b[0m\u001b[1;32m     11\u001b[0m \u001b[0;32mfrom\u001b[0m \u001b[0mcltk\u001b[0m\u001b[0;34m.\u001b[0m\u001b[0mcorpus\u001b[0m\u001b[0;34m.\u001b[0m\u001b[0mreaders\u001b[0m \u001b[0;32mimport\u001b[0m \u001b[0mget_corpus_reader\u001b[0m\u001b[0;34m\u001b[0m\u001b[0m\n\u001b[1;32m     12\u001b[0m \u001b[0;32mfrom\u001b[0m \u001b[0mcltk\u001b[0m\u001b[0;34m.\u001b[0m\u001b[0mstem\u001b[0m\u001b[0;34m.\u001b[0m\u001b[0mlatin\u001b[0m\u001b[0;34m.\u001b[0m\u001b[0mj_v\u001b[0m \u001b[0;32mimport\u001b[0m \u001b[0mJVReplacer\u001b[0m\u001b[0;34m\u001b[0m\u001b[0m\n",
      "\u001b[0;32m~/PycharmProjects/ML-You-Can-Use/p37/lib/python3.7/site-packages/cltk/__init__.py\u001b[0m in \u001b[0;36m<module>\u001b[0;34m\u001b[0m\n\u001b[1;32m      3\u001b[0m \u001b[0;32mimport\u001b[0m \u001b[0mpkg_resources\u001b[0m\u001b[0;34m\u001b[0m\u001b[0m\n\u001b[1;32m      4\u001b[0m \u001b[0;34m\u001b[0m\u001b[0m\n\u001b[0;32m----> 5\u001b[0;31m \u001b[0;32mfrom\u001b[0m \u001b[0;34m.\u001b[0m\u001b[0mnlp\u001b[0m \u001b[0;32mimport\u001b[0m \u001b[0mNLP\u001b[0m\u001b[0;34m\u001b[0m\u001b[0m\n\u001b[0m\u001b[1;32m      6\u001b[0m \u001b[0;34m\u001b[0m\u001b[0m\n\u001b[1;32m      7\u001b[0m __version__ = curr_version = pkg_resources.get_distribution(\n",
      "\u001b[0;32m~/PycharmProjects/ML-You-Can-Use/p37/lib/python3.7/site-packages/cltk/nlp.py\u001b[0m in \u001b[0;36m<module>\u001b[0;34m\u001b[0m\n\u001b[1;32m      7\u001b[0m \u001b[0;32mfrom\u001b[0m \u001b[0mcltk\u001b[0m\u001b[0;34m.\u001b[0m\u001b[0mcore\u001b[0m\u001b[0;34m.\u001b[0m\u001b[0mdata_types\u001b[0m \u001b[0;32mimport\u001b[0m \u001b[0mDoc\u001b[0m\u001b[0;34m,\u001b[0m \u001b[0mLanguage\u001b[0m\u001b[0;34m,\u001b[0m \u001b[0mPipeline\u001b[0m\u001b[0;34m,\u001b[0m \u001b[0mProcess\u001b[0m\u001b[0;34m\u001b[0m\u001b[0m\n\u001b[1;32m      8\u001b[0m \u001b[0;32mfrom\u001b[0m \u001b[0mcltk\u001b[0m\u001b[0;34m.\u001b[0m\u001b[0mcore\u001b[0m\u001b[0;34m.\u001b[0m\u001b[0mexceptions\u001b[0m \u001b[0;32mimport\u001b[0m \u001b[0mUnimplementedAlgorithmError\u001b[0m\u001b[0;34m\u001b[0m\u001b[0m\n\u001b[0;32m----> 9\u001b[0;31m from cltk.languages.pipelines import (\n\u001b[0m\u001b[1;32m     10\u001b[0m     \u001b[0mAkkadianPipeline\u001b[0m\u001b[0;34m,\u001b[0m\u001b[0;34m\u001b[0m\u001b[0m\n\u001b[1;32m     11\u001b[0m     \u001b[0mArabicPipeline\u001b[0m\u001b[0;34m,\u001b[0m\u001b[0;34m\u001b[0m\u001b[0m\n",
      "\u001b[0;32m~/PycharmProjects/ML-You-Can-Use/p37/lib/python3.7/site-packages/cltk/languages/__init__.py\u001b[0m in \u001b[0;36m<module>\u001b[0;34m\u001b[0m\n\u001b[1;32m      1\u001b[0m \u001b[0;34m\"\"\"Init for ``cltk.languages``.\"\"\"\u001b[0m\u001b[0;34m\u001b[0m\u001b[0m\n\u001b[1;32m      2\u001b[0m \u001b[0;34m\u001b[0m\u001b[0m\n\u001b[0;32m----> 3\u001b[0;31m \u001b[0;32mfrom\u001b[0m \u001b[0;34m.\u001b[0m\u001b[0mglottolog\u001b[0m \u001b[0;32mimport\u001b[0m \u001b[0mLANGUAGES\u001b[0m\u001b[0;34m\u001b[0m\u001b[0m\n\u001b[0m",
      "\u001b[0;32m~/PycharmProjects/ML-You-Can-Use/p37/lib/python3.7/site-packages/cltk/languages/glottolog.py\u001b[0m in \u001b[0;36m<module>\u001b[0;34m\u001b[0m\n\u001b[1;32m   3318\u001b[0m \u001b[0;34m\u001b[0m\u001b[0m\n\u001b[1;32m   3319\u001b[0m def _resort_languages_list(\n\u001b[0;32m-> 3320\u001b[0;31m     \u001b[0mlanguages_list\u001b[0m\u001b[0;34m:\u001b[0m \u001b[0mtyping\u001b[0m\u001b[0;34m.\u001b[0m\u001b[0mOrderedDict\u001b[0m\u001b[0;34m[\u001b[0m\u001b[0mstr\u001b[0m\u001b[0;34m,\u001b[0m \u001b[0mLanguage\u001b[0m\u001b[0;34m]\u001b[0m\u001b[0;34m\u001b[0m\u001b[0m\n\u001b[0m\u001b[1;32m   3321\u001b[0m ) -> typing.OrderedDict[str, Language]:\n\u001b[1;32m   3322\u001b[0m     \"\"\"Pick up the LANGUAGES global and return\n",
      "\u001b[0;31mAttributeError\u001b[0m: module 'typing' has no attribute 'OrderedDict'"
     ]
    }
   ],
   "source": [
    "import os.path\n",
    "from collections import Counter\n",
    "from glob import glob\n",
    "import inspect\n",
    "import os\n",
    "import pickle\n",
    "import sys\n",
    "from typing import List, Dict, Tuple\n",
    "\n",
    "from cltk.corpus.latin.phi5_index import PHI5_INDEX\n",
    "from cltk.corpus.readers import get_corpus_reader\n",
    "from cltk.stem.latin.j_v import JVReplacer\n",
    "from cltk.stem.lemma import LemmaReplacer\n",
    "from cltk.tokenize.latin.sentence import SentenceTokenizer\n",
    "from cltk.tokenize.word import WordTokenizer\n",
    "from random import sample\n",
    "from tqdm import tqdm\n",
    "import matplotlib.pyplot as plt\n",
    "from matplotlib.ticker import MaxNLocator\n",
    "plt.style.use('fivethirtyeight')\n",
    "\n",
    "\n",
    "currentdir = os.path.dirname(os.path.abspath(inspect.getfile(inspect.currentframe())))\n",
    "parentdir = os.path.dirname(currentdir)\n",
    "sys.path.insert(0,parentdir)\n",
    " \n",
    "from mlyoucanuse.aeoe_replacer import AEOEReplacer\n",
    "from mlyoucanuse.text_cleaners import ( normalize_accents, disappear_angle_brackets,\n",
    "                                        drop_punct, disappear_round_brackets,\n",
    "                                        truecase, dehyphenate, accept_editorial,\n",
    "                                        swallow_braces, swallow_obelized_words,\n",
    "                                        swallow_square_brackets)"
   ]
  },
  {
   "cell_type": "code",
   "execution_count": 74,
   "metadata": {},
   "outputs": [],
   "source": [
    "from scipy.optimize import curve_fit\n",
    "import numpy as np"
   ]
  },
  {
   "cell_type": "code",
   "execution_count": 2,
   "metadata": {},
   "outputs": [
    {
     "data": {
      "text/plain": [
       "'0.1.121'"
      ]
     },
     "execution_count": 2,
     "metadata": {},
     "output_type": "execute_result"
    }
   ],
   "source": [
    "import cltk\n",
    "cltk.__version__"
   ]
  },
  {
   "cell_type": "markdown",
   "metadata": {},
   "source": [
    "## Text Cleaning\n",
    "from http://udallasclassics.org/wp-content/uploads/maurer_files/APPARATUSABBREVIATIONS.pdf\n",
    "\n",
    "[...] Square brackets, or in recent editions wavy brackets ʺ{...}ʺ, enclose words etc. that an editor thinks should be deleted (see ʺdel.ʺ) or marked as out of place (see ʺsecl.ʺ).\n",
    "\n",
    "[...] Square  brackets  in  a  papyrus  text, or in an  inscription,  enclose  places  where words have been lost through physical damage.  If this happens in mid-line, editors  use  ʺ[...]ʺ.    If  only  the  end  of  the  line  is  missing,  they  use  a  single  bracket ʺ[...ʺ      If  the  lineʹs  beginning  is  missing,  they  use  ʺ...]ʺ    Within  the  brackets, often each dot represents one missing letter.\n",
    "\n",
    "[[...]] Double brackets enclose letters or words deleted by the medieval copyist himself.\n",
    "\n",
    "(...) Round  brackets  are  used  to  supplement  words  abbreviated  by  the  original  copyist; e.g. in an inscription: ʺtrib(unus) mil(itum) leg(ionis) IIIʺ\n",
    "\n",
    "<...> diamond  (  =  elbow  =  angular)  brackets  enclose  words  etc.  that  an  editor  has  added (see ʺsuppl.ʺ)\n",
    "\n",
    "†   An obelus (pl. obeli) means that the word(s etc.) is very plainly corrupt, but the editor  cannot  see  how  to  emend.    If  only  one  word  is  corrupt,  there  is  only  one obelus, which precedes the word; if two or more words are corrupt, two obeli  enclose  them.    (Such  at  least  is  the  rule--but  that  rule  is  often  broken,  especially  in  older  editions,  which  sometimes  dagger  several  words  using  only one obelus.)  To dagger words in this way is to ʺobelizeʺ them."
   ]
  },
  {
   "cell_type": "markdown",
   "metadata": {},
   "source": [
    "## Load/Build Truecasing dictionary; count all cased tokens, use to normalize cases later"
   ]
  },
  {
   "cell_type": "code",
   "execution_count": 3,
   "metadata": {},
   "outputs": [
    {
     "data": {
      "text/plain": [
       "309529"
      ]
     },
     "execution_count": 3,
     "metadata": {},
     "output_type": "execute_result"
    }
   ],
   "source": [
    "truecase_file = 'truecase_counter.latin.final.pkl'\n",
    "\n",
    "if os.path.exists(truecase_file):\n",
    "    with open(truecase_file, 'rb') as fin:        \n",
    "        case_counts = pickle.load(fin)\n",
    "else:\n",
    "    tesserae = get_corpus_reader(corpus_name='latin_text_tesserae', language='latin')\n",
    "    case_counts = Counter()\n",
    "    jv_replacer = JVReplacer()\n",
    "    aeoe_replacer = AEOEReplacer()\n",
    "    toker = WordTokenizer('latin')\n",
    "    sent_toker = SentenceTokenizer()\n",
    "    lemmatizer = LemmaReplacer('latin')\n",
    "    \n",
    "    for file in tqdm(tesserae.fileids(), total=len(tesserae.fileids())):\n",
    "        for sent in tesserae.sents(file):\n",
    "            sent = aeoe_replacer.replace(jv_replacer.replace(drop_punct(sent)))\n",
    "            sent = normalize_accents(sent)\n",
    "            sent = accept_editorial(sent)\n",
    "            for idx, token in enumerate(toker.tokenize(sent)):\n",
    "                if idx ==0: # skip the first word, it almost always capitalized\n",
    "                    continue\n",
    "                case_counts.update({token:1})\n",
    "                \n",
    "    with open(truecase_file, 'wb') as fout:        \n",
    "        pickle.dump(case_counts, fout) \n",
    "\n",
    "len(case_counts)\n",
    "# 344393, 322711  \n",
    "# 318451\n",
    "# 316722\n",
    "# 311399\n",
    "# 310384\n",
    "# 310567\n",
    "# 309529"
   ]
  },
  {
   "cell_type": "code",
   "execution_count": 4,
   "metadata": {},
   "outputs": [
    {
     "name": "stdout",
     "output_type": "stream",
     "text": [
      "[('ligula', 1), ('inponerent', 4), ('oblidere', 1), ('stridebit', 2), ('Hectorem', 12), ('obtemperabat', 4), ('Gabathites', 1), ('terreant', 5), ('corrupimus', 1), ('uigentes', 7), ('saepedicto', 1), ('coniugio', 61), ('μονοτονία', 1), ('skai', 1), ('sationibus', 5), ('Suffusus', 1), ('ἔγγιον', 1), ('οὐρανὸς', 3), ('adhereret', 1), ('supercrepitante', 1), ('coli', 92), ('adolet', 3), ('discessisset', 20), ('Comploratum', 1), ('Decumo', 1)]\n"
     ]
    }
   ],
   "source": [
    "print(sample(list(case_counts.items()), 25))"
   ]
  },
  {
   "cell_type": "code",
   "execution_count": 5,
   "metadata": {},
   "outputs": [],
   "source": [
    "def get_word_counts(files:List[str])->Tuple[Dict[str, int], Dict[str, int]]:\n",
    "    \"\"\"\n",
    "    Given a list of files, \n",
    "    clean & tokenize the documents\n",
    "    returns: Tuple(counter of lemmatized words, counter of inflected words)\n",
    "    \"\"\"\n",
    "    lemma_word_counter = Counter()\n",
    "    inflected_word_counter = Counter()\n",
    "    jv_replacer = JVReplacer()\n",
    "    aeoe_replacer = AEOEReplacer()\n",
    "    toker = WordTokenizer('latin')\n",
    "    sent_toker = SentenceTokenizer()\n",
    "    lemmatizer = LemmaReplacer('latin')\n",
    "\n",
    "    for file in files: # , total=len(files), unit='files'):\n",
    "        with open(file, 'rt') as fin:\n",
    "            text = fin.read()\n",
    "            text = text.replace(\"-\\n\", \"\")\n",
    "            text = text.replace(\"\\n\", \" \")\n",
    "            text = aeoe_replacer.replace(jv_replacer.replace( text))\n",
    "            for sent in sent_toker.tokenize(text):\n",
    "                sent = dehyphenate(sent) # because it's Phi5\n",
    "                sent = swallow_braces(sent)\n",
    "                sent = swallow_square_brackets(sent)\n",
    "                sent = disappear_round_brackets(sent)\n",
    "                sent = swallow_obelized_words(sent)\n",
    "                sent = disappear_angle_brackets(sent)            \n",
    "                sent = drop_punct(sent)\n",
    "                sent = normalize_accents(sent)            \n",
    "                # lemmatizer prefers lower \n",
    "    #             sent = lemmatizer.lemmatize(sent.lower(), return_string=True)\n",
    "                for word in toker.tokenize(sent):\n",
    "                    if word.isnumeric():\n",
    "                        continue\n",
    "                    inflected_word_counter.update({truecase(word, case_counts) : 1})                    \n",
    "                    word = lemmatizer.lemmatize(word.lower(), return_string=True)\n",
    "                    # normalize capitals\n",
    "                    lemma_word_counter.update({truecase(word, case_counts) : 1})\n",
    "    return  inflected_word_counter, lemma_word_counter"
   ]
  },
  {
   "cell_type": "code",
   "execution_count": 6,
   "metadata": {},
   "outputs": [],
   "source": [
    "def word_stats(author:str,\n",
    "               inflected_counter:Counter,\n",
    "                lemma_counter:Counter)->Tuple[float, float]:\n",
    "    \"\"\"\n",
    "    Compute statistics for an author's corpus\n",
    "    \"\"\"\n",
    "    nw = sum(lemma_counter.values())\n",
    "    print(f\"Total count of all word tokens in {author} corpus: {nw:,}\")\n",
    "    print(f\"Total number of distinct, inflected words/tokens in {author} corpus: {len(inflected_counter):,}\")\n",
    "    print(f\"Total number of lemmatized words/tokens in {author} corpus {len(lemma_counter):,}\")\n",
    "    # Count of inflected unigrams occuring only once\n",
    "    ciw1 = sum([1 for key, val in inflected_counter.items() if val == 1]) \n",
    "    print(f\"Count of inflected tokens only occuring once {ciw1:,}\")\n",
    "    # Count of lemmatized unigrams occuring only once\n",
    "    cw1 = sum([1 for key, val in lemma_counter.items() if val == 1])\n",
    "    print(f\"Count of lemmatized tokens only occuring once {cw1:,}\")\n",
    "    Piu_one = round(ciw1 / nw,3)\n",
    "    print(f\"Probability of a single count unigram occuring in the {author} corpus: {Piu_one:.3f}\") \n",
    "    Plu_one = round(cw1 / nw, 3)\n",
    "    print(f\"Probability of a single count lemmatized unigram in a novel form occuring in the {author} corpus: {Plu_one:.3f}\") \n",
    "    return (Piu_one, Plu_one)"
   ]
  },
  {
   "cell_type": "code",
   "execution_count": 7,
   "metadata": {},
   "outputs": [
    {
     "data": {
      "text/plain": [
       "75"
      ]
     },
     "execution_count": 7,
     "metadata": {},
     "output_type": "execute_result"
    }
   ],
   "source": [
    "# Cicero works\n",
    "cicero_files = glob(f\"{os.path.expanduser('~')}/cltk_data/latin/text/phi5/individual_works/LAT0474.TXT-0*.txt\")\n",
    "len (cicero_files)              "
   ]
  },
  {
   "cell_type": "code",
   "execution_count": 8,
   "metadata": {},
   "outputs": [],
   "source": [
    "cicero_lemmas_counter_file = 'cicero_lemmas_counter.pkl'\n",
    "cicero_inflected_counter_file = 'cicero_inflected_counter.pkl'\n",
    "\n",
    "if os.path.exists(cicero_lemmas_counter_file) and os.path.exists(cicero_inflected_counter_file):\n",
    "    with open(cicero_lemmas_counter_file, 'rb') as fin:\n",
    "        cicero_lemmas = pickle.load(fin)\n",
    "    with open(cicero_inflected_counter_file, 'rb') as fin:\n",
    "        cicero_inflected_words = pickle.load(fin)\n",
    "else:\n",
    "    cicero_inflected_words, cicero_lemmas  = get_word_counts(cicero_files)"
   ]
  },
  {
   "cell_type": "code",
   "execution_count": 9,
   "metadata": {},
   "outputs": [],
   "source": [
    "if not os.path.exists(cicero_lemmas_counter_file):\n",
    "    with open(cicero_lemmas_counter_file, 'wb') as fout:\n",
    "        pickle.dump(cicero_lemmas, fout)\n",
    "if not os.path.exists(cicero_inflected_counter_file):\n",
    "    with open(cicero_inflected_counter_file, 'wb') as fout:\n",
    "        pickle.dump(cicero_inflected_words, fout)"
   ]
  },
  {
   "cell_type": "code",
   "execution_count": 10,
   "metadata": {},
   "outputs": [
    {
     "name": "stdout",
     "output_type": "stream",
     "text": [
      "Total count of all word tokens in Cicero corpus: 1,196,512\n",
      "Total number of distinct, inflected words/tokens in Cicero corpus: 75,705\n",
      "Total number of lemmatized words/tokens in Cicero corpus 23,345\n",
      "Count of inflected tokens only occuring once 34,608\n",
      "Count of lemmatized tokens only occuring once 10,656\n",
      "Probability of a single count unigram occuring in the Cicero corpus: 0.029\n",
      "Probability of a single count lemmatized unigram in a novel form occuring in the Cicero corpus: 0.009\n"
     ]
    },
    {
     "data": {
      "text/plain": [
       "(0.029, 0.009)"
      ]
     },
     "execution_count": 10,
     "metadata": {},
     "output_type": "execute_result"
    }
   ],
   "source": [
    "word_stats(author='Cicero',           \n",
    "            inflected_counter=cicero_inflected_words,\n",
    "            lemma_counter=cicero_lemmas)"
   ]
  },
  {
   "cell_type": "code",
   "execution_count": 15,
   "metadata": {},
   "outputs": [],
   "source": [
    "word_counts =  sorted(cicero_inflected_words.items(), key=lambda x:x[1], reverse=True)\n",
    "# words, counts = zip(*word_counts)\n"
   ]
  },
  {
   "cell_type": "code",
   "execution_count": 180,
   "metadata": {},
   "outputs": [
    {
     "data": {
      "image/png": "[encoded data removed]",
      "text/plain": [
       "<Figure size 504x360 with 1 Axes>"
      ]
     },
     "metadata": {
      "needs_background": "light"
     },
     "output_type": "display_data"
    }
   ],
   "source": [
    "top_label, side_label, bottom_label = ('Frequency Rank',\n",
    "                                       'Occurences',\n",
    "                                       'Word Frequency Distributions of the Cicero Corpus')\n",
    "fig = plt.figure(figsize=(7,5))\n",
    "plt.xlabel(top_label)\n",
    "plt.ylabel(side_label)\n",
    "plt.title(bottom_label)\n",
    "ax = fig.gca()\n",
    "plt.yscale('log')\n",
    "indices, values = zip(*word_counts)\n",
    "# plt.bar(range(len(values)), values)\n",
    "plt.loglog(range(len(values)), values, label='word frequencies')\n",
    "# plt.axvline(x=np.mean(all_vals), color='k', linestyle='-', label='mean')\n",
    "# plt.axvline(x=np.mean(all_vals) + np.std(all_vals), color='b', linestyle='-', label='std')\n",
    "# plt.axvline(x=np.mean(all_vals) + (2 * np.std(all_vals)), color='m', linestyle='-', label='std2')\n",
    "plt.legend(loc='upper right')\n",
    "plt.tight_layout(pad=0.5, w_pad=20, h_pad=0.5)\n",
    "# plt.show()\n",
    "plt.savefig('cicero_frequency_distributions.png')"
   ]
  },
  {
   "cell_type": "code",
   "execution_count": 18,
   "metadata": {},
   "outputs": [
    {
     "data": {
      "text/plain": [
       "[('et', 27952), ('in', 23862), ('non', 18471), ('est', 16045), ('ut', 14957)]"
      ]
     },
     "execution_count": 18,
     "metadata": {},
     "output_type": "execute_result"
    }
   ],
   "source": [
    "word_counts[:5]"
   ]
  },
  {
   "cell_type": "code",
   "execution_count": 20,
   "metadata": {},
   "outputs": [
    {
     "data": {
      "text/plain": [
       "[('adaequatus', 1),\n",
       " ('obfuerint', 1),\n",
       " ('ignorauit', 1),\n",
       " ('erudiri', 1),\n",
       " ('adprobarunt', 1)]"
      ]
     },
     "execution_count": 20,
     "metadata": {},
     "output_type": "execute_result"
    }
   ],
   "source": [
    "word_counts[-5:]"
   ]
  },
  {
   "cell_type": "code",
   "execution_count": 25,
   "metadata": {},
   "outputs": [],
   "source": [
    "first_last = word_counts[:5] +word_counts[-5:]"
   ]
  },
  {
   "cell_type": "code",
   "execution_count": 181,
   "metadata": {},
   "outputs": [
    {
     "name": "stderr",
     "output_type": "stream",
     "text": [
      "No handles with labels found to put in legend.\n"
     ]
    },
    {
     "data": {
      "image/png": "[encoded data removed]",
      "text/plain": [
       "<Figure size 288x360 with 1 Axes>"
      ]
     },
     "metadata": {
      "needs_background": "light"
     },
     "output_type": "display_data"
    }
   ],
   "source": [
    "top_label, side_label, bottom_label = ('Word',\n",
    "                                       'Count',\n",
    "                                       'Top 5 Cicero Words')\n",
    "fig = plt.figure(figsize=(4,5))\n",
    "plt.xlabel(top_label)\n",
    "plt.ylabel(side_label)\n",
    "plt.title(bottom_label)\n",
    "ax = fig.gca()\n",
    "# plt.yscale('log')\n",
    "# word_counts[:5] +word_counts[-5:]\n",
    "indices, values = zip(*word_counts[:5])\n",
    "plt.bar(indices , values)\n",
    "# plt.loglog(range(len(values)), values, label='word frequencies')\n",
    "# plt.axvline(x=np.mean(all_vals), color='k', linestyle='-', label='mean')\n",
    "# plt.axvline(x=np.mean(all_vals) + np.std(all_vals), color='b', linestyle='-', label='std')\n",
    "# plt.axvline(x=np.mean(all_vals) + (2 * np.std(all_vals)), color='m', linestyle='-', label='std2')\n",
    "plt.legend(loc='upper right')\n",
    "plt.tight_layout(pad=0.5, w_pad=20, h_pad=0.5)\n",
    "# plt.show()\n",
    "plt.savefig('cicero_top5_words.png')"
   ]
  },
  {
   "cell_type": "code",
   "execution_count": 192,
   "metadata": {},
   "outputs": [],
   "source": [
    "num_f1 = sum([1 for tmp, cnt in cicero_inflected_words.items() if cnt == 1])\n",
    "num_f2 = sum([1 for tmp, cnt in cicero_inflected_words.items() if cnt == 2])\n",
    "num_f3 = sum([1 for tmp, cnt in cicero_inflected_words.items() if cnt == 3])\n",
    "num_f4 = sum([1 for tmp, cnt in cicero_inflected_words.items() if cnt == 4])\n",
    "num_f5 = sum([1 for tmp, cnt in cicero_inflected_words.items() if cnt == 5])\n",
    "values=[num_f5, num_f4, num_f3, num_f2, num_f1 ]"
   ]
  },
  {
   "cell_type": "code",
   "execution_count": 193,
   "metadata": {},
   "outputs": [
    {
     "data": {
      "text/plain": [
       "[2622, 3936, 6095, 11858, 34608]"
      ]
     },
     "execution_count": 193,
     "metadata": {},
     "output_type": "execute_result"
    }
   ],
   "source": [
    "values"
   ]
  },
  {
   "cell_type": "code",
   "execution_count": 195,
   "metadata": {},
   "outputs": [
    {
     "data": {
      "text/plain": [
       "0.029"
      ]
     },
     "execution_count": 195,
     "metadata": {},
     "output_type": "execute_result"
    }
   ],
   "source": [
    "p0 = round(34608 / sum(cicero_inflected_words.values()),3)\n",
    "p0"
   ]
  },
  {
   "cell_type": "code",
   "execution_count": 196,
   "metadata": {},
   "outputs": [
    {
     "data": {
      "text/plain": [
       "1196512"
      ]
     },
     "execution_count": 196,
     "metadata": {},
     "output_type": "execute_result"
    }
   ],
   "source": [
    "sum(cicero_inflected_words.values())"
   ]
  },
  {
   "cell_type": "code",
   "execution_count": 204,
   "metadata": {
    "scrolled": false
   },
   "outputs": [
    {
     "name": "stdout",
     "output_type": "stream",
     "text": [
      "1 34608\n",
      "2 11858\n",
      "3 6095\n",
      "4 3936\n",
      "5 2622\n",
      "6 2018\n",
      "7 1572\n",
      "8 1260\n",
      "9 1018\n",
      "10 837\n",
      "11 705\n",
      "12 600\n",
      "13 525\n",
      "14 467\n",
      "15 433\n",
      "16 367\n",
      "17 319\n",
      "18 316\n",
      "19 275\n"
     ]
    }
   ],
   "source": [
    "for i in range(1,20):\n",
    "    print(i, sum([1 for tmp, cnt in cicero_inflected_words.items() if cnt == i]))"
   ]
  },
  {
   "cell_type": "code",
   "execution_count": null,
   "metadata": {},
   "outputs": [],
   "source": []
  },
  {
   "cell_type": "code",
   "execution_count": 182,
   "metadata": {},
   "outputs": [
    {
     "data": {
      "image/png": "[encoded data removed]",
      "text/plain": [
       "<Figure size 360x360 with 1 Axes>"
      ]
     },
     "metadata": {
      "needs_background": "light"
     },
     "output_type": "display_data"
    }
   ],
   "source": [
    "top_label, side_label, bottom_label = ('Occurences',\n",
    "                                       'Counts',\n",
    "                                       'Last 5 Cicero Word Frequencies')\n",
    "fig = plt.figure(figsize=(5,5))\n",
    "plt.xlabel(top_label)\n",
    "plt.ylabel(side_label)\n",
    "plt.title(bottom_label)\n",
    "ax = fig.gca()\n",
    "plt.yscale('linear')\n",
    "# indices, values = zip(*word_counts[-5:])\n",
    "values = [num_f1, num_f2, num_f3, num_f4, num_f5]\n",
    "plt.bar(range(1,len(values)+1), values, label='frequency counts')\n",
    "# plt.loglog(range(len(values)), values, label='word frequencies')\n",
    "# plt.axvline(x=np.mean(all_vals), color='k', linestyle='-', label='mean')\n",
    "# plt.axvline(x=np.mean(all_vals) + np.std(all_vals), color='b', linestyle='-', label='std')\n",
    "# plt.axvline(x=np.mean(all_vals) + (2 * np.std(all_vals)), color='m', linestyle='-', label='std2')\n",
    "plt.legend(loc='upper right')\n",
    "plt.tight_layout(pad=0.5, w_pad=20, h_pad=0.5)\n",
    "# plt.show()\n",
    "plt.savefig('cicero_last_five_word_frequencies.png')"
   ]
  },
  {
   "cell_type": "code",
   "execution_count": 116,
   "metadata": {},
   "outputs": [],
   "source": [
    "# Calc lemmatized"
   ]
  },
  {
   "cell_type": "code",
   "execution_count": null,
   "metadata": {},
   "outputs": [],
   "source": [
    "# Probability of a single count unigram occuring in the Cicero corpus: 0.029\n",
    "# Probability of a single count lemmatized unigram in a novel form occuring in the Cicero corpus: 0.009\n",
    "# (0.029, 0.009)\n",
    "# With Curve fitting\n",
    "# Probability of encountering a new inflected word in new Cicero 0.054 (according to curve fitting)\n",
    "# Probability of encountering a new lemmatized word form in new Cicero 0.017 (according to curve fitting)\n",
    "# (0.054, 0.017)"
   ]
  },
  {
   "cell_type": "code",
   "execution_count": 209,
   "metadata": {},
   "outputs": [
    {
     "name": "stdout",
     "output_type": "stream",
     "text": [
      "Expected unknown count 32,361\n",
      "Probability of encountering a new lemmatized word form in new Cicero 0.027 (according to curve fitting)\n",
      "[(10, 249), (9, 280), (8, 332), (7, 406), (6, 542), (5, 644), (4, 959), (3, 1508), (2, 3108), (1, 10656)]\n"
     ]
    },
    {
     "data": {
      "image/png": "[encoded data removed]",
      "text/plain": [
       "<Figure size 360x288 with 1 Axes>"
      ]
     },
     "metadata": {
      "needs_background": "light"
     },
     "output_type": "display_data"
    }
   ],
   "source": [
    "freq_vals = []\n",
    "num_samples =10\n",
    "for i in range(num_samples,0,-1):\n",
    "    freq_vals.append( (i, sum([1 for tmp, cnt in cicero_lemmas.items() if cnt == i])))\n",
    "\n",
    "X,y = zip(*freq_vals)\n",
    "# We will reverse the scale to predict the next number according to a Power Law distribution\n",
    "X =list(reversed(X))\n",
    "\n",
    "def func_powerlaw(x, m, c, c0):\n",
    "    return c0 + x**m * c\n",
    "  \n",
    "popt, pcov = curve_fit(func_powerlaw, X, y, maxfev=2000)\n",
    "expected_unk_count  = round(func_powerlaw(num_samples + 1 , *popt)) \n",
    "plt.figure(figsize=(5,4))\n",
    "plt.plot(X, func_powerlaw(X, *popt), '--', label='predicted counts')\n",
    "plt.plot(X[-1] + 1, func_powerlaw(X[-1]+1, *popt), '*', label='predicted unk')\n",
    "plt.plot(X, y, 'ro', label='actual counts')\n",
    "plt.title(\"Cicero Lemmatized word forms\")\n",
    "plt.xlabel(\"Frequency group\" )\n",
    "plt.ylabel(\"Count\")\n",
    "locs, labels = plt.xticks()  \n",
    "plt.xticks(range(12), ['']+ [str(tmp) for tmp in range(10,0,-1)] +['unk']) \n",
    "plt.legend()\n",
    "# plt.show()\n",
    "plt.tight_layout(pad=0.5, w_pad=20, h_pad=0.5)\n",
    "plt.savefig('cicero_lemmatized_words_unk_prob_curve_fit.png')\n",
    "\n",
    "expected_unk_count  = round(func_powerlaw(num_samples + 1, *popt) ) \n",
    "P_new_lemma_word = expected_unk_count / sum(cicero_lemmas.values())\n",
    "print(f\"Expected unknown count {expected_unk_count:,}\")\n",
    "print(f\"Probability of encountering a new lemmatized word form in new Cicero {round(P_new_lemma_word,3)} (according to curve fitting)\")\n",
    "print(freq_vals)"
   ]
  },
  {
   "cell_type": "code",
   "execution_count": 210,
   "metadata": {},
   "outputs": [
    {
     "name": "stdout",
     "output_type": "stream",
     "text": [
      "Expected unknown count 88,198\n",
      "Probability of encountering a new word in new Cicero 0.074 (according to curve fitting)\n",
      "[(10, 837), (9, 1018), (8, 1260), (7, 1572), (6, 2018), (5, 2622), (4, 3936), (3, 6095), (2, 11858), (1, 34608)]\n"
     ]
    },
    {
     "data": {
      "image/png": "[encoded data removed]",
      "text/plain": [
       "<Figure size 360x288 with 1 Axes>"
      ]
     },
     "metadata": {
      "needs_background": "light"
     },
     "output_type": "display_data"
    }
   ],
   "source": [
    "freq_vals = []\n",
    "num_samples = 10\n",
    "for i in range(num_samples,0,-1):\n",
    "    freq_vals.append( (i, sum([1 for tmp, cnt in cicero_inflected_words.items() if cnt == i])))\n",
    "\n",
    "X,y = zip(*freq_vals)\n",
    "# We will reverse the scale to predict the next number according to a Power Law distribution\n",
    "X =list(reversed(X))\n",
    "\n",
    "def func_powerlaw(x, m, c, c0):\n",
    "    return c0 + x**m * c\n",
    " \n",
    "popt, pcov = curve_fit(func_powerlaw, X, y, maxfev=2000)\n",
    "expected_unk_count  = round(func_powerlaw(num_samples + 1 , *popt)) \n",
    "plt.figure(figsize=(5,4))\n",
    "plt.plot(X, func_powerlaw(X, *popt), '--', label='predicted counts')\n",
    "plt.plot(X[-1] + 1, func_powerlaw(X[-1]+1, *popt), '*', label='predicted unk')\n",
    "plt.plot(X, y, 'ro', label='actual counts')\n",
    "plt.title(\"Cicero inflected word forms\")\n",
    "plt.xlabel(\"Frequency group\" )\n",
    "plt.ylabel(\"Count\")\n",
    "locs, labels = plt.xticks()  \n",
    "plt.xticks(range(12), ['']+ [str(tmp) for tmp in range(10,0,-1)] +['unk']) \n",
    "plt.legend()\n",
    "# plt.show()\n",
    "plt.tight_layout(pad=0.5, w_pad=20, h_pad=0.5)\n",
    "plt.savefig('cicero_inflected_words_unk_prob_curve_fit.png')\n",
    "\n",
    "expected_unk_count  = round(func_powerlaw(num_samples + 1 , *popt)) \n",
    "P_new_word = expected_unk_count / sum(cicero_inflected_words.values())\n",
    "print(f\"Expected unknown count {expected_unk_count:,}\")\n",
    "print(f\"Probability of encountering a new word in new Cicero {round(P_new_word,3)} (according to curve fitting)\")\n",
    "print(freq_vals)"
   ]
  },
  {
   "cell_type": "code",
   "execution_count": 149,
   "metadata": {},
   "outputs": [],
   "source": [
    "# Probability of a single count unigram occuring in the Cicero corpus: 0.029\n",
    "# Probability of a single count lemmatized unigram in a novel form occuring in the Cicero corpus: 0.009\n",
    "# (0.029, 0.009)\n",
    "# With Curve fitting\n",
    "# Probability of encountering a new inflected word in new Cicero 0.054 (according to curve fitting)\n",
    "# Probability of encountering a new lemmatized word form in new Cicero 0.017 (according to curve fitting)\n",
    "# (0.054, 0.017)\n",
    "# With Power Law Curve fitting\n",
    "# (0.074, 0.027)\n",
    "# Probability of encountering a new inflected word in a new page of Cicero: 0.074\n",
    "# Probability of encountering a new form of lemma in Cicero's use: 0.027\n",
    "\n",
    "#  So, if you found a new page of Cicero with a 100 words\n",
    "# we would expect 7 of the words to be new/hitherto/unseen in the Cicero corpus\n",
    "# we would expect 3 of the words to be words that Cicero had used before, but now in novel forms of the lemmas "
   ]
  },
  {
   "cell_type": "markdown",
   "metadata": {},
   "source": [
    "### Good-Turing Frequency Estimation\n",
    "\\begin{align}\n",
    "p_{0}={\\frac {N_{1}}{N}}\n",
    "\\end{align}\n",
    "The probability of an unseen element is equivalent to the the probability of elements seen only once."
   ]
  },
  {
   "cell_type": "code",
   "execution_count": 211,
   "metadata": {},
   "outputs": [
    {
     "data": {
      "text/plain": [
       "0.07371259126527774"
      ]
     },
     "execution_count": 211,
     "metadata": {},
     "output_type": "execute_result"
    }
   ],
   "source": [
    "88198/  1196512"
   ]
  },
  {
   "cell_type": "code",
   "execution_count": 212,
   "metadata": {},
   "outputs": [],
   "source": [
    "malum_potest = -127.67892735847873\n",
    "potest_malum = -127.61667828754315"
   ]
  },
  {
   "cell_type": "code",
   "execution_count": 213,
   "metadata": {},
   "outputs": [
    {
     "data": {
      "text/plain": [
       "-0.06224907093557874"
      ]
     },
     "execution_count": 213,
     "metadata": {},
     "output_type": "execute_result"
    }
   ],
   "source": [
    "malum_potest - potest_malum"
   ]
  },
  {
   "cell_type": "code",
   "execution_count": 214,
   "metadata": {},
   "outputs": [
    {
     "data": {
      "text/plain": [
       "0.06224907093557874"
      ]
     },
     "execution_count": 214,
     "metadata": {},
     "output_type": "execute_result"
    }
   ],
   "source": [
    "potest_malum - malum_potest"
   ]
  },
  {
   "cell_type": "code",
   "execution_count": null,
   "metadata": {},
   "outputs": [],
   "source": []
  },
  {
   "cell_type": "code",
   "execution_count": null,
   "metadata": {},
   "outputs": [],
   "source": []
  },
  {
   "cell_type": "code",
   "execution_count": 11,
   "metadata": {},
   "outputs": [],
   "source": [
    "author_index = {val:key for key,val in PHI5_INDEX.items()  \n",
    "                if val != 'Marcus Tullius Cicero, Cicero, Tully'}"
   ]
  },
  {
   "cell_type": "code",
   "execution_count": 12,
   "metadata": {},
   "outputs": [],
   "source": [
    "def get_phi5_author_files(author_name, author_index):\n",
    "    stub = author_index[author_name]\n",
    "    return glob(os.path.expanduser(f'~/cltk_data/latin/text/phi5/individual_works/{stub}*.txt'))"
   ]
  },
  {
   "cell_type": "markdown",
   "metadata": {},
   "source": [
    "## Visualization of our corpus comparison: \n",
    "If you took one page from one author and placed it into Cicero, how surprising would it be?\n",
    "\n",
    "If the other author's vocabulary was substantially different, it would be noticeable. We can quantify this.\n",
    "\n",
    "As a result, since we want to predict as close as possible to the author, we should only train a language model where the underlying corpus vocabularies are within a reasonable window of surprise."
   ]
  },
  {
   "cell_type": "code",
   "execution_count": 17,
   "metadata": {},
   "outputs": [
    {
     "name": "stderr",
     "output_type": "stream",
     "text": [
      "100%|██████████| 1/1 [00:00<00:00,  2.30files/s]\n",
      "100%|██████████| 1/1 [00:01<00:00,  1.01s/files]\n",
      "100%|██████████| 8/8 [00:03<00:00,  2.45files/s]\n",
      "100%|██████████| 1/1 [00:00<00:00, 346.64files/s]\n",
      "100%|██████████| 1/1 [00:00<00:00, 400.30files/s]\n",
      "100%|██████████| 1/1 [00:00<00:00, 435.14files/s]\n",
      "100%|██████████| 1/1 [00:00<00:00, 333.65files/s]\n",
      "100%|██████████| 2/2 [00:00<00:00, 93.23files/s]\n",
      "100%|██████████| 1/1 [00:03<00:00,  3.34s/files]\n",
      "100%|██████████| 1/1 [00:00<00:00, 553.41files/s]\n",
      "100%|██████████| 1/1 [00:00<00:00, 588.26files/s]\n",
      "100%|██████████| 2/2 [00:00<00:00, 162.91files/s]\n",
      "100%|██████████| 1/1 [00:00<00:00, 144.78files/s]\n",
      "100%|██████████| 2/2 [00:00<00:00, 385.29files/s]\n",
      "100%|██████████| 1/1 [00:00<00:00, 428.38files/s]\n",
      "100%|██████████| 1/1 [00:00<00:00, 337.38files/s]\n",
      "100%|██████████| 1/1 [00:00<00:00, 175.68files/s]\n",
      "100%|██████████| 1/1 [00:00<00:00, 42.95files/s]\n",
      "100%|██████████| 1/1 [00:00<00:00, 196.96files/s]\n",
      "100%|██████████| 1/1 [00:00<00:00,  6.68files/s]\n",
      "100%|██████████| 1/1 [00:00<00:00, 94.37files/s]\n",
      "100%|██████████| 1/1 [00:00<00:00, 160.28files/s]\n",
      "100%|██████████| 1/1 [00:00<00:00, 154.58files/s]\n",
      "100%|██████████| 1/1 [00:00<00:00, 311.33files/s]\n",
      "100%|██████████| 10/10 [00:04<00:00,  2.24files/s]\n",
      "100%|██████████| 1/1 [00:00<00:00, 13.25files/s]\n",
      "100%|██████████| 1/1 [00:00<00:00, 21.29files/s]\n",
      "100%|██████████| 2/2 [00:00<00:00, 10.06files/s]\n",
      "100%|██████████| 2/2 [00:00<00:00,  3.55files/s]\n",
      "100%|██████████| 1/1 [00:00<00:00, 132.55files/s]\n",
      "100%|██████████| 1/1 [00:00<00:00, 418.76files/s]\n",
      "100%|██████████| 3/3 [00:00<00:00,  4.01files/s]\n",
      "100%|██████████| 1/1 [00:00<00:00, 681.11files/s]\n",
      "100%|██████████| 1/1 [00:00<00:00, 235.57files/s]\n",
      "100%|██████████| 1/1 [00:00<00:00, 36.81files/s]\n",
      "100%|██████████| 2/2 [00:00<00:00, 338.88files/s]\n",
      "100%|██████████| 1/1 [00:00<00:00, 68.87files/s]\n",
      "100%|██████████| 2/2 [00:00<00:00, 13.43files/s]\n",
      "100%|██████████| 1/1 [00:00<00:00, 391.84files/s]\n",
      "100%|██████████| 1/1 [00:00<00:00, 138.65files/s]\n",
      "100%|██████████| 1/1 [00:00<00:00, 419.14files/s]\n",
      "100%|██████████| 2/2 [00:00<00:00, 14.99files/s]\n",
      "100%|██████████| 1/1 [00:00<00:00, 110.75files/s]\n",
      "100%|██████████| 2/2 [00:00<00:00, 505.58files/s]\n",
      "100%|██████████| 2/2 [00:00<00:00, 26.63files/s]\n",
      "100%|██████████| 2/2 [00:00<00:00, 405.93files/s]\n",
      "100%|██████████| 1/1 [00:00<00:00, 230.68files/s]\n",
      "100%|██████████| 1/1 [00:00<00:00, 545.78files/s]\n",
      "100%|██████████| 4/4 [00:00<00:00, 32.93files/s]\n",
      "100%|██████████| 1/1 [00:00<00:00, 345.07files/s]\n",
      "100%|██████████| 1/1 [00:00<00:00, 165.49files/s]\n",
      "100%|██████████| 2/2 [00:00<00:00, 549.32files/s]\n",
      "100%|██████████| 8/8 [00:00<00:00, 29.88files/s]\n",
      "100%|██████████| 1/1 [00:00<00:00, 483.83files/s]\n",
      "100%|██████████| 2/2 [00:01<00:00,  1.42files/s]\n",
      "100%|██████████| 1/1 [00:00<00:00, 25.56files/s]\n",
      "100%|██████████| 1/1 [00:00<00:00, 134.21files/s]\n",
      "100%|██████████| 1/1 [00:00<00:00,  3.21files/s]\n",
      "100%|██████████| 1/1 [00:00<00:00, 618.45files/s]\n",
      "100%|██████████| 1/1 [00:00<00:00,  1.53files/s]\n",
      "100%|██████████| 4/4 [00:04<00:00,  1.05s/files]\n",
      "100%|██████████| 1/1 [00:00<00:00, 495.31files/s]\n",
      "100%|██████████| 2/2 [00:02<00:00,  1.30s/files]\n",
      "100%|██████████| 2/2 [00:00<00:00, 513.19files/s]\n",
      "100%|██████████| 1/1 [00:00<00:00, 227.17files/s]\n",
      "100%|██████████| 2/2 [00:00<00:00,  5.79files/s]\n",
      "100%|██████████| 1/1 [00:00<00:00, 34.44files/s]\n",
      "100%|██████████| 1/1 [00:00<00:00, 461.93files/s]\n",
      "100%|██████████| 1/1 [00:00<00:00, 170.15files/s]\n",
      "100%|██████████| 3/3 [00:00<00:00, 12.41files/s]\n",
      "100%|██████████| 1/1 [00:00<00:00,  3.17files/s]\n",
      "100%|██████████| 1/1 [00:00<00:00, 594.85files/s]\n",
      "100%|██████████| 1/1 [00:00<00:00, 212.18files/s]\n",
      "100%|██████████| 1/1 [00:00<00:00, 205.94files/s]\n",
      "100%|██████████| 1/1 [00:00<00:00,  6.78files/s]\n",
      "100%|██████████| 1/1 [00:00<00:00, 221.29files/s]\n",
      "100%|██████████| 1/1 [00:00<00:00, 165.29files/s]\n",
      "100%|██████████| 1/1 [00:00<00:00, 252.33files/s]\n",
      "100%|██████████| 1/1 [00:00<00:00, 516.22files/s]\n",
      "100%|██████████| 1/1 [00:00<00:00, 142.81files/s]\n",
      "100%|██████████| 7/7 [00:00<00:00, 28.17files/s]\n",
      "100%|██████████| 1/1 [00:00<00:00, 207.52files/s]\n",
      "100%|██████████| 3/3 [00:03<00:00,  1.19s/files]\n",
      "100%|██████████| 1/1 [00:00<00:00, 200.04files/s]\n",
      "100%|██████████| 1/1 [00:00<00:00,  6.50files/s]\n",
      "100%|██████████| 1/1 [00:00<00:00, 723.65files/s]\n",
      "100%|██████████| 1/1 [00:00<00:00, 454.37files/s]\n",
      "100%|██████████| 1/1 [00:00<00:00, 149.48files/s]\n",
      "100%|██████████| 1/1 [00:01<00:00,  1.25s/files]\n",
      "100%|██████████| 1/1 [00:00<00:00,  2.67files/s]\n",
      "100%|██████████| 1/1 [00:00<00:00, 539.11files/s]\n",
      "100%|██████████| 2/2 [00:00<00:00, 55.75files/s]\n",
      "100%|██████████| 1/1 [00:00<00:00, 272.09files/s]\n",
      "100%|██████████| 1/1 [00:00<00:00, 32.61files/s]\n",
      "100%|██████████| 1/1 [00:00<00:00, 540.02files/s]\n",
      "100%|██████████| 2/2 [00:00<00:00, 170.05files/s]\n",
      "100%|██████████| 1/1 [00:00<00:00, 82.01files/s]\n",
      "100%|██████████| 15/15 [00:09<00:00,  1.52files/s]\n",
      "100%|██████████| 1/1 [00:00<00:00,  3.66files/s]\n",
      "100%|██████████| 1/1 [00:00<00:00, 199.40files/s]\n",
      "100%|██████████| 1/1 [00:01<00:00,  1.24s/files]\n",
      "100%|██████████| 1/1 [00:00<00:00, 337.16files/s]\n",
      "100%|██████████| 1/1 [00:00<00:00, 113.34files/s]\n",
      "100%|██████████| 7/7 [00:00<00:00, 79.83files/s]\n",
      "100%|██████████| 2/2 [00:00<00:00, 278.20files/s]\n",
      "100%|██████████| 8/8 [00:00<00:00, 39.43files/s]\n",
      "100%|██████████| 1/1 [00:00<00:00, 260.55files/s]\n",
      "100%|██████████| 2/2 [00:01<00:00,  1.65files/s]\n",
      "100%|██████████| 1/1 [00:00<00:00,  5.70files/s]\n",
      "100%|██████████| 2/2 [00:00<00:00, 11.07files/s]\n",
      "100%|██████████| 1/1 [00:00<00:00, 155.33files/s]\n",
      "100%|██████████| 1/1 [00:01<00:00,  1.95s/files]\n",
      "100%|██████████| 1/1 [00:00<00:00, 18.50files/s]\n",
      "100%|██████████| 1/1 [00:00<00:00, 483.10files/s]\n",
      "100%|██████████| 1/1 [00:00<00:00, 70.45files/s]\n",
      "100%|██████████| 1/1 [00:01<00:00,  1.53s/files]\n",
      "100%|██████████| 1/1 [00:01<00:00,  1.59s/files]\n",
      "100%|██████████| 1/1 [00:00<00:00, 26.74files/s]\n",
      "100%|██████████| 1/1 [00:00<00:00, 406.31files/s]\n",
      "100%|██████████| 1/1 [00:00<00:00, 464.02files/s]\n",
      "100%|██████████| 1/1 [00:00<00:00, 591.66files/s]\n",
      "100%|██████████| 1/1 [00:00<00:00, 372.00files/s]\n",
      "100%|██████████| 2/2 [00:00<00:00, 143.16files/s]\n",
      "100%|██████████| 1/1 [00:00<00:00, 178.92files/s]\n",
      "100%|██████████| 2/2 [00:00<00:00, 123.05files/s]\n",
      "100%|██████████| 1/1 [00:05<00:00,  5.15s/files]\n",
      "100%|██████████| 2/2 [00:00<00:00, 404.04files/s]\n",
      "100%|██████████| 2/2 [00:00<00:00, 295.29files/s]\n",
      "100%|██████████| 1/1 [00:00<00:00,  3.24files/s]\n",
      "100%|██████████| 30/30 [00:04<00:00,  6.54files/s]\n",
      "100%|██████████| 1/1 [00:00<00:00, 412.91files/s]\n",
      "100%|██████████| 1/1 [00:00<00:00, 146.87files/s]\n",
      "100%|██████████| 1/1 [00:00<00:00, 395.54files/s]\n",
      "100%|██████████| 1/1 [00:00<00:00, 710.78files/s]\n",
      "100%|██████████| 2/2 [00:00<00:00, 304.00files/s]\n",
      "100%|██████████| 1/1 [00:01<00:00,  1.09s/files]\n",
      "100%|██████████| 1/1 [00:02<00:00,  2.44s/files]\n",
      "100%|██████████| 2/2 [00:00<00:00, 289.26files/s]\n",
      "100%|██████████| 6/6 [00:02<00:00,  2.23files/s]\n",
      "100%|██████████| 3/3 [00:04<00:00,  1.40s/files]\n",
      "100%|██████████| 1/1 [00:00<00:00, 604.98files/s]\n",
      "100%|██████████| 6/6 [00:03<00:00,  1.84files/s]\n",
      "100%|██████████| 1/1 [00:00<00:00, 10.68files/s]\n",
      "100%|██████████| 1/1 [00:00<00:00, 217.82files/s]\n",
      "100%|██████████| 17/17 [00:03<00:00,  4.69files/s]\n",
      "100%|██████████| 1/1 [00:00<00:00, 132.00files/s]\n",
      "100%|██████████| 1/1 [00:00<00:00, 374.42files/s]\n",
      "100%|██████████| 14/14 [00:00<00:00, 21.05files/s]\n",
      "100%|██████████| 1/1 [00:00<00:00, 472.81files/s]\n",
      "100%|██████████| 2/2 [00:04<00:00,  2.33s/files]\n",
      "100%|██████████| 1/1 [00:00<00:00, 95.21files/s]\n",
      "100%|██████████| 1/1 [00:00<00:00,  1.11files/s]\n",
      "100%|██████████| 2/2 [00:00<00:00, 318.73files/s]\n",
      "100%|██████████| 1/1 [00:00<00:00, 94.91files/s]\n",
      "100%|██████████| 1/1 [00:03<00:00,  3.29s/files]\n",
      "100%|██████████| 1/1 [00:00<00:00, 696.50files/s]\n",
      "100%|██████████| 1/1 [00:00<00:00, 220.45files/s]\n",
      "100%|██████████| 2/2 [00:00<00:00, 221.60files/s]\n",
      "100%|██████████| 1/1 [00:00<00:00, 286.05files/s]\n",
      "100%|██████████| 1/1 [00:00<00:00, 28.34files/s]\n",
      "100%|██████████| 1/1 [00:00<00:00, 261.38files/s]\n",
      "100%|██████████| 1/1 [00:00<00:00, 117.98files/s]\n",
      "100%|██████████| 5/5 [00:01<00:00,  4.29files/s]\n",
      "100%|██████████| 7/7 [00:03<00:00,  2.03files/s]\n",
      "100%|██████████| 1/1 [00:00<00:00, 313.38files/s]\n",
      "100%|██████████| 1/1 [00:00<00:00, 110.35files/s]\n",
      "100%|██████████| 2/2 [00:00<00:00, 324.52files/s]\n",
      "100%|██████████| 1/1 [00:00<00:00,  2.64files/s]\n",
      "100%|██████████| 1/1 [00:00<00:00, 144.39files/s]\n",
      "100%|██████████| 1/1 [00:00<00:00, 545.28files/s]\n",
      "100%|██████████| 1/1 [00:00<00:00, 296.40files/s]\n",
      "100%|██████████| 1/1 [00:00<00:00, 520.58files/s]\n",
      "100%|██████████| 1/1 [00:00<00:00, 168.55files/s]\n",
      "100%|██████████| 3/3 [00:00<00:00, 21.32files/s]\n",
      "100%|██████████| 1/1 [00:00<00:00,  3.51files/s]\n",
      "100%|██████████| 1/1 [00:01<00:00,  1.05s/files]\n",
      "100%|██████████| 7/7 [00:00<00:00, 21.93files/s]\n",
      "100%|██████████| 1/1 [00:00<00:00, 351.49files/s]\n",
      "100%|██████████| 1/1 [00:00<00:00, 628.55files/s]\n",
      "100%|██████████| 1/1 [00:00<00:00, 341.78files/s]\n",
      "100%|██████████| 1/1 [00:00<00:00, 498.25files/s]\n",
      "100%|██████████| 1/1 [00:00<00:00, 115.50files/s]\n",
      "100%|██████████| 1/1 [00:00<00:00, 574.01files/s]\n",
      "100%|██████████| 2/2 [00:00<00:00, 219.97files/s]\n",
      "100%|██████████| 2/2 [00:00<00:00, 108.28files/s]\n",
      "100%|██████████| 2/2 [00:00<00:00, 124.44files/s]\n",
      "100%|██████████| 1/1 [00:00<00:00, 321.01files/s]\n",
      "100%|██████████| 1/1 [00:00<00:00, 392.32files/s]\n",
      "100%|██████████| 6/6 [00:00<00:00, 162.36files/s]\n",
      "100%|██████████| 2/2 [00:00<00:00,  3.95files/s]\n",
      "100%|██████████| 1/1 [00:00<00:00, 256.42files/s]\n",
      "100%|██████████| 1/1 [00:00<00:00, 651.39files/s]\n",
      "100%|██████████| 1/1 [00:00<00:00, 787.37files/s]\n",
      "100%|██████████| 1/1 [00:00<00:00, 140.67files/s]\n",
      "100%|██████████| 1/1 [00:00<00:00,  5.53files/s]\n",
      "100%|██████████| 1/1 [00:00<00:00,  1.27files/s]\n",
      "100%|██████████| 1/1 [00:00<00:00, 172.26files/s]\n",
      "100%|██████████| 1/1 [00:00<00:00, 378.21files/s]\n",
      "100%|██████████| 1/1 [00:00<00:00, 376.91files/s]\n",
      "100%|██████████| 1/1 [00:00<00:00, 645.97files/s]\n",
      "100%|██████████| 1/1 [00:00<00:00, 530.52files/s]\n",
      "100%|██████████| 2/2 [00:00<00:00, 409.34files/s]\n",
      "100%|██████████| 1/1 [00:00<00:00, 252.85files/s]\n",
      "100%|██████████| 1/1 [00:00<00:00, 237.58files/s]\n",
      "100%|██████████| 1/1 [00:00<00:00, 204.91files/s]\n",
      "100%|██████████| 1/1 [00:00<00:00, 564.36files/s]\n",
      "100%|██████████| 1/1 [00:00<00:00, 827.77files/s]\n",
      "100%|██████████| 1/1 [00:00<00:00, 27.41files/s]\n",
      "100%|██████████| 1/1 [00:00<00:00, 216.08files/s]\n",
      "100%|██████████| 5/5 [00:06<00:00,  1.34s/files]\n",
      "100%|██████████| 1/1 [00:00<00:00, 49.64files/s]\n",
      "100%|██████████| 1/1 [00:00<00:00, 537.59files/s]\n",
      "100%|██████████| 1/1 [00:00<00:00, 406.54files/s]\n",
      "100%|██████████| 1/1 [00:00<00:00, 619.54files/s]\n",
      "100%|██████████| 4/4 [00:21<00:00,  5.40s/files]\n",
      "100%|██████████| 1/1 [00:00<00:00, 363.65files/s]\n",
      "100%|██████████| 4/4 [00:04<00:00,  1.06s/files]\n",
      "100%|██████████| 1/1 [00:00<00:00, 341.75files/s]\n",
      "100%|██████████| 1/1 [00:00<00:00, 257.78files/s]\n",
      "100%|██████████| 1/1 [00:00<00:00, 56.50files/s]\n",
      "100%|██████████| 1/1 [00:00<00:00, 111.74files/s]\n",
      "100%|██████████| 6/6 [00:01<00:00,  3.30files/s]\n",
      "100%|██████████| 1/1 [00:00<00:00, 408.01files/s]\n",
      "100%|██████████| 1/1 [00:00<00:00, 240.44files/s]\n",
      "100%|██████████| 1/1 [00:00<00:00,  1.94files/s]\n",
      "100%|██████████| 1/1 [00:00<00:00, 87.60files/s]\n",
      "100%|██████████| 4/4 [00:00<00:00, 212.32files/s]\n",
      "100%|██████████| 1/1 [00:00<00:00, 508.09files/s]\n",
      "100%|██████████| 2/2 [00:00<00:00,  3.88files/s]\n",
      "100%|██████████| 8/8 [00:01<00:00,  4.09files/s]\n",
      "100%|██████████| 3/3 [00:03<00:00,  1.24s/files]\n",
      "100%|██████████| 2/2 [00:00<00:00, 91.32files/s]\n",
      "100%|██████████| 1/1 [00:00<00:00, 360.86files/s]\n",
      "100%|██████████| 1/1 [00:00<00:00, 287.28files/s]\n",
      "100%|██████████| 3/3 [00:13<00:00,  4.47s/files]\n",
      "100%|██████████| 1/1 [00:00<00:00, 116.51files/s]\n",
      "100%|██████████| 5/5 [00:00<00:00,  8.99files/s]\n",
      "100%|██████████| 1/1 [00:00<00:00, 129.28files/s]\n",
      "100%|██████████| 1/1 [00:00<00:00, 22.04files/s]\n",
      "100%|██████████| 1/1 [00:00<00:00, 69.91files/s]\n",
      "100%|██████████| 2/2 [00:00<00:00, 288.89files/s]\n",
      "100%|██████████| 1/1 [00:00<00:00, 123.57files/s]\n",
      "100%|██████████| 1/1 [00:00<00:00, 332.43files/s]\n",
      "100%|██████████| 1/1 [00:00<00:00, 416.18files/s]\n",
      "100%|██████████| 1/1 [00:00<00:00,  3.56files/s]\n",
      "100%|██████████| 3/3 [00:02<00:00,  1.48files/s]\n",
      "100%|██████████| 1/1 [00:00<00:00, 264.69files/s]\n",
      "100%|██████████| 3/3 [00:00<00:00, 11.03files/s]\n",
      "100%|██████████| 1/1 [00:01<00:00,  1.04s/files]\n",
      "100%|██████████| 1/1 [00:00<00:00, 16.61files/s]\n",
      "100%|██████████| 1/1 [00:00<00:00, 315.96files/s]\n",
      "100%|██████████| 1/1 [00:00<00:00, 13.66files/s]\n",
      "100%|██████████| 1/1 [00:00<00:00, 392.14files/s]\n",
      "100%|██████████| 1/1 [00:00<00:00, 244.67files/s]\n",
      "100%|██████████| 2/2 [00:00<00:00,  7.04files/s]\n",
      "100%|██████████| 1/1 [00:00<00:00, 573.46files/s]\n",
      "100%|██████████| 1/1 [00:00<00:00, 705.64files/s]\n",
      "100%|██████████| 1/1 [00:00<00:00, 167.17files/s]\n",
      "100%|██████████| 1/1 [00:00<00:00, 394.35files/s]\n",
      "100%|██████████| 1/1 [00:00<00:00, 345.67files/s]\n",
      "100%|██████████| 3/3 [00:01<00:00,  1.51files/s]\n",
      "100%|██████████| 4/4 [00:00<00:00, 20.77files/s]\n",
      "100%|██████████| 1/1 [00:00<00:00, 13.22files/s]\n",
      "100%|██████████| 1/1 [00:00<00:00, 458.74files/s]\n",
      "100%|██████████| 1/1 [00:00<00:00,  6.79files/s]\n",
      "100%|██████████| 2/2 [00:00<00:00, 392.52files/s]\n",
      "100%|██████████| 1/1 [00:00<00:00, 338.63files/s]\n",
      "100%|██████████| 1/1 [00:00<00:00, 359.47files/s]\n",
      "100%|██████████| 1/1 [00:00<00:00, 728.18files/s]\n",
      "100%|██████████| 1/1 [00:00<00:00, 313.87files/s]\n",
      "100%|██████████| 1/1 [00:00<00:00, 138.18files/s]\n",
      "100%|██████████| 1/1 [00:00<00:00, 398.55files/s]\n",
      "100%|██████████| 3/3 [00:00<00:00, 96.26files/s]\n",
      "100%|██████████| 1/1 [00:00<00:00, 259.81files/s]\n",
      "100%|██████████| 1/1 [00:00<00:00, 15.52files/s]\n",
      "100%|██████████| 1/1 [00:00<00:00, 544.93files/s]\n",
      "100%|██████████| 17/17 [00:01<00:00,  9.50files/s]\n",
      "100%|██████████| 19/19 [00:00<00:00, 232.62files/s]\n",
      "100%|██████████| 1/1 [00:00<00:00, 297.81files/s]\n",
      "100%|██████████| 2/2 [00:00<00:00,  8.88files/s]\n",
      "100%|██████████| 2/2 [00:00<00:00, 159.94files/s]\n",
      "100%|██████████| 4/4 [00:00<00:00, 59.36files/s]\n",
      "100%|██████████| 1/1 [00:00<00:00, 444.41files/s]\n",
      "100%|██████████| 1/1 [00:00<00:00, 13.35files/s]\n",
      "100%|██████████| 1/1 [00:00<00:00,  4.54files/s]\n",
      "100%|██████████| 1/1 [00:00<00:00, 465.31files/s]\n",
      "100%|██████████| 1/1 [00:00<00:00, 138.83files/s]\n",
      "100%|██████████| 1/1 [00:00<00:00, 694.88files/s]\n",
      "100%|██████████| 1/1 [00:00<00:00, 181.13files/s]\n",
      "100%|██████████| 1/1 [00:00<00:00, 569.03files/s]\n",
      "100%|██████████| 1/1 [00:00<00:00, 333.09files/s]\n",
      "100%|██████████| 1/1 [00:00<00:00, 93.23files/s]\n",
      "100%|██████████| 41/41 [00:00<00:00, 327.61files/s]\n",
      "100%|██████████| 1/1 [00:00<00:00, 206.62files/s]\n",
      "100%|██████████| 1/1 [00:00<00:00, 302.21files/s]\n",
      "100%|██████████| 2/2 [00:00<00:00, 92.11files/s]\n",
      "100%|██████████| 1/1 [00:00<00:00, 681.67files/s]\n",
      "100%|██████████| 2/2 [00:00<00:00, 353.37files/s]\n",
      "100%|██████████| 1/1 [00:00<00:00, 11.39files/s]\n",
      "100%|██████████| 12/12 [00:00<00:00, 12.65files/s]\n",
      "100%|██████████| 6/6 [00:01<00:00,  3.77files/s]\n",
      "100%|██████████| 1/1 [00:00<00:00, 161.58files/s]\n",
      "100%|██████████| 1/1 [00:00<00:00, 463.00files/s]\n",
      "100%|██████████| 1/1 [00:00<00:00, 194.66files/s]\n",
      "100%|██████████| 18/18 [00:15<00:00,  1.18files/s]\n",
      "100%|██████████| 1/1 [00:00<00:00, 309.22files/s]\n",
      "100%|██████████| 1/1 [00:00<00:00, 133.66files/s]\n",
      "100%|██████████| 2/2 [00:00<00:00, 436.86files/s]\n",
      "100%|██████████| 1/1 [00:00<00:00, 10.80files/s]\n",
      "100%|██████████| 2/2 [00:00<00:00,  6.28files/s]\n",
      "100%|██████████| 1/1 [00:00<00:00, 435.55files/s]\n",
      "100%|██████████| 1/1 [00:00<00:00, 832.70files/s]\n",
      "100%|██████████| 1/1 [00:00<00:00, 351.02files/s]\n",
      "100%|██████████| 1/1 [00:00<00:00, 606.73files/s]\n",
      "100%|██████████| 1/1 [00:00<00:00, 538.77files/s]\n",
      "100%|██████████| 1/1 [00:00<00:00, 687.70files/s]\n",
      "100%|██████████| 1/1 [00:00<00:00, 667.56files/s]\n",
      "100%|██████████| 1/1 [00:00<00:00, 93.63files/s]\n",
      "100%|██████████| 1/1 [00:00<00:00, 146.09files/s]\n",
      "100%|██████████| 2/2 [00:17<00:00,  8.71s/files]\n",
      "100%|██████████| 1/1 [00:00<00:00, 346.04files/s]\n",
      "100%|██████████| 1/1 [00:00<00:00, 140.33files/s]\n",
      "100%|██████████| 1/1 [00:03<00:00,  3.10s/files]\n",
      "100%|██████████| 2/2 [00:00<00:00, 343.88files/s]\n",
      "100%|██████████| 1/1 [00:00<00:00, 270.48files/s]\n",
      "100%|██████████| 1/1 [00:00<00:00, 538.77files/s]\n",
      "100%|██████████| 22/22 [00:08<00:00,  2.56files/s]\n",
      "100%|██████████| 1/1 [00:00<00:00, 172.30files/s]\n",
      "100%|██████████| 1/1 [00:00<00:00, 533.56files/s]\n"
     ]
    },
    {
     "name": "stderr",
     "output_type": "stream",
     "text": [
      "100%|██████████| 1/1 [00:00<00:00, 583.11files/s]\n",
      "100%|██████████| 2/2 [00:00<00:00, 13.06files/s]\n",
      "100%|██████████| 1/1 [00:00<00:00, 237.03files/s]\n",
      "100%|██████████| 1/1 [00:00<00:00, 368.18files/s]\n",
      "100%|██████████| 1/1 [00:00<00:00, 462.59files/s]\n",
      "100%|██████████| 2/2 [00:02<00:00,  1.08s/files]\n",
      "100%|██████████| 1/1 [00:00<00:00, 117.40files/s]\n",
      "100%|██████████| 1/1 [00:00<00:00, 180.99files/s]\n",
      "100%|██████████| 1/1 [00:00<00:00, 260.56files/s]\n",
      "100%|██████████| 1/1 [00:00<00:00, 305.82files/s]\n",
      "100%|██████████| 1/1 [00:00<00:00, 171.15files/s]\n",
      "100%|██████████| 1/1 [00:00<00:00, 68.87files/s]\n",
      "100%|██████████| 1/1 [00:00<00:00, 241.19files/s]\n",
      "100%|██████████| 7/7 [00:15<00:00,  2.20s/files]\n",
      "100%|██████████| 1/1 [00:00<00:00,  5.30files/s]\n",
      "100%|██████████| 1/1 [00:00<00:00, 536.77files/s]\n",
      "100%|██████████| 1/1 [00:00<00:00, 164.21files/s]\n",
      "100%|██████████| 1/1 [00:35<00:00, 35.27s/files]\n",
      "100%|██████████| 1/1 [00:00<00:00, 191.46files/s]\n",
      "100%|██████████| 1/1 [00:00<00:00, 576.93files/s]\n",
      "100%|██████████| 2/2 [00:00<00:00, 237.03files/s]\n",
      "100%|██████████| 1/1 [00:00<00:00, 170.13files/s]\n",
      "100%|██████████| 2/2 [00:00<00:00, 322.89files/s]\n",
      "100%|██████████| 1/1 [00:00<00:00, 397.79files/s]\n",
      "100%|██████████| 1/1 [00:00<00:00, 412.54files/s]\n",
      "100%|██████████| 5/5 [00:00<00:00,  7.18files/s]\n",
      "100%|██████████| 1/1 [00:00<00:00, 243.90files/s]\n",
      "100%|██████████| 1/1 [00:00<00:00, 130.31files/s]\n",
      "100%|██████████| 2/2 [00:00<00:00, 699.05files/s]\n",
      "100%|██████████| 1/1 [00:00<00:00, 70.47files/s]\n",
      "100%|██████████| 1/1 [00:00<00:00, 147.18files/s]\n",
      "100%|██████████| 1/1 [00:00<00:00,  4.98files/s]\n"
     ]
    }
   ],
   "source": [
    "results = []\n",
    "# The following code assumes this is in memory:\n",
    "# cicero_lemmas, cicero_inflected_words = get_word_counts(cicero_files)    \n",
    "\n",
    "for author in author_index:\n",
    "    files = get_phi5_author_files(author, author_index)\n",
    "    # Get a counter of all the author's distinct words & counter of words collapsed by lemmas\n",
    "    author_inflected_words, author_lemmas  = get_word_counts(files)        \n",
    "    # Calculate the overlap & find the differences; lemmas:\n",
    "    author_words = set(author_lemmas.keys())\n",
    "    cicero_words = set(cicero_lemmas.keys())\n",
    "    common = author_words & cicero_words\n",
    "    author_uniq = author_words - common \n",
    "    P_lemma_unigram_unk = len(author_uniq) / sum(author_lemmas.values())\n",
    "    # now inflected forms: \n",
    "    author_words = set(author_inflected_words.keys())\n",
    "    cicero_words = set(cicero_inflected_words.keys())\n",
    "    common = author_words & cicero_words\n",
    "    author_uniq = author_words - common \n",
    "    P_inflected_unigram_unk = len(author_uniq) / sum(author_inflected_words.values())\n",
    "    results.append((author, round(P_inflected_unigram_unk, 3), round(P_lemma_unigram_unk, 3)))"
   ]
  },
  {
   "cell_type": "code",
   "execution_count": 18,
   "metadata": {},
   "outputs": [],
   "source": [
    "results_map = {key: (val, val2) for key,val,val2 in results}"
   ]
  },
  {
   "cell_type": "code",
   "execution_count": 24,
   "metadata": {},
   "outputs": [],
   "source": [
    "results = sorted(results, key=lambda x:x[2])"
   ]
  },
  {
   "cell_type": "code",
   "execution_count": 25,
   "metadata": {},
   "outputs": [
    {
     "name": "stdout",
     "output_type": "stream",
     "text": [
      "('Publius Cominius', 0.0, 0.0)\n",
      "('Publius Cornelius Dolabella', 0.0, 0.0)\n",
      "('Gaius Calpurnius Piso', 0.0, 0.0)\n",
      "('Publius Saturius', 0.0, 0.0)\n",
      "('Lucius Cassius Longinus', 0.0, 0.0)\n",
      "('Gaius Memmius', 0.0, 0.0)\n",
      "('Passienus Crispus', 0.0, 0.0)\n",
      "('Marcus Antonius', 0.0, 0.0)\n",
      "('Caecilius Metellus', 0.0, 0.0)\n",
      "('Gaius Aurelius Cotta', 0.0, 0.0)\n",
      "('Gaius Scribonius Curio avus', 0.0, 0.0)\n",
      "('Vibius Crispus', 0.0, 0.0)\n",
      "('Gallus Antipater', 0.0, 0.0)\n",
      "('Lucius Herennius Balbus', 0.0, 0.0)\n",
      "('Marcus Antonius triumvir', 0.0, 0.0)\n",
      "('Sevius Nicanor', 0.0, 0.0)\n",
      "('Gaius Papirius Carbo Arvina', 0.0, 0.0)\n",
      "('Gaius vel Lucius Caepasius', 0.0, 0.0)\n",
      "('Titus Labienus', 0.0, 0.0)\n",
      "('Lucius Quinctius', 0.0, 0.0)\n",
      "('Q. Lutatius Catulus iunior', 0.0, 0.0)\n",
      "('Gaius Servilius Glaucia', 0.0, 0.0)\n",
      "('Gaius Aquilius Gallus', 0.0, 0.0)\n",
      "('Lucius Marcius Philippus', 0.0, 0.0)\n",
      "('Iulius Africanus', 0.0, 0.0)\n",
      "('Marcus Porcius Cato Uticensis', 0.0, 0.0)\n",
      "('Publius Clodius Pulcher', 0.0, 0.0)\n",
      "('Vagellius', 0.0, 0.0)\n",
      "('Publius Mucius Scaevola', 0.0, 0.0)\n",
      "('Marullus', 0.0, 0.0)\n",
      "('Gaius Papirius Carbo', 0.0, 0.0)\n",
      "('Gaius Erucius', 0.0, 0.0)\n",
      "('Lucius Cincius Alimentus', 0.0, 0.0)\n",
      "('Marcus Iuventius Laterensis', 0.0, 0.012)\n",
      "('Laelius Felix', 0.0, 0.016)\n",
      "('Lucius Cornelius Sulla', 0.017, 0.017)\n",
      "('P. Cornel. Scipio Nasica Ser.', 0.0, 0.018)\n",
      "('Lucius Licinius Crassus', 0.005, 0.02)\n",
      "('Iustinianus, Justinian, Digest', 0.007, 0.02)\n",
      "('Cn. Cornel. Lentulus Marcell.', 0.0, 0.021)\n",
      "('Trabea', 0.0, 0.022)\n",
      "('P. Cornel. Scipio Afr. ma.', 0.023, 0.023)\n",
      "('Q. Caecilius Metellus Maced.', 0.0, 0.024)\n",
      "('Gaius Asinius Gallus', 0.029, 0.029)\n",
      "('Aufidius Bassus', 0.0, 0.03)\n",
      "('Quintus Asconius Pedianus', 0.01, 0.03)\n",
      "('Publilius Syrus', 0.007, 0.032)\n",
      "('Quintus Tullius Cicero', 0.008, 0.034)\n",
      "('Lucilius iunior', 0.034, 0.034)\n",
      "('Gaius, iur., Gaius', 0.011, 0.035)\n",
      "('Aurelius Augustinus', 0.0, 0.037)\n",
      "('Titus Livius, Livy', 0.011, 0.039)\n",
      "('Marcus Iunius Brutus [iur.]', 0.0, 0.04)\n",
      "('Marcus Iunius Brutus [tyr.]', 0.04, 0.04)\n",
      "('Q. Caecilius Metellus Numid.', 0.021, 0.041)\n",
      "('Marcus Fabius Quintilianus', 0.009, 0.042)\n",
      "('Sentius Augurinus', 0.043, 0.043)\n",
      "('Quintus Lutatius Catulus', 0.03, 0.045)\n",
      "('Gaius Iulius Caesar, Caesar', 0.016, 0.046)\n",
      "('Cornelius Nepos', 0.018, 0.047)\n",
      "('Gaius Trebatius Testa', 0.008, 0.048)\n",
      "('M. Valerius Messalla Rufus', 0.027, 0.048)\n",
      "('Atilius', 0.048, 0.048)\n",
      "('Gaius Laelius Sapiens', 0.048, 0.048)\n",
      "('Lucius Annaeus Seneca senior', 0.016, 0.052)\n",
      "('Lucius Annaeus Seneca iunior', 0.013, 0.054)\n",
      "('Hyginus Astronomus', 0.024, 0.054)\n",
      "('Precatio Omnium Herbarum', 0.009, 0.055)\n",
      "('Publius Rutilius Lupus', 0.02, 0.055)\n",
      "('Q. Mucius Scaevola [pontifex]', 0.031, 0.055)\n",
      "('Aulus Cornelius Celsus', 0.017, 0.056)\n",
      "('Bellum Alexandrinum [Anonymous]', 0.018, 0.057)\n",
      "('Bellum Africum [Anonymous]', 0.019, 0.057)\n",
      "('Volcacius Sedigitus', 0.025, 0.057)\n",
      "('Calpurnius Flaccus', 0.01, 0.058)\n",
      "('Gaius Sempronius Gracchus', 0.025, 0.058)\n",
      "('Aulus Hirtius', 0.019, 0.059)\n",
      "('Gaius Sallustius Crispus', 0.021, 0.059)\n",
      "('Maurus Servius Honoratus, Servius', 0.025, 0.059)\n",
      "('Publius Terentius Afer, Terence', 0.029, 0.059)\n",
      "('Cornelia, mater Gracchorum', 0.012, 0.06)\n",
      "('Bellum Hispaniense [Anonymous]', 0.021, 0.061)\n",
      "('Bruttedius Niger', 0.016, 0.062)\n",
      "('Titus Maccius Plautus', 0.027, 0.062)\n",
      "('Sempronius Asellio', 0.03, 0.064)\n",
      "('Carmen Devotionis', 0.018, 0.065)\n",
      "('Publius Ovidius Naso', 0.024, 0.065)\n",
      "('C. Plinius Caecilius Secundus, Pliny', 0.017, 0.066)\n",
      "('Aulus Cascellius', 0.0, 0.067)\n",
      "('Marcus Porcius Cato M.f.M.n.', 0.033, 0.067)\n",
      "('Titus Lucretius Carus', 0.022, 0.068)\n",
      "('Sabidius', 0.023, 0.068)\n",
      "('Lucius Calpurnius Piso Frugi', 0.037, 0.07)\n",
      "('Titus Annius Luscus', 0.0, 0.071)\n",
      "('Pupius (?)', 0.0, 0.071)\n",
      "('Scriptores Historiae Augustae', 0.032, 0.071)\n",
      "('Publius Cannutius', 0.071, 0.071)\n",
      "('Turranius Niger', 0.071, 0.071)\n",
      "('Valerius Maximus', 0.02, 0.073)\n",
      "('Lucius Annaeus Cornutus', 0.028, 0.073)\n",
      "('Velleius Paterculus', 0.026, 0.074)\n",
      "('Quintus Curtius Rufus', 0.021, 0.075)\n",
      "('Helvius Mancia', 0.033, 0.075)\n",
      "('Siculus Flaccus', 0.02, 0.076)\n",
      "('Cornelius Tacitus', 0.025, 0.076)\n",
      "('Arbonius Silo', 0.0, 0.077)\n",
      "('Gnaeus Tremelius Scrofa', 0.0, 0.077)\n",
      "('Aulus Gellius', 0.038, 0.077)\n",
      "('Aemilius Sura', 0.058, 0.077)\n",
      "('Publius Alfenus Varus', 0.039, 0.078)\n",
      "('Gaius Caesius Bassus', 0.04, 0.08)\n",
      "('Quintus Remmius Palaemon', 0.033, 0.081)\n",
      "('Lucius Iulius Caesar', 0.0, 0.083)\n",
      "('Marcus Manilius, Manilius', 0.02, 0.083)\n",
      "('Aulus Cremutius Cordus', 0.025, 0.083)\n",
      "('Gaius Aelius Gallus', 0.029, 0.083)\n",
      "('Hyginus Gromaticus', 0.029, 0.083)\n",
      "('Marcus Cornelius Fronto', 0.036, 0.084)\n",
      "('Marcus Valerius Probus', 0.038, 0.084)\n",
      "('Pseudo-Varro', 0.03, 0.085)\n",
      "('Terentianus Maurus', 0.036, 0.085)\n",
      "('Valerius Aedituus', 0.042, 0.085)\n",
      "('Velius Longus', 0.042, 0.086)\n",
      "('Cn. Arulenus Caelius Sabinus', 0.048, 0.086)\n",
      "('P. Cornel. Scipio Aem. Afr.', 0.041, 0.087)\n",
      "('Tabulae Censoriae', 0.052, 0.087)\n",
      "('Aulus Caecina', 0.087, 0.087)\n",
      "('Appius Claudius Caecus', 0.087, 0.087)\n",
      "('Marcus Tullius Tiro', 0.046, 0.088)\n",
      "('Anonymi Grammatici', 0.036, 0.089)\n",
      "('Gaius Asinius Pollio', 0.036, 0.09)\n",
      "('Lucius Volusius Maecianus', 0.037, 0.09)\n",
      "('Gaius Plinius Secundus, Pliny', 0.044, 0.09)\n",
      "('Publilius Optatianus Porfyrius', 0.0, 0.091)\n",
      "('Carmen Evocationis', 0.01, 0.091)\n",
      "('Lucius Novius', 0.03, 0.091)\n",
      "('Annius Florus', 0.038, 0.091)\n",
      "('Aufustius', 0.045, 0.091)\n",
      "('Commentarius Anquisit. Sergii', 0.05, 0.091)\n",
      "('Turnus', 0.091, 0.091)\n",
      "('Aulus Postumius Albinus', 0.091, 0.091)\n",
      "('Precatio Terrae', 0.014, 0.092)\n",
      "('Vitruvius', 0.037, 0.092)\n",
      "('Quintus Terentius Scaurus', 0.047, 0.092)\n",
      "('Zeno of Verona', 0.026, 0.093)\n",
      "('Sextus Iulius Frontinus', 0.03, 0.093)\n",
      "('Publius Vergilius Maro, Virgil, Vergil', 0.033, 0.093)\n",
      "('Pomponius Porphyrio', 0.04, 0.093)\n",
      "('Valerius Antias', 0.058, 0.093)\n",
      "('Servius Sulpicius Rufus', 0.024, 0.094)\n",
      "('Marcus Terentius Varro, Varro', 0.046, 0.094)\n",
      "('Gaius Suetonius Tranquillus', 0.034, 0.096)\n",
      "('Anonymi de Differentiis [Fronto]', 0.031, 0.097)\n",
      "('Marcus Annaeus Lucanus', 0.032, 0.098)\n",
      "('Scribonius Largus', 0.049, 0.098)\n",
      "('Phaedrus', 0.026, 0.099)\n",
      "('Ticidas', 0.0, 0.1)\n",
      "('Publius Rutilius Rufus', 0.0, 0.1)\n",
      "('Caelius Apicius', 0.044, 0.1)\n",
      "('Gaius Fannius', 0.064, 0.1)\n",
      "('Luscius Lanuvinus', 0.1, 0.1)\n",
      "('Anonymi Fragmenta de Iure Fisci', 0.049, 0.101)\n",
      "('L. Iunius Moderatus Columella', 0.029, 0.102)\n",
      "('Publius Papinius Statius', 0.037, 0.102)\n",
      "('Quintus Claudius Quadrigarius', 0.056, 0.102)\n",
      "('Aquilius, comoed.', 0.044, 0.103)\n",
      "('Pompeius Trogus', 0.075, 0.103)\n",
      "('Silius Italicus', 0.035, 0.104)\n",
      "('Gaius Ateius Capito', 0.037, 0.104)\n",
      "('Anonymi Comici et Tragici', 0.06, 0.104)\n",
      "('Antonius Panurgus', 0.053, 0.105)\n",
      "('Porcius Licinus', 0.028, 0.106)\n",
      "('Gaius Valerius Flaccus', 0.042, 0.106)\n",
      "('Balbus, grom.', 0.036, 0.107)\n",
      "('Fenestella', 0.038, 0.107)\n",
      "('Marcus Valerius Martialis', 0.048, 0.107)\n",
      "('Granius Licinianus', 0.074, 0.107)\n",
      "('Altercatio Hadr. et Epicteti', 0.06, 0.108)\n",
      "('M. Valerius Messalla Corvinus', 0.077, 0.108)\n",
      "('Hyginus, myth.', 0.074, 0.109)\n",
      "('Publius Nigidius Figulus', 0.054, 0.11)\n",
      "('Granius Flaccus', 0.077, 0.11)\n",
      "('M. Aemilius Lepidus Porcina', 0.0, 0.111)\n",
      "('Tullius Laurea', 0.016, 0.111)\n",
      "('Sextus Pomponius', 0.111, 0.111)\n",
      "('Albius Tibullus', 0.033, 0.112)\n",
      "('Sextus Propertius', 0.045, 0.114)\n",
      "('Favorinus', 0.039, 0.117)\n",
      "('Petronius', 0.043, 0.118)\n",
      "('Lucius Cincius', 0.058, 0.118)\n",
      "('Commentarii Consulares', 0.051, 0.119)\n",
      "('Gaius Licinius Macer Calvus', 0.057, 0.119)\n",
      "('Marcus Aemilius Scaurus', 0.075, 0.119)\n",
      "('Quintus Ennius', 0.057, 0.12)\n",
      "('Aemilius Asper', 0.078, 0.12)\n",
      "('Apuleius Madaurensis', 0.04, 0.121)\n",
      "('Lucius Coelius Antipater', 0.075, 0.121)\n",
      "('Lucius Ampelius', 0.084, 0.121)\n",
      "('Gaius Cornelius Gallus, Gallus', 0.089, 0.122)\n",
      "('Quintus Horatius Flaccus, Horace', 0.045, 0.123)\n",
      "('Homerus Latinus', 0.054, 0.124)\n",
      "('L. Aurel. Avianius Symmachus', 0.07, 0.126)\n",
      "('Gaius Iulius Hyginus', 0.085, 0.126)\n",
      "('Claudius Caesar Germanicus', 0.04, 0.129)\n",
      "('L. Aemilius L.f.M.n. Paulus', 0.037, 0.13)\n",
      "('Marcus Porcius Cato, Cato', 0.061, 0.131)\n",
      "('Gavius Bassus', 0.08, 0.131)\n",
      "('Gaius Titius', 0.017, 0.132)\n",
      "('Decimus Iunius Iuvenalis, Juvenal', 0.052, 0.133)\n",
      "('Sulpicia, Caleni uxor', 0.052, 0.133)\n",
      "('Sextus Pompeius Festus', 0.079, 0.133)\n",
      "('Gaius Valerius Catullus', 0.056, 0.134)\n",
      "('Parthenius Presbyter', 0.072, 0.134)\n",
      "('Lucius Arruntius', 0.027, 0.135)\n",
      "('Marcus Furius Bibaculus', 0.073, 0.136)\n",
      "('Didascaliae et Per. in Terentium', 0.078, 0.136)\n",
      "('Albinovanus Pedo', 0.034, 0.137)\n",
      "('Marcus Iunius Gracchanus', 0.092, 0.137)\n",
      "('Albinus, poet.', 0.069, 0.138)\n",
      "('Sextus Turpilius', 0.064, 0.139)\n",
      "('Fragmenta Bobiensia', 0.074, 0.139)\n",
      "('Appendix Vergiliana', 0.05, 0.142)\n",
      "('Caecilius Statius', 0.083, 0.142)\n",
      "('Marcus Duronius', 0.024, 0.143)\n",
      "('Lucius Verginius Rufus', 0.071, 0.143)\n",
      "('Mummius', 0.071, 0.143)\n",
      "('Lucius Neratius Priscus', 0.095, 0.143)\n",
      "('Mimi Poetarum Incertorum', 0.112, 0.143)\n",
      "('Marcus Calidius', 0.143, 0.143)\n",
      "('Lucius Varius Rufus', 0.061, 0.144)\n",
      "('Argum. Aen. et Tetrast.', 0.071, 0.144)\n",
      "('Gaius Lucilius', 0.08, 0.144)\n",
      "('Gaius Licinius Macer', 0.081, 0.145)\n",
      "('Iulius Atherianus', 0.081, 0.145)\n",
      "('Lucius Afranius', 0.069, 0.147)\n",
      "('Pomponius Mela', 0.094, 0.147)\n",
      "('Hostius', 0.074, 0.148)\n",
      "('Didascaliae et Argum. in Plautum', 0.077, 0.148)\n",
      "('Marianus', 0.05, 0.15)\n",
      "('Lucius Cornelius Sisenna', 0.075, 0.15)\n",
      "('Marcus Antistius Labeo', 0.103, 0.15)\n",
      "('Laus Pisonis', 0.047, 0.152)\n",
      "('Hilarius Arelatensis', 0.077, 0.154)\n",
      "('Vita Iuvenalis', 0.083, 0.154)\n",
      "('Gaius Cassius Hemina', 0.084, 0.155)\n",
      "('Paulus Quaestor', 0.105, 0.158)\n",
      "('Gaius Memmius L. f.', 0.045, 0.159)\n",
      "('Philumenus medicus', 0.085, 0.159)\n",
      "('Domitius Marsus', 0.128, 0.16)\n",
      "('Sextus (vel Spurius) Ennius', 0.113, 0.161)\n",
      "('Priapea', 0.076, 0.162)\n",
      "('Quintus Aelius Tubero', 0.037, 0.163)\n",
      "('Bucolica Einsidlensia', 0.067, 0.166)\n",
      "('Lucius Accius', 0.085, 0.166)\n",
      "('Publius Aufidius Namusa', 0.0, 0.167)\n",
      "('Manius Manilius', 0.076, 0.167)\n",
      "('Ninnius Crassus', 0.083, 0.167)\n",
      "('Quintus Servilius Caepio', 0.111, 0.167)\n",
      "('Quintus Valerius Soranus', 0.172, 0.172)\n",
      "('Titus Calpurnius Siculus', 0.065, 0.174)\n",
      "('Grattius', 0.071, 0.175)\n",
      "('Marcus Verrius Flaccus', 0.128, 0.179)\n",
      "('Marcus Pacuvius', 0.095, 0.181)\n",
      "('Q. Pompeius Q.f.Q.n. Rufus', 0.0, 0.182)\n",
      "('Marcus Caelius Rufus', 0.067, 0.187)\n",
      "('Decimus Iunius Silanus', 0.083, 0.19)\n",
      "('Anonymi Epici et Lyrici', 0.097, 0.192)\n",
      "('Publius Pomponius Secundus', 0.135, 0.192)\n",
      "('Papinius, epigram.', 0.192, 0.192)\n",
      "('Aulus Persius Flaccus', 0.082, 0.194)\n",
      "('Chalcidius', 0.063, 0.198)\n",
      "('Titinius', 0.1, 0.198)\n",
      "('Flavius Caper', 0.115, 0.198)\n",
      "('Saserna', 0.086, 0.2)\n",
      "('Ablabius', 0.1, 0.2)\n",
      "('Gaius Scribonius Curio pater', 0.1, 0.2)\n",
      "('Gaius Oppius', 0.163, 0.2)\n",
      "('C. Iul. Caes. Augustus Octavianus', 0.168, 0.205)\n",
      "('Caesellius Vindex', 0.169, 0.205)\n",
      "('Quintus Serenus (Sammonicus)', 0.075, 0.206)\n",
      "('Gnaeus Naevius', 0.117, 0.206)\n",
      "('Iulius Valerius', 0.111, 0.207)\n",
      "('Sacra Argeorum', 0.174, 0.209)\n",
      "('Caelius Aurelianus', 0.105, 0.211)\n",
      "('Hadrianus', 0.087, 0.212)\n",
      "('Alfius Avitus', 0.095, 0.214)\n",
      "('Q. Fabius Maximus Servilianus', 0.143, 0.214)\n",
      "('Licinius Imbrex', 0.214, 0.214)\n",
      "('Cornelius Severus', 0.102, 0.215)\n",
      "('Numitorius', 0.174, 0.217)\n",
      "('Veranius', 0.119, 0.218)\n",
      "('Sinnius Capito', 0.136, 0.22)\n",
      "('Lucius Pomponius Bononiensis', 0.129, 0.221)\n",
      "('Pompilius', 0.056, 0.222)\n",
      "('Annianus', 0.133, 0.222)\n",
      "('P. Terentius Varro Atacinus', 0.117, 0.224)\n",
      "('Tarquitius Priscus', 0.134, 0.224)\n",
      "('Decimus Laberius', 0.155, 0.225)\n",
      "('Commentarii Augurum', 0.205, 0.227)\n",
      "('Iulius Modestus', 0.138, 0.231)\n",
      "('Novius, comoed.', 0.142, 0.232)\n",
      "('Gnaeus Gellius', 0.181, 0.236)\n",
      "('Q. Aurelius Memmius Symmachus', 0.127, 0.24)\n",
      "('Santra', 0.13, 0.241)\n",
      "('Q. Pompeius Q.f.A.n. Rufus', 0.0, 0.25)\n",
      "('Marcus Aurelius', 0.0, 0.25)\n",
      "('Titus Quinctius Atta', 0.098, 0.25)\n",
      "('Valerius, comoed.', 0.125, 0.25)\n",
      "('Lucius Livius Andronicus', 0.146, 0.25)\n",
      "('Carmen Arvale', 0.185, 0.25)\n",
      "('Gaius Valgius Rufus', 0.143, 0.255)\n",
      "('Iuventius, comoed.', 0.163, 0.256)\n",
      "('Gaius Iulius Caesar Strabo', 0.16, 0.26)\n",
      "('Quintus Hortensius Hortalus', 0.158, 0.263)\n",
      "('Aemilius Macer', 0.117, 0.266)\n",
      "('Carmen de Bello Aegyptiaco', 0.248, 0.274)\n",
      "('Fabius Pictor', 0.195, 0.276)\n",
      "('Gracchus, trag.', 0.0, 0.278)\n",
      "('Aulus Furius Antias', 0.194, 0.278)\n",
      "('Dorcatius', 0.071, 0.286)\n",
      "('Manilius, poet.', 0.095, 0.286)\n",
      "('Cornificius Gallus', 0.143, 0.286)\n",
      "('Gnaeus Matius', 0.148, 0.287)\n",
      "('Egnatius', 0.235, 0.294)\n",
      "('Septimius Serenus', 0.189, 0.3)\n",
      "('Lucius Orbilius Pupillus', 0.2, 0.3)\n",
      "('Gaius Helvius Cinna', 0.195, 0.301)\n",
      "('Sueius', 0.204, 0.32)\n",
      "('Gaius Cilnius Maecenas', 0.187, 0.327)\n",
      "('Cornelius Epicadus', 0.0, 0.333)\n",
      "('Cn. Cornel. Lentulus Gaetulicus', 0.167, 0.333)\n",
      "('Rabirius', 0.233, 0.333)\n",
      "('Gnaeus Marcius vates', 0.25, 0.333)\n",
      "('Clodius Tuscus', 0.333, 0.333)\n",
      "('Laevius', 0.236, 0.348)\n",
      "('Quintus Cornificius', 0.143, 0.357)\n",
      "('Servius Clodius', 0.156, 0.375)\n",
      "('Aprissius (?)', 0.25, 0.375)\n",
      "('Iulius Montanus', 0.108, 0.378)\n",
      "('Cornificius Longus', 0.323, 0.387)\n",
      "('Gaius Clodius Licinus', 0.056, 0.389)\n",
      "('L. Aelius Praeconinus Stilo', 0.312, 0.396)\n",
      "('Aurelius Opillus', 0.349, 0.397)\n",
      "('Gnaeus Domitius Ahenobarbus', 0.0, 0.4)\n",
      "('Naevius, iunior', 0.1, 0.4)\n",
      "('Quintus Mucius Scaevola', 0.4, 0.4)\n",
      "('Imp. Marcus Ulpius Traianus, Trajan', 0.4, 0.4)\n",
      "('Gannius', 0.158, 0.421)\n",
      "('Sextilius Ena', 0.143, 0.429)\n",
      "('Imperator Nero', 0.294, 0.441)\n",
      "('Staberius Eros', 0.222, 0.444)\n",
      "('Gaius Licinius Mucianus', 0.333, 0.481)\n",
      "('Fabius Dossennus', 0.25, 0.5)\n",
      "('Attius Labeo', 0.333, 0.5)\n",
      "('Lentulus, mimus', 0.357, 0.5)\n",
      "('Titius, gram.', 0.5, 0.5)\n",
      "('Volumnius', 0.5, 0.5)\n",
      "('Sextus Paconianus', 0.4, 0.55)\n",
      "('Cloatius Verus', 0.525, 0.57)\n",
      "('Lucius Ateius Praetextatus', 0.429, 0.571)\n",
      "('Scaevus Memor', 0.167, 0.667)\n"
     ]
    }
   ],
   "source": [
    "for tmp in results:\n",
    "    print(tmp)"
   ]
  },
  {
   "cell_type": "code",
   "execution_count": 29,
   "metadata": {
    "scrolled": false
   },
   "outputs": [
    {
     "name": "stdout",
     "output_type": "stream",
     "text": [
      "('Quintus Asconius Pedianus', (0.01, 0.03))\n",
      "('Gaius, iur., Gaius', (0.011, 0.035))\n",
      "('Titus Livius, Livy', (0.011, 0.039))\n",
      "('Marcus Fabius Quintilianus', (0.009, 0.042))\n",
      "('Gaius Iulius Caesar, Caesar', (0.016, 0.046))\n",
      "('Lucius Annaeus Seneca senior', (0.016, 0.052))\n",
      "('Lucius Annaeus Seneca iunior', (0.013, 0.054))\n",
      "('Aulus Cornelius Celsus', (0.017, 0.056))\n",
      "('Publius Terentius Afer, Terence', (0.029, 0.059))\n",
      "('Gaius Sallustius Crispus', (0.021, 0.059))\n",
      "('Maurus Servius Honoratus, Servius', (0.025, 0.059))\n",
      "('Titus Maccius Plautus', (0.027, 0.062))\n",
      "('Publius Ovidius Naso', (0.024, 0.065))\n",
      "('C. Plinius Caecilius Secundus, Pliny', (0.017, 0.066))\n",
      "('Titus Lucretius Carus', (0.022, 0.068))\n",
      "('Scriptores Historiae Augustae', (0.032, 0.071))\n",
      "('Cornelius Tacitus', (0.025, 0.076))\n",
      "('Gaius Caesius Bassus', (0.04, 0.08))\n",
      "('Hyginus Gromaticus', (0.029, 0.083))\n",
      "('Marcus Valerius Probus', (0.038, 0.084))\n",
      "('Marcus Cornelius Fronto', (0.036, 0.084))\n",
      "('Gaius Asinius Pollio', (0.036, 0.09))\n",
      "('Annius Florus', (0.038, 0.091))\n",
      "('Quintus Terentius Scaurus', (0.047, 0.092))\n",
      "('Publius Vergilius Maro, Virgil, Vergil', (0.033, 0.093))\n",
      "('Pomponius Porphyrio', (0.04, 0.093))\n",
      "('Sextus Iulius Frontinus', (0.03, 0.093))\n",
      "('Marcus Terentius Varro, Varro', (0.046, 0.094))\n",
      "('Gaius Suetonius Tranquillus', (0.034, 0.096))\n",
      "('Caelius Apicius', (0.044, 0.1))\n",
      "('Publius Papinius Statius', (0.037, 0.102))\n",
      "('Anonymi Comici et Tragici', (0.06, 0.104))\n",
      "('Quintus Ennius', (0.057, 0.12))\n",
      "('Apuleius Madaurensis', (0.04, 0.121))\n",
      "('Quintus Horatius Flaccus, Horace', (0.045, 0.123))\n",
      "('Claudius Caesar Germanicus', (0.04, 0.129))\n",
      "('Marcus Porcius Cato, Cato', (0.061, 0.131))\n",
      "('Didascaliae et Per. in Terentium', (0.078, 0.136))\n",
      "('Fragmenta Bobiensia', (0.074, 0.139))\n",
      "('Appendix Vergiliana', (0.05, 0.142))\n",
      "('Argum. Aen. et Tetrast.', (0.071, 0.144))\n",
      "('Didascaliae et Argum. in Plautum', (0.077, 0.148))\n",
      "('Lucius Accius', (0.085, 0.166))\n",
      "('Anonymi Epici et Lyrici', (0.097, 0.192))\n",
      "('C. Iul. Caes. Augustus Octavianus', (0.168, 0.205))\n",
      "('Gnaeus Naevius', (0.117, 0.206))\n",
      "('Lucius Livius Andronicus', (0.146, 0.25))\n"
     ]
    }
   ],
   "source": [
    "author_results = []\n",
    "for author in author_index:\n",
    "    files = get_phi5_author_files(author, author_index)\n",
    "    if len(files) >= 3:\n",
    "#     print(author, results_map[author])\n",
    "        author_results.append((author, results_map[author]) )\n",
    "\n",
    "author_results.sort(key=lambda x: x[1][1])    \n",
    "for tmp in author_results:\n",
    "    print(tmp)\n",
    "    \n",
    "# the values analogous to Cicero are: (0.02892407263780054, 0.008905886443261747)    \n",
    "# ~ 0.03  and  0.01 # we can tolerate some distance above this baseline, 2x, 3x, depends\n",
    "# Results are mapped into Cicero's Vocabulary space\n",
    "# Table below:\n",
    "# Author\n",
    "# Probability of encountering a word once that we've seen in the author previously in a different lemmatized form\n",
    "# Probability of seeing a truly new word once in this authors corpus "
   ]
  },
  {
   "cell_type": "markdown",
   "metadata": {},
   "source": [
    "#### Translating the statistics:\n",
    "* Cicero: # ~ 0.03  and  0.01  \n",
    "* Gaius Iulius Caesar, Caesar (0.016170899832329378, 0.0464137117307334)\n",
    "\n",
    "#### If one were to find a new page (100 words) of Cicero, one would expect to find: \n",
    "* 3 words that Cicero had previously used, but in novel inflected forms \n",
    "    * (root words that we know have been used by Cicero, but without previous examples of that particular inflection)\n",
    "* 1 word hapax legomena to the author\n",
    "    * Not a global hapax legomena, but one that we have no record of occuring in Cicero before (in any inflected form).\n",
    "#### if one were to take a page from Caesar and claim it was a new page of Cicero, one would expect to find:\n",
    "* 2 words that Cicero had previously used but now in a novel inflected form.\n",
    "* 5 words that Cicero had never used (in any inflected form).\n"
   ]
  },
  {
   "cell_type": "code",
   "execution_count": 18,
   "metadata": {},
   "outputs": [],
   "source": [
    "# Let's look at Cicero's near contemporaries, and see if the individual works come closer to \n",
    "# matching Cicero's language in terms of Probability Distributions\n",
    "candidates = ['Gaius Iulius Caesar, Caesar', \n",
    "'C. Iul. Caes. Augustus Octavianus',  \n",
    "'Publius Vergilius Maro, Virgil, Vergil',  \n",
    "'Gaius Suetonius Tranquillus', \n",
    "'Marcus Terentius Varro, Varro', \n",
    "'Cornelius Tacitus', \n",
    "'Titus Livius, Livy', \n",
    "'Lucius Annaeus Seneca senior', \n",
    "'Quintus Horatius Flaccus, Horace',  \n",
    "'Gaius Sallustius Crispus', \n",
    "'Titus Lucretius Carus', \n",
    "'Lucius Annaeus Seneca iunior']"
   ]
  },
  {
   "cell_type": "code",
   "execution_count": 25,
   "metadata": {
    "scrolled": true
   },
   "outputs": [
    {
     "data": {
      "application/vnd.jupyter.widget-view+json": {
       "model_id": "8b199b6d4b48446d9ee822e710d977e4",
       "version_major": 2,
       "version_minor": 0
      },
      "text/plain": [
       "  0%|          | 0/1 [00:00<?, ?files/s]"
      ]
     },
     "metadata": {},
     "output_type": "display_data"
    },
    {
     "data": {
      "application/vnd.jupyter.widget-view+json": {
       "model_id": "b0a6559b36ec4ba8841782a335da8cc8",
       "version_major": 2,
       "version_minor": 0
      },
      "text/plain": [
       "  0%|          | 0/1 [00:00<?, ?files/s]"
      ]
     },
     "metadata": {},
     "output_type": "display_data"
    },
    {
     "data": {
      "application/vnd.jupyter.widget-view+json": {
       "model_id": "bfb5619117754bb89ac782ed29c8959f",
       "version_major": 2,
       "version_minor": 0
      },
      "text/plain": [
       "  0%|          | 0/1 [00:00<?, ?files/s]"
      ]
     },
     "metadata": {},
     "output_type": "display_data"
    },
    {
     "data": {
      "application/vnd.jupyter.widget-view+json": {
       "model_id": "658447d3d957464784879aba79545597",
       "version_major": 2,
       "version_minor": 0
      },
      "text/plain": [
       "  0%|          | 0/1 [00:00<?, ?files/s]"
      ]
     },
     "metadata": {},
     "output_type": "display_data"
    },
    {
     "data": {
      "application/vnd.jupyter.widget-view+json": {
       "model_id": "78db55df7e154f0fbfadf8271a212d99",
       "version_major": 2,
       "version_minor": 0
      },
      "text/plain": [
       "  0%|          | 0/1 [00:00<?, ?files/s]"
      ]
     },
     "metadata": {},
     "output_type": "display_data"
    },
    {
     "data": {
      "application/vnd.jupyter.widget-view+json": {
       "model_id": "2e1b6cac1a0e4850887cba67ac689b2a",
       "version_major": 2,
       "version_minor": 0
      },
      "text/plain": [
       "  0%|          | 0/1 [00:00<?, ?files/s]"
      ]
     },
     "metadata": {},
     "output_type": "display_data"
    },
    {
     "data": {
      "application/vnd.jupyter.widget-view+json": {
       "model_id": "5c4d1c189b6046acbd360bd16e97486b",
       "version_major": 2,
       "version_minor": 0
      },
      "text/plain": [
       "  0%|          | 0/1 [00:00<?, ?files/s]"
      ]
     },
     "metadata": {},
     "output_type": "display_data"
    },
    {
     "data": {
      "application/vnd.jupyter.widget-view+json": {
       "model_id": "43fa49da28d8445c9c2f3e3206e45c3a",
       "version_major": 2,
       "version_minor": 0
      },
      "text/plain": [
       "  0%|          | 0/1 [00:00<?, ?files/s]"
      ]
     },
     "metadata": {},
     "output_type": "display_data"
    },
    {
     "data": {
      "application/vnd.jupyter.widget-view+json": {
       "model_id": "92514cd7a5c340d2884f83fb95a51cd2",
       "version_major": 2,
       "version_minor": 0
      },
      "text/plain": [
       "  0%|          | 0/1 [00:00<?, ?files/s]"
      ]
     },
     "metadata": {},
     "output_type": "display_data"
    },
    {
     "data": {
      "application/vnd.jupyter.widget-view+json": {
       "model_id": "98df72e87b15408a96402a9c4e18e53e",
       "version_major": 2,
       "version_minor": 0
      },
      "text/plain": [
       "  0%|          | 0/1 [00:00<?, ?files/s]"
      ]
     },
     "metadata": {},
     "output_type": "display_data"
    },
    {
     "data": {
      "application/vnd.jupyter.widget-view+json": {
       "model_id": "213859c800c84d09b14fc2e64d9f4b57",
       "version_major": 2,
       "version_minor": 0
      },
      "text/plain": [
       "  0%|          | 0/1 [00:00<?, ?files/s]"
      ]
     },
     "metadata": {},
     "output_type": "display_data"
    },
    {
     "data": {
      "application/vnd.jupyter.widget-view+json": {
       "model_id": "4ac85f4336374136a3ecdf07e488e3f0",
       "version_major": 2,
       "version_minor": 0
      },
      "text/plain": [
       "  0%|          | 0/1 [00:00<?, ?files/s]"
      ]
     },
     "metadata": {},
     "output_type": "display_data"
    },
    {
     "data": {
      "application/vnd.jupyter.widget-view+json": {
       "model_id": "c127a8c939214df88d9cfc7acfc64987",
       "version_major": 2,
       "version_minor": 0
      },
      "text/plain": [
       "  0%|          | 0/1 [00:00<?, ?files/s]"
      ]
     },
     "metadata": {},
     "output_type": "display_data"
    },
    {
     "data": {
      "application/vnd.jupyter.widget-view+json": {
       "model_id": "c2bc56aa61bf44339b359e3b5e5241d4",
       "version_major": 2,
       "version_minor": 0
      },
      "text/plain": [
       "  0%|          | 0/1 [00:00<?, ?files/s]"
      ]
     },
     "metadata": {},
     "output_type": "display_data"
    },
    {
     "data": {
      "application/vnd.jupyter.widget-view+json": {
       "model_id": "510a3d48be324dceb9c16f3d12020532",
       "version_major": 2,
       "version_minor": 0
      },
      "text/plain": [
       "  0%|          | 0/1 [00:00<?, ?files/s]"
      ]
     },
     "metadata": {},
     "output_type": "display_data"
    },
    {
     "data": {
      "application/vnd.jupyter.widget-view+json": {
       "model_id": "c2287fa3680a46b6a83a3e42fe324b85",
       "version_major": 2,
       "version_minor": 0
      },
      "text/plain": [
       "  0%|          | 0/1 [00:00<?, ?files/s]"
      ]
     },
     "metadata": {},
     "output_type": "display_data"
    },
    {
     "data": {
      "application/vnd.jupyter.widget-view+json": {
       "model_id": "3bd899fdcc624a27a43cc11c5f441e7e",
       "version_major": 2,
       "version_minor": 0
      },
      "text/plain": [
       "  0%|          | 0/1 [00:00<?, ?files/s]"
      ]
     },
     "metadata": {},
     "output_type": "display_data"
    },
    {
     "data": {
      "application/vnd.jupyter.widget-view+json": {
       "model_id": "48148368642b4d8faa38c3f112467e28",
       "version_major": 2,
       "version_minor": 0
      },
      "text/plain": [
       "  0%|          | 0/1 [00:00<?, ?files/s]"
      ]
     },
     "metadata": {},
     "output_type": "display_data"
    },
    {
     "data": {
      "application/vnd.jupyter.widget-view+json": {
       "model_id": "1d2a02251ee94eff80e4554723fa9fed",
       "version_major": 2,
       "version_minor": 0
      },
      "text/plain": [
       "  0%|          | 0/1 [00:00<?, ?files/s]"
      ]
     },
     "metadata": {},
     "output_type": "display_data"
    },
    {
     "data": {
      "application/vnd.jupyter.widget-view+json": {
       "model_id": "e2348012b47548e79668a874e0ec6dc7",
       "version_major": 2,
       "version_minor": 0
      },
      "text/plain": [
       "  0%|          | 0/1 [00:00<?, ?files/s]"
      ]
     },
     "metadata": {},
     "output_type": "display_data"
    },
    {
     "data": {
      "application/vnd.jupyter.widget-view+json": {
       "model_id": "6acbda5216ed41ac9b96b6cccef64306",
       "version_major": 2,
       "version_minor": 0
      },
      "text/plain": [
       "  0%|          | 0/1 [00:00<?, ?files/s]"
      ]
     },
     "metadata": {},
     "output_type": "display_data"
    },
    {
     "data": {
      "application/vnd.jupyter.widget-view+json": {
       "model_id": "1cdf2e60279247c097b69369aaf82813",
       "version_major": 2,
       "version_minor": 0
      },
      "text/plain": [
       "  0%|          | 0/1 [00:00<?, ?files/s]"
      ]
     },
     "metadata": {},
     "output_type": "display_data"
    },
    {
     "data": {
      "application/vnd.jupyter.widget-view+json": {
       "model_id": "36c71672bc4f4da1a51c8843c0ea8b2c",
       "version_major": 2,
       "version_minor": 0
      },
      "text/plain": [
       "  0%|          | 0/1 [00:00<?, ?files/s]"
      ]
     },
     "metadata": {},
     "output_type": "display_data"
    },
    {
     "data": {
      "application/vnd.jupyter.widget-view+json": {
       "model_id": "df367afaf51d4610b6eb010a6c30060b",
       "version_major": 2,
       "version_minor": 0
      },
      "text/plain": [
       "  0%|          | 0/1 [00:00<?, ?files/s]"
      ]
     },
     "metadata": {},
     "output_type": "display_data"
    },
    {
     "data": {
      "application/vnd.jupyter.widget-view+json": {
       "model_id": "c620c06ab4884e91be1e7b84517a30d0",
       "version_major": 2,
       "version_minor": 0
      },
      "text/plain": [
       "  0%|          | 0/1 [00:00<?, ?files/s]"
      ]
     },
     "metadata": {},
     "output_type": "display_data"
    },
    {
     "data": {
      "application/vnd.jupyter.widget-view+json": {
       "model_id": "37105615fb5a40e681c9167649f5e082",
       "version_major": 2,
       "version_minor": 0
      },
      "text/plain": [
       "  0%|          | 0/1 [00:00<?, ?files/s]"
      ]
     },
     "metadata": {},
     "output_type": "display_data"
    },
    {
     "data": {
      "application/vnd.jupyter.widget-view+json": {
       "model_id": "36cdcf9e333b46e6ba6ec1788f0a7a78",
       "version_major": 2,
       "version_minor": 0
      },
      "text/plain": [
       "  0%|          | 0/1 [00:00<?, ?files/s]"
      ]
     },
     "metadata": {},
     "output_type": "display_data"
    },
    {
     "data": {
      "application/vnd.jupyter.widget-view+json": {
       "model_id": "cca5c7bd0b3442b28c757b0485506fc4",
       "version_major": 2,
       "version_minor": 0
      },
      "text/plain": [
       "  0%|          | 0/1 [00:00<?, ?files/s]"
      ]
     },
     "metadata": {},
     "output_type": "display_data"
    },
    {
     "data": {
      "application/vnd.jupyter.widget-view+json": {
       "model_id": "ed79c66ca01f4000bba317fd15ff8786",
       "version_major": 2,
       "version_minor": 0
      },
      "text/plain": [
       "  0%|          | 0/1 [00:00<?, ?files/s]"
      ]
     },
     "metadata": {},
     "output_type": "display_data"
    },
    {
     "data": {
      "application/vnd.jupyter.widget-view+json": {
       "model_id": "fa6af132a29d4fbdab205842b72a9fee",
       "version_major": 2,
       "version_minor": 0
      },
      "text/plain": [
       "  0%|          | 0/1 [00:00<?, ?files/s]"
      ]
     },
     "metadata": {},
     "output_type": "display_data"
    },
    {
     "data": {
      "application/vnd.jupyter.widget-view+json": {
       "model_id": "68f86174d301454cbfad566334b193fc",
       "version_major": 2,
       "version_minor": 0
      },
      "text/plain": [
       "  0%|          | 0/1 [00:00<?, ?files/s]"
      ]
     },
     "metadata": {},
     "output_type": "display_data"
    },
    {
     "data": {
      "application/vnd.jupyter.widget-view+json": {
       "model_id": "614dac1e81d442448de0430adc1b4a91",
       "version_major": 2,
       "version_minor": 0
      },
      "text/plain": [
       "  0%|          | 0/1 [00:00<?, ?files/s]"
      ]
     },
     "metadata": {},
     "output_type": "display_data"
    },
    {
     "data": {
      "application/vnd.jupyter.widget-view+json": {
       "model_id": "08d362678d6442dc9ecb0e56fd288548",
       "version_major": 2,
       "version_minor": 0
      },
      "text/plain": [
       "  0%|          | 0/1 [00:00<?, ?files/s]"
      ]
     },
     "metadata": {},
     "output_type": "display_data"
    },
    {
     "data": {
      "application/vnd.jupyter.widget-view+json": {
       "model_id": "1645a83bed094562b6294a0e6d9e5066",
       "version_major": 2,
       "version_minor": 0
      },
      "text/plain": [
       "  0%|          | 0/1 [00:00<?, ?files/s]"
      ]
     },
     "metadata": {},
     "output_type": "display_data"
    },
    {
     "data": {
      "application/vnd.jupyter.widget-view+json": {
       "model_id": "16c739cb045f4740889cd501b87d56c7",
       "version_major": 2,
       "version_minor": 0
      },
      "text/plain": [
       "  0%|          | 0/1 [00:00<?, ?files/s]"
      ]
     },
     "metadata": {},
     "output_type": "display_data"
    },
    {
     "data": {
      "application/vnd.jupyter.widget-view+json": {
       "model_id": "0af7a9c98c1546d1bee2c818377d439f",
       "version_major": 2,
       "version_minor": 0
      },
      "text/plain": [
       "  0%|          | 0/1 [00:00<?, ?files/s]"
      ]
     },
     "metadata": {},
     "output_type": "display_data"
    },
    {
     "data": {
      "application/vnd.jupyter.widget-view+json": {
       "model_id": "591617d8659c44acb42c43d5276fd0ce",
       "version_major": 2,
       "version_minor": 0
      },
      "text/plain": [
       "  0%|          | 0/1 [00:00<?, ?files/s]"
      ]
     },
     "metadata": {},
     "output_type": "display_data"
    },
    {
     "data": {
      "application/vnd.jupyter.widget-view+json": {
       "model_id": "3291820a197248b4bb3edb53e28c42d6",
       "version_major": 2,
       "version_minor": 0
      },
      "text/plain": [
       "  0%|          | 0/1 [00:00<?, ?files/s]"
      ]
     },
     "metadata": {},
     "output_type": "display_data"
    },
    {
     "data": {
      "application/vnd.jupyter.widget-view+json": {
       "model_id": "1780324834f942818d2049b5bd5edc7c",
       "version_major": 2,
       "version_minor": 0
      },
      "text/plain": [
       "  0%|          | 0/1 [00:00<?, ?files/s]"
      ]
     },
     "metadata": {},
     "output_type": "display_data"
    },
    {
     "data": {
      "application/vnd.jupyter.widget-view+json": {
       "model_id": "fa8bb1579c4f46a1a7b1ed6a2b819c52",
       "version_major": 2,
       "version_minor": 0
      },
      "text/plain": [
       "  0%|          | 0/1 [00:00<?, ?files/s]"
      ]
     },
     "metadata": {},
     "output_type": "display_data"
    },
    {
     "data": {
      "application/vnd.jupyter.widget-view+json": {
       "model_id": "608084b59e684a31b6dca37a7b358343",
       "version_major": 2,
       "version_minor": 0
      },
      "text/plain": [
       "  0%|          | 0/1 [00:00<?, ?files/s]"
      ]
     },
     "metadata": {},
     "output_type": "display_data"
    },
    {
     "data": {
      "application/vnd.jupyter.widget-view+json": {
       "model_id": "d668d3c2ecbd45a1a8c2511df9e8036e",
       "version_major": 2,
       "version_minor": 0
      },
      "text/plain": [
       "  0%|          | 0/1 [00:00<?, ?files/s]"
      ]
     },
     "metadata": {},
     "output_type": "display_data"
    },
    {
     "data": {
      "application/vnd.jupyter.widget-view+json": {
       "model_id": "69d781e5d65840dcbfeed0f1d61f7cf5",
       "version_major": 2,
       "version_minor": 0
      },
      "text/plain": [
       "  0%|          | 0/1 [00:00<?, ?files/s]"
      ]
     },
     "metadata": {},
     "output_type": "display_data"
    },
    {
     "data": {
      "application/vnd.jupyter.widget-view+json": {
       "model_id": "1a2baf508f9941c8a32cba8ee13f2028",
       "version_major": 2,
       "version_minor": 0
      },
      "text/plain": [
       "  0%|          | 0/1 [00:00<?, ?files/s]"
      ]
     },
     "metadata": {},
     "output_type": "display_data"
    },
    {
     "data": {
      "application/vnd.jupyter.widget-view+json": {
       "model_id": "593a3be49c4e4b4ea4125a70f2843bea",
       "version_major": 2,
       "version_minor": 0
      },
      "text/plain": [
       "  0%|          | 0/1 [00:00<?, ?files/s]"
      ]
     },
     "metadata": {},
     "output_type": "display_data"
    },
    {
     "data": {
      "application/vnd.jupyter.widget-view+json": {
       "model_id": "b4916e0f28f74518b0291a1e7990b9bd",
       "version_major": 2,
       "version_minor": 0
      },
      "text/plain": [
       "  0%|          | 0/1 [00:00<?, ?files/s]"
      ]
     },
     "metadata": {},
     "output_type": "display_data"
    },
    {
     "data": {
      "application/vnd.jupyter.widget-view+json": {
       "model_id": "ade7ccc252c34cd093040278dc209046",
       "version_major": 2,
       "version_minor": 0
      },
      "text/plain": [
       "  0%|          | 0/1 [00:00<?, ?files/s]"
      ]
     },
     "metadata": {},
     "output_type": "display_data"
    },
    {
     "data": {
      "application/vnd.jupyter.widget-view+json": {
       "model_id": "e3c594b2c0fb407282f5ac08c820fdba",
       "version_major": 2,
       "version_minor": 0
      },
      "text/plain": [
       "  0%|          | 0/1 [00:00<?, ?files/s]"
      ]
     },
     "metadata": {},
     "output_type": "display_data"
    },
    {
     "data": {
      "application/vnd.jupyter.widget-view+json": {
       "model_id": "fd51970b00ef4cdea4fbb4efb917f359",
       "version_major": 2,
       "version_minor": 0
      },
      "text/plain": [
       "  0%|          | 0/1 [00:00<?, ?files/s]"
      ]
     },
     "metadata": {},
     "output_type": "display_data"
    },
    {
     "data": {
      "application/vnd.jupyter.widget-view+json": {
       "model_id": "d904405de8884c748d42e48744982c9e",
       "version_major": 2,
       "version_minor": 0
      },
      "text/plain": [
       "  0%|          | 0/1 [00:00<?, ?files/s]"
      ]
     },
     "metadata": {},
     "output_type": "display_data"
    },
    {
     "data": {
      "application/vnd.jupyter.widget-view+json": {
       "model_id": "eb420285b93d47b6b40060b1a4af1e4a",
       "version_major": 2,
       "version_minor": 0
      },
      "text/plain": [
       "  0%|          | 0/1 [00:00<?, ?files/s]"
      ]
     },
     "metadata": {},
     "output_type": "display_data"
    },
    {
     "data": {
      "application/vnd.jupyter.widget-view+json": {
       "model_id": "ec2a8998a2734387ad50ceca66eaf0ef",
       "version_major": 2,
       "version_minor": 0
      },
      "text/plain": [
       "  0%|          | 0/1 [00:00<?, ?files/s]"
      ]
     },
     "metadata": {},
     "output_type": "display_data"
    },
    {
     "data": {
      "application/vnd.jupyter.widget-view+json": {
       "model_id": "82e27a65fb98419ba8918e174415a748",
       "version_major": 2,
       "version_minor": 0
      },
      "text/plain": [
       "  0%|          | 0/1 [00:00<?, ?files/s]"
      ]
     },
     "metadata": {},
     "output_type": "display_data"
    },
    {
     "data": {
      "application/vnd.jupyter.widget-view+json": {
       "model_id": "7a54abcc12e141fcad7180b77a421c44",
       "version_major": 2,
       "version_minor": 0
      },
      "text/plain": [
       "  0%|          | 0/1 [00:00<?, ?files/s]"
      ]
     },
     "metadata": {},
     "output_type": "display_data"
    },
    {
     "data": {
      "application/vnd.jupyter.widget-view+json": {
       "model_id": "afefc0d798cb4d66a9b67b51818f5050",
       "version_major": 2,
       "version_minor": 0
      },
      "text/plain": [
       "  0%|          | 0/1 [00:00<?, ?files/s]"
      ]
     },
     "metadata": {},
     "output_type": "display_data"
    },
    {
     "data": {
      "application/vnd.jupyter.widget-view+json": {
       "model_id": "dba56326838743d6aaf403c19dfb38a0",
       "version_major": 2,
       "version_minor": 0
      },
      "text/plain": [
       "  0%|          | 0/1 [00:00<?, ?files/s]"
      ]
     },
     "metadata": {},
     "output_type": "display_data"
    },
    {
     "data": {
      "application/vnd.jupyter.widget-view+json": {
       "model_id": "7f07cf2b26f343d9999948cc5dfca177",
       "version_major": 2,
       "version_minor": 0
      },
      "text/plain": [
       "  0%|          | 0/1 [00:00<?, ?files/s]"
      ]
     },
     "metadata": {},
     "output_type": "display_data"
    },
    {
     "data": {
      "application/vnd.jupyter.widget-view+json": {
       "model_id": "a5f7efc718ce46d0a3d9626ae81aa530",
       "version_major": 2,
       "version_minor": 0
      },
      "text/plain": [
       "  0%|          | 0/1 [00:00<?, ?files/s]"
      ]
     },
     "metadata": {},
     "output_type": "display_data"
    },
    {
     "data": {
      "application/vnd.jupyter.widget-view+json": {
       "model_id": "a5a65945e15941faa53ebbdb7f629e7f",
       "version_major": 2,
       "version_minor": 0
      },
      "text/plain": [
       "  0%|          | 0/1 [00:00<?, ?files/s]"
      ]
     },
     "metadata": {},
     "output_type": "display_data"
    },
    {
     "data": {
      "application/vnd.jupyter.widget-view+json": {
       "model_id": "01a2e109d76e4f3396ff269b7e5f2008",
       "version_major": 2,
       "version_minor": 0
      },
      "text/plain": [
       "  0%|          | 0/1 [00:00<?, ?files/s]"
      ]
     },
     "metadata": {},
     "output_type": "display_data"
    },
    {
     "data": {
      "application/vnd.jupyter.widget-view+json": {
       "model_id": "ad7ec247b92446668799dec654d44c54",
       "version_major": 2,
       "version_minor": 0
      },
      "text/plain": [
       "  0%|          | 0/1 [00:00<?, ?files/s]"
      ]
     },
     "metadata": {},
     "output_type": "display_data"
    },
    {
     "data": {
      "application/vnd.jupyter.widget-view+json": {
       "model_id": "8395fb6dd4dc49859ba0d2eafb185780",
       "version_major": 2,
       "version_minor": 0
      },
      "text/plain": [
       "  0%|          | 0/1 [00:00<?, ?files/s]"
      ]
     },
     "metadata": {},
     "output_type": "display_data"
    },
    {
     "data": {
      "application/vnd.jupyter.widget-view+json": {
       "model_id": "411712263db64b77a5dd4baf7fa7619f",
       "version_major": 2,
       "version_minor": 0
      },
      "text/plain": [
       "  0%|          | 0/1 [00:00<?, ?files/s]"
      ]
     },
     "metadata": {},
     "output_type": "display_data"
    },
    {
     "data": {
      "application/vnd.jupyter.widget-view+json": {
       "model_id": "4165c7bae684447eb14843182736c98a",
       "version_major": 2,
       "version_minor": 0
      },
      "text/plain": [
       "  0%|          | 0/1 [00:00<?, ?files/s]"
      ]
     },
     "metadata": {},
     "output_type": "display_data"
    },
    {
     "data": {
      "application/vnd.jupyter.widget-view+json": {
       "model_id": "a237a7acbe1b4e8e9530f6733f89c333",
       "version_major": 2,
       "version_minor": 0
      },
      "text/plain": [
       "  0%|          | 0/1 [00:00<?, ?files/s]"
      ]
     },
     "metadata": {},
     "output_type": "display_data"
    },
    {
     "data": {
      "application/vnd.jupyter.widget-view+json": {
       "model_id": "278c2a8746b14d79ae8d71734d5c4581",
       "version_major": 2,
       "version_minor": 0
      },
      "text/plain": [
       "  0%|          | 0/1 [00:00<?, ?files/s]"
      ]
     },
     "metadata": {},
     "output_type": "display_data"
    },
    {
     "data": {
      "application/vnd.jupyter.widget-view+json": {
       "model_id": "d5bf9341f3ac429a819ea7b988f42865",
       "version_major": 2,
       "version_minor": 0
      },
      "text/plain": [
       "  0%|          | 0/1 [00:00<?, ?files/s]"
      ]
     },
     "metadata": {},
     "output_type": "display_data"
    },
    {
     "data": {
      "application/vnd.jupyter.widget-view+json": {
       "model_id": "fa931812a5f34889a8520a431e0391f4",
       "version_major": 2,
       "version_minor": 0
      },
      "text/plain": [
       "  0%|          | 0/1 [00:00<?, ?files/s]"
      ]
     },
     "metadata": {},
     "output_type": "display_data"
    },
    {
     "data": {
      "application/vnd.jupyter.widget-view+json": {
       "model_id": "b2164eaf869b49c2b3cd65d2f3773e99",
       "version_major": 2,
       "version_minor": 0
      },
      "text/plain": [
       "  0%|          | 0/1 [00:00<?, ?files/s]"
      ]
     },
     "metadata": {},
     "output_type": "display_data"
    },
    {
     "data": {
      "application/vnd.jupyter.widget-view+json": {
       "model_id": "8d7e30b298ed4a76bdb23fbe0ab741c1",
       "version_major": 2,
       "version_minor": 0
      },
      "text/plain": [
       "  0%|          | 0/1 [00:00<?, ?files/s]"
      ]
     },
     "metadata": {},
     "output_type": "display_data"
    },
    {
     "data": {
      "application/vnd.jupyter.widget-view+json": {
       "model_id": "0e60ae1cf491403db056eb2b2df8ed0d",
       "version_major": 2,
       "version_minor": 0
      },
      "text/plain": [
       "  0%|          | 0/1 [00:00<?, ?files/s]"
      ]
     },
     "metadata": {},
     "output_type": "display_data"
    },
    {
     "data": {
      "application/vnd.jupyter.widget-view+json": {
       "model_id": "3a487d46144549d185df66a344bd72e5",
       "version_major": 2,
       "version_minor": 0
      },
      "text/plain": [
       "  0%|          | 0/1 [00:00<?, ?files/s]"
      ]
     },
     "metadata": {},
     "output_type": "display_data"
    },
    {
     "data": {
      "application/vnd.jupyter.widget-view+json": {
       "model_id": "9efe0d932c7843438a6b690d76209468",
       "version_major": 2,
       "version_minor": 0
      },
      "text/plain": [
       "  0%|          | 0/1 [00:00<?, ?files/s]"
      ]
     },
     "metadata": {},
     "output_type": "display_data"
    },
    {
     "data": {
      "application/vnd.jupyter.widget-view+json": {
       "model_id": "e45357a5eea6472f8b8030d49ba6ac90",
       "version_major": 2,
       "version_minor": 0
      },
      "text/plain": [
       "  0%|          | 0/1 [00:00<?, ?files/s]"
      ]
     },
     "metadata": {},
     "output_type": "display_data"
    },
    {
     "data": {
      "application/vnd.jupyter.widget-view+json": {
       "model_id": "921663098ee24efcbc9dc425087d7f5f",
       "version_major": 2,
       "version_minor": 0
      },
      "text/plain": [
       "  0%|          | 0/1 [00:00<?, ?files/s]"
      ]
     },
     "metadata": {},
     "output_type": "display_data"
    },
    {
     "data": {
      "application/vnd.jupyter.widget-view+json": {
       "model_id": "0edc9e200cec43528056ddbbfdc71115",
       "version_major": 2,
       "version_minor": 0
      },
      "text/plain": [
       "  0%|          | 0/1 [00:00<?, ?files/s]"
      ]
     },
     "metadata": {},
     "output_type": "display_data"
    },
    {
     "data": {
      "application/vnd.jupyter.widget-view+json": {
       "model_id": "c2e9d5bfc71c41ffbd54d47386b5ae7e",
       "version_major": 2,
       "version_minor": 0
      },
      "text/plain": [
       "  0%|          | 0/1 [00:00<?, ?files/s]"
      ]
     },
     "metadata": {},
     "output_type": "display_data"
    },
    {
     "data": {
      "application/vnd.jupyter.widget-view+json": {
       "model_id": "35b6bfbf5390487083160ca35d07df6d",
       "version_major": 2,
       "version_minor": 0
      },
      "text/plain": [
       "  0%|          | 0/1 [00:00<?, ?files/s]"
      ]
     },
     "metadata": {},
     "output_type": "display_data"
    },
    {
     "data": {
      "application/vnd.jupyter.widget-view+json": {
       "model_id": "9a4735df4b5e48bf96f596dc413ff8e0",
       "version_major": 2,
       "version_minor": 0
      },
      "text/plain": [
       "  0%|          | 0/1 [00:00<?, ?files/s]"
      ]
     },
     "metadata": {},
     "output_type": "display_data"
    },
    {
     "data": {
      "application/vnd.jupyter.widget-view+json": {
       "model_id": "84496cc97f8a480b8b7e175375a7f7b5",
       "version_major": 2,
       "version_minor": 0
      },
      "text/plain": [
       "  0%|          | 0/1 [00:00<?, ?files/s]"
      ]
     },
     "metadata": {},
     "output_type": "display_data"
    },
    {
     "data": {
      "application/vnd.jupyter.widget-view+json": {
       "model_id": "e9393ea013b248808c9049ebafb1ebc2",
       "version_major": 2,
       "version_minor": 0
      },
      "text/plain": [
       "  0%|          | 0/1 [00:00<?, ?files/s]"
      ]
     },
     "metadata": {},
     "output_type": "display_data"
    },
    {
     "data": {
      "application/vnd.jupyter.widget-view+json": {
       "model_id": "205a59c9ae1741b6991963f7fdb08e9c",
       "version_major": 2,
       "version_minor": 0
      },
      "text/plain": [
       "  0%|          | 0/1 [00:00<?, ?files/s]"
      ]
     },
     "metadata": {},
     "output_type": "display_data"
    },
    {
     "data": {
      "application/vnd.jupyter.widget-view+json": {
       "model_id": "d33fbde94c8343d78b32baaac2bc5cdc",
       "version_major": 2,
       "version_minor": 0
      },
      "text/plain": [
       "  0%|          | 0/1 [00:00<?, ?files/s]"
      ]
     },
     "metadata": {},
     "output_type": "display_data"
    },
    {
     "data": {
      "application/vnd.jupyter.widget-view+json": {
       "model_id": "3f80045203ea4ab1b1279ff116ac371f",
       "version_major": 2,
       "version_minor": 0
      },
      "text/plain": [
       "  0%|          | 0/1 [00:00<?, ?files/s]"
      ]
     },
     "metadata": {},
     "output_type": "display_data"
    },
    {
     "data": {
      "application/vnd.jupyter.widget-view+json": {
       "model_id": "43db0a1b3ba2486d9b4c2eb21cc4c286",
       "version_major": 2,
       "version_minor": 0
      },
      "text/plain": [
       "  0%|          | 0/1 [00:00<?, ?files/s]"
      ]
     },
     "metadata": {},
     "output_type": "display_data"
    },
    {
     "data": {
      "application/vnd.jupyter.widget-view+json": {
       "model_id": "b0833429deee4107be86f9f4b522d1ec",
       "version_major": 2,
       "version_minor": 0
      },
      "text/plain": [
       "  0%|          | 0/1 [00:00<?, ?files/s]"
      ]
     },
     "metadata": {},
     "output_type": "display_data"
    },
    {
     "data": {
      "application/vnd.jupyter.widget-view+json": {
       "model_id": "c113116e6b414e9a8c1ea18e282cccf6",
       "version_major": 2,
       "version_minor": 0
      },
      "text/plain": [
       "  0%|          | 0/1 [00:00<?, ?files/s]"
      ]
     },
     "metadata": {},
     "output_type": "display_data"
    },
    {
     "data": {
      "application/vnd.jupyter.widget-view+json": {
       "model_id": "61ccaaff5d224875bea01049abe3317f",
       "version_major": 2,
       "version_minor": 0
      },
      "text/plain": [
       "  0%|          | 0/1 [00:00<?, ?files/s]"
      ]
     },
     "metadata": {},
     "output_type": "display_data"
    },
    {
     "data": {
      "application/vnd.jupyter.widget-view+json": {
       "model_id": "bfd1890357d14755aebbcd41db117980",
       "version_major": 2,
       "version_minor": 0
      },
      "text/plain": [
       "  0%|          | 0/1 [00:00<?, ?files/s]"
      ]
     },
     "metadata": {},
     "output_type": "display_data"
    },
    {
     "data": {
      "application/vnd.jupyter.widget-view+json": {
       "model_id": "be0614be59134f4183a39c327189fd9b",
       "version_major": 2,
       "version_minor": 0
      },
      "text/plain": [
       "  0%|          | 0/1 [00:00<?, ?files/s]"
      ]
     },
     "metadata": {},
     "output_type": "display_data"
    }
   ],
   "source": [
    "results = []\n",
    "\n",
    "for author in candidates:\n",
    "    files = get_phi5_author_files(author, author_index)\n",
    "    #     cicero_lemmas, cicero_inflected_words = get_word_counts(cicero_files)    \n",
    "    for file in files:\n",
    "        author_inflected_words, author_lemmas = get_word_counts([file])    \n",
    "        author_words = set(author_lemmas.keys())\n",
    "        cicero_words = set(cicero_lemmas.keys())\n",
    "        common = author_words & cicero_words\n",
    "        author_uniq  = author_words - common \n",
    "        P_one_x_lemma_unigram = round(len(author_uniq) / sum(author_lemmas.values()),3)\n",
    "        author_words = set(author_inflected_words.keys())\n",
    "        cicero_words = set(cicero_inflected_words.keys())\n",
    "        common = author_words & cicero_words\n",
    "        author_uniq  = author_words - common \n",
    "        P_one_x_inflected_unigram = round(len(author_uniq) / sum(author_inflected_words.values()), 3)\n",
    "        results.append((author, file, sum(author_inflected_words.values()), P_one_x_inflected_unigram, P_one_x_lemma_unigram))"
   ]
  },
  {
   "cell_type": "code",
   "execution_count": 30,
   "metadata": {},
   "outputs": [
    {
     "name": "stdout",
     "output_type": "stream",
     "text": [
      "Gaius Iulius Caesar, Caesar 286 0.0034965034965034965 0.006993006993006993\n",
      "Gaius Iulius Caesar, Caesar 134 0.08955223880597014 0.13432835820895522\n",
      "Gaius Iulius Caesar, Caesar 386 0.0025906735751295338 0.0025906735751295338\n",
      "Gaius Iulius Caesar, Caesar 49 0.061224489795918366 0.20408163265306123\n",
      "Gaius Iulius Caesar, Caesar 33437 0.014923587642432037 0.0506923468014475\n",
      "Gaius Iulius Caesar, Caesar 179 0.027932960893854747 0.061452513966480445\n",
      "Gaius Iulius Caesar, Caesar 46014 0.018603033859260223 0.05059329769200678\n",
      "C. Iul. Caes. Augustus Octavianus 2398 0.26980817347789826 0.2964970809007506\n",
      "C. Iul. Caes. Augustus Octavianus 85 0.07058823529411765 0.12941176470588237\n",
      "C. Iul. Caes. Augustus Octavianus 1424 0.07935393258426966 0.12289325842696629\n",
      "C. Iul. Caes. Augustus Octavianus 33 0.030303030303030304 0.12121212121212122\n",
      "C. Iul. Caes. Augustus Octavianus 69 0.11594202898550725 0.21739130434782608\n",
      "C. Iul. Caes. Augustus Octavianus 338 0.08875739644970414 0.1301775147928994\n",
      "C. Iul. Caes. Augustus Octavianus 767 0.07953063885267275 0.1290743155149935\n",
      "Publius Vergilius Maro, Virgil, Vergil 67238 0.03246675986793182 0.09195692911746334\n",
      "Publius Vergilius Maro, Virgil, Vergil 14849 0.05912856084584821 0.16149235638763554\n",
      "Publius Vergilius Maro, Virgil, Vergil 5781 0.05794845182494378 0.13527071440927174\n",
      "Gaius Suetonius Tranquillus 4317 0.0463284688441047 0.09520500347463516\n",
      "Gaius Suetonius Tranquillus 2274 0.06904133685136324 0.14160070360598065\n",
      "Gaius Suetonius Tranquillus 596 0.07885906040268456 0.12583892617449666\n",
      "Gaius Suetonius Tranquillus 1660 0.03855421686746988 0.09397590361445783\n",
      "Gaius Suetonius Tranquillus 92 0.08695652173913043 0.18478260869565216\n",
      "Gaius Suetonius Tranquillus 72536 0.03228741590382707 0.09651759126502703\n",
      "Marcus Terentius Varro, Varro 360 0.23055555555555557 0.3055555555555556\n",
      "Marcus Terentius Varro, Varro 1347 0.06087602078693393 0.11729769858945806\n",
      "Marcus Terentius Varro, Varro 36323 0.039451587148638605 0.09470583376923712\n",
      "Marcus Terentius Varro, Varro 115 0.034782608695652174 0.06086956521739131\n",
      "Marcus Terentius Varro, Varro 354 0.08757062146892655 0.1327683615819209\n",
      "Marcus Terentius Varro, Varro 167 0.11976047904191617 0.16167664670658682\n",
      "Marcus Terentius Varro, Varro 40767 0.04623837908111953 0.08455368312605784\n",
      "Marcus Terentius Varro, Varro 16 0.0625 0.125\n",
      "Marcus Terentius Varro, Varro 6577 0.11038467386346358 0.1947696518169378\n",
      "Marcus Terentius Varro, Varro 134 0.1044776119402985 0.15671641791044777\n",
      "Marcus Terentius Varro, Varro 1052 0.03136882129277566 0.06844106463878327\n",
      "Marcus Terentius Varro, Varro 99 0.1111111111111111 0.15151515151515152\n",
      "Marcus Terentius Varro, Varro 108 0.08333333333333333 0.1111111111111111\n",
      "Marcus Terentius Varro, Varro 1990 0.07135678391959799 0.13919597989949747\n",
      "Marcus Terentius Varro, Varro 34 0.029411764705882353 0.058823529411764705\n",
      "Marcus Terentius Varro, Varro 880 0.09659090909090909 0.15454545454545454\n",
      "Cornelius Tacitus 6889 0.03512846566990855 0.1029176948758891\n",
      "Cornelius Tacitus 9421 0.016771043413650356 0.0633690691009447\n",
      "Cornelius Tacitus 5689 0.04605378801195289 0.11706802601511689\n",
      "Cornelius Tacitus 91347 0.02934962286665134 0.0882897084742794\n",
      "Cornelius Tacitus 52847 0.030313925104547088 0.09620224421443034\n",
      "Titus Livius, Livy 1284 0.14330218068535824 0.16978193146417445\n",
      "Titus Livius, Livy 20763 0.034484419399894044 0.06530848143331888\n",
      "Titus Livius, Livy 1275 0.054901960784313725 0.10823529411764705\n",
      "Titus Livius, Livy 516063 0.010702181710372571 0.039026242919953574\n",
      "Lucius Annaeus Seneca senior 68556 0.01849582822801797 0.05808390221133088\n",
      "Lucius Annaeus Seneca senior 19571 0.012365234275203106 0.057227530529865615\n",
      "Lucius Annaeus Seneca senior 10322 0.030323580701414454 0.08002325130788607\n",
      "Lucius Annaeus Seneca senior 24 0.041666666666666664 0.08333333333333333\n",
      "Quintus Horatius Flaccus, Horace 14601 0.044517498801451956 0.11910143140880762\n",
      "Quintus Horatius Flaccus, Horace 10120 0.04189723320158103 0.12282608695652174\n",
      "Quintus Horatius Flaccus, Horace 3214 0.04169259489732421 0.12258867454884878\n",
      "Quintus Horatius Flaccus, Horace 337 0.06528189910979229 0.1572700296735905\n",
      "Quintus Horatius Flaccus, Horace 3084 0.07652399481193256 0.19649805447470817\n",
      "Quintus Horatius Flaccus, Horace 13669 0.06511083473553296 0.16826395493452337\n",
      "Gaius Sallustius Crispus 1210 0.05206611570247934 0.11735537190082644\n",
      "Gaius Sallustius Crispus 4223 0.026284631778356618 0.07861709685058016\n",
      "Gaius Sallustius Crispus 212 0.15566037735849056 0.20754716981132076\n",
      "Gaius Sallustius Crispus 4080 0.015931372549019607 0.050490196078431374\n",
      "Gaius Sallustius Crispus 4047 0.05114899925871016 0.12725475660983446\n",
      "Gaius Sallustius Crispus 21650 0.01861431870669746 0.05796766743648961\n",
      "Gaius Sallustius Crispus 10866 0.01582919197496779 0.05135284373274434\n",
      "Gaius Sallustius Crispus 720 0.0125 0.05\n",
      "Titus Lucretius Carus 703 0.05689900426742532 0.09103840682788052\n",
      "Titus Lucretius Carus 67 0.08955223880597014 0.208955223880597\n",
      "Titus Lucretius Carus 50559 0.02177653830178603 0.06762396408156807\n",
      "Lucius Annaeus Seneca iunior 7208 0.04869589345172031 0.14983351831298558\n",
      "Lucius Annaeus Seneca iunior 3037 0.057951926243002966 0.10997695093842608\n",
      "Lucius Annaeus Seneca iunior 5261 0.02033833871887474 0.08705569283406196\n",
      "Lucius Annaeus Seneca iunior 5686 0.048012662680267326 0.1429827646851917\n",
      "Lucius Annaeus Seneca iunior 76269 0.012403466677155856 0.06980555664817947\n",
      "Lucius Annaeus Seneca iunior 5959 0.04967276388655815 0.15774458801812385\n",
      "Lucius Annaeus Seneca iunior 5592 0.0536480686695279 0.14914163090128754\n",
      "Lucius Annaeus Seneca iunior 45899 0.011459944661103727 0.0556439138107584\n",
      "Lucius Annaeus Seneca iunior 4147 0.027489751627682663 0.10851217747769472\n",
      "Lucius Annaeus Seneca iunior 6853 0.03896103896103896 0.11688311688311688\n",
      "Lucius Annaeus Seneca iunior 48052 0.01783484558395072 0.07446100058270207\n",
      "Lucius Annaeus Seneca iunior 8316 0.015993265993265993 0.06962481962481963\n",
      "Lucius Annaeus Seneca iunior 120945 0.014089048741163339 0.058663028649386086\n",
      "Lucius Annaeus Seneca iunior 7736 0.03968459152016546 0.13094622543950363\n",
      "Lucius Annaeus Seneca iunior 11471 0.04010112457501525 0.11550867404759829\n",
      "Lucius Annaeus Seneca iunior 6320 0.034968354430379746 0.13069620253164557\n"
     ]
    }
   ],
   "source": [
    "for author, _, count, P_one_x_inflected_unigram, P_one_x_lemma_unigram in results:\n",
    "    if P_one_x_lemma_unigram != 0.0:\n",
    "        print (author, count, P_one_x_inflected_unigram, P_one_x_lemma_unigram)\n",
    "# Cicero's values for:\n",
    "# Probability of unigrams that occur once, Probability of a lemmatized unigram occurring once\n",
    "# (0.02892407263780054, 0.008905886443261747)  Cicero's values for"
   ]
  },
  {
   "cell_type": "code",
   "execution_count": 13,
   "metadata": {},
   "outputs": [
    {
     "data": {
      "text/plain": [
       "612"
      ]
     },
     "execution_count": 13,
     "metadata": {},
     "output_type": "execute_result"
    }
   ],
   "source": [
    "aquinas = glob(\"../data/aquinas/*.txt\")\n",
    "len(aquinas)"
   ]
  },
  {
   "cell_type": "code",
   "execution_count": 14,
   "metadata": {},
   "outputs": [
    {
     "name": "stderr",
     "output_type": "stream",
     "text": [
      "  0%|          | 0/612 [00:00<?, ?it/s]\n",
      "100%|██████████| 1/1 [00:00<00:00, 17.58files/s]\n",
      "  0%|          | 1/612 [00:00<06:01,  1.69it/s]\n",
      "  0%|          | 0/1 [00:00<?, ?files/s]\u001b[A\n",
      "100%|██████████| 1/1 [00:00<00:00,  8.81files/s]\u001b[A\n",
      "  0%|          | 2/612 [00:01<06:18,  1.61it/s]\n",
      "  0%|          | 0/1 [00:00<?, ?files/s]\u001b[A\n",
      "100%|██████████| 1/1 [00:00<00:00,  8.69files/s]\u001b[A\n",
      "  0%|          | 3/612 [00:01<06:29,  1.56it/s]\n",
      "  0%|          | 0/1 [00:00<?, ?files/s]\u001b[A\n",
      "100%|██████████| 1/1 [00:00<00:00,  3.79files/s]\u001b[A\n",
      "  1%|          | 4/612 [00:02<07:04,  1.43it/s]\n",
      "  0%|          | 0/1 [00:00<?, ?files/s]\u001b[A\n",
      "100%|██████████| 1/1 [00:00<00:00,  2.15files/s]\u001b[A\n",
      "  1%|          | 5/612 [00:03<08:05,  1.25it/s]\n",
      "100%|██████████| 1/1 [00:00<00:00, 11.87files/s]\n",
      "  1%|          | 6/612 [00:04<07:24,  1.36it/s]\n",
      "  0%|          | 0/1 [00:00<?, ?files/s]\u001b[A\n",
      "100%|██████████| 1/1 [00:00<00:00,  1.34files/s]\u001b[A\n",
      "  1%|          | 7/612 [00:05<09:10,  1.10it/s]\n",
      "  0%|          | 0/1 [00:00<?, ?files/s]\u001b[A\n",
      "100%|██████████| 1/1 [00:00<00:00,  2.39files/s]\u001b[A\n",
      "  1%|▏         | 8/612 [00:06<09:20,  1.08it/s]\n",
      "  0%|          | 0/1 [00:00<?, ?files/s]\u001b[A\n",
      "100%|██████████| 1/1 [00:02<00:00,  2.29s/files]\u001b[A\n",
      "  1%|▏         | 9/612 [00:09<15:20,  1.53s/it]\n",
      "  0%|          | 0/1 [00:00<?, ?files/s]\u001b[A\n",
      "100%|██████████| 1/1 [00:00<00:00,  1.12files/s]\u001b[A\n",
      "  2%|▏         | 10/612 [00:10<14:57,  1.49s/it]\n",
      "  0%|          | 0/1 [00:00<?, ?files/s]\u001b[A\n",
      "100%|██████████| 1/1 [00:00<00:00,  2.56files/s]\u001b[A\n",
      "  2%|▏         | 11/612 [00:11<13:07,  1.31s/it]\n",
      "100%|██████████| 1/1 [00:00<00:00, 28.38files/s]\n",
      "  2%|▏         | 12/612 [00:12<10:49,  1.08s/it]\n",
      "  0%|          | 0/1 [00:00<?, ?files/s]\u001b[A\n",
      "100%|██████████| 1/1 [00:00<00:00,  2.87files/s]\u001b[A\n",
      "  2%|▏         | 13/612 [00:13<10:08,  1.02s/it]\n",
      "  0%|          | 0/1 [00:00<?, ?files/s]\u001b[A\n",
      "100%|██████████| 1/1 [00:01<00:00,  1.76s/files]\u001b[A\n",
      "  2%|▏         | 14/612 [00:15<13:54,  1.40s/it]\n",
      "100%|██████████| 1/1 [00:00<00:00,  9.99files/s]\n",
      "  2%|▏         | 15/612 [00:16<11:37,  1.17s/it]\n",
      "  0%|          | 0/1 [00:00<?, ?files/s]\u001b[A\n",
      "100%|██████████| 1/1 [00:01<00:00,  1.53s/files]\u001b[A\n",
      "  3%|▎         | 16/612 [00:18<14:13,  1.43s/it]\n",
      "100%|██████████| 1/1 [00:00<00:00, 16.63files/s]\n",
      "  3%|▎         | 17/612 [00:18<11:38,  1.17s/it]\n",
      "  0%|          | 0/1 [00:00<?, ?files/s]\u001b[A\n",
      "100%|██████████| 1/1 [00:00<00:00,  1.76files/s]\u001b[A\n",
      "  3%|▎         | 18/612 [00:19<11:21,  1.15s/it]\n",
      "  0%|          | 0/1 [00:00<?, ?files/s]\u001b[A\n",
      "100%|██████████| 1/1 [00:00<00:00,  4.69files/s]\u001b[A\n",
      "  3%|▎         | 19/612 [00:20<10:12,  1.03s/it]\n",
      "100%|██████████| 1/1 [00:00<00:00, 30.72files/s]\n",
      "  3%|▎         | 20/612 [00:21<08:49,  1.12it/s]\n",
      "  0%|          | 0/1 [00:00<?, ?files/s]\u001b[A\n",
      "100%|██████████| 1/1 [00:00<00:00,  1.14files/s]\u001b[A\n",
      "  3%|▎         | 21/612 [00:22<10:22,  1.05s/it]\n",
      "  0%|          | 0/1 [00:00<?, ?files/s]\u001b[A\n",
      "100%|██████████| 1/1 [00:00<00:00,  7.40files/s]\u001b[A\n",
      "  4%|▎         | 22/612 [00:23<09:12,  1.07it/s]\n",
      "  0%|          | 0/1 [00:00<?, ?files/s]\u001b[A\n",
      "100%|██████████| 1/1 [00:00<00:00,  2.97files/s]\u001b[A\n",
      "  4%|▍         | 23/612 [00:24<09:06,  1.08it/s]\n",
      "  0%|          | 0/1 [00:00<?, ?files/s]\u001b[A\n",
      "100%|██████████| 1/1 [00:00<00:00,  1.33files/s]\u001b[A\n",
      "  4%|▍         | 24/612 [00:25<10:09,  1.04s/it]\n",
      "  0%|          | 0/1 [00:00<?, ?files/s]\u001b[A\n",
      "100%|██████████| 1/1 [00:01<00:00,  1.85s/files]\u001b[A\n",
      "  4%|▍         | 25/612 [00:27<14:12,  1.45s/it]\n",
      "100%|██████████| 1/1 [00:00<00:00, 49.74files/s]\n",
      "  4%|▍         | 26/612 [00:28<11:28,  1.17s/it]\n",
      "100%|██████████| 1/1 [00:00<00:00, 52.54files/s]\n",
      "  4%|▍         | 27/612 [00:28<09:34,  1.02it/s]\n",
      "  0%|          | 0/1 [00:00<?, ?files/s]\u001b[A\n",
      "100%|██████████| 1/1 [00:00<00:00,  3.41files/s]\u001b[A\n",
      "  5%|▍         | 28/612 [00:29<09:03,  1.07it/s]\n",
      "  0%|          | 0/1 [00:00<?, ?files/s]\u001b[A\n",
      "100%|██████████| 1/1 [00:02<00:00,  2.47s/files]\u001b[A\n",
      "  5%|▍         | 29/612 [00:32<15:06,  1.55s/it]\n",
      "  0%|          | 0/1 [00:00<?, ?files/s]\u001b[A\n",
      "100%|██████████| 1/1 [00:00<00:00,  1.67files/s]\u001b[A\n",
      "  5%|▍         | 30/612 [00:33<13:54,  1.43s/it]\n",
      "  0%|          | 0/1 [00:00<?, ?files/s]\u001b[A\n",
      "100%|██████████| 1/1 [00:00<00:00,  4.96files/s]\u001b[A\n",
      "  5%|▌         | 31/612 [00:34<12:14,  1.26s/it]\n",
      "  0%|          | 0/1 [00:00<?, ?files/s]\u001b[A\n",
      "100%|██████████| 1/1 [00:00<00:00,  1.83files/s]\u001b[A\n",
      "  5%|▌         | 32/612 [00:35<12:16,  1.27s/it]\n",
      "  0%|          | 0/1 [00:00<?, ?files/s]\u001b[A\n",
      "100%|██████████| 1/1 [00:00<00:00,  1.53files/s]\u001b[A\n",
      "  5%|▌         | 33/612 [00:37<12:58,  1.34s/it]\n",
      "100%|██████████| 1/1 [00:00<00:00, 30.20files/s]\n",
      "  6%|▌         | 34/612 [00:38<10:54,  1.13s/it]\n",
      "  0%|          | 0/1 [00:00<?, ?files/s]\u001b[A\n",
      "100%|██████████| 1/1 [00:01<00:00,  1.26s/files]\u001b[A\n",
      "  6%|▌         | 35/612 [00:39<13:07,  1.36s/it]\n",
      "  0%|          | 0/1 [00:00<?, ?files/s]\u001b[A\n",
      "100%|██████████| 1/1 [00:01<00:00,  1.30s/files]\u001b[A\n",
      "  6%|▌         | 36/612 [00:42<15:07,  1.57s/it]\n",
      "  0%|          | 0/1 [00:00<?, ?files/s]\u001b[A\n",
      "100%|██████████| 1/1 [00:00<00:00,  1.29files/s]\u001b[A\n",
      "  6%|▌         | 37/612 [00:43<14:24,  1.50s/it]\n",
      "  0%|          | 0/1 [00:00<?, ?files/s]\u001b[A\n",
      "100%|██████████| 1/1 [00:02<00:00,  2.07s/files]\u001b[A\n",
      "  6%|▌         | 38/612 [00:46<17:35,  1.84s/it]\n",
      "  0%|          | 0/1 [00:00<?, ?files/s]\u001b[A\n",
      "100%|██████████| 1/1 [00:01<00:00,  1.61s/files]\u001b[A\n",
      "  6%|▋         | 39/612 [00:48<18:28,  1.93s/it]\n",
      "  0%|          | 0/1 [00:00<?, ?files/s]\u001b[A\n",
      "100%|██████████| 1/1 [00:02<00:00,  2.11s/files]\u001b[A\n",
      "  7%|▋         | 40/612 [00:50<20:31,  2.15s/it]\n",
      "  0%|          | 0/1 [00:00<?, ?files/s]\u001b[A\n",
      "100%|██████████| 1/1 [00:00<00:00,  2.02files/s]\u001b[A\n",
      "  7%|▋         | 41/612 [00:51<17:24,  1.83s/it]\n",
      "  0%|          | 0/1 [00:00<?, ?files/s]\u001b[A\n",
      "100%|██████████| 1/1 [00:01<00:00,  1.47s/files]\u001b[A\n",
      "  7%|▋         | 42/612 [00:53<17:54,  1.89s/it]\n",
      "100%|██████████| 1/1 [00:00<00:00, 21.13files/s]\n",
      "  7%|▋         | 43/612 [00:54<14:09,  1.49s/it]\n",
      "100%|██████████| 1/1 [00:00<00:00, 43.58files/s]\n",
      "  7%|▋         | 44/612 [00:55<11:31,  1.22s/it]\n",
      "  0%|          | 0/1 [00:00<?, ?files/s]\u001b[A\n",
      "100%|██████████| 1/1 [00:01<00:00,  1.32s/files]\u001b[A\n",
      "  7%|▋         | 45/612 [00:57<13:35,  1.44s/it]\n",
      "  0%|          | 0/1 [00:00<?, ?files/s]\u001b[A\n",
      "100%|██████████| 1/1 [00:00<00:00,  3.45files/s]\u001b[A\n",
      "  8%|▊         | 46/612 [00:57<11:51,  1.26s/it]\n",
      "  0%|          | 0/1 [00:00<?, ?files/s]\u001b[A\n",
      "100%|██████████| 1/1 [00:00<00:00,  7.58files/s]\u001b[A\n",
      "  8%|▊         | 47/612 [00:58<10:08,  1.08s/it]\n",
      "  0%|          | 0/1 [00:00<?, ?files/s]\u001b[A\n",
      "100%|██████████| 1/1 [00:00<00:00,  2.39files/s]\u001b[A\n",
      "  8%|▊         | 48/612 [00:59<09:47,  1.04s/it]\n",
      "  0%|          | 0/1 [00:00<?, ?files/s]\u001b[A\n",
      "100%|██████████| 1/1 [00:00<00:00,  1.16files/s]\u001b[A\n",
      "  8%|▊         | 49/612 [01:00<10:43,  1.14s/it]\n",
      "  0%|          | 0/1 [00:00<?, ?files/s]\u001b[A\n",
      "100%|██████████| 1/1 [00:02<00:00,  2.11s/files]\u001b[A\n",
      "  8%|▊         | 50/612 [01:03<14:52,  1.59s/it]\n",
      "  0%|          | 0/1 [00:00<?, ?files/s]\u001b[A\n",
      "100%|██████████| 1/1 [00:01<00:00,  1.42s/files]\u001b[A\n",
      "  8%|▊         | 51/612 [01:05<15:51,  1.70s/it]\n",
      "  0%|          | 0/1 [00:00<?, ?files/s]\u001b[A\n",
      "100%|██████████| 1/1 [00:00<00:00,  1.20files/s]\u001b[A\n",
      "  8%|▊         | 52/612 [01:06<14:58,  1.60s/it]\n",
      "  0%|          | 0/1 [00:00<?, ?files/s]\u001b[A\n",
      "100%|██████████| 1/1 [00:00<00:00,  1.43files/s]\u001b[A\n",
      "  9%|▊         | 53/612 [01:08<13:54,  1.49s/it]\n",
      "  0%|          | 0/1 [00:00<?, ?files/s]\u001b[A\n",
      "100%|██████████| 1/1 [00:01<00:00,  1.22s/files]\u001b[A\n",
      "  9%|▉         | 54/612 [01:09<14:36,  1.57s/it]\n",
      "  0%|          | 0/1 [00:00<?, ?files/s]\u001b[A\n",
      "100%|██████████| 1/1 [00:01<00:00,  1.68s/files]\u001b[A\n",
      "  9%|▉         | 55/612 [01:12<16:24,  1.77s/it]\n",
      "  0%|          | 0/1 [00:00<?, ?files/s]\u001b[A\n",
      "100%|██████████| 1/1 [00:00<00:00,  1.04files/s]\u001b[A\n",
      "  9%|▉         | 56/612 [01:13<15:35,  1.68s/it]\n",
      "  0%|          | 0/1 [00:00<?, ?files/s]\u001b[A\n",
      "100%|██████████| 1/1 [00:00<00:00,  8.74files/s]\u001b[A\n",
      "  9%|▉         | 57/612 [01:14<12:42,  1.37s/it]\n",
      "  0%|          | 0/1 [00:00<?, ?files/s]\u001b[A\n",
      "100%|██████████| 1/1 [00:00<00:00,  3.46files/s]\u001b[A\n",
      "  9%|▉         | 58/612 [01:15<11:11,  1.21s/it]\n",
      "  0%|          | 0/1 [00:00<?, ?files/s]\u001b[A\n",
      "100%|██████████| 1/1 [00:01<00:00,  1.16s/files]\u001b[A\n",
      " 10%|▉         | 59/612 [01:16<12:34,  1.36s/it]\n",
      "  0%|          | 0/1 [00:00<?, ?files/s]\u001b[A\n",
      "100%|██████████| 1/1 [00:00<00:00,  1.09files/s]\u001b[A\n",
      " 10%|▉         | 60/612 [01:18<12:46,  1.39s/it]\n",
      "  0%|          | 0/1 [00:00<?, ?files/s]\u001b[A\n",
      "100%|██████████| 1/1 [00:00<00:00,  1.44files/s]\u001b[A\n",
      " 10%|▉         | 61/612 [01:19<12:18,  1.34s/it]\n",
      "100%|██████████| 1/1 [00:00<00:00, 40.41files/s]\n",
      " 10%|█         | 62/612 [01:19<10:06,  1.10s/it]\n",
      "  0%|          | 0/1 [00:00<?, ?files/s]\u001b[A\n",
      "100%|██████████| 1/1 [00:01<00:00,  1.04s/files]\u001b[A\n",
      " 10%|█         | 63/612 [01:21<11:21,  1.24s/it]\n",
      "  0%|          | 0/1 [00:00<?, ?files/s]\u001b[A\n",
      "100%|██████████| 1/1 [00:00<00:00,  2.87files/s]\u001b[A\n",
      " 10%|█         | 64/612 [01:22<10:21,  1.13s/it]\n",
      "  0%|          | 0/1 [00:00<?, ?files/s]\u001b[A\n",
      "100%|██████████| 1/1 [00:00<00:00,  1.06files/s]\u001b[A\n",
      " 11%|█         | 65/612 [01:23<11:13,  1.23s/it]\n",
      "  0%|          | 0/1 [00:00<?, ?files/s]\u001b[A\n",
      "100%|██████████| 1/1 [00:00<00:00,  1.16files/s]\u001b[A\n",
      " 11%|█         | 66/612 [01:25<11:38,  1.28s/it]\n",
      "  0%|          | 0/1 [00:00<?, ?files/s]\u001b[A\n",
      "100%|██████████| 1/1 [00:00<00:00,  4.28files/s]\u001b[A\n",
      " 11%|█         | 67/612 [01:26<10:15,  1.13s/it]\n",
      "  0%|          | 0/1 [00:00<?, ?files/s]\u001b[A\n",
      "100%|██████████| 1/1 [00:00<00:00,  1.02files/s]\u001b[A\n",
      " 11%|█         | 68/612 [01:27<11:15,  1.24s/it]\n",
      "  0%|          | 0/1 [00:00<?, ?files/s]\u001b[A\n",
      "100%|██████████| 1/1 [00:00<00:00,  2.53files/s]\u001b[A\n",
      " 11%|█▏        | 69/612 [01:28<10:19,  1.14s/it]\n",
      "  0%|          | 0/1 [00:00<?, ?files/s]\u001b[A\n",
      "100%|██████████| 1/1 [00:00<00:00,  2.99files/s]\u001b[A\n",
      " 11%|█▏        | 70/612 [01:29<09:31,  1.05s/it]\n",
      "  0%|          | 0/1 [00:00<?, ?files/s]\u001b[A\n",
      "100%|██████████| 1/1 [00:00<00:00,  3.03files/s]\u001b[A\n",
      " 12%|█▏        | 71/612 [01:30<08:53,  1.01it/s]\n",
      "100%|██████████| 1/1 [00:00<00:00, 35.91files/s]\n",
      " 12%|█▏        | 72/612 [01:30<07:39,  1.18it/s]\n",
      "  0%|          | 0/1 [00:00<?, ?files/s]\u001b[A\n",
      "100%|██████████| 1/1 [00:00<00:00,  2.08files/s]\u001b[A\n",
      " 12%|█▏        | 73/612 [01:31<08:06,  1.11it/s]\n",
      "  0%|          | 0/1 [00:00<?, ?files/s]\u001b[A\n",
      "100%|██████████| 1/1 [00:00<00:00,  4.54files/s]\u001b[A\n",
      " 12%|█▏        | 74/612 [01:32<07:37,  1.17it/s]\n",
      "100%|██████████| 1/1 [00:00<00:00, 113.62files/s]\n",
      " 12%|█▏        | 75/612 [01:32<06:43,  1.33it/s]\n",
      "  0%|          | 0/1 [00:00<?, ?files/s]\u001b[A\n",
      "100%|██████████| 1/1 [00:01<00:00,  1.24s/files]\u001b[A\n",
      " 12%|█▏        | 76/612 [01:34<09:25,  1.06s/it]\n",
      "100%|██████████| 1/1 [00:00<00:00, 10.35files/s]\n",
      " 13%|█▎        | 77/612 [01:35<08:13,  1.09it/s]\n",
      "  0%|          | 0/1 [00:00<?, ?files/s]\u001b[A\n",
      "100%|██████████| 1/1 [00:01<00:00,  1.19s/files]\u001b[A\n",
      " 13%|█▎        | 78/612 [01:37<10:18,  1.16s/it]\n",
      "  0%|          | 0/1 [00:00<?, ?files/s]\u001b[A\n",
      "100%|██████████| 1/1 [00:00<00:00,  2.22files/s]\u001b[A\n",
      " 13%|█▎        | 79/612 [01:37<09:45,  1.10s/it]\n",
      "  0%|          | 0/1 [00:00<?, ?files/s]\u001b[A\n",
      "100%|██████████| 1/1 [00:01<00:00,  1.93s/files]\u001b[A\n",
      " 13%|█▎        | 80/612 [01:40<13:19,  1.50s/it]\n",
      "  0%|          | 0/1 [00:00<?, ?files/s]\u001b[A\n",
      "100%|██████████| 1/1 [00:00<00:00,  1.09files/s]\u001b[A\n",
      " 13%|█▎        | 81/612 [01:41<13:08,  1.49s/it]\n",
      "  0%|          | 0/1 [00:00<?, ?files/s]\u001b[A\n",
      "100%|██████████| 1/1 [00:00<00:00,  1.41files/s]\u001b[A\n",
      " 13%|█▎        | 82/612 [01:43<12:25,  1.41s/it]\n",
      "  0%|          | 0/1 [00:00<?, ?files/s]\u001b[A\n",
      "100%|██████████| 1/1 [00:00<00:00,  2.15files/s]\u001b[A\n",
      " 14%|█▎        | 83/612 [01:44<11:14,  1.27s/it]\n",
      "  0%|          | 0/1 [00:00<?, ?files/s]\u001b[A\n",
      "100%|██████████| 1/1 [00:00<00:00,  1.54files/s]\u001b[A\n",
      " 14%|█▎        | 84/612 [01:45<10:54,  1.24s/it]\n",
      "  0%|          | 0/1 [00:00<?, ?files/s]\u001b[A\n",
      "100%|██████████| 1/1 [00:00<00:00,  2.32files/s]\u001b[A\n",
      " 14%|█▍        | 85/612 [01:46<10:04,  1.15s/it]\n",
      "  0%|          | 0/1 [00:00<?, ?files/s]\u001b[A\n",
      "100%|██████████| 1/1 [00:00<00:00,  5.26files/s]\u001b[A\n",
      " 14%|█▍        | 86/612 [01:46<08:55,  1.02s/it]\n",
      "  0%|          | 0/1 [00:00<?, ?files/s]\u001b[A\n",
      "100%|██████████| 1/1 [00:00<00:00,  2.23files/s]\u001b[A\n",
      " 14%|█▍        | 87/612 [01:47<08:46,  1.00s/it]\n",
      "  0%|          | 0/1 [00:00<?, ?files/s]\u001b[A\n",
      "100%|██████████| 1/1 [00:00<00:00,  4.62files/s]\u001b[A\n",
      " 14%|█▍        | 88/612 [01:48<08:00,  1.09it/s]\n",
      "100%|██████████| 1/1 [00:00<00:00, 20.23files/s]\n",
      " 15%|█▍        | 89/612 [01:49<07:02,  1.24it/s]\n",
      "100%|██████████| 1/1 [00:00<00:00, 10.94files/s]\n",
      " 15%|█▍        | 90/612 [01:49<06:26,  1.35it/s]\n",
      "  0%|          | 0/1 [00:00<?, ?files/s]\u001b[A\n",
      "100%|██████████| 1/1 [00:00<00:00,  1.78files/s]\u001b[A\n",
      " 15%|█▍        | 91/612 [01:50<07:16,  1.19it/s]\n",
      "100%|██████████| 1/1 [00:00<00:00, 15.78files/s]\n",
      " 15%|█▌        | 92/612 [01:51<06:39,  1.30it/s]\n",
      "  0%|          | 0/1 [00:00<?, ?files/s]\u001b[A\n",
      "100%|██████████| 1/1 [00:00<00:00,  4.46files/s]\u001b[A\n",
      " 15%|█▌        | 93/612 [01:52<06:37,  1.31it/s]\n",
      "  0%|          | 0/1 [00:00<?, ?files/s]\u001b[A\n",
      "100%|██████████| 1/1 [00:01<00:00,  1.60s/files]\u001b[A\n",
      " 15%|█▌        | 94/612 [01:54<10:04,  1.17s/it]\n",
      "  0%|          | 0/1 [00:00<?, ?files/s]\u001b[A\n",
      "100%|██████████| 1/1 [00:01<00:00,  1.01s/files]\u001b[A\n",
      " 16%|█▌        | 95/612 [01:55<10:56,  1.27s/it]\n",
      "  0%|          | 0/1 [00:00<?, ?files/s]\u001b[A\n",
      "100%|██████████| 1/1 [00:00<00:00,  4.61files/s]\u001b[A\n",
      " 16%|█▌        | 96/612 [01:56<09:30,  1.11s/it]\n",
      "  0%|          | 0/1 [00:00<?, ?files/s]\u001b[A\n",
      "100%|██████████| 1/1 [00:00<00:00,  2.21files/s]\u001b[A\n",
      " 16%|█▌        | 97/612 [01:57<09:11,  1.07s/it]\n",
      "  0%|          | 0/1 [00:00<?, ?files/s]\u001b[A\n",
      "100%|██████████| 1/1 [00:00<00:00,  1.30files/s]\u001b[A\n",
      " 16%|█▌        | 98/612 [01:58<09:42,  1.13s/it]\n",
      "  0%|          | 0/1 [00:00<?, ?files/s]\u001b[A\n",
      "100%|██████████| 1/1 [00:00<00:00,  9.45files/s]\u001b[A\n",
      " 16%|█▌        | 99/612 [01:59<08:20,  1.03it/s]\n",
      "  0%|          | 0/1 [00:00<?, ?files/s]\u001b[A\n",
      "100%|██████████| 1/1 [00:00<00:00,  3.72files/s]\u001b[A\n",
      " 16%|█▋        | 100/612 [02:00<07:46,  1.10it/s]\n",
      "  0%|          | 0/1 [00:00<?, ?files/s]\u001b[A\n",
      "100%|██████████| 1/1 [00:01<00:00,  1.70s/files]\u001b[A\n",
      " 17%|█▋        | 101/612 [02:02<11:07,  1.31s/it]\n",
      "  0%|          | 0/1 [00:00<?, ?files/s]\u001b[A\n",
      "100%|██████████| 1/1 [00:01<00:00,  1.20s/files]\u001b[A\n",
      " 17%|█▋        | 102/612 [02:04<12:08,  1.43s/it]\n",
      "  0%|          | 0/1 [00:00<?, ?files/s]\u001b[A\n",
      "100%|██████████| 1/1 [00:01<00:00,  1.91s/files]\u001b[A\n",
      " 17%|█▋        | 103/612 [02:06<14:38,  1.73s/it]\n",
      "  0%|          | 0/1 [00:00<?, ?files/s]\u001b[A\n",
      "100%|██████████| 1/1 [00:00<00:00,  3.04files/s]\u001b[A\n",
      " 17%|█▋        | 104/612 [02:07<12:24,  1.47s/it]\n",
      "100%|██████████| 1/1 [00:00<00:00, 144.77files/s]\n",
      " 17%|█▋        | 105/612 [02:07<10:02,  1.19s/it]\n",
      "  0%|          | 0/1 [00:00<?, ?files/s]\u001b[A\n",
      "100%|██████████| 1/1 [00:00<00:00,  1.27files/s]\u001b[A\n",
      " 17%|█▋        | 106/612 [02:09<10:18,  1.22s/it]\n",
      "  0%|          | 0/1 [00:00<?, ?files/s]\u001b[A\n",
      "100%|██████████| 1/1 [00:00<00:00,  9.60files/s]\u001b[A\n",
      " 17%|█▋        | 107/612 [02:09<08:44,  1.04s/it]\n",
      "  0%|          | 0/1 [00:00<?, ?files/s]\u001b[A\n",
      "100%|██████████| 1/1 [00:00<00:00,  4.33files/s]\u001b[A\n",
      " 18%|█▊        | 108/612 [02:10<07:57,  1.05it/s]\n",
      "  0%|          | 0/1 [00:00<?, ?files/s]\u001b[A\n",
      "100%|██████████| 1/1 [00:02<00:00,  2.56s/files]\u001b[A\n",
      " 18%|█▊        | 109/612 [02:13<13:17,  1.59s/it]\n",
      "  0%|          | 0/1 [00:00<?, ?files/s]\u001b[A\n",
      "100%|██████████| 1/1 [00:00<00:00,  1.16files/s]\u001b[A\n",
      " 18%|█▊        | 110/612 [02:14<12:44,  1.52s/it]\n",
      "  0%|          | 0/1 [00:00<?, ?files/s]\u001b[A\n",
      "100%|██████████| 1/1 [00:00<00:00,  4.03files/s]\u001b[A\n",
      " 18%|█▊        | 111/612 [02:15<10:49,  1.30s/it]\n",
      "  0%|          | 0/1 [00:00<?, ?files/s]\u001b[A\n",
      "100%|██████████| 1/1 [00:00<00:00,  2.05files/s]\u001b[A\n",
      " 18%|█▊        | 112/612 [02:16<10:03,  1.21s/it]\n",
      "  0%|          | 0/1 [00:00<?, ?files/s]\u001b[A\n",
      "100%|██████████| 1/1 [00:02<00:00,  2.87s/files]\u001b[A\n",
      " 18%|█▊        | 113/612 [02:20<15:32,  1.87s/it]\n",
      "  0%|          | 0/1 [00:00<?, ?files/s]\u001b[A\n",
      "100%|██████████| 1/1 [00:02<00:00,  2.87s/files]\u001b[A\n",
      " 19%|█▊        | 114/612 [02:23<19:16,  2.32s/it]\n",
      "  0%|          | 0/1 [00:00<?, ?files/s]\u001b[A\n",
      "100%|██████████| 1/1 [00:00<00:00,  1.29files/s]\u001b[A\n",
      " 19%|█▉        | 115/612 [02:24<16:38,  2.01s/it]\n",
      "100%|██████████| 1/1 [00:00<00:00, 20.30files/s]\n",
      " 19%|█▉        | 116/612 [02:25<13:01,  1.58s/it]\n",
      "  0%|          | 0/1 [00:00<?, ?files/s]\u001b[A\n",
      "100%|██████████| 1/1 [00:01<00:00,  1.27s/files]\u001b[A\n",
      " 19%|█▉        | 117/612 [02:27<13:30,  1.64s/it]\n",
      "  0%|          | 0/1 [00:00<?, ?files/s]\u001b[A\n",
      "100%|██████████| 1/1 [00:00<00:00,  9.42files/s]\u001b[A\n",
      " 19%|█▉        | 118/612 [02:27<10:58,  1.33s/it]\n",
      "  0%|          | 0/1 [00:00<?, ?files/s]\u001b[A\n",
      "100%|██████████| 1/1 [00:01<00:00,  1.88s/files]\u001b[A\n"
     ]
    },
    {
     "name": "stderr",
     "output_type": "stream",
     "text": [
      " 19%|█▉        | 119/612 [02:30<13:32,  1.65s/it]\n",
      "  0%|          | 0/1 [00:00<?, ?files/s]\u001b[A\n",
      "100%|██████████| 1/1 [00:01<00:00,  1.17s/files]\u001b[A\n",
      " 20%|█▉        | 120/612 [02:31<13:39,  1.66s/it]\n",
      "  0%|          | 0/1 [00:00<?, ?files/s]\u001b[A\n",
      "100%|██████████| 1/1 [00:00<00:00,  1.92files/s]\u001b[A\n",
      " 20%|█▉        | 121/612 [02:32<12:06,  1.48s/it]\n",
      "  0%|          | 0/1 [00:00<?, ?files/s]\u001b[A\n",
      "100%|██████████| 1/1 [00:02<00:00,  2.99s/files]\u001b[A\n",
      " 20%|█▉        | 122/612 [02:36<16:58,  2.08s/it]\n",
      "100%|██████████| 1/1 [00:00<00:00, 13.66files/s]\n",
      " 20%|██        | 123/612 [02:36<13:15,  1.63s/it]\n",
      "  0%|          | 0/1 [00:00<?, ?files/s]\u001b[A\n",
      "100%|██████████| 1/1 [00:00<00:00,  8.43files/s]\u001b[A\n",
      " 20%|██        | 124/612 [02:37<10:58,  1.35s/it]\n",
      "  0%|          | 0/1 [00:00<?, ?files/s]\u001b[A\n",
      "100%|██████████| 1/1 [00:00<00:00,  1.09files/s]\u001b[A\n",
      " 20%|██        | 125/612 [02:39<11:09,  1.38s/it]\n",
      "  0%|          | 0/1 [00:00<?, ?files/s]\u001b[A\n",
      "100%|██████████| 1/1 [00:02<00:00,  2.27s/files]\u001b[A\n",
      " 21%|██        | 126/612 [02:41<14:34,  1.80s/it]\n",
      "  0%|          | 0/1 [00:00<?, ?files/s]\u001b[A\n",
      "100%|██████████| 1/1 [00:00<00:00,  5.23files/s]\u001b[A\n",
      " 21%|██        | 127/612 [02:42<11:48,  1.46s/it]\n",
      "  0%|          | 0/1 [00:00<?, ?files/s]\u001b[A\n",
      "100%|██████████| 1/1 [00:00<00:00,  1.03files/s]\u001b[A\n",
      " 21%|██        | 128/612 [02:44<11:51,  1.47s/it]\n",
      "100%|██████████| 1/1 [00:00<00:00, 564.97files/s]\n",
      " 21%|██        | 129/612 [02:44<09:31,  1.18s/it]\n",
      "  0%|          | 0/1 [00:00<?, ?files/s]\u001b[A\n",
      "100%|██████████| 1/1 [00:01<00:00,  1.34s/files]\u001b[A\n",
      " 21%|██        | 130/612 [02:46<11:07,  1.38s/it]\n",
      "  0%|          | 0/1 [00:00<?, ?files/s]\u001b[A\n",
      "100%|██████████| 1/1 [00:01<00:00,  1.53s/files]\u001b[A\n",
      " 21%|██▏       | 131/612 [02:48<12:38,  1.58s/it]\n",
      "  0%|          | 0/1 [00:00<?, ?files/s]\u001b[A\n",
      "100%|██████████| 1/1 [00:02<00:00,  2.36s/files]\u001b[A\n",
      " 22%|██▏       | 132/612 [02:51<15:45,  1.97s/it]\n",
      "  0%|          | 0/1 [00:00<?, ?files/s]\u001b[A\n",
      "100%|██████████| 1/1 [00:01<00:00,  1.26s/files]\u001b[A\n",
      " 22%|██▏       | 133/612 [02:53<15:21,  1.92s/it]\n",
      "  0%|          | 0/1 [00:00<?, ?files/s]\u001b[A\n",
      "100%|██████████| 1/1 [00:00<00:00,  1.88files/s]\u001b[A\n",
      " 22%|██▏       | 134/612 [02:54<13:15,  1.66s/it]\n",
      "  0%|          | 0/1 [00:00<?, ?files/s]\u001b[A\n",
      "100%|██████████| 1/1 [00:00<00:00,  4.90files/s]\u001b[A\n",
      " 22%|██▏       | 135/612 [02:54<10:55,  1.37s/it]\n",
      "  0%|          | 0/1 [00:00<?, ?files/s]\u001b[A\n",
      "100%|██████████| 1/1 [00:01<00:00,  1.96s/files]\u001b[A\n",
      " 22%|██▏       | 136/612 [02:57<13:31,  1.71s/it]\n",
      "  0%|          | 0/1 [00:00<?, ?files/s]\u001b[A\n",
      "100%|██████████| 1/1 [00:00<00:00,  2.63files/s]\u001b[A\n",
      " 22%|██▏       | 137/612 [02:58<11:32,  1.46s/it]\n",
      "  0%|          | 0/1 [00:00<?, ?files/s]\u001b[A\n",
      "100%|██████████| 1/1 [00:00<00:00,  4.53files/s]\u001b[A\n",
      " 23%|██▎       | 138/612 [02:58<09:47,  1.24s/it]\n",
      "  0%|          | 0/1 [00:00<?, ?files/s]\u001b[A\n",
      "100%|██████████| 1/1 [00:00<00:00,  3.53files/s]\u001b[A\n",
      " 23%|██▎       | 139/612 [02:59<08:44,  1.11s/it]\n",
      "  0%|          | 0/1 [00:00<?, ?files/s]\u001b[A\n",
      "100%|██████████| 1/1 [00:01<00:00,  1.30s/files]\u001b[A\n",
      " 23%|██▎       | 140/612 [03:01<10:21,  1.32s/it]\n",
      "100%|██████████| 1/1 [00:00<00:00, 17.93files/s]\n",
      " 23%|██▎       | 141/612 [03:02<08:33,  1.09s/it]\n",
      "100%|██████████| 1/1 [00:00<00:00, 10.44files/s]\n",
      " 23%|██▎       | 142/612 [03:02<07:23,  1.06it/s]\n",
      "  0%|          | 0/1 [00:00<?, ?files/s]\u001b[A\n",
      "100%|██████████| 1/1 [00:01<00:00,  1.12s/files]\u001b[A\n",
      " 23%|██▎       | 143/612 [03:04<08:58,  1.15s/it]\n",
      "  0%|          | 0/1 [00:00<?, ?files/s]\u001b[A\n",
      "100%|██████████| 1/1 [00:00<00:00,  3.10files/s]\u001b[A\n",
      " 24%|██▎       | 144/612 [03:05<08:09,  1.05s/it]\n",
      "  0%|          | 0/1 [00:00<?, ?files/s]\u001b[A\n",
      "100%|██████████| 1/1 [00:00<00:00,  2.30files/s]\u001b[A\n",
      " 24%|██▎       | 145/612 [03:06<07:50,  1.01s/it]\n",
      "100%|██████████| 1/1 [00:00<00:00, 16.77files/s]\n",
      " 24%|██▍       | 146/612 [03:06<06:44,  1.15it/s]\n",
      "  0%|          | 0/1 [00:00<?, ?files/s]\u001b[A\n",
      "100%|██████████| 1/1 [00:00<00:00,  1.07files/s]\u001b[A\n",
      " 24%|██▍       | 147/612 [03:08<08:03,  1.04s/it]\n",
      "  0%|          | 0/1 [00:00<?, ?files/s]\u001b[A\n",
      "100%|██████████| 1/1 [00:00<00:00,  1.01files/s]\u001b[A\n",
      " 24%|██▍       | 148/612 [03:09<09:05,  1.18s/it]\n",
      "  0%|          | 0/1 [00:00<?, ?files/s]\u001b[A\n",
      "100%|██████████| 1/1 [00:02<00:00,  2.10s/files]\u001b[A\n",
      " 24%|██▍       | 149/612 [03:12<12:23,  1.61s/it]\n",
      "  0%|          | 0/1 [00:00<?, ?files/s]\u001b[A\n",
      "100%|██████████| 1/1 [00:01<00:00,  1.05s/files]\u001b[A\n",
      " 25%|██▍       | 150/612 [03:13<12:14,  1.59s/it]\n",
      "  0%|          | 0/1 [00:00<?, ?files/s]\u001b[A\n",
      "100%|██████████| 1/1 [00:01<00:00,  1.11s/files]\u001b[A\n",
      " 25%|██▍       | 151/612 [03:15<12:19,  1.60s/it]\n",
      "  0%|          | 0/1 [00:00<?, ?files/s]\u001b[A\n",
      "100%|██████████| 1/1 [00:01<00:00,  1.93s/files]\u001b[A\n",
      " 25%|██▍       | 152/612 [03:17<14:16,  1.86s/it]\n",
      "  0%|          | 0/1 [00:00<?, ?files/s]\u001b[A\n",
      "100%|██████████| 1/1 [00:02<00:00,  2.39s/files]\u001b[A\n",
      " 25%|██▌       | 153/612 [03:20<16:34,  2.17s/it]\n",
      "  0%|          | 0/1 [00:00<?, ?files/s]\u001b[A\n",
      "100%|██████████| 1/1 [00:00<00:00,  1.19files/s]\u001b[A\n",
      " 25%|██▌       | 154/612 [03:22<14:40,  1.92s/it]\n",
      "  0%|          | 0/1 [00:00<?, ?files/s]\u001b[A\n",
      "100%|██████████| 1/1 [00:01<00:00,  1.19s/files]\u001b[A\n",
      " 25%|██▌       | 155/612 [03:23<14:09,  1.86s/it]\n",
      "  0%|          | 0/1 [00:00<?, ?files/s]\u001b[A\n",
      "100%|██████████| 1/1 [00:00<00:00,  3.48files/s]\u001b[A\n",
      " 25%|██▌       | 156/612 [03:24<11:46,  1.55s/it]\n",
      "  0%|          | 0/1 [00:00<?, ?files/s]\u001b[A\n",
      "100%|██████████| 1/1 [00:00<00:00,  2.72files/s]\u001b[A\n",
      " 26%|██▌       | 157/612 [03:25<10:13,  1.35s/it]\n",
      "  0%|          | 0/1 [00:00<?, ?files/s]\u001b[A\n",
      "100%|██████████| 1/1 [00:01<00:00,  1.59s/files]\u001b[A\n",
      " 26%|██▌       | 158/612 [03:27<11:53,  1.57s/it]\n",
      "  0%|          | 0/1 [00:00<?, ?files/s]\u001b[A\n",
      "100%|██████████| 1/1 [00:02<00:00,  2.16s/files]\u001b[A\n",
      " 26%|██▌       | 159/612 [03:30<14:20,  1.90s/it]\n",
      "  0%|          | 0/1 [00:00<?, ?files/s]\u001b[A\n",
      "100%|██████████| 1/1 [00:00<00:00,  2.53files/s]\u001b[A\n",
      " 26%|██▌       | 160/612 [03:31<12:04,  1.60s/it]\n",
      "100%|██████████| 1/1 [00:00<00:00, 10.26files/s]\n",
      " 26%|██▋       | 161/612 [03:31<09:46,  1.30s/it]\n",
      "100%|██████████| 1/1 [00:00<00:00, 23.75files/s]\n",
      " 26%|██▋       | 162/612 [03:32<08:03,  1.07s/it]\n",
      "100%|██████████| 1/1 [00:00<00:00, 294.44files/s]\n",
      " 27%|██▋       | 163/612 [03:32<06:47,  1.10it/s]\n",
      "100%|██████████| 1/1 [00:00<00:00, 25.57files/s]\n",
      " 27%|██▋       | 164/612 [03:33<05:54,  1.26it/s]\n",
      "100%|██████████| 1/1 [00:00<00:00, 11.39files/s]\n",
      " 27%|██▋       | 165/612 [03:33<05:26,  1.37it/s]\n",
      "  0%|          | 0/1 [00:00<?, ?files/s]\u001b[A\n",
      "100%|██████████| 1/1 [00:00<00:00,  3.71files/s]\u001b[A\n",
      " 27%|██▋       | 166/612 [03:34<05:31,  1.34it/s]\n",
      "  0%|          | 0/1 [00:00<?, ?files/s]\u001b[A\n",
      "100%|██████████| 1/1 [00:00<00:00,  7.01files/s]\u001b[A\n",
      " 27%|██▋       | 167/612 [03:35<05:20,  1.39it/s]\n",
      "  0%|          | 0/1 [00:00<?, ?files/s]\u001b[A\n",
      "100%|██████████| 1/1 [00:01<00:00,  1.18s/files]\u001b[A\n",
      " 27%|██▋       | 168/612 [03:37<07:29,  1.01s/it]\n",
      "  0%|          | 0/1 [00:00<?, ?files/s]\u001b[A\n",
      "100%|██████████| 1/1 [00:00<00:00,  1.85files/s]\u001b[A\n",
      " 28%|██▊       | 169/612 [03:38<07:33,  1.02s/it]\n",
      "  0%|          | 0/1 [00:00<?, ?files/s]\u001b[A\n",
      "100%|██████████| 1/1 [00:02<00:00,  2.00s/files]\u001b[A\n",
      " 28%|██▊       | 170/612 [03:40<10:51,  1.47s/it]\n",
      "100%|██████████| 1/1 [00:00<00:00, 695.92files/s]\n",
      " 28%|██▊       | 171/612 [03:41<08:43,  1.19s/it]\n",
      "  0%|          | 0/1 [00:00<?, ?files/s]\u001b[A\n",
      "100%|██████████| 1/1 [00:00<00:00,  3.58files/s]\u001b[A\n",
      " 28%|██▊       | 172/612 [03:41<07:48,  1.07s/it]\n",
      "  0%|          | 0/1 [00:00<?, ?files/s]\u001b[A\n",
      "100%|██████████| 1/1 [00:00<00:00,  1.11files/s]\u001b[A\n",
      " 28%|██▊       | 173/612 [03:43<08:31,  1.17s/it]\n",
      "  0%|          | 0/1 [00:00<?, ?files/s]\u001b[A\n",
      "100%|██████████| 1/1 [00:00<00:00,  1.48files/s]\u001b[A\n",
      " 28%|██▊       | 174/612 [03:44<08:33,  1.17s/it]\n",
      "  0%|          | 0/1 [00:00<?, ?files/s]\u001b[A\n",
      "100%|██████████| 1/1 [00:00<00:00,  1.25files/s]\u001b[A\n",
      " 29%|██▊       | 175/612 [03:45<08:48,  1.21s/it]\n",
      "  0%|          | 0/1 [00:00<?, ?files/s]\u001b[A\n",
      "100%|██████████| 1/1 [00:00<00:00,  1.17files/s]\u001b[A\n",
      " 29%|██▉       | 176/612 [03:47<09:12,  1.27s/it]\n",
      "  0%|          | 0/1 [00:00<?, ?files/s]\u001b[A\n",
      "100%|██████████| 1/1 [00:01<00:00,  1.59s/files]\u001b[A\n",
      " 29%|██▉       | 177/612 [03:49<10:59,  1.52s/it]\n",
      "  0%|          | 0/1 [00:00<?, ?files/s]\u001b[A\n",
      "100%|██████████| 1/1 [00:00<00:00,  2.13files/s]\u001b[A\n",
      " 29%|██▉       | 178/612 [03:50<09:45,  1.35s/it]\n",
      "  0%|          | 0/1 [00:00<?, ?files/s]\u001b[A\n",
      "100%|██████████| 1/1 [00:00<00:00,  4.61files/s]\u001b[A\n",
      " 29%|██▉       | 179/612 [03:50<08:23,  1.16s/it]\n",
      "  0%|          | 0/1 [00:00<?, ?files/s]\u001b[A\n",
      "100%|██████████| 1/1 [00:00<00:00,  4.31files/s]\u001b[A\n",
      " 29%|██▉       | 180/612 [03:51<07:27,  1.03s/it]\n",
      "  0%|          | 0/1 [00:00<?, ?files/s]\u001b[A\n",
      "100%|██████████| 1/1 [00:00<00:00,  2.49files/s]\u001b[A\n",
      " 30%|██▉       | 181/612 [03:52<07:10,  1.00it/s]\n",
      "  0%|          | 0/1 [00:00<?, ?files/s]\u001b[A\n",
      "100%|██████████| 1/1 [00:00<00:00,  5.39files/s]\u001b[A\n",
      " 30%|██▉       | 182/612 [03:53<06:29,  1.10it/s]\n",
      "  0%|          | 0/1 [00:00<?, ?files/s]\u001b[A\n",
      "100%|██████████| 1/1 [00:00<00:00,  3.08files/s]\u001b[A\n",
      " 30%|██▉       | 183/612 [03:54<06:20,  1.13it/s]\n",
      "  0%|          | 0/1 [00:00<?, ?files/s]\u001b[A\n",
      "100%|██████████| 1/1 [00:01<00:00,  1.03s/files]\u001b[A\n",
      " 30%|███       | 184/612 [03:55<07:43,  1.08s/it]\n",
      "100%|██████████| 1/1 [00:00<00:00, 13.27files/s]\n",
      " 30%|███       | 185/612 [03:56<06:37,  1.07it/s]\n",
      "  0%|          | 0/1 [00:00<?, ?files/s]\u001b[A\n",
      "100%|██████████| 1/1 [00:00<00:00,  4.19files/s]\u001b[A\n",
      " 30%|███       | 186/612 [03:57<06:12,  1.14it/s]\n",
      "  0%|          | 0/1 [00:00<?, ?files/s]\u001b[A\n",
      "100%|██████████| 1/1 [00:01<00:00,  1.32s/files]\u001b[A\n",
      " 31%|███       | 187/612 [03:58<08:15,  1.17s/it]\n",
      "  0%|          | 0/1 [00:00<?, ?files/s]\u001b[A\n",
      "100%|██████████| 1/1 [00:00<00:00,  1.77files/s]\u001b[A\n",
      " 31%|███       | 188/612 [03:59<08:04,  1.14s/it]\n",
      "100%|██████████| 1/1 [00:00<00:00, 58.83files/s]\n",
      " 31%|███       | 189/612 [04:00<06:44,  1.05it/s]\n",
      "  0%|          | 0/1 [00:00<?, ?files/s]\u001b[A\n",
      "100%|██████████| 1/1 [00:00<00:00,  1.11files/s]\u001b[A\n",
      " 31%|███       | 190/612 [04:01<07:40,  1.09s/it]\n",
      "  0%|          | 0/1 [00:00<?, ?files/s]\u001b[A\n",
      "100%|██████████| 1/1 [00:00<00:00,  3.13files/s]\u001b[A\n",
      " 31%|███       | 191/612 [04:02<07:09,  1.02s/it]\n",
      "  0%|          | 0/1 [00:00<?, ?files/s]\u001b[A\n",
      "100%|██████████| 1/1 [00:00<00:00,  3.21files/s]\u001b[A\n",
      " 31%|███▏      | 192/612 [04:03<06:45,  1.04it/s]\n",
      "  0%|          | 0/1 [00:00<?, ?files/s]\u001b[A\n",
      "100%|██████████| 1/1 [00:00<00:00,  1.04files/s]\u001b[A\n",
      " 32%|███▏      | 193/612 [04:05<07:46,  1.11s/it]\n",
      "  0%|          | 0/1 [00:00<?, ?files/s]\u001b[A\n",
      "100%|██████████| 1/1 [00:00<00:00,  3.63files/s]\u001b[A\n",
      " 32%|███▏      | 194/612 [04:05<07:03,  1.01s/it]\n",
      "  0%|          | 0/1 [00:00<?, ?files/s]\u001b[A\n",
      "100%|██████████| 1/1 [00:00<00:00,  8.38files/s]\u001b[A\n",
      " 32%|███▏      | 195/612 [04:06<06:13,  1.12it/s]\n",
      "  0%|          | 0/1 [00:00<?, ?files/s]\u001b[A\n",
      "100%|██████████| 1/1 [00:00<00:00,  5.34files/s]\u001b[A\n",
      " 32%|███▏      | 196/612 [04:07<05:46,  1.20it/s]\n",
      "  0%|          | 0/1 [00:00<?, ?files/s]\u001b[A\n",
      "100%|██████████| 1/1 [00:01<00:00,  1.34s/files]\u001b[A\n",
      " 32%|███▏      | 197/612 [04:08<07:51,  1.14s/it]\n",
      "  0%|          | 0/1 [00:00<?, ?files/s]\u001b[A\n",
      "100%|██████████| 1/1 [00:00<00:00,  1.64files/s]\u001b[A\n",
      " 32%|███▏      | 198/612 [04:10<07:47,  1.13s/it]\n",
      "  0%|          | 0/1 [00:00<?, ?files/s]\u001b[A\n",
      "100%|██████████| 1/1 [00:00<00:00,  5.38files/s]\u001b[A\n",
      " 33%|███▎      | 199/612 [04:10<06:51,  1.00it/s]\n",
      "  0%|          | 0/1 [00:00<?, ?files/s]\u001b[A\n",
      "100%|██████████| 1/1 [00:00<00:00,  8.93files/s]\u001b[A\n",
      " 33%|███▎      | 200/612 [04:11<06:03,  1.13it/s]\n",
      "  0%|          | 0/1 [00:00<?, ?files/s]\u001b[A\n",
      "100%|██████████| 1/1 [00:01<00:00,  1.38s/files]\u001b[A\n",
      " 33%|███▎      | 201/612 [04:13<08:04,  1.18s/it]\n",
      "  0%|          | 0/1 [00:00<?, ?files/s]\u001b[A\n",
      "100%|██████████| 1/1 [00:00<00:00,  4.92files/s]\u001b[A\n",
      " 33%|███▎      | 202/612 [04:13<07:05,  1.04s/it]\n",
      "  0%|          | 0/1 [00:00<?, ?files/s]\u001b[A\n",
      "100%|██████████| 1/1 [00:01<00:00,  1.08s/files]\u001b[A\n",
      " 33%|███▎      | 203/612 [04:15<08:13,  1.21s/it]\n",
      "  0%|          | 0/1 [00:00<?, ?files/s]\u001b[A\n",
      "100%|██████████| 1/1 [00:01<00:00,  1.08s/files]\u001b[A\n",
      " 33%|███▎      | 204/612 [04:17<09:00,  1.32s/it]\n",
      "  0%|          | 0/1 [00:00<?, ?files/s]\u001b[A\n",
      "100%|██████████| 1/1 [00:00<00:00,  2.55files/s]\u001b[A\n",
      " 33%|███▎      | 205/612 [04:18<08:06,  1.19s/it]\n",
      "  0%|          | 0/1 [00:00<?, ?files/s]\u001b[A\n",
      "100%|██████████| 1/1 [00:00<00:00,  9.05files/s]\u001b[A\n",
      " 34%|███▎      | 206/612 [04:18<06:54,  1.02s/it]\n",
      "  0%|          | 0/1 [00:00<?, ?files/s]\u001b[A\n",
      "100%|██████████| 1/1 [00:00<00:00,  1.06files/s]\u001b[A\n",
      " 34%|███▍      | 207/612 [04:20<07:45,  1.15s/it]\n",
      "  0%|          | 0/1 [00:00<?, ?files/s]\u001b[A\n",
      "100%|██████████| 1/1 [00:01<00:00,  1.51s/files]\u001b[A\n",
      " 34%|███▍      | 208/612 [04:22<09:28,  1.41s/it]\n",
      "  0%|          | 0/1 [00:00<?, ?files/s]\u001b[A\n",
      "100%|██████████| 1/1 [00:00<00:00,  2.99files/s]\u001b[A\n",
      " 34%|███▍      | 209/612 [04:22<08:19,  1.24s/it]\n",
      "  0%|          | 0/1 [00:00<?, ?files/s]\u001b[A\n",
      "100%|██████████| 1/1 [00:02<00:00,  2.87s/files]\u001b[A\n",
      " 34%|███▍      | 210/612 [04:26<12:37,  1.88s/it]\n",
      "100%|██████████| 1/1 [00:00<00:00, 12.87files/s]\n",
      " 34%|███▍      | 211/612 [04:26<09:58,  1.49s/it]\n",
      "  0%|          | 0/1 [00:00<?, ?files/s]\u001b[A\n",
      "100%|██████████| 1/1 [00:00<00:00,  1.10files/s]\u001b[A\n",
      " 35%|███▍      | 212/612 [04:28<09:46,  1.47s/it]\n",
      "  0%|          | 0/1 [00:00<?, ?files/s]\u001b[A\n",
      "100%|██████████| 1/1 [00:00<00:00,  2.46files/s]\u001b[A\n",
      " 35%|███▍      | 213/612 [04:29<08:40,  1.31s/it]\n",
      "100%|██████████| 1/1 [00:00<00:00, 29.54files/s]\n",
      " 35%|███▍      | 214/612 [04:29<07:07,  1.07s/it]\n",
      "  0%|          | 0/1 [00:00<?, ?files/s]\u001b[A\n",
      "100%|██████████| 1/1 [00:00<00:00,  5.29files/s]\u001b[A\n",
      " 35%|███▌      | 215/612 [04:30<06:21,  1.04it/s]\n",
      "100%|██████████| 1/1 [00:00<00:00, 39.17files/s]\n",
      " 35%|███▌      | 216/612 [04:31<05:30,  1.20it/s]\n",
      "  0%|          | 0/1 [00:00<?, ?files/s]\u001b[A\n",
      "100%|██████████| 1/1 [00:00<00:00,  1.04files/s]\u001b[A\n",
      " 35%|███▌      | 217/612 [04:32<06:44,  1.02s/it]\n",
      "  0%|          | 0/1 [00:00<?, ?files/s]\u001b[A\n",
      "100%|██████████| 1/1 [00:00<00:00,  1.39files/s]\u001b[A\n",
      " 36%|███▌      | 218/612 [04:33<07:10,  1.09s/it]\n",
      "  0%|          | 0/1 [00:00<?, ?files/s]\u001b[A\n",
      "100%|██████████| 1/1 [00:00<00:00,  1.07files/s]\u001b[A\n",
      " 36%|███▌      | 219/612 [04:35<07:58,  1.22s/it]\n",
      "  0%|          | 0/1 [00:00<?, ?files/s]\u001b[A\n",
      "100%|██████████| 1/1 [00:00<00:00,  9.44files/s]\u001b[A\n",
      " 36%|███▌      | 220/612 [04:35<06:45,  1.03s/it]\n",
      "  0%|          | 0/1 [00:00<?, ?files/s]\u001b[A\n",
      "100%|██████████| 1/1 [00:00<00:00,  8.36files/s]\u001b[A\n",
      " 36%|███▌      | 221/612 [04:36<05:55,  1.10it/s]\n",
      "  0%|          | 0/1 [00:00<?, ?files/s]\u001b[A\n",
      "100%|██████████| 1/1 [00:00<00:00,  6.78files/s]\u001b[A\n",
      " 36%|███▋      | 222/612 [04:37<05:24,  1.20it/s]\n",
      "  0%|          | 0/1 [00:00<?, ?files/s]\u001b[A\n",
      "100%|██████████| 1/1 [00:00<00:00,  3.09files/s]\u001b[A\n",
      " 36%|███▋      | 223/612 [04:37<05:22,  1.21it/s]\n",
      "  0%|          | 0/1 [00:00<?, ?files/s]\u001b[A\n",
      "100%|██████████| 1/1 [00:01<00:00,  1.45s/files]\u001b[A\n",
      " 37%|███▋      | 224/612 [04:39<07:34,  1.17s/it]\n",
      "100%|██████████| 1/1 [00:00<00:00, 13.09files/s]\n",
      " 37%|███▋      | 225/612 [04:40<06:24,  1.01it/s]\n",
      "  0%|          | 0/1 [00:00<?, ?files/s]\u001b[A\n",
      "100%|██████████| 1/1 [00:00<00:00,  2.15files/s]\u001b[A\n",
      " 37%|███▋      | 226/612 [04:41<06:28,  1.01s/it]\n",
      "  0%|          | 0/1 [00:00<?, ?files/s]\u001b[A\n",
      "100%|██████████| 1/1 [00:01<00:00,  1.40s/files]\u001b[A\n",
      " 37%|███▋      | 227/612 [04:43<08:10,  1.27s/it]\n",
      "100%|██████████| 1/1 [00:00<00:00, 20.83files/s]\n",
      " 37%|███▋      | 228/612 [04:44<06:46,  1.06s/it]\n",
      "  0%|          | 0/1 [00:00<?, ?files/s]\u001b[A\n",
      "100%|██████████| 1/1 [00:00<00:00,  1.31files/s]\u001b[A\n",
      " 37%|███▋      | 229/612 [04:45<07:10,  1.12s/it]\n",
      "  0%|          | 0/1 [00:00<?, ?files/s]\u001b[A\n",
      "100%|██████████| 1/1 [00:01<00:00,  1.67s/files]\u001b[A\n",
      " 38%|███▊      | 230/612 [04:47<09:10,  1.44s/it]\n",
      "  0%|          | 0/1 [00:00<?, ?files/s]\u001b[A\n",
      "100%|██████████| 1/1 [00:01<00:00,  1.90s/files]\u001b[A\n",
      " 38%|███▊      | 231/612 [04:49<10:58,  1.73s/it]\n",
      "  0%|          | 0/1 [00:00<?, ?files/s]\u001b[A\n",
      "100%|██████████| 1/1 [00:00<00:00,  1.22files/s]\u001b[A\n",
      " 38%|███▊      | 232/612 [04:51<10:12,  1.61s/it]\n",
      "  0%|          | 0/1 [00:00<?, ?files/s]\u001b[A\n",
      "100%|██████████| 1/1 [00:02<00:00,  2.59s/files]\u001b[A\n",
      " 38%|███▊      | 233/612 [04:54<12:59,  2.06s/it]\n",
      "  0%|          | 0/1 [00:00<?, ?files/s]\u001b[A\n",
      "100%|██████████| 1/1 [00:02<00:00,  2.06s/files]\u001b[A\n",
      " 38%|███▊      | 234/612 [04:56<13:53,  2.21s/it]\n",
      "  0%|          | 0/1 [00:00<?, ?files/s]\u001b[A\n",
      "100%|██████████| 1/1 [00:00<00:00,  2.40files/s]\u001b[A\n",
      " 38%|███▊      | 235/612 [04:57<11:24,  1.82s/it]\n",
      "  0%|          | 0/1 [00:00<?, ?files/s]\u001b[A\n",
      "100%|██████████| 1/1 [00:01<00:00,  1.55s/files]\u001b[A\n",
      " 39%|███▊      | 236/612 [04:59<11:50,  1.89s/it]\n",
      "  0%|          | 0/1 [00:00<?, ?files/s]\u001b[A\n"
     ]
    },
    {
     "name": "stderr",
     "output_type": "stream",
     "text": [
      "100%|██████████| 1/1 [00:01<00:00,  1.36s/files]\u001b[A\n",
      " 39%|███▊      | 237/612 [05:01<11:44,  1.88s/it]\n",
      "  0%|          | 0/1 [00:00<?, ?files/s]\u001b[A\n",
      "100%|██████████| 1/1 [00:00<00:00,  6.05files/s]\u001b[A\n",
      " 39%|███▉      | 238/612 [05:02<09:26,  1.51s/it]\n",
      "100%|██████████| 1/1 [00:00<00:00, 175.13files/s]\n",
      " 39%|███▉      | 239/612 [05:02<07:32,  1.21s/it]\n",
      "  0%|          | 0/1 [00:00<?, ?files/s]\u001b[A\n",
      "100%|██████████| 1/1 [00:02<00:00,  2.42s/files]\u001b[A\n",
      " 39%|███▉      | 240/612 [05:05<10:42,  1.73s/it]\n",
      "  0%|          | 0/1 [00:00<?, ?files/s]\u001b[A\n",
      "100%|██████████| 1/1 [00:01<00:00,  1.65s/files]\u001b[A\n",
      " 39%|███▉      | 241/612 [05:07<11:29,  1.86s/it]\n",
      "  0%|          | 0/1 [00:00<?, ?files/s]\u001b[A\n",
      "100%|██████████| 1/1 [00:00<00:00,  2.90files/s]\u001b[A\n",
      " 40%|███▉      | 242/612 [05:08<09:36,  1.56s/it]\n",
      "  0%|          | 0/1 [00:00<?, ?files/s]\u001b[A\n",
      "100%|██████████| 1/1 [00:01<00:00,  1.36s/files]\u001b[A\n",
      " 40%|███▉      | 243/612 [05:10<10:09,  1.65s/it]\n",
      "  0%|          | 0/1 [00:00<?, ?files/s]\u001b[A\n",
      "100%|██████████| 1/1 [00:00<00:00,  1.63files/s]\u001b[A\n",
      " 40%|███▉      | 244/612 [05:11<09:08,  1.49s/it]\n",
      "100%|██████████| 1/1 [00:00<00:00, 10.23files/s]\n",
      " 40%|████      | 245/612 [05:12<07:30,  1.23s/it]\n",
      "100%|██████████| 1/1 [00:00<00:00, 126.34files/s]\n",
      " 40%|████      | 246/612 [05:12<06:09,  1.01s/it]\n",
      "  0%|          | 0/1 [00:00<?, ?files/s]\u001b[A\n",
      "100%|██████████| 1/1 [00:00<00:00,  2.18files/s]\u001b[A\n",
      " 40%|████      | 247/612 [05:13<06:05,  1.00s/it]\n",
      "  0%|          | 0/1 [00:00<?, ?files/s]\u001b[A\n",
      "100%|██████████| 1/1 [00:00<00:00,  1.04files/s]\u001b[A\n",
      " 41%|████      | 248/612 [05:15<06:57,  1.15s/it]\n",
      "  0%|          | 0/1 [00:00<?, ?files/s]\u001b[A\n",
      "100%|██████████| 1/1 [00:00<00:00,  6.55files/s]\u001b[A\n",
      " 41%|████      | 249/612 [05:16<06:05,  1.01s/it]\n",
      "  0%|          | 0/1 [00:00<?, ?files/s]\u001b[A\n",
      "100%|██████████| 1/1 [00:01<00:00,  1.21s/files]\u001b[A\n",
      " 41%|████      | 250/612 [05:17<07:28,  1.24s/it]\n",
      "  0%|          | 0/1 [00:00<?, ?files/s]\u001b[A\n",
      "100%|██████████| 1/1 [00:02<00:00,  2.40s/files]\u001b[A\n",
      " 41%|████      | 251/612 [05:20<10:27,  1.74s/it]\n",
      "100%|██████████| 1/1 [00:00<00:00, 11.81files/s]\n",
      " 41%|████      | 252/612 [05:21<08:23,  1.40s/it]\n",
      "  0%|          | 0/1 [00:00<?, ?files/s]\u001b[A\n",
      "100%|██████████| 1/1 [00:00<00:00,  6.45files/s]\u001b[A\n",
      " 41%|████▏     | 253/612 [05:22<07:03,  1.18s/it]\n",
      "  0%|          | 0/1 [00:00<?, ?files/s]\u001b[A\n",
      "100%|██████████| 1/1 [00:00<00:00,  3.50files/s]\u001b[A\n",
      " 42%|████▏     | 254/612 [05:22<06:19,  1.06s/it]\n",
      "  0%|          | 0/1 [00:00<?, ?files/s]\u001b[A\n",
      "100%|██████████| 1/1 [00:00<00:00,  7.56files/s]\u001b[A\n",
      " 42%|████▏     | 255/612 [05:23<05:32,  1.07it/s]\n",
      "  0%|          | 0/1 [00:00<?, ?files/s]\u001b[A\n",
      "100%|██████████| 1/1 [00:00<00:00,  3.45files/s]\u001b[A\n",
      " 42%|████▏     | 256/612 [05:24<05:17,  1.12it/s]\n",
      "100%|██████████| 1/1 [00:00<00:00, 25.75files/s]\n",
      " 42%|████▏     | 257/612 [05:24<04:37,  1.28it/s]\n",
      "  0%|          | 0/1 [00:00<?, ?files/s]\u001b[A\n",
      "100%|██████████| 1/1 [00:00<00:00,  1.56files/s]\u001b[A\n",
      " 42%|████▏     | 258/612 [05:25<05:17,  1.12it/s]\n",
      "  0%|          | 0/1 [00:00<?, ?files/s]\u001b[A\n",
      "100%|██████████| 1/1 [00:01<00:00,  1.65s/files]\u001b[A\n",
      " 42%|████▏     | 259/612 [05:28<07:30,  1.28s/it]\n",
      "100%|██████████| 1/1 [00:00<00:00, 26.73files/s]\n",
      " 42%|████▏     | 260/612 [05:28<06:12,  1.06s/it]\n",
      "  0%|          | 0/1 [00:00<?, ?files/s]\u001b[A\n",
      "100%|██████████| 1/1 [00:01<00:00,  1.10s/files]\u001b[A\n",
      " 43%|████▎     | 261/612 [05:30<07:09,  1.22s/it]\n",
      "  0%|          | 0/1 [00:00<?, ?files/s]\u001b[A\n",
      "100%|██████████| 1/1 [00:00<00:00,  1.01files/s]\u001b[A\n",
      " 43%|████▎     | 262/612 [05:31<07:41,  1.32s/it]\n",
      "  0%|          | 0/1 [00:00<?, ?files/s]\u001b[A\n",
      "100%|██████████| 1/1 [00:01<00:00,  1.17s/files]\u001b[A\n",
      " 43%|████▎     | 263/612 [05:33<08:18,  1.43s/it]\n",
      "  0%|          | 0/1 [00:00<?, ?files/s]\u001b[A\n",
      "100%|██████████| 1/1 [00:00<00:00,  9.42files/s]\u001b[A\n",
      " 43%|████▎     | 264/612 [05:34<06:51,  1.18s/it]\n",
      "  0%|          | 0/1 [00:00<?, ?files/s]\u001b[A\n",
      "100%|██████████| 1/1 [00:00<00:00,  1.44files/s]\u001b[A\n",
      " 43%|████▎     | 265/612 [05:35<06:52,  1.19s/it]\n",
      "  0%|          | 0/1 [00:00<?, ?files/s]\u001b[A\n",
      "100%|██████████| 1/1 [00:01<00:00,  1.19s/files]\u001b[A\n",
      " 43%|████▎     | 266/612 [05:36<07:46,  1.35s/it]\n",
      "  0%|          | 0/1 [00:00<?, ?files/s]\u001b[A\n",
      "100%|██████████| 1/1 [00:02<00:00,  2.05s/files]\u001b[A\n",
      " 44%|████▎     | 267/612 [05:39<09:51,  1.71s/it]\n",
      "  0%|          | 0/1 [00:00<?, ?files/s]\u001b[A\n",
      "100%|██████████| 1/1 [00:00<00:00,  3.77files/s]\u001b[A\n",
      " 44%|████▍     | 268/612 [05:40<08:13,  1.43s/it]\n",
      "  0%|          | 0/1 [00:00<?, ?files/s]\u001b[A\n",
      "100%|██████████| 1/1 [00:00<00:00,  5.48files/s]\u001b[A\n",
      " 44%|████▍     | 269/612 [05:41<06:57,  1.22s/it]\n",
      "  0%|          | 0/1 [00:00<?, ?files/s]\u001b[A\n",
      "100%|██████████| 1/1 [00:00<00:00,  2.56files/s]\u001b[A\n",
      " 44%|████▍     | 270/612 [05:41<06:22,  1.12s/it]\n",
      "  0%|          | 0/1 [00:00<?, ?files/s]\u001b[A\n",
      "100%|██████████| 1/1 [00:00<00:00,  1.29files/s]\u001b[A\n",
      " 44%|████▍     | 271/612 [05:43<06:38,  1.17s/it]\n",
      "  0%|          | 0/1 [00:00<?, ?files/s]\u001b[A\n",
      "100%|██████████| 1/1 [00:01<00:00,  1.34s/files]\u001b[A\n",
      " 44%|████▍     | 272/612 [05:45<07:48,  1.38s/it]\n",
      "  0%|          | 0/1 [00:00<?, ?files/s]\u001b[A\n",
      "100%|██████████| 1/1 [00:00<00:00,  1.44files/s]\u001b[A\n",
      " 45%|████▍     | 273/612 [05:46<07:30,  1.33s/it]\n",
      "  0%|          | 0/1 [00:00<?, ?files/s]\u001b[A\n",
      "100%|██████████| 1/1 [00:02<00:00,  2.22s/files]\u001b[A\n",
      " 45%|████▍     | 274/612 [05:49<09:51,  1.75s/it]\n",
      "100%|██████████| 1/1 [00:00<00:00, 246.80files/s]\n",
      " 45%|████▍     | 275/612 [05:49<07:44,  1.38s/it]\n",
      "  0%|          | 0/1 [00:00<?, ?files/s]\u001b[A\n",
      "100%|██████████| 1/1 [00:02<00:00,  2.23s/files]\u001b[A\n",
      " 45%|████▌     | 276/612 [05:52<09:57,  1.78s/it]\n",
      "  0%|          | 0/1 [00:00<?, ?files/s]\u001b[A\n",
      "100%|██████████| 1/1 [00:01<00:00,  1.09s/files]\u001b[A\n",
      " 45%|████▌     | 277/612 [05:53<09:38,  1.73s/it]\n",
      "  0%|          | 0/1 [00:00<?, ?files/s]\u001b[A\n",
      "100%|██████████| 1/1 [00:01<00:00,  1.99s/files]\u001b[A\n",
      " 45%|████▌     | 278/612 [05:56<10:55,  1.96s/it]\n",
      "  0%|          | 0/1 [00:00<?, ?files/s]\u001b[A\n",
      "100%|██████████| 1/1 [00:01<00:00,  1.85s/files]\u001b[A\n",
      " 46%|████▌     | 279/612 [05:58<11:32,  2.08s/it]\n",
      "  0%|          | 0/1 [00:00<?, ?files/s]\u001b[A\n",
      "100%|██████████| 1/1 [00:00<00:00,  1.70files/s]\u001b[A\n",
      " 46%|████▌     | 280/612 [05:59<09:49,  1.77s/it]\n",
      "100%|██████████| 1/1 [00:00<00:00, 32.71files/s]\n",
      " 46%|████▌     | 281/612 [06:00<07:44,  1.40s/it]\n",
      "  0%|          | 0/1 [00:00<?, ?files/s]\u001b[A\n",
      "100%|██████████| 1/1 [00:01<00:00,  1.55s/files]\u001b[A\n",
      " 46%|████▌     | 282/612 [06:02<08:47,  1.60s/it]\n",
      "  0%|          | 0/1 [00:00<?, ?files/s]\u001b[A\n",
      "100%|██████████| 1/1 [00:01<00:00,  1.12s/files]\u001b[A\n",
      " 46%|████▌     | 283/612 [06:04<08:48,  1.61s/it]\n",
      "  0%|          | 0/1 [00:00<?, ?files/s]\u001b[A\n",
      "100%|██████████| 1/1 [00:00<00:00,  2.14files/s]\u001b[A\n",
      " 46%|████▋     | 284/612 [06:04<07:45,  1.42s/it]\n",
      "  0%|          | 0/1 [00:00<?, ?files/s]\u001b[A\n",
      "100%|██████████| 1/1 [00:00<00:00,  1.69files/s]\u001b[A\n",
      " 47%|████▋     | 285/612 [06:06<07:16,  1.34s/it]\n",
      "  0%|          | 0/1 [00:00<?, ?files/s]\u001b[A\n",
      "100%|██████████| 1/1 [00:01<00:00,  1.51s/files]\u001b[A\n",
      " 47%|████▋     | 286/612 [06:08<08:21,  1.54s/it]\n",
      "  0%|          | 0/1 [00:00<?, ?files/s]\u001b[A\n",
      "100%|██████████| 1/1 [00:01<00:00,  1.75s/files]\u001b[A\n",
      " 47%|████▋     | 287/612 [06:10<09:30,  1.76s/it]\n",
      "  0%|          | 0/1 [00:00<?, ?files/s]\u001b[A\n",
      "100%|██████████| 1/1 [00:00<00:00,  4.85files/s]\u001b[A\n",
      " 47%|████▋     | 288/612 [06:11<07:49,  1.45s/it]\n",
      "100%|██████████| 1/1 [00:00<00:00, 24.15files/s]\n",
      " 47%|████▋     | 289/612 [06:11<06:23,  1.19s/it]\n",
      "  0%|          | 0/1 [00:00<?, ?files/s]\u001b[A\n",
      "100%|██████████| 1/1 [00:01<00:00,  1.90s/files]\u001b[A\n",
      " 47%|████▋     | 290/612 [06:14<08:20,  1.55s/it]\n",
      "  0%|          | 0/1 [00:00<?, ?files/s]\u001b[A\n",
      "100%|██████████| 1/1 [00:00<00:00,  1.85files/s]\u001b[A\n",
      " 48%|████▊     | 291/612 [06:15<07:31,  1.41s/it]\n",
      "  0%|          | 0/1 [00:00<?, ?files/s]\u001b[A\n",
      "100%|██████████| 1/1 [00:00<00:00,  1.28files/s]\u001b[A\n",
      " 48%|████▊     | 292/612 [06:16<07:19,  1.37s/it]\n",
      "  0%|          | 0/1 [00:00<?, ?files/s]\u001b[A\n",
      "100%|██████████| 1/1 [00:01<00:00,  1.73s/files]\u001b[A\n",
      " 48%|████▊     | 293/612 [06:18<08:39,  1.63s/it]\n",
      "  0%|          | 0/1 [00:00<?, ?files/s]\u001b[A\n",
      "100%|██████████| 1/1 [00:00<00:00,  5.95files/s]\u001b[A\n",
      " 48%|████▊     | 294/612 [06:19<07:05,  1.34s/it]\n",
      "  0%|          | 0/1 [00:00<?, ?files/s]\u001b[A\n",
      "100%|██████████| 1/1 [00:01<00:00,  1.38s/files]\u001b[A\n",
      " 48%|████▊     | 295/612 [06:21<07:56,  1.50s/it]\n",
      "100%|██████████| 1/1 [00:00<00:00, 43.68files/s]\n",
      " 48%|████▊     | 296/612 [06:21<06:22,  1.21s/it]\n",
      "  0%|          | 0/1 [00:00<?, ?files/s]\u001b[A\n",
      "100%|██████████| 1/1 [00:00<00:00,  6.21files/s]\u001b[A\n",
      " 49%|████▊     | 297/612 [06:22<05:28,  1.04s/it]\n",
      "  0%|          | 0/1 [00:00<?, ?files/s]\u001b[A\n",
      "100%|██████████| 1/1 [00:00<00:00,  3.84files/s]\u001b[A\n",
      " 49%|████▊     | 298/612 [06:23<05:03,  1.04it/s]\n",
      "100%|██████████| 1/1 [00:00<00:00, 10.38files/s]\n",
      " 49%|████▉     | 299/612 [06:23<04:27,  1.17it/s]\n",
      "  0%|          | 0/1 [00:00<?, ?files/s]\u001b[A\n",
      "100%|██████████| 1/1 [00:02<00:00,  2.27s/files]\u001b[A\n",
      " 49%|████▉     | 300/612 [06:26<07:26,  1.43s/it]\n",
      "  0%|          | 0/1 [00:00<?, ?files/s]\u001b[A\n",
      "100%|██████████| 1/1 [00:01<00:00,  1.38s/files]\u001b[A\n",
      " 49%|████▉     | 301/612 [06:28<08:06,  1.56s/it]\n",
      "  0%|          | 0/1 [00:00<?, ?files/s]\u001b[A\n",
      "100%|██████████| 1/1 [00:00<00:00,  8.52files/s]\u001b[A\n",
      " 49%|████▉     | 302/612 [06:29<06:36,  1.28s/it]\n",
      "100%|██████████| 1/1 [00:00<00:00, 10.93files/s]\n",
      " 50%|████▉     | 303/612 [06:29<05:31,  1.07s/it]\n",
      "  0%|          | 0/1 [00:00<?, ?files/s]\u001b[A\n",
      "100%|██████████| 1/1 [00:01<00:00,  1.48s/files]\u001b[A\n",
      " 50%|████▉     | 304/612 [06:31<06:56,  1.35s/it]\n",
      "  0%|          | 0/1 [00:00<?, ?files/s]\u001b[A\n",
      "100%|██████████| 1/1 [00:02<00:00,  2.10s/files]\u001b[A\n",
      " 50%|████▉     | 305/612 [06:34<08:51,  1.73s/it]\n",
      "  0%|          | 0/1 [00:00<?, ?files/s]\u001b[A\n",
      "100%|██████████| 1/1 [00:00<00:00,  1.81files/s]\u001b[A\n",
      " 50%|█████     | 306/612 [06:35<07:47,  1.53s/it]\n",
      "  0%|          | 0/1 [00:00<?, ?files/s]\u001b[A\n",
      "100%|██████████| 1/1 [00:01<00:00,  1.10s/files]\u001b[A\n",
      " 50%|█████     | 307/612 [06:36<07:51,  1.55s/it]\n",
      "  0%|          | 0/1 [00:00<?, ?files/s]\u001b[A\n",
      "100%|██████████| 1/1 [00:00<00:00,  8.39files/s]\u001b[A\n",
      " 50%|█████     | 308/612 [06:37<06:25,  1.27s/it]\n",
      "100%|██████████| 1/1 [00:00<00:00, 33.25files/s]\n",
      " 50%|█████     | 309/612 [06:38<05:17,  1.05s/it]\n",
      "  0%|          | 0/1 [00:00<?, ?files/s]\u001b[A\n",
      "100%|██████████| 1/1 [00:00<00:00,  1.72files/s]\u001b[A\n",
      " 51%|█████     | 310/612 [06:39<05:17,  1.05s/it]\n",
      "  0%|          | 0/1 [00:00<?, ?files/s]\u001b[A\n",
      "100%|██████████| 1/1 [00:00<00:00,  1.08files/s]\u001b[A\n",
      " 51%|█████     | 311/612 [06:40<05:49,  1.16s/it]\n",
      "100%|██████████| 1/1 [00:00<00:00, 36.22files/s]\n",
      " 51%|█████     | 312/612 [06:41<04:51,  1.03it/s]\n",
      "100%|██████████| 1/1 [00:00<00:00, 37.26files/s]\n",
      " 51%|█████     | 313/612 [06:41<04:11,  1.19it/s]\n",
      "  0%|          | 0/1 [00:00<?, ?files/s]\u001b[A\n",
      "100%|██████████| 1/1 [00:01<00:00,  1.70s/files]\u001b[A\n",
      " 51%|█████▏    | 314/612 [06:43<06:12,  1.25s/it]\n",
      "  0%|          | 0/1 [00:00<?, ?files/s]\u001b[A\n",
      "100%|██████████| 1/1 [00:00<00:00,  2.98files/s]\u001b[A\n",
      " 51%|█████▏    | 315/612 [06:44<05:34,  1.13s/it]\n",
      "  0%|          | 0/1 [00:00<?, ?files/s]\u001b[A\n",
      "100%|██████████| 1/1 [00:00<00:00,  1.64files/s]\u001b[A\n",
      " 52%|█████▏    | 316/612 [06:45<05:30,  1.12s/it]\n",
      "  0%|          | 0/1 [00:00<?, ?files/s]\u001b[A\n",
      "100%|██████████| 1/1 [00:00<00:00,  5.24files/s]\u001b[A\n",
      " 52%|█████▏    | 317/612 [06:46<04:50,  1.01it/s]\n",
      "  0%|          | 0/1 [00:00<?, ?files/s]\u001b[A\n",
      "100%|██████████| 1/1 [00:00<00:00,  4.61files/s]\u001b[A\n",
      " 52%|█████▏    | 318/612 [06:47<04:27,  1.10it/s]\n",
      "  0%|          | 0/1 [00:00<?, ?files/s]\u001b[A\n",
      "100%|██████████| 1/1 [00:00<00:00,  1.17files/s]\u001b[A\n",
      " 52%|█████▏    | 319/612 [06:48<05:03,  1.04s/it]\n",
      "  0%|          | 0/1 [00:00<?, ?files/s]\u001b[A\n",
      "100%|██████████| 1/1 [00:02<00:00,  2.01s/files]\u001b[A\n",
      " 52%|█████▏    | 320/612 [06:51<07:11,  1.48s/it]\n",
      "  0%|          | 0/1 [00:00<?, ?files/s]\u001b[A\n",
      "100%|██████████| 1/1 [00:01<00:00,  1.88s/files]\u001b[A\n",
      " 52%|█████▏    | 321/612 [06:53<08:29,  1.75s/it]\n",
      "100%|██████████| 1/1 [00:00<00:00, 225.09files/s]\n",
      " 53%|█████▎    | 322/612 [06:53<06:39,  1.38s/it]\n",
      "  0%|          | 0/1 [00:00<?, ?files/s]\u001b[A\n",
      "100%|██████████| 1/1 [00:00<00:00,  1.38files/s]\u001b[A\n",
      " 53%|█████▎    | 323/612 [06:55<06:25,  1.33s/it]\n",
      "100%|██████████| 1/1 [00:00<00:00, 216.59files/s]\n",
      " 53%|█████▎    | 324/612 [06:55<05:11,  1.08s/it]\n",
      "  0%|          | 0/1 [00:00<?, ?files/s]\u001b[A\n",
      "100%|██████████| 1/1 [00:00<00:00,  1.80files/s]\u001b[A\n",
      " 53%|█████▎    | 325/612 [06:56<05:08,  1.08s/it]\n",
      "  0%|          | 0/1 [00:00<?, ?files/s]\u001b[A\n",
      "100%|██████████| 1/1 [00:00<00:00,  3.31files/s]\u001b[A\n",
      " 53%|█████▎    | 326/612 [06:57<04:45,  1.00it/s]\n",
      "  0%|          | 0/1 [00:00<?, ?files/s]\u001b[A\n",
      "100%|██████████| 1/1 [00:02<00:00,  2.34s/files]\u001b[A\n",
      " 53%|█████▎    | 327/612 [07:00<07:23,  1.56s/it]\n",
      "  0%|          | 0/1 [00:00<?, ?files/s]\u001b[A\n",
      "100%|██████████| 1/1 [00:00<00:00,  4.40files/s]\u001b[A\n",
      " 54%|█████▎    | 328/612 [07:01<06:11,  1.31s/it]\n",
      "  0%|          | 0/1 [00:00<?, ?files/s]\u001b[A\n",
      "100%|██████████| 1/1 [00:00<00:00,  1.57files/s]\u001b[A\n",
      " 54%|█████▍    | 329/612 [07:02<05:54,  1.25s/it]\n",
      "  0%|          | 0/1 [00:00<?, ?files/s]\u001b[A\n",
      "100%|██████████| 1/1 [00:01<00:00,  1.08s/files]\u001b[A\n",
      " 54%|█████▍    | 330/612 [07:03<06:20,  1.35s/it]\n",
      "  0%|          | 0/1 [00:00<?, ?files/s]\u001b[A\n",
      "100%|██████████| 1/1 [00:01<00:00,  1.68s/files]\u001b[A\n",
      " 54%|█████▍    | 331/612 [07:05<07:29,  1.60s/it]\n",
      "  0%|          | 0/1 [00:00<?, ?files/s]\u001b[A\n",
      "100%|██████████| 1/1 [00:01<00:00,  1.49s/files]\u001b[A\n",
      " 54%|█████▍    | 332/612 [07:07<08:01,  1.72s/it]\n",
      "  0%|          | 0/1 [00:00<?, ?files/s]\u001b[A\n",
      "100%|██████████| 1/1 [00:01<00:00,  1.25s/files]\u001b[A\n",
      " 54%|█████▍    | 333/612 [07:09<08:02,  1.73s/it]\n",
      "  0%|          | 0/1 [00:00<?, ?files/s]\u001b[A\n",
      "100%|██████████| 1/1 [00:02<00:00,  2.07s/files]\u001b[A\n",
      " 55%|█████▍    | 334/612 [07:12<09:11,  1.98s/it]\n",
      "  0%|          | 0/1 [00:00<?, ?files/s]\u001b[A\n",
      "100%|██████████| 1/1 [00:00<00:00,  3.42files/s]\u001b[A\n",
      " 55%|█████▍    | 335/612 [07:13<07:30,  1.63s/it]\n",
      "  0%|          | 0/1 [00:00<?, ?files/s]\u001b[A\n",
      "100%|██████████| 1/1 [00:01<00:00,  1.35s/files]\u001b[A\n",
      " 55%|█████▍    | 336/612 [07:15<07:51,  1.71s/it]\n",
      "100%|██████████| 1/1 [00:00<00:00, 210.03files/s]\n",
      " 55%|█████▌    | 337/612 [07:15<06:10,  1.35s/it]\n",
      "100%|██████████| 1/1 [00:00<00:00, 80.76files/s]\n",
      " 55%|█████▌    | 338/612 [07:16<05:00,  1.10s/it]\n",
      "  0%|          | 0/1 [00:00<?, ?files/s]\u001b[A\n",
      "100%|██████████| 1/1 [00:01<00:00,  1.79s/files]\u001b[A\n",
      " 55%|█████▌    | 339/612 [07:18<06:36,  1.45s/it]\n",
      "  0%|          | 0/1 [00:00<?, ?files/s]\u001b[A\n",
      "100%|██████████| 1/1 [00:01<00:00,  1.04s/files]\u001b[A\n",
      " 56%|█████▌    | 340/612 [07:19<06:43,  1.48s/it]\n",
      "  0%|          | 0/1 [00:00<?, ?files/s]\u001b[A\n",
      "100%|██████████| 1/1 [00:01<00:00,  1.29s/files]\u001b[A\n",
      " 56%|█████▌    | 341/612 [07:21<07:06,  1.57s/it]\n",
      "  0%|          | 0/1 [00:00<?, ?files/s]\u001b[A\n",
      "100%|██████████| 1/1 [00:01<00:00,  1.09s/files]\u001b[A\n",
      " 56%|█████▌    | 342/612 [07:23<07:08,  1.59s/it]\n",
      "100%|██████████| 1/1 [00:00<00:00, 161.99files/s]\n",
      " 56%|█████▌    | 343/612 [07:23<05:38,  1.26s/it]\n",
      "  0%|          | 0/1 [00:00<?, ?files/s]\u001b[A\n",
      "100%|██████████| 1/1 [00:00<00:00,  1.29files/s]\u001b[A\n",
      " 56%|█████▌    | 344/612 [07:25<05:39,  1.27s/it]\n",
      "  0%|          | 0/1 [00:00<?, ?files/s]\u001b[A\n",
      "100%|██████████| 1/1 [00:01<00:00,  1.74s/files]\u001b[A\n",
      " 56%|█████▋    | 345/612 [07:27<06:56,  1.56s/it]\n",
      "  0%|          | 0/1 [00:00<?, ?files/s]\u001b[A\n",
      "100%|██████████| 1/1 [00:01<00:00,  1.44s/files]\u001b[A\n",
      " 57%|█████▋    | 346/612 [07:29<07:25,  1.68s/it]\n",
      "  0%|          | 0/1 [00:00<?, ?files/s]\u001b[A\n",
      "100%|██████████| 1/1 [00:00<00:00,  2.12files/s]\u001b[A\n",
      " 57%|█████▋    | 347/612 [07:30<06:28,  1.46s/it]\n",
      "  0%|          | 0/1 [00:00<?, ?files/s]\u001b[A\n",
      "100%|██████████| 1/1 [00:02<00:00,  2.33s/files]\u001b[A\n",
      " 57%|█████▋    | 348/612 [07:33<08:14,  1.87s/it]\n",
      "  0%|          | 0/1 [00:00<?, ?files/s]\u001b[A\n",
      "100%|██████████| 1/1 [00:00<00:00,  2.78files/s]\u001b[A\n",
      " 57%|█████▋    | 349/612 [07:33<06:54,  1.58s/it]\n",
      "  0%|          | 0/1 [00:00<?, ?files/s]\u001b[A\n",
      "100%|██████████| 1/1 [00:00<00:00,  1.92files/s]\u001b[A\n",
      " 57%|█████▋    | 350/612 [07:35<06:14,  1.43s/it]\n",
      "  0%|          | 0/1 [00:00<?, ?files/s]\u001b[A\n",
      "100%|██████████| 1/1 [00:00<00:00,  2.02files/s]\u001b[A\n",
      " 57%|█████▋    | 351/612 [07:35<05:38,  1.30s/it]\n",
      "100%|██████████| 1/1 [00:00<00:00, 208.04files/s]\n",
      " 58%|█████▊    | 352/612 [07:36<04:36,  1.06s/it]\n",
      "  0%|          | 0/1 [00:00<?, ?files/s]\u001b[A\n",
      "100%|██████████| 1/1 [00:01<00:00,  1.10s/files]\u001b[A\n",
      " 58%|█████▊    | 353/612 [07:38<05:14,  1.21s/it]\n",
      "100%|██████████| 1/1 [00:00<00:00, 50.63files/s]\n",
      " 58%|█████▊    | 354/612 [07:38<04:19,  1.01s/it]\n",
      "  0%|          | 0/1 [00:00<?, ?files/s]\u001b[A\n",
      "100%|██████████| 1/1 [00:02<00:00,  2.82s/files]\u001b[A\n",
      " 58%|█████▊    | 355/612 [07:41<07:16,  1.70s/it]\n"
     ]
    },
    {
     "name": "stderr",
     "output_type": "stream",
     "text": [
      "  0%|          | 0/1 [00:00<?, ?files/s]\u001b[A\n",
      "100%|██████████| 1/1 [00:00<00:00,  1.01files/s]\u001b[A\n",
      " 58%|█████▊    | 356/612 [07:43<06:58,  1.63s/it]\n",
      "  0%|          | 0/1 [00:00<?, ?files/s]\u001b[A\n",
      "100%|██████████| 1/1 [00:01<00:00,  1.46s/files]\u001b[A\n",
      " 58%|█████▊    | 357/612 [07:45<07:19,  1.72s/it]\n",
      "  0%|          | 0/1 [00:00<?, ?files/s]\u001b[A\n",
      "100%|██████████| 1/1 [00:01<00:00,  1.28s/files]\u001b[A\n",
      " 58%|█████▊    | 358/612 [07:47<07:20,  1.74s/it]\n",
      "100%|██████████| 1/1 [00:00<00:00, 27.71files/s]\n",
      " 59%|█████▊    | 359/612 [07:47<05:48,  1.38s/it]\n",
      "100%|██████████| 1/1 [00:00<00:00, 73.06files/s]\n",
      " 59%|█████▉    | 360/612 [07:48<04:41,  1.12s/it]\n",
      "  0%|          | 0/1 [00:00<?, ?files/s]\u001b[A\n",
      "100%|██████████| 1/1 [00:00<00:00,  9.71files/s]\u001b[A\n",
      " 59%|█████▉    | 361/612 [07:48<04:02,  1.04it/s]\n",
      "100%|██████████| 1/1 [00:00<00:00, 19.03files/s]\n",
      " 59%|█████▉    | 362/612 [07:49<03:30,  1.19it/s]\n",
      "  0%|          | 0/1 [00:00<?, ?files/s]\u001b[A\n",
      "100%|██████████| 1/1 [00:00<00:00,  1.86files/s]\u001b[A\n",
      " 59%|█████▉    | 363/612 [07:50<03:46,  1.10it/s]\n",
      "  0%|          | 0/1 [00:00<?, ?files/s]\u001b[A\n",
      "100%|██████████| 1/1 [00:02<00:00,  2.05s/files]\u001b[A\n",
      " 59%|█████▉    | 364/612 [07:52<05:48,  1.41s/it]\n",
      "  0%|          | 0/1 [00:00<?, ?files/s]\u001b[A\n",
      "100%|██████████| 1/1 [00:01<00:00,  1.83s/files]\u001b[A\n",
      " 60%|█████▉    | 365/612 [07:55<06:55,  1.68s/it]\n",
      "100%|██████████| 1/1 [00:00<00:00, 14.58files/s]\n",
      " 60%|█████▉    | 366/612 [07:55<05:31,  1.35s/it]\n",
      "100%|██████████| 1/1 [00:00<00:00, 13.55files/s]\n",
      " 60%|█████▉    | 367/612 [07:56<04:34,  1.12s/it]\n",
      "100%|██████████| 1/1 [00:00<00:00, 20.08files/s]\n",
      " 60%|██████    | 368/612 [07:57<03:55,  1.04it/s]\n",
      "  0%|          | 0/1 [00:00<?, ?files/s]\u001b[A\n",
      "100%|██████████| 1/1 [00:00<00:00,  3.41files/s]\u001b[A\n",
      " 60%|██████    | 369/612 [07:57<03:39,  1.10it/s]\n",
      "  0%|          | 0/1 [00:00<?, ?files/s]\u001b[A\n",
      "100%|██████████| 1/1 [00:01<00:00,  1.59s/files]\u001b[A\n",
      " 60%|██████    | 370/612 [07:59<05:02,  1.25s/it]\n",
      "100%|██████████| 1/1 [00:00<00:00, 13.37files/s]\n",
      " 61%|██████    | 371/612 [08:00<04:12,  1.05s/it]\n",
      "  0%|          | 0/1 [00:00<?, ?files/s]\u001b[A\n",
      "100%|██████████| 1/1 [00:01<00:00,  1.08s/files]\u001b[A\n",
      " 61%|██████    | 372/612 [08:01<04:48,  1.20s/it]\n",
      "  0%|          | 0/1 [00:00<?, ?files/s]\u001b[A\n",
      "100%|██████████| 1/1 [00:00<00:00,  1.42files/s]\u001b[A\n",
      " 61%|██████    | 373/612 [08:03<04:46,  1.20s/it]\n",
      "  0%|          | 0/1 [00:00<?, ?files/s]\u001b[A\n",
      "100%|██████████| 1/1 [00:00<00:00,  3.18files/s]\u001b[A\n",
      " 61%|██████    | 374/612 [08:03<04:15,  1.07s/it]\n",
      "100%|██████████| 1/1 [00:00<00:00, 75.47files/s]\n",
      " 61%|██████▏   | 375/612 [08:04<03:33,  1.11it/s]\n",
      "  0%|          | 0/1 [00:00<?, ?files/s]\u001b[A\n",
      "100%|██████████| 1/1 [00:00<00:00,  1.08files/s]\u001b[A\n",
      " 61%|██████▏   | 376/612 [08:05<04:09,  1.06s/it]\n",
      "  0%|          | 0/1 [00:00<?, ?files/s]\u001b[A\n",
      "100%|██████████| 1/1 [00:00<00:00,  1.33files/s]\u001b[A\n",
      " 62%|██████▏   | 377/612 [08:07<04:20,  1.11s/it]\n",
      "  0%|          | 0/1 [00:00<?, ?files/s]\u001b[A\n",
      "100%|██████████| 1/1 [00:00<00:00,  3.52files/s]\u001b[A\n",
      " 62%|██████▏   | 378/612 [08:07<03:54,  1.00s/it]\n",
      "100%|██████████| 1/1 [00:00<00:00, 20.37files/s]\n",
      " 62%|██████▏   | 379/612 [08:08<03:19,  1.17it/s]\n",
      "  0%|          | 0/1 [00:00<?, ?files/s]\u001b[A\n",
      "100%|██████████| 1/1 [00:00<00:00,  1.73files/s]\u001b[A\n",
      " 62%|██████▏   | 380/612 [08:09<03:33,  1.09it/s]\n",
      "  0%|          | 0/1 [00:00<?, ?files/s]\u001b[A\n",
      "100%|██████████| 1/1 [00:00<00:00,  1.01files/s]\u001b[A\n",
      " 62%|██████▏   | 381/612 [08:10<04:12,  1.09s/it]\n",
      "  0%|          | 0/1 [00:00<?, ?files/s]\u001b[A\n",
      "100%|██████████| 1/1 [00:00<00:00,  5.62files/s]\u001b[A\n",
      " 62%|██████▏   | 382/612 [08:11<03:42,  1.03it/s]\n",
      "  0%|          | 0/1 [00:00<?, ?files/s]\u001b[A\n",
      "100%|██████████| 1/1 [00:01<00:00,  1.74s/files]\u001b[A\n",
      " 63%|██████▎   | 383/612 [08:13<05:08,  1.35s/it]\n",
      "  0%|          | 0/1 [00:00<?, ?files/s]\u001b[A\n",
      "100%|██████████| 1/1 [00:00<00:00,  6.47files/s]\u001b[A\n",
      " 63%|██████▎   | 384/612 [08:14<04:18,  1.13s/it]\n",
      "  0%|          | 0/1 [00:00<?, ?files/s]\u001b[A\n",
      "100%|██████████| 1/1 [00:00<00:00,  2.47files/s]\u001b[A\n",
      " 63%|██████▎   | 385/612 [08:15<04:01,  1.06s/it]\n",
      "  0%|          | 0/1 [00:00<?, ?files/s]\u001b[A\n",
      "100%|██████████| 1/1 [00:00<00:00,  1.85files/s]\u001b[A\n",
      " 63%|██████▎   | 386/612 [08:16<03:58,  1.05s/it]\n",
      "  0%|          | 0/1 [00:00<?, ?files/s]\u001b[A\n",
      "100%|██████████| 1/1 [00:00<00:00,  1.31files/s]\u001b[A\n",
      " 63%|██████▎   | 387/612 [08:17<04:11,  1.12s/it]\n",
      "  0%|          | 0/1 [00:00<?, ?files/s]\u001b[A\n",
      "100%|██████████| 1/1 [00:01<00:00,  1.59s/files]\u001b[A\n",
      " 63%|██████▎   | 388/612 [08:19<05:14,  1.40s/it]\n",
      "  0%|          | 0/1 [00:00<?, ?files/s]\u001b[A\n",
      "100%|██████████| 1/1 [00:00<00:00,  2.08files/s]\u001b[A\n",
      " 64%|██████▎   | 389/612 [08:20<04:43,  1.27s/it]\n",
      "100%|██████████| 1/1 [00:00<00:00, 117.39files/s]\n",
      " 64%|██████▎   | 390/612 [08:21<03:50,  1.04s/it]\n",
      "  0%|          | 0/1 [00:00<?, ?files/s]\u001b[A\n",
      "100%|██████████| 1/1 [00:01<00:00,  1.84s/files]\u001b[A\n",
      " 64%|██████▍   | 391/612 [08:23<05:14,  1.42s/it]\n",
      "  0%|          | 0/1 [00:00<?, ?files/s]\u001b[A\n",
      "100%|██████████| 1/1 [00:00<00:00,  2.69files/s]\u001b[A\n",
      " 64%|██████▍   | 392/612 [08:24<04:36,  1.26s/it]\n",
      "  0%|          | 0/1 [00:00<?, ?files/s]\u001b[A\n",
      "100%|██████████| 1/1 [00:00<00:00,  1.13files/s]\u001b[A\n",
      " 64%|██████▍   | 393/612 [08:25<04:42,  1.29s/it]\n",
      "  0%|          | 0/1 [00:00<?, ?files/s]\u001b[A\n",
      "100%|██████████| 1/1 [00:01<00:00,  1.30s/files]\u001b[A\n",
      " 64%|██████▍   | 394/612 [08:27<05:15,  1.45s/it]\n",
      "  0%|          | 0/1 [00:00<?, ?files/s]\u001b[A\n",
      "100%|██████████| 1/1 [00:00<00:00,  1.15files/s]\u001b[A\n",
      " 65%|██████▍   | 395/612 [08:28<05:08,  1.42s/it]\n",
      "  0%|          | 0/1 [00:00<?, ?files/s]\u001b[A\n",
      "100%|██████████| 1/1 [00:00<00:00,  3.03files/s]\u001b[A\n",
      " 65%|██████▍   | 396/612 [08:29<04:26,  1.23s/it]\n",
      "  0%|          | 0/1 [00:00<?, ?files/s]\u001b[A\n",
      "100%|██████████| 1/1 [00:00<00:00,  2.76files/s]\u001b[A\n",
      " 65%|██████▍   | 397/612 [08:30<04:00,  1.12s/it]\n",
      "  0%|          | 0/1 [00:00<?, ?files/s]\u001b[A\n",
      "100%|██████████| 1/1 [00:01<00:00,  1.06s/files]\u001b[A\n",
      " 65%|██████▌   | 398/612 [08:32<04:27,  1.25s/it]\n",
      "  0%|          | 0/1 [00:00<?, ?files/s]\u001b[A\n",
      "100%|██████████| 1/1 [00:01<00:00,  1.51s/files]\u001b[A\n",
      " 65%|██████▌   | 399/612 [08:34<05:13,  1.47s/it]\n",
      "  0%|          | 0/1 [00:00<?, ?files/s]\u001b[A\n",
      "100%|██████████| 1/1 [00:00<00:00,  5.57files/s]\u001b[A\n",
      " 65%|██████▌   | 400/612 [08:34<04:21,  1.23s/it]\n",
      "  0%|          | 0/1 [00:00<?, ?files/s]\u001b[A\n",
      "100%|██████████| 1/1 [00:01<00:00,  1.18s/files]\u001b[A\n",
      " 66%|██████▌   | 401/612 [08:36<04:47,  1.36s/it]\n",
      "  0%|          | 0/1 [00:00<?, ?files/s]\u001b[A\n",
      "100%|██████████| 1/1 [00:01<00:00,  1.38s/files]\u001b[A\n",
      " 66%|██████▌   | 402/612 [08:38<05:18,  1.52s/it]\n",
      "100%|██████████| 1/1 [00:00<00:00, 70.79files/s]\n",
      " 66%|██████▌   | 403/612 [08:38<04:13,  1.21s/it]\n",
      "  0%|          | 0/1 [00:00<?, ?files/s]\u001b[A\n",
      "100%|██████████| 1/1 [00:00<00:00,  1.51files/s]\u001b[A\n",
      " 66%|██████▌   | 404/612 [08:39<04:07,  1.19s/it]\n",
      "  0%|          | 0/1 [00:00<?, ?files/s]\u001b[A\n",
      "100%|██████████| 1/1 [00:00<00:00,  6.12files/s]\u001b[A\n",
      " 66%|██████▌   | 405/612 [08:40<03:32,  1.03s/it]\n",
      "  0%|          | 0/1 [00:00<?, ?files/s]\u001b[A\n",
      "100%|██████████| 1/1 [00:01<00:00,  1.65s/files]\u001b[A\n",
      " 66%|██████▋   | 406/612 [08:42<04:39,  1.36s/it]\n",
      "  0%|          | 0/1 [00:00<?, ?files/s]\u001b[A\n",
      "100%|██████████| 1/1 [00:01<00:00,  1.31s/files]\u001b[A\n",
      " 67%|██████▋   | 407/612 [08:44<05:06,  1.49s/it]\n",
      "  0%|          | 0/1 [00:00<?, ?files/s]\u001b[A\n",
      "100%|██████████| 1/1 [00:01<00:00,  1.86s/files]\u001b[A\n",
      " 67%|██████▋   | 408/612 [08:46<05:57,  1.75s/it]\n",
      "100%|██████████| 1/1 [00:00<00:00, 43.35files/s]\n",
      " 67%|██████▋   | 409/612 [08:47<04:44,  1.40s/it]\n",
      "  0%|          | 0/1 [00:00<?, ?files/s]\u001b[A\n",
      "100%|██████████| 1/1 [00:00<00:00,  2.87files/s]\u001b[A\n",
      " 67%|██████▋   | 410/612 [08:48<04:11,  1.24s/it]\n",
      "  0%|          | 0/1 [00:00<?, ?files/s]\u001b[A\n",
      "100%|██████████| 1/1 [00:00<00:00,  3.31files/s]\u001b[A\n",
      " 67%|██████▋   | 411/612 [08:49<03:46,  1.13s/it]\n",
      "  0%|          | 0/1 [00:00<?, ?files/s]\u001b[A\n",
      "100%|██████████| 1/1 [00:00<00:00,  1.72files/s]\u001b[A\n",
      " 67%|██████▋   | 412/612 [08:50<03:42,  1.11s/it]\n",
      "100%|██████████| 1/1 [00:00<00:00, 26.36files/s]\n",
      " 67%|██████▋   | 413/612 [08:50<03:07,  1.06it/s]\n",
      "  0%|          | 0/1 [00:00<?, ?files/s]\u001b[A\n",
      "100%|██████████| 1/1 [00:01<00:00,  1.76s/files]\u001b[A\n",
      " 68%|██████▊   | 414/612 [08:53<04:25,  1.34s/it]\n",
      "  0%|          | 0/1 [00:00<?, ?files/s]\u001b[A\n",
      "100%|██████████| 1/1 [00:00<00:00,  3.78files/s]\u001b[A\n",
      " 68%|██████▊   | 415/612 [08:53<03:51,  1.17s/it]\n",
      "  0%|          | 0/1 [00:00<?, ?files/s]\u001b[A\n",
      "100%|██████████| 1/1 [00:00<00:00,  4.86files/s]\u001b[A\n",
      " 68%|██████▊   | 416/612 [08:54<03:24,  1.04s/it]\n",
      "  0%|          | 0/1 [00:00<?, ?files/s]\u001b[A\n",
      "100%|██████████| 1/1 [00:00<00:00,  4.05files/s]\u001b[A\n",
      " 68%|██████▊   | 417/612 [08:55<03:06,  1.04it/s]\n",
      "100%|██████████| 1/1 [00:00<00:00, 33.17files/s]\n",
      " 68%|██████▊   | 418/612 [08:55<02:40,  1.21it/s]\n",
      "100%|██████████| 1/1 [00:00<00:00, 11.76files/s]\n",
      " 68%|██████▊   | 419/612 [08:56<02:29,  1.29it/s]\n",
      "  0%|          | 0/1 [00:00<?, ?files/s]\u001b[A\n",
      "100%|██████████| 1/1 [00:02<00:00,  2.16s/files]\u001b[A\n",
      " 69%|██████▊   | 420/612 [08:59<04:17,  1.34s/it]\n",
      "  0%|          | 0/1 [00:00<?, ?files/s]\u001b[A\n",
      "100%|██████████| 1/1 [00:00<00:00,  3.35files/s]\u001b[A\n",
      " 69%|██████▉   | 421/612 [09:00<03:45,  1.18s/it]\n",
      "  0%|          | 0/1 [00:00<?, ?files/s]\u001b[A\n",
      "100%|██████████| 1/1 [00:02<00:00,  2.18s/files]\u001b[A\n",
      " 69%|██████▉   | 422/612 [09:02<05:11,  1.64s/it]\n",
      "  0%|          | 0/1 [00:00<?, ?files/s]\u001b[A\n",
      "100%|██████████| 1/1 [00:00<00:00,  2.30files/s]\u001b[A\n",
      " 69%|██████▉   | 423/612 [09:03<04:30,  1.43s/it]\n",
      "  0%|          | 0/1 [00:00<?, ?files/s]\u001b[A\n",
      "100%|██████████| 1/1 [00:00<00:00,  1.27files/s]\u001b[A\n",
      " 69%|██████▉   | 424/612 [09:05<04:21,  1.39s/it]\n",
      "  0%|          | 0/1 [00:00<?, ?files/s]\u001b[A\n",
      "100%|██████████| 1/1 [00:00<00:00,  1.04files/s]\u001b[A\n",
      " 69%|██████▉   | 425/612 [09:06<04:23,  1.41s/it]\n",
      "  0%|          | 0/1 [00:00<?, ?files/s]\u001b[A\n",
      "100%|██████████| 1/1 [00:00<00:00,  7.96files/s]\u001b[A\n",
      " 70%|██████▉   | 426/612 [09:07<03:38,  1.17s/it]\n",
      "  0%|          | 0/1 [00:00<?, ?files/s]\u001b[A\n",
      "100%|██████████| 1/1 [00:00<00:00,  1.24files/s]\u001b[A\n",
      " 70%|██████▉   | 427/612 [09:08<03:44,  1.21s/it]\n",
      "  0%|          | 0/1 [00:00<?, ?files/s]\u001b[A\n",
      "100%|██████████| 1/1 [00:00<00:00,  2.49files/s]\u001b[A\n",
      " 70%|██████▉   | 428/612 [09:09<03:26,  1.12s/it]\n",
      "100%|██████████| 1/1 [00:00<00:00, 37.55files/s]\n",
      " 70%|███████   | 429/612 [09:09<02:52,  1.06it/s]\n",
      "  0%|          | 0/1 [00:00<?, ?files/s]\u001b[A\n",
      "100%|██████████| 1/1 [00:00<00:00,  7.90files/s]\u001b[A\n",
      " 70%|███████   | 430/612 [09:10<02:32,  1.19it/s]\n",
      "  0%|          | 0/1 [00:00<?, ?files/s]\u001b[A\n",
      "100%|██████████| 1/1 [00:00<00:00,  5.19files/s]\u001b[A\n",
      " 70%|███████   | 431/612 [09:11<02:24,  1.26it/s]\n",
      "  0%|          | 0/1 [00:00<?, ?files/s]\u001b[A\n",
      "100%|██████████| 1/1 [00:01<00:00,  1.64s/files]\u001b[A\n",
      " 71%|███████   | 432/612 [09:13<03:36,  1.20s/it]\n",
      "  0%|          | 0/1 [00:00<?, ?files/s]\u001b[A\n",
      "100%|██████████| 1/1 [00:00<00:00,  1.07files/s]\u001b[A\n",
      " 71%|███████   | 433/612 [09:14<03:47,  1.27s/it]\n",
      "  0%|          | 0/1 [00:00<?, ?files/s]\u001b[A\n",
      "100%|██████████| 1/1 [00:00<00:00,  4.62files/s]\u001b[A\n",
      " 71%|███████   | 434/612 [09:15<03:16,  1.10s/it]\n",
      "  0%|          | 0/1 [00:00<?, ?files/s]\u001b[A\n",
      "100%|██████████| 1/1 [00:00<00:00,  1.28files/s]\u001b[A\n",
      " 71%|███████   | 435/612 [09:16<03:23,  1.15s/it]\n",
      "100%|██████████| 1/1 [00:00<00:00, 24.05files/s]\n",
      " 71%|███████   | 436/612 [09:17<02:49,  1.04it/s]\n",
      "100%|██████████| 1/1 [00:00<00:00, 12.53files/s]\n",
      " 71%|███████▏  | 437/612 [09:17<02:27,  1.19it/s]\n",
      "100%|██████████| 1/1 [00:00<00:00, 224.46files/s]\n",
      " 72%|███████▏  | 438/612 [09:18<02:09,  1.34it/s]\n",
      "  0%|          | 0/1 [00:00<?, ?files/s]\u001b[A\n",
      "100%|██████████| 1/1 [00:01<00:00,  1.87s/files]\u001b[A\n",
      " 72%|███████▏  | 439/612 [09:20<03:35,  1.25s/it]\n",
      "  0%|          | 0/1 [00:00<?, ?files/s]\u001b[A\n",
      "100%|██████████| 1/1 [00:00<00:00,  1.37files/s]\u001b[A\n",
      " 72%|███████▏  | 440/612 [09:21<03:33,  1.24s/it]\n",
      "  0%|          | 0/1 [00:00<?, ?files/s]\u001b[A\n",
      "100%|██████████| 1/1 [00:00<00:00,  1.18files/s]\u001b[A\n",
      " 72%|███████▏  | 441/612 [09:23<03:37,  1.27s/it]\n",
      "  0%|          | 0/1 [00:00<?, ?files/s]\u001b[A\n",
      "100%|██████████| 1/1 [00:01<00:00,  1.46s/files]\u001b[A\n",
      " 72%|███████▏  | 442/612 [09:25<04:11,  1.48s/it]\n",
      "  0%|          | 0/1 [00:00<?, ?files/s]\u001b[A\n",
      "100%|██████████| 1/1 [00:00<00:00,  1.97files/s]\u001b[A\n",
      " 72%|███████▏  | 443/612 [09:26<03:48,  1.35s/it]\n",
      "  0%|          | 0/1 [00:00<?, ?files/s]\u001b[A\n",
      "100%|██████████| 1/1 [00:01<00:00,  1.11s/files]\u001b[A\n",
      " 73%|███████▎  | 444/612 [09:27<04:00,  1.43s/it]\n",
      "  0%|          | 0/1 [00:00<?, ?files/s]\u001b[A\n",
      "100%|██████████| 1/1 [00:00<00:00,  1.30files/s]\u001b[A\n",
      " 73%|███████▎  | 445/612 [09:29<03:52,  1.39s/it]\n",
      "  0%|          | 0/1 [00:00<?, ?files/s]\u001b[A\n",
      "100%|██████████| 1/1 [00:00<00:00,  1.00files/s]\u001b[A\n",
      " 73%|███████▎  | 446/612 [09:30<03:56,  1.42s/it]\n",
      "  0%|          | 0/1 [00:00<?, ?files/s]\u001b[A\n",
      "100%|██████████| 1/1 [00:00<00:00,  1.28files/s]\u001b[A\n",
      " 73%|███████▎  | 447/612 [09:31<03:48,  1.38s/it]\n",
      "  0%|          | 0/1 [00:00<?, ?files/s]\u001b[A\n",
      "100%|██████████| 1/1 [00:00<00:00,  1.96files/s]\u001b[A\n",
      " 73%|███████▎  | 448/612 [09:32<03:28,  1.27s/it]\n",
      "  0%|          | 0/1 [00:00<?, ?files/s]\u001b[A\n",
      "100%|██████████| 1/1 [00:00<00:00,  2.28files/s]\u001b[A\n",
      " 73%|███████▎  | 449/612 [09:33<03:11,  1.17s/it]\n",
      "100%|██████████| 1/1 [00:00<00:00, 96.65files/s]\n",
      " 74%|███████▎  | 450/612 [09:34<02:38,  1.02it/s]\n",
      "100%|██████████| 1/1 [00:00<00:00, 61.03files/s]\n",
      " 74%|███████▎  | 451/612 [09:34<02:14,  1.20it/s]\n",
      "100%|██████████| 1/1 [00:00<00:00, 39.48files/s]\n",
      " 74%|███████▍  | 452/612 [09:35<01:58,  1.34it/s]\n",
      "  0%|          | 0/1 [00:00<?, ?files/s]\u001b[A\n",
      "100%|██████████| 1/1 [00:00<00:00,  3.78files/s]\u001b[A\n",
      " 74%|███████▍  | 453/612 [09:36<01:58,  1.34it/s]\n",
      "  0%|          | 0/1 [00:00<?, ?files/s]\u001b[A\n",
      "100%|██████████| 1/1 [00:00<00:00,  6.16files/s]\u001b[A\n",
      " 74%|███████▍  | 454/612 [09:36<01:53,  1.39it/s]\n",
      "  0%|          | 0/1 [00:00<?, ?files/s]\u001b[A\n",
      "100%|██████████| 1/1 [00:01<00:00,  1.46s/files]\u001b[A\n",
      " 74%|███████▍  | 455/612 [09:38<02:51,  1.09s/it]\n",
      "  0%|          | 0/1 [00:00<?, ?files/s]\u001b[A\n",
      "100%|██████████| 1/1 [00:00<00:00,  2.12files/s]\u001b[A\n",
      " 75%|███████▍  | 456/612 [09:39<02:47,  1.08s/it]\n",
      "100%|██████████| 1/1 [00:00<00:00, 15.92files/s]\n",
      " 75%|███████▍  | 457/612 [09:40<02:23,  1.08it/s]\n",
      "  0%|          | 0/1 [00:00<?, ?files/s]\u001b[A\n",
      "100%|██████████| 1/1 [00:02<00:00,  2.36s/files]\u001b[A\n",
      " 75%|███████▍  | 458/612 [09:43<03:54,  1.52s/it]\n",
      "  0%|          | 0/1 [00:00<?, ?files/s]\u001b[A\n",
      "100%|██████████| 1/1 [00:01<00:00,  1.50s/files]\u001b[A\n",
      " 75%|███████▌  | 459/612 [09:45<04:15,  1.67s/it]\n",
      "  0%|          | 0/1 [00:00<?, ?files/s]\u001b[A\n",
      "100%|██████████| 1/1 [00:01<00:00,  1.65s/files]\u001b[A\n",
      " 75%|███████▌  | 460/612 [09:47<04:35,  1.81s/it]\n",
      "  0%|          | 0/1 [00:00<?, ?files/s]\u001b[A\n",
      "100%|██████████| 1/1 [00:02<00:00,  2.12s/files]\u001b[A\n",
      " 75%|███████▌  | 461/612 [09:50<05:13,  2.08s/it]\n",
      "  0%|          | 0/1 [00:00<?, ?files/s]\u001b[A\n",
      "100%|██████████| 1/1 [00:02<00:00,  2.24s/files]\u001b[A\n",
      " 75%|███████▌  | 462/612 [09:52<05:40,  2.27s/it]\n",
      "100%|██████████| 1/1 [00:00<00:00, 13.05files/s]\n",
      " 76%|███████▌  | 463/612 [09:53<04:23,  1.77s/it]\n",
      "100%|██████████| 1/1 [00:00<00:00, 122.52files/s]\n",
      " 76%|███████▌  | 464/612 [09:54<03:25,  1.39s/it]\n",
      "  0%|          | 0/1 [00:00<?, ?files/s]\u001b[A\n",
      "100%|██████████| 1/1 [00:00<00:00,  5.73files/s]\u001b[A\n",
      " 76%|███████▌  | 465/612 [09:54<02:51,  1.17s/it]\n",
      "100%|██████████| 1/1 [00:00<00:00, 17.66files/s]\n",
      " 76%|███████▌  | 466/612 [09:55<02:23,  1.02it/s]\n",
      "  0%|          | 0/1 [00:00<?, ?files/s]\u001b[A\n",
      "100%|██████████| 1/1 [00:02<00:00,  2.33s/files]\u001b[A\n",
      " 76%|███████▋  | 467/612 [09:58<03:42,  1.53s/it]\n",
      "  0%|          | 0/1 [00:00<?, ?files/s]\u001b[A\n",
      "100%|██████████| 1/1 [00:00<00:00,  1.47files/s]\u001b[A\n",
      " 76%|███████▋  | 468/612 [09:59<03:26,  1.44s/it]\n",
      "100%|██████████| 1/1 [00:00<00:00, 31.20files/s]\n",
      " 77%|███████▋  | 469/612 [09:59<02:45,  1.16s/it]\n",
      "  0%|          | 0/1 [00:00<?, ?files/s]\u001b[A\n",
      "100%|██████████| 1/1 [00:00<00:00,  1.68files/s]\u001b[A\n",
      " 77%|███████▋  | 470/612 [10:00<02:41,  1.14s/it]\n",
      "  0%|          | 0/1 [00:00<?, ?files/s]\u001b[A\n",
      "100%|██████████| 1/1 [00:00<00:00,  1.52files/s]\u001b[A\n",
      " 77%|███████▋  | 471/612 [10:02<02:41,  1.14s/it]\n",
      "100%|██████████| 1/1 [00:00<00:00, 49.73files/s]\n",
      " 77%|███████▋  | 472/612 [10:02<02:13,  1.05it/s]\n",
      "100%|██████████| 1/1 [00:00<00:00, 19.39files/s]\n",
      " 77%|███████▋  | 473/612 [10:03<01:54,  1.21it/s]\n",
      "100%|██████████| 1/1 [00:00<00:00, 10.19files/s]\n",
      " 77%|███████▋  | 474/612 [10:03<01:44,  1.32it/s]\n",
      "  0%|          | 0/1 [00:00<?, ?files/s]\u001b[A\n",
      "100%|██████████| 1/1 [00:00<00:00,  4.25files/s]\u001b[A\n",
      " 78%|███████▊  | 475/612 [10:04<01:43,  1.32it/s]\n",
      "100%|██████████| 1/1 [00:00<00:00, 13.77files/s]\n",
      " 78%|███████▊  | 476/612 [10:05<01:35,  1.42it/s]\n",
      "  0%|          | 0/1 [00:00<?, ?files/s]\u001b[A\n",
      "100%|██████████| 1/1 [00:00<00:00,  8.04files/s]\u001b[A\n"
     ]
    },
    {
     "name": "stderr",
     "output_type": "stream",
     "text": [
      " 78%|███████▊  | 477/612 [10:05<01:30,  1.48it/s]\n",
      "  0%|          | 0/1 [00:00<?, ?files/s]\u001b[A\n",
      "100%|██████████| 1/1 [00:00<00:00,  1.93files/s]\u001b[A\n",
      " 78%|███████▊  | 478/612 [10:06<01:43,  1.29it/s]\n",
      "  0%|          | 0/1 [00:00<?, ?files/s]\u001b[A\n",
      "100%|██████████| 1/1 [00:01<00:00,  1.35s/files]\u001b[A\n",
      " 78%|███████▊  | 479/612 [10:08<02:24,  1.09s/it]\n",
      "  0%|          | 0/1 [00:00<?, ?files/s]\u001b[A\n",
      "100%|██████████| 1/1 [00:01<00:00,  1.32s/files]\u001b[A\n",
      " 78%|███████▊  | 480/612 [10:10<02:52,  1.31s/it]\n",
      "100%|██████████| 1/1 [00:00<00:00, 62.00files/s]\n",
      " 79%|███████▊  | 481/612 [10:10<02:20,  1.07s/it]\n",
      "100%|██████████| 1/1 [00:00<00:00, 73.70files/s]\n",
      " 79%|███████▉  | 482/612 [10:11<01:56,  1.12it/s]\n",
      "  0%|          | 0/1 [00:00<?, ?files/s]\u001b[A\n",
      "100%|██████████| 1/1 [00:00<00:00,  2.11files/s]\u001b[A\n",
      " 79%|███████▉  | 483/612 [10:12<01:57,  1.09it/s]\n",
      "  0%|          | 0/1 [00:00<?, ?files/s]\u001b[A\n",
      "100%|██████████| 1/1 [00:01<00:00,  1.35s/files]\u001b[A\n",
      " 79%|███████▉  | 484/612 [10:14<02:32,  1.19s/it]\n",
      "  0%|          | 0/1 [00:00<?, ?files/s]\u001b[A\n",
      "100%|██████████| 1/1 [00:00<00:00,  4.81files/s]\u001b[A\n",
      " 79%|███████▉  | 485/612 [10:14<02:13,  1.05s/it]\n",
      "  0%|          | 0/1 [00:00<?, ?files/s]\u001b[A\n",
      "100%|██████████| 1/1 [00:00<00:00,  9.30files/s]\u001b[A\n",
      " 79%|███████▉  | 486/612 [10:15<01:55,  1.09it/s]\n",
      "100%|██████████| 1/1 [00:00<00:00, 17.51files/s]\n",
      " 80%|███████▉  | 487/612 [10:15<01:40,  1.25it/s]\n",
      "  0%|          | 0/1 [00:00<?, ?files/s]\u001b[A\n",
      "100%|██████████| 1/1 [00:01<00:00,  1.36s/files]\u001b[A\n",
      " 80%|███████▉  | 488/612 [10:17<02:18,  1.11s/it]\n",
      "  0%|          | 0/1 [00:00<?, ?files/s]\u001b[A\n",
      "100%|██████████| 1/1 [00:00<00:00,  1.03files/s]\u001b[A\n",
      " 80%|███████▉  | 489/612 [10:19<02:29,  1.22s/it]\n",
      "  0%|          | 0/1 [00:00<?, ?files/s]\u001b[A\n",
      "100%|██████████| 1/1 [00:01<00:00,  1.26s/files]\u001b[A\n",
      " 80%|████████  | 490/612 [10:20<02:47,  1.37s/it]\n",
      "  0%|          | 0/1 [00:00<?, ?files/s]\u001b[A\n",
      "100%|██████████| 1/1 [00:00<00:00,  6.01files/s]\u001b[A\n",
      " 80%|████████  | 491/612 [10:21<02:19,  1.16s/it]\n",
      "100%|██████████| 1/1 [00:00<00:00, 25.30files/s]\n",
      " 80%|████████  | 492/612 [10:22<01:55,  1.03it/s]\n",
      "  0%|          | 0/1 [00:00<?, ?files/s]\u001b[A\n",
      "100%|██████████| 1/1 [00:00<00:00,  2.06files/s]\u001b[A\n",
      " 81%|████████  | 493/612 [10:23<01:55,  1.03it/s]\n",
      "  0%|          | 0/1 [00:00<?, ?files/s]\u001b[A\n",
      "100%|██████████| 1/1 [00:00<00:00,  5.21files/s]\u001b[A\n",
      " 81%|████████  | 494/612 [10:23<01:44,  1.13it/s]\n",
      "  0%|          | 0/1 [00:00<?, ?files/s]\u001b[A\n",
      "100%|██████████| 1/1 [00:00<00:00,  1.37files/s]\u001b[A\n",
      " 81%|████████  | 495/612 [10:25<01:55,  1.01it/s]\n",
      "100%|██████████| 1/1 [00:00<00:00, 115.87files/s]\n",
      " 81%|████████  | 496/612 [10:25<01:37,  1.19it/s]\n",
      "  0%|          | 0/1 [00:00<?, ?files/s]\u001b[A\n",
      "100%|██████████| 1/1 [00:00<00:00,  2.18files/s]\u001b[A\n",
      " 81%|████████  | 497/612 [10:26<01:40,  1.14it/s]\n",
      "  0%|          | 0/1 [00:00<?, ?files/s]\u001b[A\n",
      "100%|██████████| 1/1 [00:00<00:00,  1.67files/s]\u001b[A\n",
      " 81%|████████▏ | 498/612 [10:27<01:46,  1.07it/s]\n",
      "  0%|          | 0/1 [00:00<?, ?files/s]\u001b[A\n",
      "100%|██████████| 1/1 [00:01<00:00,  1.06s/files]\u001b[A\n",
      " 82%|████████▏ | 499/612 [10:29<02:06,  1.12s/it]\n",
      "  0%|          | 0/1 [00:00<?, ?files/s]\u001b[A\n",
      "100%|██████████| 1/1 [00:00<00:00,  1.07files/s]\u001b[A\n",
      " 82%|████████▏ | 500/612 [10:30<02:16,  1.21s/it]\n",
      "100%|██████████| 1/1 [00:00<00:00, 77.58files/s]\n",
      " 82%|████████▏ | 501/612 [10:31<01:51,  1.00s/it]\n",
      "  0%|          | 0/1 [00:00<?, ?files/s]\u001b[A\n",
      "100%|██████████| 1/1 [00:01<00:00,  1.09s/files]\u001b[A\n",
      " 82%|████████▏ | 502/612 [10:32<02:09,  1.18s/it]\n",
      "100%|██████████| 1/1 [00:00<00:00, 38.80files/s]\n",
      " 82%|████████▏ | 503/612 [10:33<01:46,  1.02it/s]\n",
      "  0%|          | 0/1 [00:00<?, ?files/s]\u001b[A\n",
      "100%|██████████| 1/1 [00:00<00:00,  4.36files/s]\u001b[A\n",
      " 82%|████████▏ | 504/612 [10:33<01:36,  1.12it/s]\n",
      "  0%|          | 0/1 [00:00<?, ?files/s]\u001b[A\n",
      "100%|██████████| 1/1 [00:00<00:00,  6.18files/s]\u001b[A\n",
      " 83%|████████▎ | 505/612 [10:34<01:28,  1.21it/s]\n",
      "  0%|          | 0/1 [00:00<?, ?files/s]\u001b[A\n",
      "100%|██████████| 1/1 [00:00<00:00,  6.57files/s]\u001b[A\n",
      " 83%|████████▎ | 506/612 [10:35<01:21,  1.30it/s]\n",
      "  0%|          | 0/1 [00:00<?, ?files/s]\u001b[A\n",
      "100%|██████████| 1/1 [00:00<00:00,  1.25files/s]\u001b[A\n",
      " 83%|████████▎ | 507/612 [10:36<01:36,  1.08it/s]\n",
      "100%|██████████| 1/1 [00:00<00:00, 18.23files/s]\n",
      " 83%|████████▎ | 508/612 [10:36<01:24,  1.24it/s]\n",
      "  0%|          | 0/1 [00:00<?, ?files/s]\u001b[A\n",
      "100%|██████████| 1/1 [00:00<00:00,  1.17files/s]\u001b[A\n",
      " 83%|████████▎ | 509/612 [10:38<01:39,  1.03it/s]\n",
      "100%|██████████| 1/1 [00:00<00:00, 46.71files/s]\n",
      " 83%|████████▎ | 510/612 [10:38<01:24,  1.21it/s]\n",
      "  0%|          | 0/1 [00:00<?, ?files/s]\u001b[A\n",
      "100%|██████████| 1/1 [00:00<00:00,  1.35files/s]\u001b[A\n",
      " 83%|████████▎ | 511/612 [10:40<01:35,  1.06it/s]\n",
      "  0%|          | 0/1 [00:00<?, ?files/s]\u001b[A\n",
      "100%|██████████| 1/1 [00:00<00:00,  7.07files/s]\u001b[A\n",
      " 84%|████████▎ | 512/612 [10:40<01:24,  1.18it/s]\n",
      "  0%|          | 0/1 [00:00<?, ?files/s]\u001b[A\n",
      "100%|██████████| 1/1 [00:01<00:00,  1.08s/files]\u001b[A\n",
      " 84%|████████▍ | 513/612 [10:42<01:45,  1.06s/it]\n",
      "  0%|          | 0/1 [00:00<?, ?files/s]\u001b[A\n",
      "100%|██████████| 1/1 [00:00<00:00,  9.17files/s]\u001b[A\n",
      " 84%|████████▍ | 514/612 [10:42<01:30,  1.09it/s]\n",
      "100%|██████████| 1/1 [00:00<00:00, 10.18files/s]\n",
      " 84%|████████▍ | 515/612 [10:43<01:19,  1.22it/s]\n",
      "100%|██████████| 1/1 [00:00<00:00, 45.32files/s]\n",
      " 84%|████████▍ | 516/612 [10:43<01:09,  1.39it/s]\n",
      "  0%|          | 0/1 [00:00<?, ?files/s]\u001b[A\n",
      "100%|██████████| 1/1 [00:00<00:00,  3.30files/s]\u001b[A\n",
      " 84%|████████▍ | 517/612 [10:44<01:11,  1.33it/s]\n",
      "  0%|          | 0/1 [00:00<?, ?files/s]\u001b[A\n",
      "100%|██████████| 1/1 [00:00<00:00,  1.87files/s]\u001b[A\n",
      " 85%|████████▍ | 518/612 [10:45<01:18,  1.21it/s]\n",
      "  0%|          | 0/1 [00:00<?, ?files/s]\u001b[A\n",
      "100%|██████████| 1/1 [00:00<00:00,  2.78files/s]\u001b[A\n",
      " 85%|████████▍ | 519/612 [10:46<01:19,  1.18it/s]\n",
      "100%|██████████| 1/1 [00:00<00:00, 202.66files/s]\n",
      " 85%|████████▍ | 520/612 [10:47<01:08,  1.34it/s]\n",
      "  0%|          | 0/1 [00:00<?, ?files/s]\u001b[A\n",
      "100%|██████████| 1/1 [00:00<00:00,  7.25files/s]\u001b[A\n",
      " 85%|████████▌ | 521/612 [10:47<01:05,  1.39it/s]\n",
      "  0%|          | 0/1 [00:00<?, ?files/s]\u001b[A\n",
      "100%|██████████| 1/1 [00:00<00:00,  1.38files/s]\u001b[A\n",
      " 85%|████████▌ | 522/612 [10:48<01:18,  1.15it/s]\n",
      "  0%|          | 0/1 [00:00<?, ?files/s]\u001b[A\n",
      "100%|██████████| 1/1 [00:00<00:00,  4.78files/s]\u001b[A\n",
      " 85%|████████▌ | 523/612 [10:49<01:13,  1.21it/s]\n",
      "  0%|          | 0/1 [00:00<?, ?files/s]\u001b[A\n",
      "100%|██████████| 1/1 [00:01<00:00,  1.15s/files]\u001b[A\n",
      " 86%|████████▌ | 524/612 [10:51<01:33,  1.07s/it]\n",
      "  0%|          | 0/1 [00:00<?, ?files/s]\u001b[A\n",
      "100%|██████████| 1/1 [00:00<00:00,  1.15files/s]\u001b[A\n",
      " 86%|████████▌ | 525/612 [10:52<01:40,  1.16s/it]\n",
      "  0%|          | 0/1 [00:00<?, ?files/s]\u001b[A\n",
      "100%|██████████| 1/1 [00:00<00:00,  1.22files/s]\u001b[A\n",
      " 86%|████████▌ | 526/612 [10:54<01:43,  1.21s/it]\n",
      "  0%|          | 0/1 [00:00<?, ?files/s]\u001b[A\n",
      "100%|██████████| 1/1 [00:00<00:00,  1.47files/s]\u001b[A\n",
      " 86%|████████▌ | 527/612 [10:55<01:41,  1.20s/it]\n",
      "  0%|          | 0/1 [00:00<?, ?files/s]\u001b[A\n",
      "100%|██████████| 1/1 [00:00<00:00,  7.67files/s]\u001b[A\n",
      " 86%|████████▋ | 528/612 [10:55<01:25,  1.02s/it]\n",
      "  0%|          | 0/1 [00:00<?, ?files/s]\u001b[A\n",
      "100%|██████████| 1/1 [00:00<00:00,  1.87files/s]\u001b[A\n",
      " 86%|████████▋ | 529/612 [10:56<01:24,  1.02s/it]\n",
      "  0%|          | 0/1 [00:00<?, ?files/s]\u001b[A\n",
      "100%|██████████| 1/1 [00:01<00:00,  1.69s/files]\u001b[A\n",
      " 87%|████████▋ | 530/612 [10:58<01:51,  1.36s/it]\n",
      "100%|██████████| 1/1 [00:00<00:00, 27.18files/s]\n",
      " 87%|████████▋ | 531/612 [10:59<01:30,  1.11s/it]\n",
      "  0%|          | 0/1 [00:00<?, ?files/s]\u001b[A\n",
      "100%|██████████| 1/1 [00:00<00:00,  1.37files/s]\u001b[A\n",
      " 87%|████████▋ | 532/612 [11:00<01:31,  1.14s/it]\n",
      "  0%|          | 0/1 [00:00<?, ?files/s]\u001b[A\n",
      "100%|██████████| 1/1 [00:02<00:00,  2.20s/files]\u001b[A\n",
      " 87%|████████▋ | 533/612 [11:03<02:09,  1.64s/it]\n",
      "  0%|          | 0/1 [00:00<?, ?files/s]\u001b[A\n",
      "100%|██████████| 1/1 [00:00<00:00,  1.08files/s]\u001b[A\n",
      " 87%|████████▋ | 534/612 [11:04<02:03,  1.58s/it]\n",
      "100%|██████████| 1/1 [00:00<00:00, 35.88files/s]\n",
      " 87%|████████▋ | 535/612 [11:05<01:37,  1.27s/it]\n",
      "  0%|          | 0/1 [00:00<?, ?files/s]\u001b[A\n",
      "100%|██████████| 1/1 [00:00<00:00,  1.18files/s]\u001b[A\n",
      " 88%|████████▊ | 536/612 [11:06<01:37,  1.29s/it]\n",
      "  0%|          | 0/1 [00:00<?, ?files/s]\u001b[A\n",
      "100%|██████████| 1/1 [00:00<00:00,  1.25files/s]\u001b[A\n",
      " 88%|████████▊ | 537/612 [11:08<01:36,  1.29s/it]\n",
      "  0%|          | 0/1 [00:00<?, ?files/s]\u001b[A\n",
      "100%|██████████| 1/1 [00:00<00:00,  3.94files/s]\u001b[A\n",
      " 88%|████████▊ | 538/612 [11:08<01:22,  1.12s/it]\n",
      "  0%|          | 0/1 [00:00<?, ?files/s]\u001b[A\n",
      "100%|██████████| 1/1 [00:01<00:00,  1.41s/files]\u001b[A\n",
      " 88%|████████▊ | 539/612 [11:10<01:39,  1.36s/it]\n",
      "100%|██████████| 1/1 [00:00<00:00, 32.01files/s]\n",
      " 88%|████████▊ | 540/612 [11:11<01:19,  1.10s/it]\n",
      "  0%|          | 0/1 [00:00<?, ?files/s]\u001b[A\n",
      "100%|██████████| 1/1 [00:00<00:00,  4.86files/s]\u001b[A\n",
      " 88%|████████▊ | 541/612 [11:11<01:09,  1.02it/s]\n",
      "  0%|          | 0/1 [00:00<?, ?files/s]\u001b[A\n",
      "100%|██████████| 1/1 [00:01<00:00,  1.86s/files]\u001b[A\n",
      " 89%|████████▊ | 542/612 [11:14<01:37,  1.39s/it]\n",
      "100%|██████████| 1/1 [00:00<00:00, 143.00files/s]\n",
      " 89%|████████▊ | 543/612 [11:14<01:17,  1.13s/it]\n",
      "  0%|          | 0/1 [00:00<?, ?files/s]\u001b[A\n",
      "100%|██████████| 1/1 [00:00<00:00,  1.41files/s]\u001b[A\n",
      " 89%|████████▉ | 544/612 [11:16<01:17,  1.15s/it]\n",
      "  0%|          | 0/1 [00:00<?, ?files/s]\u001b[A\n",
      "100%|██████████| 1/1 [00:00<00:00,  1.02files/s]\u001b[A\n",
      " 89%|████████▉ | 545/612 [11:17<01:23,  1.24s/it]\n",
      "  0%|          | 0/1 [00:00<?, ?files/s]\u001b[A\n",
      "100%|██████████| 1/1 [00:00<00:00,  1.04files/s]\u001b[A\n",
      " 89%|████████▉ | 546/612 [11:18<01:26,  1.30s/it]\n",
      "  0%|          | 0/1 [00:00<?, ?files/s]\u001b[A\n",
      "100%|██████████| 1/1 [00:00<00:00,  5.78files/s]\u001b[A\n",
      " 89%|████████▉ | 547/612 [11:19<01:12,  1.11s/it]\n",
      "  0%|          | 0/1 [00:00<?, ?files/s]\u001b[A\n",
      "100%|██████████| 1/1 [00:00<00:00,  9.66files/s]\u001b[A\n",
      " 90%|████████▉ | 548/612 [11:20<01:01,  1.03it/s]\n",
      "100%|██████████| 1/1 [00:00<00:00, 87.98files/s]\n",
      " 90%|████████▉ | 549/612 [11:20<00:51,  1.21it/s]\n",
      "  0%|          | 0/1 [00:00<?, ?files/s]\u001b[A\n",
      "100%|██████████| 1/1 [00:00<00:00,  4.93files/s]\u001b[A\n",
      " 90%|████████▉ | 550/612 [11:21<00:48,  1.28it/s]\n",
      "  0%|          | 0/1 [00:00<?, ?files/s]\u001b[A\n",
      "100%|██████████| 1/1 [00:00<00:00,  1.03files/s]\u001b[A\n",
      " 90%|█████████ | 551/612 [11:22<00:59,  1.02it/s]\n",
      "  0%|          | 0/1 [00:00<?, ?files/s]\u001b[A\n",
      "100%|██████████| 1/1 [00:00<00:00,  6.09files/s]\u001b[A\n",
      " 90%|█████████ | 552/612 [11:23<00:52,  1.14it/s]\n",
      "  0%|          | 0/1 [00:00<?, ?files/s]\u001b[A\n",
      "100%|██████████| 1/1 [00:00<00:00,  1.81files/s]\u001b[A\n",
      " 90%|█████████ | 553/612 [11:24<00:54,  1.08it/s]\n",
      "  0%|          | 0/1 [00:00<?, ?files/s]\u001b[A\n",
      "100%|██████████| 1/1 [00:00<00:00,  1.68files/s]\u001b[A\n",
      " 91%|█████████ | 554/612 [11:25<00:56,  1.03it/s]\n",
      "100%|██████████| 1/1 [00:00<00:00, 165.40files/s]\n",
      " 91%|█████████ | 555/612 [11:26<00:46,  1.21it/s]\n",
      "100%|██████████| 1/1 [00:00<00:00, 63.36files/s]\n",
      " 91%|█████████ | 556/612 [11:26<00:40,  1.38it/s]\n",
      "100%|██████████| 1/1 [00:00<00:00, 30.60files/s]\n",
      " 91%|█████████ | 557/612 [11:27<00:36,  1.51it/s]\n",
      "  0%|          | 0/1 [00:00<?, ?files/s]\u001b[A\n",
      "100%|██████████| 1/1 [00:00<00:00,  3.44files/s]\u001b[A\n",
      " 91%|█████████ | 558/612 [11:27<00:37,  1.44it/s]\n",
      "  0%|          | 0/1 [00:00<?, ?files/s]\u001b[A\n",
      "100%|██████████| 1/1 [00:00<00:00,  1.57files/s]\u001b[A\n",
      " 91%|█████████▏| 559/612 [11:28<00:43,  1.21it/s]\n",
      "  0%|          | 0/1 [00:00<?, ?files/s]\u001b[A\n",
      "100%|██████████| 1/1 [00:00<00:00,  1.61files/s]\u001b[A\n",
      " 92%|█████████▏| 560/612 [11:30<00:47,  1.10it/s]\n",
      "  0%|          | 0/1 [00:00<?, ?files/s]\u001b[A\n",
      "100%|██████████| 1/1 [00:00<00:00,  2.83files/s]\u001b[A\n",
      " 92%|█████████▏| 561/612 [11:30<00:45,  1.12it/s]\n",
      "  0%|          | 0/1 [00:00<?, ?files/s]\u001b[A\n",
      "100%|██████████| 1/1 [00:01<00:00,  1.01s/files]\u001b[A\n",
      " 92%|█████████▏| 562/612 [11:32<00:53,  1.08s/it]\n",
      "  0%|          | 0/1 [00:00<?, ?files/s]\u001b[A\n",
      "100%|██████████| 1/1 [00:00<00:00,  1.55files/s]\u001b[A\n",
      " 92%|█████████▏| 563/612 [11:33<00:53,  1.09s/it]\n",
      "  0%|          | 0/1 [00:00<?, ?files/s]\u001b[A\n",
      "100%|██████████| 1/1 [00:00<00:00,  5.08files/s]\u001b[A\n",
      " 92%|█████████▏| 564/612 [11:34<00:46,  1.03it/s]\n",
      "  0%|          | 0/1 [00:00<?, ?files/s]\u001b[A\n",
      "100%|██████████| 1/1 [00:01<00:00,  1.15s/files]\u001b[A\n",
      " 92%|█████████▏| 565/612 [11:35<00:55,  1.17s/it]\n",
      "  0%|          | 0/1 [00:00<?, ?files/s]\u001b[A\n",
      "100%|██████████| 1/1 [00:00<00:00,  6.79files/s]\u001b[A\n",
      " 92%|█████████▏| 566/612 [11:36<00:46,  1.02s/it]\n",
      "100%|██████████| 1/1 [00:00<00:00, 96.67files/s]\n",
      " 93%|█████████▎| 567/612 [11:37<00:38,  1.16it/s]\n",
      "  0%|          | 0/1 [00:00<?, ?files/s]\u001b[A\n",
      "100%|██████████| 1/1 [00:00<00:00,  1.51files/s]\u001b[A\n",
      " 93%|█████████▎| 568/612 [11:38<00:41,  1.06it/s]\n",
      "  0%|          | 0/1 [00:00<?, ?files/s]\u001b[A\n",
      "100%|██████████| 1/1 [00:00<00:00,  6.81files/s]\u001b[A\n",
      " 93%|█████████▎| 569/612 [11:38<00:36,  1.17it/s]\n",
      "100%|██████████| 1/1 [00:00<00:00, 67.82files/s]\n",
      " 93%|█████████▎| 570/612 [11:39<00:31,  1.34it/s]\n",
      "  0%|          | 0/1 [00:00<?, ?files/s]\u001b[A\n",
      "100%|██████████| 1/1 [00:02<00:00,  2.43s/files]\u001b[A\n",
      " 93%|█████████▎| 571/612 [11:42<00:57,  1.40s/it]\n",
      "100%|██████████| 1/1 [00:00<00:00, 16.88files/s]\n",
      " 93%|█████████▎| 572/612 [11:42<00:45,  1.14s/it]\n",
      "100%|██████████| 1/1 [00:00<00:00, 18.10files/s]\n",
      " 94%|█████████▎| 573/612 [11:43<00:37,  1.03it/s]\n",
      "  0%|          | 0/1 [00:00<?, ?files/s]\u001b[A\n",
      "100%|██████████| 1/1 [00:00<00:00,  1.25files/s]\u001b[A\n",
      " 94%|█████████▍| 574/612 [11:44<00:40,  1.07s/it]\n",
      "  0%|          | 0/1 [00:00<?, ?files/s]\u001b[A\n",
      "100%|██████████| 1/1 [00:00<00:00,  4.66files/s]\u001b[A\n",
      " 94%|█████████▍| 575/612 [11:45<00:35,  1.03it/s]\n",
      "  0%|          | 0/1 [00:00<?, ?files/s]\u001b[A\n",
      "100%|██████████| 1/1 [00:01<00:00,  1.48s/files]\u001b[A\n",
      " 94%|█████████▍| 576/612 [11:47<00:45,  1.27s/it]\n",
      "  0%|          | 0/1 [00:00<?, ?files/s]\u001b[A\n",
      "100%|██████████| 1/1 [00:00<00:00,  3.78files/s]\u001b[A\n",
      " 94%|█████████▍| 577/612 [11:48<00:39,  1.12s/it]\n",
      "  0%|          | 0/1 [00:00<?, ?files/s]\u001b[A\n",
      "100%|██████████| 1/1 [00:01<00:00,  1.44s/files]\u001b[A\n",
      " 94%|█████████▍| 578/612 [11:50<00:46,  1.36s/it]\n",
      "  0%|          | 0/1 [00:00<?, ?files/s]\u001b[A\n",
      "100%|██████████| 1/1 [00:00<00:00,  8.79files/s]\u001b[A\n",
      " 95%|█████████▍| 579/612 [11:50<00:37,  1.14s/it]\n",
      "  0%|          | 0/1 [00:00<?, ?files/s]\u001b[A\n",
      "100%|██████████| 1/1 [00:00<00:00,  1.06files/s]\u001b[A\n",
      " 95%|█████████▍| 580/612 [11:52<00:39,  1.23s/it]\n",
      "  0%|          | 0/1 [00:00<?, ?files/s]\u001b[A\n",
      "100%|██████████| 1/1 [00:00<00:00,  7.40files/s]\u001b[A\n",
      " 95%|█████████▍| 581/612 [11:52<00:32,  1.06s/it]\n",
      "100%|██████████| 1/1 [00:00<00:00, 53.23files/s]\n",
      " 95%|█████████▌| 582/612 [11:53<00:26,  1.12it/s]\n",
      "  0%|          | 0/1 [00:00<?, ?files/s]\u001b[A\n",
      "100%|██████████| 1/1 [00:00<00:00,  2.18files/s]\u001b[A\n",
      " 95%|█████████▌| 583/612 [11:54<00:26,  1.11it/s]\n",
      "100%|██████████| 1/1 [00:00<00:00, 407.13files/s]\n",
      " 95%|█████████▌| 584/612 [11:54<00:21,  1.28it/s]\n",
      "100%|██████████| 1/1 [00:00<00:00, 92.87files/s]\n",
      " 96%|█████████▌| 585/612 [11:55<00:18,  1.44it/s]\n",
      "  0%|          | 0/1 [00:00<?, ?files/s]\u001b[A\n",
      "100%|██████████| 1/1 [00:00<00:00,  1.83files/s]\u001b[A\n",
      " 96%|█████████▌| 586/612 [11:56<00:20,  1.25it/s]\n",
      "100%|██████████| 1/1 [00:00<00:00, 49.19files/s]\n",
      " 96%|█████████▌| 587/612 [11:56<00:17,  1.40it/s]\n",
      "100%|██████████| 1/1 [00:00<00:00, 10.12files/s]\n",
      " 96%|█████████▌| 588/612 [11:57<00:16,  1.47it/s]\n",
      "  0%|          | 0/1 [00:00<?, ?files/s]\u001b[A\n",
      "100%|██████████| 1/1 [00:00<00:00,  3.98files/s]\u001b[A\n",
      " 96%|█████████▌| 589/612 [11:58<00:16,  1.43it/s]\n",
      "  0%|          | 0/1 [00:00<?, ?files/s]\u001b[A\n",
      "100%|██████████| 1/1 [00:00<00:00,  1.19files/s]\u001b[A\n",
      " 96%|█████████▋| 590/612 [11:59<00:19,  1.13it/s]\n",
      "100%|██████████| 1/1 [00:00<00:00, 46.62files/s]\n",
      " 97%|█████████▋| 591/612 [11:59<00:16,  1.30it/s]\n",
      "  0%|          | 0/1 [00:00<?, ?files/s]\u001b[A\n",
      "100%|██████████| 1/1 [00:00<00:00,  9.10files/s]\u001b[A\n",
      " 97%|█████████▋| 592/612 [12:00<00:14,  1.40it/s]\n",
      "  0%|          | 0/1 [00:00<?, ?files/s]\u001b[A\n",
      "100%|██████████| 1/1 [00:01<00:00,  1.87s/files]\u001b[A\n",
      " 97%|█████████▋| 593/612 [12:02<00:22,  1.21s/it]\n",
      "  0%|          | 0/1 [00:00<?, ?files/s]\u001b[A\n",
      "100%|██████████| 1/1 [00:00<00:00,  2.93files/s]\u001b[A\n",
      " 97%|█████████▋| 594/612 [12:03<00:19,  1.10s/it]\n",
      "  0%|          | 0/1 [00:00<?, ?files/s]\u001b[A\n",
      "100%|██████████| 1/1 [00:01<00:00,  1.28s/files]\u001b[A\n",
      " 97%|█████████▋| 595/612 [12:05<00:22,  1.30s/it]\n",
      "  0%|          | 0/1 [00:00<?, ?files/s]\u001b[A\n",
      "100%|██████████| 1/1 [00:00<00:00,  1.77files/s]\u001b[A\n",
      " 97%|█████████▋| 596/612 [12:06<00:19,  1.22s/it]\n",
      "  0%|          | 0/1 [00:00<?, ?files/s]\u001b[A\n",
      "100%|██████████| 1/1 [00:00<00:00,  1.20files/s]\u001b[A\n",
      " 98%|█████████▊| 597/612 [12:07<00:18,  1.25s/it]\n",
      "  0%|          | 0/1 [00:00<?, ?files/s]\u001b[A\n",
      "100%|██████████| 1/1 [00:00<00:00,  1.39files/s]\u001b[A\n",
      " 98%|█████████▊| 598/612 [12:09<00:17,  1.25s/it]\n"
     ]
    },
    {
     "name": "stderr",
     "output_type": "stream",
     "text": [
      "100%|██████████| 1/1 [00:00<00:00, 11.53files/s]\n",
      " 98%|█████████▊| 599/612 [12:09<00:13,  1.04s/it]\n",
      "  0%|          | 0/1 [00:00<?, ?files/s]\u001b[A\n",
      "100%|██████████| 1/1 [00:01<00:00,  1.07s/files]\u001b[A\n",
      " 98%|█████████▊| 600/612 [12:11<00:14,  1.20s/it]\n",
      "  0%|          | 0/1 [00:00<?, ?files/s]\u001b[A\n",
      "100%|██████████| 1/1 [00:00<00:00,  2.14files/s]\u001b[A\n",
      " 98%|█████████▊| 601/612 [12:12<00:12,  1.12s/it]\n",
      "  0%|          | 0/1 [00:00<?, ?files/s]\u001b[A\n",
      "100%|██████████| 1/1 [00:01<00:00,  1.53s/files]\u001b[A\n",
      " 98%|█████████▊| 602/612 [12:14<00:13,  1.39s/it]\n",
      "  0%|          | 0/1 [00:00<?, ?files/s]\u001b[A\n",
      "100%|██████████| 1/1 [00:00<00:00,  3.69files/s]\u001b[A\n",
      " 99%|█████████▊| 603/612 [12:14<00:10,  1.20s/it]\n",
      "100%|██████████| 1/1 [00:00<00:00, 84.01files/s]\n",
      " 99%|█████████▊| 604/612 [12:15<00:07,  1.01it/s]\n",
      "100%|██████████| 1/1 [00:00<00:00, 24.00files/s]\n",
      " 99%|█████████▉| 605/612 [12:15<00:05,  1.18it/s]\n",
      "  0%|          | 0/1 [00:00<?, ?files/s]\u001b[A\n",
      "100%|██████████| 1/1 [00:00<00:00,  3.76files/s]\u001b[A\n",
      " 99%|█████████▉| 606/612 [12:16<00:04,  1.23it/s]\n",
      "  0%|          | 0/1 [00:00<?, ?files/s]\u001b[A\n",
      "100%|██████████| 1/1 [00:01<00:00,  1.12s/files]\u001b[A\n",
      " 99%|█████████▉| 607/612 [12:18<00:05,  1.05s/it]\n",
      "  0%|          | 0/1 [00:00<?, ?files/s]\u001b[A\n",
      "100%|██████████| 1/1 [00:01<00:00,  1.01s/files]\u001b[A\n",
      " 99%|█████████▉| 608/612 [12:19<00:04,  1.19s/it]\n",
      "  0%|          | 0/1 [00:00<?, ?files/s]\u001b[A\n",
      "100%|██████████| 1/1 [00:01<00:00,  1.13s/files]\u001b[A\n",
      "100%|█████████▉| 609/612 [12:21<00:03,  1.32s/it]\n",
      "100%|██████████| 1/1 [00:00<00:00, 13.31files/s]\n",
      "100%|█████████▉| 610/612 [12:21<00:02,  1.09s/it]\n",
      "  0%|          | 0/1 [00:00<?, ?files/s]\u001b[A\n",
      "100%|██████████| 1/1 [00:00<00:00,  2.38files/s]\u001b[A\n",
      "100%|█████████▉| 611/612 [12:22<00:01,  1.03s/it]\n",
      "  0%|          | 0/1 [00:00<?, ?files/s]\u001b[A\n",
      "100%|██████████| 1/1 [00:00<00:00,  1.72files/s]\u001b[A\n",
      "100%|██████████| 612/612 [12:23<00:00,  1.22s/it]\n"
     ]
    }
   ],
   "source": [
    "results = []\n",
    "author='aquinas'\n",
    "for file in tqdm(aquinas):\n",
    "    author_inflected_words, author_lemmas = get_word_counts([file])    \n",
    "    author_words = set(author_lemmas.keys())\n",
    "    cicero_words = set(cicero_lemmas.keys())\n",
    "    common = author_words & cicero_words\n",
    "    author_uniq  = author_words - common \n",
    "    P_one_x_lemma_unigram = len(author_uniq) / sum(author_lemmas.values())\n",
    "    author_words = set(author_inflected_words.keys())\n",
    "    cicero_words = set(cicero_inflected_words.keys())\n",
    "    common = author_words & cicero_words\n",
    "    author_uniq  = author_words - common \n",
    "    P_one_x_inflected_unigram = len(author_uniq) / sum(author_inflected_words.values())\n",
    "    results.append((author, file, sum(author_inflected_words.values()), P_one_x_inflected_unigram, P_one_x_lemma_unigram))"
   ]
  },
  {
   "cell_type": "code",
   "execution_count": 15,
   "metadata": {},
   "outputs": [
    {
     "data": {
      "text/plain": [
       "[('aquinas',\n",
       "  '../data/aquinas/ccm0.txt',\n",
       "  1134,\n",
       "  0.03262786596119929,\n",
       "  0.06437389770723104),\n",
       " ('aquinas',\n",
       "  '../data/aquinas/cmt00b.txt',\n",
       "  2132,\n",
       "  0.06894934333958724,\n",
       "  0.11538461538461539),\n",
       " ('aquinas',\n",
       "  '../data/aquinas/cih00.txt',\n",
       "  2813,\n",
       "  0.04550302168503377,\n",
       "  0.0810522573764664)]"
      ]
     },
     "execution_count": 15,
     "metadata": {},
     "output_type": "execute_result"
    }
   ],
   "source": [
    "results[:3]"
   ]
  },
  {
   "cell_type": "code",
   "execution_count": 16,
   "metadata": {},
   "outputs": [],
   "source": [
    "authors, files, sizes, lemma_counts, inflected_counts = zip(*results)"
   ]
  },
  {
   "cell_type": "code",
   "execution_count": 17,
   "metadata": {},
   "outputs": [],
   "source": [
    "import numpy as np"
   ]
  },
  {
   "cell_type": "code",
   "execution_count": 18,
   "metadata": {},
   "outputs": [
    {
     "data": {
      "text/plain": [
       "(0.040614957083179186, 0.07611207700363683)"
      ]
     },
     "execution_count": 18,
     "metadata": {},
     "output_type": "execute_result"
    }
   ],
   "source": [
    " np.mean(inflected_counts), np.std(inflected_counts)"
   ]
  },
  {
   "cell_type": "code",
   "execution_count": 20,
   "metadata": {},
   "outputs": [],
   "source": [
    "import matplotlib.pyplot as plt"
   ]
  },
  {
   "cell_type": "code",
   "execution_count": 25,
   "metadata": {},
   "outputs": [
    {
     "data": {
      "text/plain": [
       "(array([ 42., 358., 137.,  44.,  20.,   7.,   1.,   0.,   2.,   1.]),\n",
       " array([0.        , 0.03870968, 0.07741935, 0.11612903, 0.15483871,\n",
       "        0.19354839, 0.23225806, 0.27096774, 0.30967742, 0.3483871 ,\n",
       "        0.38709677]),\n",
       " <a list of 10 Patch objects>)"
      ]
     },
     "execution_count": 25,
     "metadata": {},
     "output_type": "execute_result"
    },
    {
     "data": {
      "image/png": "[encoded data removed]",
      "text/plain": [
       "<Figure size 432x288 with 1 Axes>"
      ]
     },
     "metadata": {
      "needs_background": "light"
     },
     "output_type": "display_data"
    }
   ],
   "source": [
    " \n",
    "plt.hist( inflected_counts, bins=10)"
   ]
  },
  {
   "cell_type": "code",
   "execution_count": 26,
   "metadata": {},
   "outputs": [
    {
     "data": {
      "text/plain": [
       "(array([261., 268.,  53.,  18.,   9.,   0.,   0.,   0.,   1.,   2.]),\n",
       " array([0.        , 0.03333333, 0.06666667, 0.1       , 0.13333333,\n",
       "        0.16666667, 0.2       , 0.23333333, 0.26666667, 0.3       ,\n",
       "        0.33333333]),\n",
       " <a list of 10 Patch objects>)"
      ]
     },
     "execution_count": 26,
     "metadata": {},
     "output_type": "execute_result"
    },
    {
     "data": {
      "image/png": "[encoded data removed]",
      "text/plain": [
       "<Figure size 432x288 with 1 Axes>"
      ]
     },
     "metadata": {
      "needs_background": "light"
     },
     "output_type": "display_data"
    }
   ],
   "source": [
    "plt.hist(lemma_counts, bins=10)"
   ]
  },
  {
   "cell_type": "code",
   "execution_count": null,
   "metadata": {},
   "outputs": [],
   "source": []
  }
 ],
 "metadata": {
  "kernelspec": {
   "display_name": "mlyoucanusep37",
   "language": "python",
   "name": "mlyoucanusep37"
  },
  "language_info": {
   "codemirror_mode": {
    "name": "ipython",
    "version": 3
   },
   "file_extension": ".py",
   "mimetype": "text/x-python",
   "name": "python",
   "nbconvert_exporter": "python",
   "pygments_lexer": "ipython3",
   "version": "3.7.0"
  }
 },
 "nbformat": 4,
 "nbformat_minor": 2
}
