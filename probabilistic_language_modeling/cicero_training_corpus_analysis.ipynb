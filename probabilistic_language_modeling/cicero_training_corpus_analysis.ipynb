{
 "cells": [
  {
   "cell_type": "markdown",
   "metadata": {},
   "source": [
    "# Analysis of the Cicero corpus & comparison to other authors and works\n",
    "This notebook was used to develop a talk I gave at the Cicero Digitalis Conference on Feb 25, 2021\n",
    "video here: https://www.youtube.com/watch?v=tJwmXZHZ924"
   ]
  },
  {
   "cell_type": "code",
   "execution_count": 22,
   "metadata": {},
   "outputs": [
    {
     "data": {
      "text/plain": [
       "cltk 1.0.11 (/Users/todd/opt/anaconda3/envs/mlycu3.8/lib/python3.8/site-packages)"
      ]
     },
     "execution_count": 22,
     "metadata": {},
     "output_type": "execute_result"
    }
   ],
   "source": [
    "import os.path\n",
    "from collections import Counter\n",
    "from glob import glob\n",
    "import inspect\n",
    "import os\n",
    "import pickle\n",
    "import sys\n",
    "from typing import List, Dict, Tuple\n",
    "from copy import deepcopy\n",
    "import random\n",
    "\n",
    "import pandas as pd\n",
    "import re\n",
    "from typing import Set\n",
    "\n",
    "from cltk.sentence.lat import LatinPunktSentenceTokenizer\n",
    "from cltk.tokenizers.lat.lat import LatinWordTokenizer\n",
    "from cltk.alphabet.lat import normalize_lat\n",
    "\n",
    "\n",
    "# from cltk.corpus.latin.phi5_index import PHI5_INDEX\n",
    "# from cltk.corpus.readers import get_corpus_reader\n",
    "# from cltk.stem.latin.j_v import JVReplacer\n",
    "# from cltk.stem.lemma import LemmaReplacer\n",
    "# from cltk.tokenize.latin.sentence import SentenceTokenizer\n",
    "# from cltk.tokenize.word import WordTokenizer\n",
    "import cltk\n",
    "from random import sample\n",
    "from tqdm import tqdm\n",
    "import matplotlib.pyplot as plt\n",
    "from matplotlib.ticker import MaxNLocator\n",
    "plt.style.use('fivethirtyeight')\n",
    "\n",
    "\n",
    "currentdir = os.path.dirname(os.path.abspath(inspect.getfile(inspect.currentframe())))\n",
    "parentdir = os.path.dirname(currentdir)\n",
    "sys.path.insert(0,parentdir)\n",
    " \n",
    "from mlyoucanuse.aeoe_replacer import AEOEReplacer\n",
    "from mlyoucanuse.text_cleaners import ( normalize_accents, disappear_angle_brackets,\n",
    "                                        drop_punct, disappear_round_brackets, swallow,swallow_obelized_words,\n",
    "                                        truecase, dehyphenate, accept_editorial,\n",
    "                                        swallow_braces, swallow_obelized_words,\n",
    "                                       swallow_angular_brackets,\n",
    "                                        swallow_square_brackets)\n",
    "\n",
    "from scipy.optimize import curve_fit\n",
    "import numpy as np\n",
    "\n",
    "import cltk\n",
    "cltk.__version__"
   ]
  },
  {
   "cell_type": "code",
   "execution_count": 31,
   "metadata": {},
   "outputs": [],
   "source": [
    "sent_toker = LatinPunktSentenceTokenizer()\n",
    "word_toker = LatinWordTokenizer()"
   ]
  },
  {
   "cell_type": "code",
   "execution_count": 32,
   "metadata": {},
   "outputs": [
    {
     "data": {
      "text/plain": [
       "['o rem difficilem planeque perditam!',\n",
       " 'quam nihil praetermittis in consilio dando; quam nihil tamen quod tibi ipsi placeat explicas!',\n",
       " 'non esse me una cum Pompeio gaudes']"
      ]
     },
     "execution_count": 32,
     "metadata": {},
     "output_type": "execute_result"
    }
   ],
   "source": [
    "sent_toker.tokenize(\"o rem difficilem planeque perditam! quam nihil praetermittis in consilio dando; quam nihil tamen quod tibi ipsi placeat explicas! non esse me una cum Pompeio gaudes\")"
   ]
  },
  {
   "cell_type": "code",
   "execution_count": 25,
   "metadata": {},
   "outputs": [
    {
     "data": {
      "text/plain": [
       "122"
      ]
     },
     "execution_count": 25,
     "metadata": {},
     "output_type": "execute_result"
    }
   ],
   "source": [
    "cicero_tess = glob(os.path.expanduser('~/cltk_data/latin/text/latin_text_tesserae/texts/cicero.*.tess'))\n",
    "len(cicero_tess)"
   ]
  },
  {
   "cell_type": "code",
   "execution_count": 41,
   "metadata": {},
   "outputs": [],
   "source": [
    "truecase_file = 'truecase_counter.latin.pkl'\n",
    "\n",
    "if os.path.exists(truecase_file):\n",
    "    with open(truecase_file, 'rb') as fin:        \n",
    "        case_counts = pickle.load(fin)"
   ]
  },
  {
   "cell_type": "code",
   "execution_count": 159,
   "metadata": {},
   "outputs": [
    {
     "name": "stderr",
     "output_type": "stream",
     "text": [
      "100%|██████████| 122/122 [00:25<00:00,  4.85it/s]\n"
     ]
    }
   ],
   "source": [
    "ANY_ANGLE =  re.compile(\"<.[^>]+>\") # remove tesserae metadata \n",
    "sent_lens = []\n",
    "sent_map={}\n",
    "sent_idx=0\n",
    "double_break_idx = []\n",
    "with open('cicero_tesserae.txt', 'wt') as fout:\n",
    "    for file in tqdm(cicero_tess, total=len(cicero_tess)):\n",
    "        with open(file, 'rt') as fin:\n",
    "            text = fin.read()\n",
    "            text = swallow(text, ANY_ANGLE)\n",
    "            text = normalize_lat(text, drop_accents=True, drop_macrons=True, jv_replacement=True, ligature_replacement=True)\n",
    "            text = accept_editorial(text)\n",
    "            for sent in sent_toker.tokenize(text):\n",
    "                tokens = word_toker.tokenize(sent)\n",
    "                tokens = [truecase(token, case_counts) for token in tokens]\n",
    "                sent_map[sent_idx] = tokens\n",
    "                sent_idx +=1\n",
    "                sent_lens.append(len(tokens))\n",
    "                fout.write(f\"{' '.join(tokens)}\\n\")\n",
    "        fout.write(f\"\\n\\n\")\n",
    "        double_break_idx.append(sent_idx)"
   ]
  },
  {
   "cell_type": "code",
   "execution_count": 56,
   "metadata": {},
   "outputs": [
    {
     "data": {
      "text/plain": [
       "(25.30188163469862, 22.32132597636475, 713)"
      ]
     },
     "execution_count": 56,
     "metadata": {},
     "output_type": "execute_result"
    }
   ],
   "source": [
    "sent_lens = np.array(sent_lens)\n",
    "np.mean( sent_lens), np.std( sent_lens), np.max(sent_lens) "
   ]
  },
  {
   "cell_type": "code",
   "execution_count": 57,
   "metadata": {},
   "outputs": [
    {
     "data": {
      "text/plain": [
       "3"
      ]
     },
     "execution_count": 57,
     "metadata": {},
     "output_type": "execute_result"
    }
   ],
   "source": [
    "len([tmp for tmp in sent_lens if tmp > 510])"
   ]
  },
  {
   "cell_type": "code",
   "execution_count": 58,
   "metadata": {},
   "outputs": [
    {
     "name": "stdout",
     "output_type": "stream",
     "text": [
      "   44142 cicero_tesserae.txt\r\n"
     ]
    }
   ],
   "source": [
    "! wc -l cicero_tesserae.txt"
   ]
  },
  {
   "cell_type": "code",
   "execution_count": 59,
   "metadata": {},
   "outputs": [
    {
     "data": {
      "text/plain": [
       "[<matplotlib.lines.Line2D at 0x7ff595e783a0>]"
      ]
     },
     "execution_count": 59,
     "metadata": {},
     "output_type": "execute_result"
    },
    {
     "data": {
      "image/png": "[encoded data removed]",
      "text/plain": [
       "<Figure size 432x288 with 1 Axes>"
      ]
     },
     "metadata": {},
     "output_type": "display_data"
    }
   ],
   "source": [
    "# graph the counts of Cicero sentence lengths\n",
    "# may be relevant to assessing the model \n",
    "cicero_sent_lens= Counter(sent_lens.tolist())\n",
    "# cicero_sent_lens.most_common(10)\n",
    "x, y = zip(* sorted(cicero_sent_lens.items(), key=lambda x:x[0]))\n",
    "plt.plot(x[:50],y[:50])"
   ]
  },
  {
   "cell_type": "code",
   "execution_count": 60,
   "metadata": {},
   "outputs": [],
   "source": [
    "# Find 200 sentences of 8-18 tokens\n",
    "# when these are removed from the training set, all the words should still appear in the training set\n",
    "# but none of the exact sentences should appear in the training set"
   ]
  },
  {
   "cell_type": "code",
   "execution_count": 61,
   "metadata": {},
   "outputs": [],
   "source": [
    "word_counter = Counter()\n",
    "for tokens in sent_map.values():\n",
    "    for tok in tokens:\n",
    "        word_counter.update({tok:1})"
   ]
  },
  {
   "cell_type": "code",
   "execution_count": 129,
   "metadata": {},
   "outputs": [],
   "source": [
    "min_tokens, max_tokens, min_token_count = 8, 23, 4 # 8, 19, 4"
   ]
  },
  {
   "cell_type": "code",
   "execution_count": 130,
   "metadata": {},
   "outputs": [
    {
     "data": {
      "text/plain": [
       "8300"
      ]
     },
     "execution_count": 130,
     "metadata": {},
     "output_type": "execute_result"
    }
   ],
   "source": [
    "candidate_sent_idx =[]\n",
    "for key, vals in sent_map.items():\n",
    "    istarget = True\n",
    "    if len(vals) >= min_tokens and len(vals) <= max_tokens:\n",
    "        for val in vals:\n",
    "            if word_counter[val] < min_token_count:\n",
    "                istarget = False\n",
    "        if istarget:\n",
    "            candidate_sent_idx.append(key)\n",
    "len(candidate_sent_idx)"
   ]
  },
  {
   "cell_type": "code",
   "execution_count": 131,
   "metadata": {},
   "outputs": [
    {
     "data": {
      "text/plain": [
       "[9, 12, 16]"
      ]
     },
     "execution_count": 131,
     "metadata": {},
     "output_type": "execute_result"
    }
   ],
   "source": [
    "candidate_sent_idx[:3]"
   ]
  },
  {
   "cell_type": "code",
   "execution_count": 132,
   "metadata": {},
   "outputs": [
    {
     "data": {
      "text/plain": [
       "['frater',\n",
       " 'accedit',\n",
       " 'quem',\n",
       " 'socium',\n",
       " 'huius',\n",
       " 'fortunae',\n",
       " 'esse',\n",
       " 'non',\n",
       " 'erat',\n",
       " 'aequum',\n",
       " '.']"
      ]
     },
     "execution_count": 132,
     "metadata": {},
     "output_type": "execute_result"
    }
   ],
   "source": [
    "sent_map[12]"
   ]
  },
  {
   "cell_type": "code",
   "execution_count": 133,
   "metadata": {},
   "outputs": [],
   "source": [
    "def check_test_candidate( proposed_test_sents_idx:Set[int], sent_map):\n",
    "    total_tokens = set()    \n",
    "    for key, vals in sent_map.items():\n",
    "        if key in proposed_test_sents_idx:\n",
    "            continue\n",
    "        for val in vals:            \n",
    "            total_tokens.add(val)\n",
    "    return len(total_tokens)"
   ]
  },
  {
   "cell_type": "code",
   "execution_count": 134,
   "metadata": {},
   "outputs": [
    {
     "data": {
      "text/plain": [
       "70573"
      ]
     },
     "execution_count": 134,
     "metadata": {},
     "output_type": "execute_result"
    }
   ],
   "source": [
    "len(word_counter.keys())"
   ]
  },
  {
   "cell_type": "code",
   "execution_count": 135,
   "metadata": {},
   "outputs": [],
   "source": [
    "test_set_size=2500 # fails around 4k"
   ]
  },
  {
   "cell_type": "code",
   "execution_count": 136,
   "metadata": {},
   "outputs": [
    {
     "data": {
      "text/plain": [
       "70573"
      ]
     },
     "execution_count": 136,
     "metadata": {},
     "output_type": "execute_result"
    }
   ],
   "source": [
    "test_candidates = sample( candidate_sent_idx, test_set_size)\n",
    "check_test_candidate(set(test_candidates), sent_map)\n"
   ]
  },
  {
   "cell_type": "code",
   "execution_count": 137,
   "metadata": {},
   "outputs": [],
   "source": [
    "# create two files cicero.train.txt, cicero.test.txt"
   ]
  },
  {
   "cell_type": "code",
   "execution_count": 138,
   "metadata": {},
   "outputs": [],
   "source": [
    "# double_break_idx\n",
    "test_can = set(test_candidates)\n",
    "double_breaks = set(double_break_idx)\n",
    "\n",
    "with open('cicero.train.txt', 'wt') as fout:\n",
    "    for key, vals in sent_map.items():\n",
    "        if key in test_can:\n",
    "            fout.write(f\"\\n\\n\")\n",
    "            continue\n",
    "        fout.write(f\"{' '.join(vals)}\\n\")\n",
    "        if key in double_breaks:\n",
    "            fout.write(f\"\\n\\n\")"
   ]
  },
  {
   "cell_type": "code",
   "execution_count": 139,
   "metadata": {},
   "outputs": [],
   "source": [
    "with open('cicero.test.txt', 'wt') as fout:\n",
    "    for key, vals in sent_map.items():\n",
    "        if key in test_can:\n",
    "            fout.write(f\"{' '.join(vals)}\\n\")"
   ]
  },
  {
   "cell_type": "code",
   "execution_count": 140,
   "metadata": {},
   "outputs": [
    {
     "data": {
      "text/html": [
       "<div>\n",
       "<style scoped>\n",
       "    .dataframe tbody tr th:only-of-type {\n",
       "        vertical-align: middle;\n",
       "    }\n",
       "\n",
       "    .dataframe tbody tr th {\n",
       "        vertical-align: top;\n",
       "    }\n",
       "\n",
       "    .dataframe thead th {\n",
       "        text-align: right;\n",
       "    }\n",
       "</style>\n",
       "<table border=\"1\" class=\"dataframe\">\n",
       "  <thead>\n",
       "    <tr style=\"text-align: right;\">\n",
       "      <th></th>\n",
       "      <th>sentence_idx</th>\n",
       "      <th>test_sentences</th>\n",
       "    </tr>\n",
       "  </thead>\n",
       "  <tbody>\n",
       "    <tr>\n",
       "      <th>0</th>\n",
       "      <td>16983</td>\n",
       "      <td>uidendum est igitur , ut ea liberalitate utamu...</td>\n",
       "    </tr>\n",
       "    <tr>\n",
       "      <th>1</th>\n",
       "      <td>32813</td>\n",
       "      <td>aut , si omnes homines uelint , obscura esse p...</td>\n",
       "    </tr>\n",
       "    <tr>\n",
       "      <th>2</th>\n",
       "      <td>19411</td>\n",
       "      <td>ualent pueri , studiose discunt , diligenter d...</td>\n",
       "    </tr>\n",
       "    <tr>\n",
       "      <th>3</th>\n",
       "      <td>25066</td>\n",
       "      <td>hoc enim identidem dicitis , non intellegere n...</td>\n",
       "    </tr>\n",
       "    <tr>\n",
       "      <th>4</th>\n",
       "      <td>28701</td>\n",
       "      <td>bene hercule narras ; nam istum doctum et sapi...</td>\n",
       "    </tr>\n",
       "  </tbody>\n",
       "</table>\n",
       "</div>"
      ],
      "text/plain": [
       "   sentence_idx                                     test_sentences\n",
       "0         16983  uidendum est igitur , ut ea liberalitate utamu...\n",
       "1         32813  aut , si omnes homines uelint , obscura esse p...\n",
       "2         19411  ualent pueri , studiose discunt , diligenter d...\n",
       "3         25066  hoc enim identidem dicitis , non intellegere n...\n",
       "4         28701  bene hercule narras ; nam istum doctum et sapi..."
      ]
     },
     "execution_count": 140,
     "metadata": {},
     "output_type": "execute_result"
    }
   ],
   "source": [
    "test_sentences =[' '.join(sent_map[tmp ]) for tmp in test_candidates]\n",
    "df = pd.DataFrame({\"sentence_idx\": test_candidates, \"test_sentences\": test_sentences })\n",
    "df.to_csv(f'cicero.test.sentences.{test_set_size}.csv', index=False)\n",
    "df.head()"
   ]
  },
  {
   "cell_type": "code",
   "execution_count": 141,
   "metadata": {},
   "outputs": [
    {
     "data": {
      "text/html": [
       "<div>\n",
       "<style scoped>\n",
       "    .dataframe tbody tr th:only-of-type {\n",
       "        vertical-align: middle;\n",
       "    }\n",
       "\n",
       "    .dataframe tbody tr th {\n",
       "        vertical-align: top;\n",
       "    }\n",
       "\n",
       "    .dataframe thead th {\n",
       "        text-align: right;\n",
       "    }\n",
       "</style>\n",
       "<table border=\"1\" class=\"dataframe\">\n",
       "  <thead>\n",
       "    <tr style=\"text-align: right;\">\n",
       "      <th></th>\n",
       "      <th>sentence_idx</th>\n",
       "      <th>train_sentences</th>\n",
       "    </tr>\n",
       "  </thead>\n",
       "  <tbody>\n",
       "    <tr>\n",
       "      <th>0</th>\n",
       "      <td>0</td>\n",
       "      <td>etsi cum tu has litteras legeres putabam fore ...</td>\n",
       "    </tr>\n",
       "    <tr>\n",
       "      <th>1</th>\n",
       "      <td>1</td>\n",
       "      <td>sed haec fortasse κενόσπουδα sunt , quae tamen...</td>\n",
       "    </tr>\n",
       "    <tr>\n",
       "      <th>2</th>\n",
       "      <td>2</td>\n",
       "      <td>quaero autem , quo facilius scire possim quid ...</td>\n",
       "    </tr>\n",
       "    <tr>\n",
       "      <th>3</th>\n",
       "      <td>3</td>\n",
       "      <td>urbem quidem iam refertam esse optimatium audi...</td>\n",
       "    </tr>\n",
       "    <tr>\n",
       "      <th>4</th>\n",
       "      <td>4</td>\n",
       "      <td>hinc uero uulgo uadunt ; etiam M'. Lepidus cum...</td>\n",
       "    </tr>\n",
       "  </tbody>\n",
       "</table>\n",
       "</div>"
      ],
      "text/plain": [
       "   sentence_idx                                    train_sentences\n",
       "0             0  etsi cum tu has litteras legeres putabam fore ...\n",
       "1             1  sed haec fortasse κενόσπουδα sunt , quae tamen...\n",
       "2             2  quaero autem , quo facilius scire possim quid ...\n",
       "3             3  urbem quidem iam refertam esse optimatium audi...\n",
       "4             4  hinc uero uulgo uadunt ; etiam M'. Lepidus cum..."
      ]
     },
     "execution_count": 141,
     "metadata": {},
     "output_type": "execute_result"
    }
   ],
   "source": [
    "train_sentences  = [ ' '.join(sent_map[tmp ]) for tmp in sent_map.keys()  if tmp not in test_can ]\n",
    "train_idx = [ tmp for tmp in sent_map.keys() if tmp not in test_can]\n",
    "df = pd.DataFrame({\"sentence_idx\": train_idx, \"train_sentences\": train_sentences })\n",
    "df.to_csv(f'cicero.train.sentences.N-{test_set_size}.csv', index=False)\n",
    "df.head()"
   ]
  },
  {
   "cell_type": "code",
   "execution_count": null,
   "metadata": {},
   "outputs": [],
   "source": []
  },
  {
   "cell_type": "code",
   "execution_count": null,
   "metadata": {},
   "outputs": [],
   "source": [
    "# TODO create tesserae.wo.cicero.txt\n",
    "# create aquinas.txt\n",
    "# phi5?"
   ]
  },
  {
   "cell_type": "code",
   "execution_count": 92,
   "metadata": {},
   "outputs": [],
   "source": [
    "def get_word_counts(files:List[str], tesserae=False)-> Dict[str, int] :\n",
    "    \"\"\"\n",
    "    Given a list of files, \n",
    "    clean & tokenize the documents\n",
    "    returns: counter of inflected words \n",
    "    \"\"\"\n",
    "    inflected_word_counter = Counter()\n",
    "#     jv_replacer = JVReplacer()\n",
    "#     aeoe_replacer = AEOEReplacer()\n",
    "#     toker = WordTokenizer('latin')\n",
    "#     sent_toker = SentenceTokenizer()\n",
    "#     lemmatizer = LemmaReplacer('latin')\n",
    "\n",
    "    for file in files: # , total=len(files), unit='files'):\n",
    "        with open(file, 'rt') as fin:\n",
    "            text = fin.read()\n",
    "            text = text.replace(\"-\\n\", \"\")\n",
    "            text = text.replace(\"\\n\", \" \")\n",
    "            if tesserae:\n",
    "                text = swallow(text, ANY_ANGLE)\n",
    "            text = normalize_lat(text, drop_accents=True, drop_macrons=True, jv_replacement=True, ligature_replacement=True)\n",
    "            text = accept_editorial(text)\n",
    "            for sent in sent_toker.tokenize(text):\n",
    "                tokens = word_toker.tokenize(sent)\n",
    "                tokens = [truecase(token, case_counts) for token in tokens]\n",
    "                for token in tokens:\n",
    "                    inflected_word_counter.update({ token: 1})                    \n",
    "\n",
    "#             for sent in sent_toker.tokenize(text):\n",
    "#                 sent = dehyphenate(sent) # because it's Phi5\n",
    "#                 sent = swallow_braces(sent)\n",
    "#                 sent = swallow_square_brackets(sent)\n",
    "#                 sent = disappear_round_brackets(sent)\n",
    "#                 sent = swallow_obelized_words(sent)\n",
    "#                 sent = disappear_angle_brackets(sent)            \n",
    "#                 sent = drop_punct(sent)\n",
    "#                 sent = normalize_accents(sent)            \n",
    "#                 for word in toker.tokenize(sent):\n",
    "#                     if word.isnumeric():\n",
    "#                         continue\n",
    "#                     inflected_word_counter.update({truecase(word, case_counts) : 1})                    \n",
    "    return  inflected_word_counter"
   ]
  },
  {
   "cell_type": "code",
   "execution_count": 93,
   "metadata": {},
   "outputs": [],
   "source": [
    "cicero_inflected_words = get_word_counts(cicero_tess, tesserae=True)"
   ]
  },
  {
   "cell_type": "code",
   "execution_count": 142,
   "metadata": {},
   "outputs": [
    {
     "data": {
      "text/plain": [
       "(762, 640)"
      ]
     },
     "execution_count": 142,
     "metadata": {},
     "output_type": "execute_result"
    }
   ],
   "source": [
    "tess_files = glob(os.path.expanduser('~/cltk_data/latin/text/latin_text_tesserae/texts/*.tess'))\n",
    "tess_wo_cicero = list( set(tess_files) - set(cicero_tess))\n",
    "len(tess_files), len(tess_wo_cicero)"
   ]
  },
  {
   "cell_type": "code",
   "execution_count": null,
   "metadata": {},
   "outputs": [],
   "source": [
    "# tesserae without cicero"
   ]
  },
  {
   "cell_type": "code",
   "execution_count": 143,
   "metadata": {},
   "outputs": [
    {
     "name": "stderr",
     "output_type": "stream",
     "text": [
      "100%|██████████| 640/640 [02:16<00:00,  4.69it/s]\n"
     ]
    }
   ],
   "source": [
    "for file in tqdm(tess_wo_cicero, total=len(tess_wo_cicero)):\n",
    "    # get filename\n",
    "    with open(f'cicero.train.tesserae/{os.path.basename(file)}.txt', 'wt') as fout:\n",
    "        with open(file, 'rt') as fin:\n",
    "            text = fin.read()\n",
    "            text = swallow(text, ANY_ANGLE)\n",
    "            text = normalize_lat(text, drop_accents=True, drop_macrons=True, jv_replacement=True, ligature_replacement=True)\n",
    "            text = accept_editorial(text)\n",
    "            for sent in sent_toker.tokenize(text):\n",
    "                tokens = word_toker.tokenize(sent)\n",
    "                tokens = [truecase(token, case_counts) for token in tokens]\n",
    "                fout.write(f\"{' '.join(tokens)}\\n\")\n",
    "        fout.write(f\"\\n\\n\")"
   ]
  },
  {
   "cell_type": "code",
   "execution_count": 145,
   "metadata": {},
   "outputs": [
    {
     "data": {
      "text/plain": [
       "612"
      ]
     },
     "execution_count": 145,
     "metadata": {},
     "output_type": "execute_result"
    }
   ],
   "source": [
    "# Aquinas \n",
    "aquinas = glob(\"../data/aquinas/*.txt\")\n",
    "len(aquinas)"
   ]
  },
  {
   "cell_type": "code",
   "execution_count": 146,
   "metadata": {},
   "outputs": [
    {
     "name": "stderr",
     "output_type": "stream",
     "text": [
      "100%|██████████| 612/612 [03:46<00:00,  2.70it/s]\n"
     ]
    }
   ],
   "source": [
    "author='aquinas'\n",
    "for file in tqdm(aquinas, total=len(aquinas)):\n",
    "    with open(file, 'rt') as fin:\n",
    "        text = fin.read()\n",
    "        text = text.replace(\"-\\n\", \"\")\n",
    "        text = text.replace(\"\\n\", \" \")        \n",
    "        text = normalize_lat(text, drop_accents=True, drop_macrons=True, jv_replacement=True, ligature_replacement=True)\n",
    "        text = accept_editorial(text)\n",
    "        text = swallow_braces(text)\n",
    "        filename = os.path.basename (file)\n",
    "        with open(f\"cicero.train.aquinas/{filename}\", 'wt') as fout:                \n",
    "            for sent in sent_toker.tokenize(text):\n",
    "                tokens = word_toker.tokenize(sent)\n",
    "                tokens = [truecase(token, case_counts) for token in tokens]\n",
    "                fout.write(f\"{' '.join(tokens)}\\n\")\n",
    "            fout.write(f\"\\n\\n\")\n",
    "                \n",
    "#                 sent = swallow_square_brackets(sent)\n",
    "#                 sent = disappear_round_brackets(sent)\n",
    "#                 sent = swallow_obelized_words(sent)\n",
    "#                 sent = disappear_angle_brackets(sent)            \n",
    "#                 sentence = [truecase(word, case_counts)\n",
    "#                             for word in toker.tokenize(sent) \n",
    "#                             if not word.isnumeric()]\n",
    "#                 fout.write(f\"{' '.join(sentence)}\\n\")"
   ]
  },
  {
   "cell_type": "code",
   "execution_count": null,
   "metadata": {},
   "outputs": [],
   "source": []
  },
  {
   "cell_type": "code",
   "execution_count": 160,
   "metadata": {},
   "outputs": [
    {
     "data": {
      "text/html": [
       "<div>\n",
       "<style scoped>\n",
       "    .dataframe tbody tr th:only-of-type {\n",
       "        vertical-align: middle;\n",
       "    }\n",
       "\n",
       "    .dataframe tbody tr th {\n",
       "        vertical-align: top;\n",
       "    }\n",
       "\n",
       "    .dataframe thead th {\n",
       "        text-align: right;\n",
       "    }\n",
       "</style>\n",
       "<table border=\"1\" class=\"dataframe\">\n",
       "  <thead>\n",
       "    <tr style=\"text-align: right;\">\n",
       "      <th></th>\n",
       "      <th>sentence_idx</th>\n",
       "      <th>test_sentences</th>\n",
       "      <th>masked_sentences</th>\n",
       "      <th>masked_words</th>\n",
       "      <th>mask_idxs</th>\n",
       "    </tr>\n",
       "  </thead>\n",
       "  <tbody>\n",
       "    <tr>\n",
       "      <th>0</th>\n",
       "      <td>16983</td>\n",
       "      <td>uidendum est igitur , ut ea liberalitate utamu...</td>\n",
       "      <td>[MASK] est igitur , ut ea liberalitate utamur ...</td>\n",
       "      <td>uidendum</td>\n",
       "      <td>0</td>\n",
       "    </tr>\n",
       "    <tr>\n",
       "      <th>1</th>\n",
       "      <td>32813</td>\n",
       "      <td>aut , si omnes homines uelint , obscura esse p...</td>\n",
       "      <td>aut , si omnes homines [MASK] , obscura esse p...</td>\n",
       "      <td>uelint</td>\n",
       "      <td>5</td>\n",
       "    </tr>\n",
       "    <tr>\n",
       "      <th>2</th>\n",
       "      <td>19411</td>\n",
       "      <td>ualent pueri , studiose discunt , diligenter d...</td>\n",
       "      <td>ualent pueri , studiose discunt , diligenter d...</td>\n",
       "      <td>nos</td>\n",
       "      <td>10</td>\n",
       "    </tr>\n",
       "    <tr>\n",
       "      <th>3</th>\n",
       "      <td>25066</td>\n",
       "      <td>hoc enim identidem dicitis , non intellegere n...</td>\n",
       "      <td>hoc enim identidem dicitis , non intellegere n...</td>\n",
       "      <td>uoluptatem</td>\n",
       "      <td>10</td>\n",
       "    </tr>\n",
       "    <tr>\n",
       "      <th>4</th>\n",
       "      <td>28701</td>\n",
       "      <td>bene hercule narras ; nam istum doctum et sapi...</td>\n",
       "      <td>bene hercule narras ; nam istum [MASK] et sapi...</td>\n",
       "      <td>doctum</td>\n",
       "      <td>6</td>\n",
       "    </tr>\n",
       "  </tbody>\n",
       "</table>\n",
       "</div>"
      ],
      "text/plain": [
       "   sentence_idx                                     test_sentences  \\\n",
       "0         16983  uidendum est igitur , ut ea liberalitate utamu...   \n",
       "1         32813  aut , si omnes homines uelint , obscura esse p...   \n",
       "2         19411  ualent pueri , studiose discunt , diligenter d...   \n",
       "3         25066  hoc enim identidem dicitis , non intellegere n...   \n",
       "4         28701  bene hercule narras ; nam istum doctum et sapi...   \n",
       "\n",
       "                                    masked_sentences masked_words  mask_idxs  \n",
       "0  [MASK] est igitur , ut ea liberalitate utamur ...     uidendum          0  \n",
       "1  aut , si omnes homines [MASK] , obscura esse p...       uelint          5  \n",
       "2  ualent pueri , studiose discunt , diligenter d...          nos         10  \n",
       "3  hoc enim identidem dicitis , non intellegere n...   uoluptatem         10  \n",
       "4  bene hercule narras ; nam istum [MASK] et sapi...       doctum          6  "
      ]
     },
     "execution_count": 160,
     "metadata": {},
     "output_type": "execute_result"
    }
   ],
   "source": [
    "test_sentences =[' '.join(sent_map[tmp ]) for tmp in test_candidates]\n",
    "masked_sentences = []\n",
    "mask_words = []\n",
    "mask_idxs = []\n",
    "\n",
    "for tmp in test_candidates:\n",
    "    tokens = sent_map[tmp]\n",
    "    while True:\n",
    "        can_idx = random.randint(0, len(tokens)-1)\n",
    "        can_tok = tokens[can_idx]\n",
    "        if can_tok.isalpha():\n",
    "            break\n",
    "    mask_idxs.append(can_idx)\n",
    "    mask_words.append(can_tok)\n",
    "    tokens[can_idx] = '[MASK]'\n",
    "    masked_sentences.append(' '.join(tokens))\n",
    "\n",
    "df = pd.DataFrame({\"sentence_idx\": test_candidates, \n",
    "                   \"test_sentences\": test_sentences,\n",
    "                  \"masked_sentences\": masked_sentences,\n",
    "                \"masked_words\": mask_words,\n",
    "                \"mask_idxs\": mask_idxs})\n",
    "df.to_csv(f'cicero.test.sentences.{test_set_size}.wmask.csv', index=False)\n",
    "df.head()"
   ]
  },
  {
   "cell_type": "code",
   "execution_count": 161,
   "metadata": {},
   "outputs": [
    {
     "data": {
      "text/html": [
       "<div>\n",
       "<style scoped>\n",
       "    .dataframe tbody tr th:only-of-type {\n",
       "        vertical-align: middle;\n",
       "    }\n",
       "\n",
       "    .dataframe tbody tr th {\n",
       "        vertical-align: top;\n",
       "    }\n",
       "\n",
       "    .dataframe thead th {\n",
       "        text-align: right;\n",
       "    }\n",
       "</style>\n",
       "<table border=\"1\" class=\"dataframe\">\n",
       "  <thead>\n",
       "    <tr style=\"text-align: right;\">\n",
       "      <th></th>\n",
       "      <th>sentence_idx</th>\n",
       "      <th>test_sentences</th>\n",
       "      <th>masked_sentences</th>\n",
       "      <th>masked_words</th>\n",
       "      <th>mask_idxs</th>\n",
       "    </tr>\n",
       "  </thead>\n",
       "  <tbody>\n",
       "    <tr>\n",
       "      <th>2243</th>\n",
       "      <td>467</td>\n",
       "      <td>id ego uolui Q. sed pluris est .</td>\n",
       "      <td>id ego uolui Q. sed pluris [MASK] .</td>\n",
       "      <td>est</td>\n",
       "      <td>6</td>\n",
       "    </tr>\n",
       "    <tr>\n",
       "      <th>1948</th>\n",
       "      <td>29031</td>\n",
       "      <td>est autem quid deceat oratori uidendum non in ...</td>\n",
       "      <td>est autem quid deceat oratori [MASK] non in se...</td>\n",
       "      <td>uidendum</td>\n",
       "      <td>5</td>\n",
       "    </tr>\n",
       "    <tr>\n",
       "      <th>279</th>\n",
       "      <td>31037</td>\n",
       "      <td>concedo ; forsitan aliquis aliquando eius modi...</td>\n",
       "      <td>concedo ; forsitan [MASK] aliquando eius modi ...</td>\n",
       "      <td>aliquis</td>\n",
       "      <td>3</td>\n",
       "    </tr>\n",
       "    <tr>\n",
       "      <th>1658</th>\n",
       "      <td>15051</td>\n",
       "      <td>si quid de his rebus dicere uellet , feci pote...</td>\n",
       "      <td>si [MASK] de his rebus dicere uellet , feci po...</td>\n",
       "      <td>quid</td>\n",
       "      <td>1</td>\n",
       "    </tr>\n",
       "    <tr>\n",
       "      <th>1480</th>\n",
       "      <td>41136</td>\n",
       "      <td>nunc miser quando tuas iam litteras accipiam ?</td>\n",
       "      <td>[MASK] miser quando tuas iam litteras accipiam ?</td>\n",
       "      <td>nunc</td>\n",
       "      <td>0</td>\n",
       "    </tr>\n",
       "    <tr>\n",
       "      <th>535</th>\n",
       "      <td>25667</td>\n",
       "      <td>non enim omnes eos contemnunt , de quibus male...</td>\n",
       "      <td>non [MASK] omnes eos contemnunt , de quibus ma...</td>\n",
       "      <td>enim</td>\n",
       "      <td>1</td>\n",
       "    </tr>\n",
       "    <tr>\n",
       "      <th>163</th>\n",
       "      <td>35671</td>\n",
       "      <td>itaque eam partem , quae ab exquisita quadam r...</td>\n",
       "      <td>itaque eam partem , quae [MASK] exquisita quad...</td>\n",
       "      <td>ab</td>\n",
       "      <td>5</td>\n",
       "    </tr>\n",
       "    <tr>\n",
       "      <th>1186</th>\n",
       "      <td>29347</td>\n",
       "      <td>quod ab eis uere quadam ex parte , non totum d...</td>\n",
       "      <td>quod ab eis uere [MASK] ex parte , non totum d...</td>\n",
       "      <td>quadam</td>\n",
       "      <td>4</td>\n",
       "    </tr>\n",
       "    <tr>\n",
       "      <th>2165</th>\n",
       "      <td>19799</td>\n",
       "      <td>fuit tamen retinendi ordinis causa facienda ia...</td>\n",
       "      <td>fuit tamen [MASK] ordinis causa facienda iactu...</td>\n",
       "      <td>retinendi</td>\n",
       "      <td>2</td>\n",
       "    </tr>\n",
       "    <tr>\n",
       "      <th>617</th>\n",
       "      <td>16102</td>\n",
       "      <td>uerum ita est uti dicis ; te deiectum debeo in...</td>\n",
       "      <td>uerum ita est uti dicis ; te deiectum debeo [M...</td>\n",
       "      <td>intellegere</td>\n",
       "      <td>9</td>\n",
       "    </tr>\n",
       "    <tr>\n",
       "      <th>1015</th>\n",
       "      <td>32168</td>\n",
       "      <td>an ille non uicerit , si quacumque condicione ...</td>\n",
       "      <td>an ille non [MASK] , si quacumque condicione i...</td>\n",
       "      <td>uicerit</td>\n",
       "      <td>3</td>\n",
       "    </tr>\n",
       "    <tr>\n",
       "      <th>652</th>\n",
       "      <td>22756</td>\n",
       "      <td>de libertate retinenda , qua certe nihil est d...</td>\n",
       "      <td>de [MASK] retinenda , qua certe nihil est dulc...</td>\n",
       "      <td>libertate</td>\n",
       "      <td>1</td>\n",
       "    </tr>\n",
       "    <tr>\n",
       "      <th>543</th>\n",
       "      <td>16223</td>\n",
       "      <td>ea fit plerumque per homines coactos armatos -...</td>\n",
       "      <td>ea fit plerumque per homines coactos armatos -...</td>\n",
       "      <td>si</td>\n",
       "      <td>9</td>\n",
       "    </tr>\n",
       "    <tr>\n",
       "      <th>1430</th>\n",
       "      <td>16861</td>\n",
       "      <td>ex quo intellegitur , quod uerum , simplex sin...</td>\n",
       "      <td>[MASK] quo intellegitur , quod uerum , simplex...</td>\n",
       "      <td>ex</td>\n",
       "      <td>0</td>\n",
       "    </tr>\n",
       "    <tr>\n",
       "      <th>1628</th>\n",
       "      <td>31007</td>\n",
       "      <td>itaque hac una spe ad iudicium uenitur .</td>\n",
       "      <td>itaque [MASK] una spe ad iudicium uenitur .</td>\n",
       "      <td>hac</td>\n",
       "      <td>1</td>\n",
       "    </tr>\n",
       "    <tr>\n",
       "      <th>715</th>\n",
       "      <td>34272</td>\n",
       "      <td>sed uidebis ne is tum sit in Africa ut Caelius .</td>\n",
       "      <td>sed uidebis ne is tum sit in [MASK] ut Caelius .</td>\n",
       "      <td>Africa</td>\n",
       "      <td>7</td>\n",
       "    </tr>\n",
       "    <tr>\n",
       "      <th>760</th>\n",
       "      <td>28717</td>\n",
       "      <td>si uis , sane sint breuiora , leuiora qui poss...</td>\n",
       "      <td>si uis , sane sint breuiora , leuiora [MASK] p...</td>\n",
       "      <td>qui</td>\n",
       "      <td>8</td>\n",
       "    </tr>\n",
       "    <tr>\n",
       "      <th>2139</th>\n",
       "      <td>21631</td>\n",
       "      <td>atque utinam , patres conscripti , ciuibus omn...</td>\n",
       "      <td>atque [MASK] , patres conscripti , ciuibus omn...</td>\n",
       "      <td>utinam</td>\n",
       "      <td>1</td>\n",
       "    </tr>\n",
       "    <tr>\n",
       "      <th>978</th>\n",
       "      <td>17679</td>\n",
       "      <td>quod si etiam possis quiduis deferre ad alteru...</td>\n",
       "      <td>quod si etiam possis quiduis [MASK] ad alterum...</td>\n",
       "      <td>deferre</td>\n",
       "      <td>5</td>\n",
       "    </tr>\n",
       "    <tr>\n",
       "      <th>2252</th>\n",
       "      <td>28830</td>\n",
       "      <td>cui quaesito autem opus sit , quis umquam hunc...</td>\n",
       "      <td>cui quaesito autem opus sit , [MASK] umquam hu...</td>\n",
       "      <td>quis</td>\n",
       "      <td>6</td>\n",
       "    </tr>\n",
       "    <tr>\n",
       "      <th>1477</th>\n",
       "      <td>39364</td>\n",
       "      <td>sin aliter fuerit , quod di omen auertant !</td>\n",
       "      <td>sin aliter fuerit , quod [MASK] omen auertant !</td>\n",
       "      <td>di</td>\n",
       "      <td>5</td>\n",
       "    </tr>\n",
       "    <tr>\n",
       "      <th>2444</th>\n",
       "      <td>39242</td>\n",
       "      <td>nam Pansa fugerat uulneribus acceptis quae fer...</td>\n",
       "      <td>nam Pansa fugerat uulneribus acceptis quae [MA...</td>\n",
       "      <td>ferre</td>\n",
       "      <td>6</td>\n",
       "    </tr>\n",
       "    <tr>\n",
       "      <th>726</th>\n",
       "      <td>30490</td>\n",
       "      <td>nemo est istorum qui otium non timeat .</td>\n",
       "      <td>nemo est istorum qui [MASK] non timeat .</td>\n",
       "      <td>otium</td>\n",
       "      <td>4</td>\n",
       "    </tr>\n",
       "    <tr>\n",
       "      <th>235</th>\n",
       "      <td>24</td>\n",
       "      <td>quam nihil praetermittis in consilio dando ; q...</td>\n",
       "      <td>quam nihil praetermittis in consilio dando ; [...</td>\n",
       "      <td>quam</td>\n",
       "      <td>7</td>\n",
       "    </tr>\n",
       "    <tr>\n",
       "      <th>402</th>\n",
       "      <td>40209</td>\n",
       "      <td>ecqui pudor est , ecquae religio , Uerres , ec...</td>\n",
       "      <td>[MASK] pudor est , ecquae religio , Uerres , e...</td>\n",
       "      <td>ecqui</td>\n",
       "      <td>0</td>\n",
       "    </tr>\n",
       "  </tbody>\n",
       "</table>\n",
       "</div>"
      ],
      "text/plain": [
       "      sentence_idx                                     test_sentences  \\\n",
       "2243           467                   id ego uolui Q. sed pluris est .   \n",
       "1948         29031  est autem quid deceat oratori uidendum non in ...   \n",
       "279          31037  concedo ; forsitan aliquis aliquando eius modi...   \n",
       "1658         15051  si quid de his rebus dicere uellet , feci pote...   \n",
       "1480         41136     nunc miser quando tuas iam litteras accipiam ?   \n",
       "535          25667  non enim omnes eos contemnunt , de quibus male...   \n",
       "163          35671  itaque eam partem , quae ab exquisita quadam r...   \n",
       "1186         29347  quod ab eis uere quadam ex parte , non totum d...   \n",
       "2165         19799  fuit tamen retinendi ordinis causa facienda ia...   \n",
       "617          16102  uerum ita est uti dicis ; te deiectum debeo in...   \n",
       "1015         32168  an ille non uicerit , si quacumque condicione ...   \n",
       "652          22756  de libertate retinenda , qua certe nihil est d...   \n",
       "543          16223  ea fit plerumque per homines coactos armatos -...   \n",
       "1430         16861  ex quo intellegitur , quod uerum , simplex sin...   \n",
       "1628         31007           itaque hac una spe ad iudicium uenitur .   \n",
       "715          34272   sed uidebis ne is tum sit in Africa ut Caelius .   \n",
       "760          28717  si uis , sane sint breuiora , leuiora qui poss...   \n",
       "2139         21631  atque utinam , patres conscripti , ciuibus omn...   \n",
       "978          17679  quod si etiam possis quiduis deferre ad alteru...   \n",
       "2252         28830  cui quaesito autem opus sit , quis umquam hunc...   \n",
       "1477         39364        sin aliter fuerit , quod di omen auertant !   \n",
       "2444         39242  nam Pansa fugerat uulneribus acceptis quae fer...   \n",
       "726          30490            nemo est istorum qui otium non timeat .   \n",
       "235             24  quam nihil praetermittis in consilio dando ; q...   \n",
       "402          40209  ecqui pudor est , ecquae religio , Uerres , ec...   \n",
       "\n",
       "                                       masked_sentences masked_words  \\\n",
       "2243                id ego uolui Q. sed pluris [MASK] .          est   \n",
       "1948  est autem quid deceat oratori [MASK] non in se...     uidendum   \n",
       "279   concedo ; forsitan [MASK] aliquando eius modi ...      aliquis   \n",
       "1658  si [MASK] de his rebus dicere uellet , feci po...         quid   \n",
       "1480   [MASK] miser quando tuas iam litteras accipiam ?         nunc   \n",
       "535   non [MASK] omnes eos contemnunt , de quibus ma...         enim   \n",
       "163   itaque eam partem , quae [MASK] exquisita quad...           ab   \n",
       "1186  quod ab eis uere [MASK] ex parte , non totum d...       quadam   \n",
       "2165  fuit tamen [MASK] ordinis causa facienda iactu...    retinendi   \n",
       "617   uerum ita est uti dicis ; te deiectum debeo [M...  intellegere   \n",
       "1015  an ille non [MASK] , si quacumque condicione i...      uicerit   \n",
       "652   de [MASK] retinenda , qua certe nihil est dulc...    libertate   \n",
       "543   ea fit plerumque per homines coactos armatos -...           si   \n",
       "1430  [MASK] quo intellegitur , quod uerum , simplex...           ex   \n",
       "1628        itaque [MASK] una spe ad iudicium uenitur .          hac   \n",
       "715    sed uidebis ne is tum sit in [MASK] ut Caelius .       Africa   \n",
       "760   si uis , sane sint breuiora , leuiora [MASK] p...          qui   \n",
       "2139  atque [MASK] , patres conscripti , ciuibus omn...       utinam   \n",
       "978   quod si etiam possis quiduis [MASK] ad alterum...      deferre   \n",
       "2252  cui quaesito autem opus sit , [MASK] umquam hu...         quis   \n",
       "1477    sin aliter fuerit , quod [MASK] omen auertant !           di   \n",
       "2444  nam Pansa fugerat uulneribus acceptis quae [MA...        ferre   \n",
       "726            nemo est istorum qui [MASK] non timeat .        otium   \n",
       "235   quam nihil praetermittis in consilio dando ; [...         quam   \n",
       "402   [MASK] pudor est , ecquae religio , Uerres , e...        ecqui   \n",
       "\n",
       "      mask_idxs  \n",
       "2243          6  \n",
       "1948          5  \n",
       "279           3  \n",
       "1658          1  \n",
       "1480          0  \n",
       "535           1  \n",
       "163           5  \n",
       "1186          4  \n",
       "2165          2  \n",
       "617           9  \n",
       "1015          3  \n",
       "652           1  \n",
       "543           9  \n",
       "1430          0  \n",
       "1628          1  \n",
       "715           7  \n",
       "760           8  \n",
       "2139          1  \n",
       "978           5  \n",
       "2252          6  \n",
       "1477          5  \n",
       "2444          6  \n",
       "726           4  \n",
       "235           7  \n",
       "402           0  "
      ]
     },
     "execution_count": 161,
     "metadata": {},
     "output_type": "execute_result"
    }
   ],
   "source": [
    "df.sample(25)"
   ]
  },
  {
   "cell_type": "code",
   "execution_count": null,
   "metadata": {},
   "outputs": [],
   "source": []
  },
  {
   "cell_type": "code",
   "execution_count": null,
   "metadata": {},
   "outputs": [],
   "source": []
  },
  {
   "cell_type": "code",
   "execution_count": null,
   "metadata": {},
   "outputs": [],
   "source": []
  },
  {
   "cell_type": "code",
   "execution_count": null,
   "metadata": {},
   "outputs": [],
   "source": []
  },
  {
   "cell_type": "code",
   "execution_count": 105,
   "metadata": {},
   "outputs": [
    {
     "name": "stderr",
     "output_type": "stream",
     "text": [
      "  0%|          | 1/640 [00:00<01:27,  7.29it/s]"
     ]
    },
    {
     "name": "stdout",
     "output_type": "stream",
     "text": [
      "too dissimilar /Users/todd/cltk_data/latin/text/latin_text_tesserae/texts/vitruvius.de_architectura.part.7.tess\n"
     ]
    },
    {
     "name": "stderr",
     "output_type": "stream",
     "text": [
      "  0%|          | 3/640 [00:00<01:43,  6.18it/s]"
     ]
    },
    {
     "name": "stdout",
     "output_type": "stream",
     "text": [
      "too dissimilar /Users/todd/cltk_data/latin/text/latin_text_tesserae/texts/ammianus.rerum_gestarum.part.29.tess\n",
      "too dissimilar /Users/todd/cltk_data/latin/text/latin_text_tesserae/texts/ovid.amores.part.1.tess\n",
      "too dissimilar /Users/todd/cltk_data/latin/text/latin_text_tesserae/texts/augustine.epistulae_selections.part.2.11-20.tess\n"
     ]
    },
    {
     "name": "stderr",
     "output_type": "stream",
     "text": [
      "  1%|          | 6/640 [00:01<01:56,  5.44it/s]"
     ]
    },
    {
     "name": "stdout",
     "output_type": "stream",
     "text": [
      "too dissimilar /Users/todd/cltk_data/latin/text/latin_text_tesserae/texts/scriptores_historiae_augustae.historia_augusta.part.2.books_6-10.tess\n"
     ]
    },
    {
     "name": "stderr",
     "output_type": "stream",
     "text": [
      "  1%|▏         | 8/640 [00:01<02:25,  4.34it/s]"
     ]
    },
    {
     "name": "stdout",
     "output_type": "stream",
     "text": [
      "too dissimilar /Users/todd/cltk_data/latin/text/latin_text_tesserae/texts/jerome.vulgate.part.1.genesis.tess\n",
      "too dissimilar /Users/todd/cltk_data/latin/text/latin_text_tesserae/texts/lucan.bellum_civile.part.4.tess\n"
     ]
    },
    {
     "name": "stderr",
     "output_type": "stream",
     "text": [
      "  2%|▏         | 10/640 [00:01<01:59,  5.28it/s]"
     ]
    },
    {
     "name": "stdout",
     "output_type": "stream",
     "text": [
      "too dissimilar /Users/todd/cltk_data/latin/text/latin_text_tesserae/texts/ausonius.epigrammata_ausonii_de_diversis_rebus.tess\n",
      "too dissimilar /Users/todd/cltk_data/latin/text/latin_text_tesserae/texts/prudentius.hamartigenia.tess\n"
     ]
    },
    {
     "name": "stderr",
     "output_type": "stream",
     "text": [
      "\r",
      "  2%|▏         | 13/640 [00:02<01:04,  9.79it/s]"
     ]
    },
    {
     "name": "stdout",
     "output_type": "stream",
     "text": [
      "too dissimilar /Users/todd/cltk_data/latin/text/latin_text_tesserae/texts/ausonius.epitaphia_heroum_qui_bello_troico_interfuerunt.tess\n",
      "too dissimilar /Users/todd/cltk_data/latin/text/latin_text_tesserae/texts/tacitus.annales.part.5.tess\n",
      "too dissimilar /Users/todd/cltk_data/latin/text/latin_text_tesserae/texts/jerome.vulgate.part.59.1_thessalonians.tess\n"
     ]
    },
    {
     "name": "stderr",
     "output_type": "stream",
     "text": [
      "\r",
      "  2%|▏         | 15/640 [00:02<01:12,  8.59it/s]"
     ]
    },
    {
     "name": "stdout",
     "output_type": "stream",
     "text": [
      "too dissimilar /Users/todd/cltk_data/latin/text/latin_text_tesserae/texts/jerome.vulgate.part.7.judges.tess\n",
      "too dissimilar /Users/todd/cltk_data/latin/text/latin_text_tesserae/texts/quintus_smyrnaeus.fall_of_troy.part.11.tess\n",
      "too dissimilar /Users/todd/cltk_data/latin/text/latin_text_tesserae/texts/vergil.aeneid.part.8.tess\n"
     ]
    },
    {
     "name": "stderr",
     "output_type": "stream",
     "text": [
      "  3%|▎         | 19/640 [00:02<01:08,  9.05it/s]"
     ]
    },
    {
     "name": "stdout",
     "output_type": "stream",
     "text": [
      "too dissimilar /Users/todd/cltk_data/latin/text/latin_text_tesserae/texts/silius_italicus.punica.part.17.tess\n",
      "too dissimilar /Users/todd/cltk_data/latin/text/latin_text_tesserae/texts/boethius.de_fide_catholica.tess\n",
      "too dissimilar /Users/todd/cltk_data/latin/text/latin_text_tesserae/texts/macrobius.saturnalia.part.2.tess\n"
     ]
    },
    {
     "name": "stderr",
     "output_type": "stream",
     "text": [
      "\r",
      "  3%|▎         | 21/640 [00:02<01:03,  9.71it/s]"
     ]
    },
    {
     "name": "stdout",
     "output_type": "stream",
     "text": [
      "too dissimilar /Users/todd/cltk_data/latin/text/latin_text_tesserae/texts/suetonius.de_vita_caesarum.part.8.otho.tess\n",
      "too dissimilar /Users/todd/cltk_data/latin/text/latin_text_tesserae/texts/apuleius.metamorphoses.part.11.tess\n",
      "too dissimilar /Users/todd/cltk_data/latin/text/latin_text_tesserae/texts/lucan.bellum_civile.part.2.tess\n"
     ]
    },
    {
     "name": "stderr",
     "output_type": "stream",
     "text": [
      "  4%|▍         | 24/640 [00:03<01:38,  6.28it/s]"
     ]
    },
    {
     "name": "stdout",
     "output_type": "stream",
     "text": [
      "too dissimilar /Users/todd/cltk_data/latin/text/latin_text_tesserae/texts/jerome.vulgate.part.75.2_esdras.tess\n",
      "too dissimilar /Users/todd/cltk_data/latin/text/latin_text_tesserae/texts/horace.satires.part.2.tess\n"
     ]
    },
    {
     "name": "stderr",
     "output_type": "stream",
     "text": [
      "\r",
      "  4%|▍         | 26/640 [00:03<01:24,  7.27it/s]"
     ]
    },
    {
     "name": "stdout",
     "output_type": "stream",
     "text": [
      "too dissimilar /Users/todd/cltk_data/latin/text/latin_text_tesserae/texts/ausonius.de_herediolo.tess\n",
      "too dissimilar /Users/todd/cltk_data/latin/text/latin_text_tesserae/texts/ammianus.rerum_gestarum.part.21.tess\n"
     ]
    },
    {
     "name": "stderr",
     "output_type": "stream",
     "text": [
      "  4%|▍         | 28/640 [00:04<02:31,  4.03it/s]"
     ]
    },
    {
     "name": "stdout",
     "output_type": "stream",
     "text": [
      "too dissimilar /Users/todd/cltk_data/latin/text/latin_text_tesserae/texts/pliny_the_elder.naturalis_historia.part.3.books_11-15.tess\n",
      "too dissimilar /Users/todd/cltk_data/latin/text/latin_text_tesserae/texts/statius.silvae.part.5.tess\n"
     ]
    },
    {
     "name": "stderr",
     "output_type": "stream",
     "text": [
      "  5%|▍         | 31/640 [00:05<01:48,  5.63it/s]"
     ]
    },
    {
     "name": "stdout",
     "output_type": "stream",
     "text": [
      "too dissimilar /Users/todd/cltk_data/latin/text/latin_text_tesserae/texts/ammianus.rerum_gestarum.part.26.tess\n",
      "too dissimilar /Users/todd/cltk_data/latin/text/latin_text_tesserae/texts/jerome.vulgate.part.73a.epistle_of_paul_to_the_laodicians.tess\n",
      "too dissimilar /Users/todd/cltk_data/latin/text/latin_text_tesserae/texts/vitruvius.de_architectura.part.2.tess\n"
     ]
    },
    {
     "name": "stderr",
     "output_type": "stream",
     "text": [
      "  5%|▌         | 33/640 [00:06<02:29,  4.05it/s]"
     ]
    },
    {
     "name": "stdout",
     "output_type": "stream",
     "text": [
      "too dissimilar /Users/todd/cltk_data/latin/text/latin_text_tesserae/texts/vergil.aeneid.part.10.tess\n"
     ]
    },
    {
     "name": "stderr",
     "output_type": "stream",
     "text": [
      "  5%|▌         | 35/640 [00:07<03:59,  2.53it/s]"
     ]
    },
    {
     "name": "stdout",
     "output_type": "stream",
     "text": [
      "too dissimilar /Users/todd/cltk_data/latin/text/latin_text_tesserae/texts/claudian.de_bello_gothico.tess\n"
     ]
    },
    {
     "name": "stderr",
     "output_type": "stream",
     "text": [
      "  6%|▌         | 38/640 [00:08<03:08,  3.19it/s]"
     ]
    },
    {
     "name": "stdout",
     "output_type": "stream",
     "text": [
      "too dissimilar /Users/todd/cltk_data/latin/text/latin_text_tesserae/texts/curtius_rufus.historiae_alexandri_magni.part.5.tess\n",
      "too dissimilar /Users/todd/cltk_data/latin/text/latin_text_tesserae/texts/apuleius.metamorphoses.part.9.tess\n"
     ]
    },
    {
     "name": "stderr",
     "output_type": "stream",
     "text": [
      "  6%|▋         | 40/640 [00:08<02:14,  4.46it/s]"
     ]
    },
    {
     "name": "stdout",
     "output_type": "stream",
     "text": [
      "too dissimilar /Users/todd/cltk_data/latin/text/latin_text_tesserae/texts/juvencus.historia_evangelica.part.1.tess\n",
      "too dissimilar /Users/todd/cltk_data/latin/text/latin_text_tesserae/texts/juvencus.historia_evangelica.part.4.tess\n"
     ]
    },
    {
     "name": "stderr",
     "output_type": "stream",
     "text": [
      "  7%|▋         | 42/640 [00:09<03:22,  2.95it/s]"
     ]
    },
    {
     "name": "stdout",
     "output_type": "stream",
     "text": [
      "too dissimilar /Users/todd/cltk_data/latin/text/latin_text_tesserae/texts/curtius_rufus.historiae_alexandri_magni.part.4.tess\n"
     ]
    },
    {
     "name": "stderr",
     "output_type": "stream",
     "text": [
      "\r",
      "  7%|▋         | 43/640 [00:09<03:05,  3.23it/s]"
     ]
    },
    {
     "name": "stdout",
     "output_type": "stream",
     "text": [
      "too dissimilar /Users/todd/cltk_data/latin/text/latin_text_tesserae/texts/macrobius.saturnalia.part.3.tess\n"
     ]
    },
    {
     "name": "stderr",
     "output_type": "stream",
     "text": [
      "  7%|▋         | 46/640 [00:10<02:11,  4.53it/s]"
     ]
    },
    {
     "name": "stdout",
     "output_type": "stream",
     "text": [
      "too dissimilar /Users/todd/cltk_data/latin/text/latin_text_tesserae/texts/bede.historiam_ecclesiasticam_gentis_anglorum.part.5.tess\n",
      "too dissimilar /Users/todd/cltk_data/latin/text/latin_text_tesserae/texts/ausonius.technopaegnion.tess\n",
      "too dissimilar /Users/todd/cltk_data/latin/text/latin_text_tesserae/texts/ennius.annales.tess\n",
      "too dissimilar /Users/todd/cltk_data/latin/text/latin_text_tesserae/texts/jerome.vulgate.part.36.obadiah.tess\n"
     ]
    },
    {
     "name": "stderr",
     "output_type": "stream",
     "text": [
      "\r",
      "  8%|▊         | 48/640 [00:10<01:54,  5.18it/s]"
     ]
    },
    {
     "name": "stdout",
     "output_type": "stream",
     "text": [
      "too dissimilar /Users/todd/cltk_data/latin/text/latin_text_tesserae/texts/ausonius.epistularum.tess\n"
     ]
    },
    {
     "name": "stderr",
     "output_type": "stream",
     "text": [
      "\r",
      "  8%|▊         | 49/640 [00:11<02:50,  3.46it/s]"
     ]
    },
    {
     "name": "stdout",
     "output_type": "stream",
     "text": [
      "too dissimilar /Users/todd/cltk_data/latin/text/latin_text_tesserae/texts/jerome.vulgate.part.21.psalms.tess\n"
     ]
    },
    {
     "name": "stderr",
     "output_type": "stream",
     "text": [
      "  8%|▊         | 51/640 [00:11<02:22,  4.15it/s]"
     ]
    },
    {
     "name": "stdout",
     "output_type": "stream",
     "text": [
      "too dissimilar /Users/todd/cltk_data/latin/text/latin_text_tesserae/texts/pliny_the_younger.letters.part.3.tess\n",
      "too dissimilar /Users/todd/cltk_data/latin/text/latin_text_tesserae/texts/persius.satires.tess\n"
     ]
    },
    {
     "name": "stderr",
     "output_type": "stream",
     "text": [
      "\r",
      "  8%|▊         | 52/640 [00:11<02:40,  3.67it/s]"
     ]
    },
    {
     "name": "stdout",
     "output_type": "stream",
     "text": [
      "too dissimilar /Users/todd/cltk_data/latin/text/latin_text_tesserae/texts/seneca_the_elder.controversiae.part.2.tess\n"
     ]
    },
    {
     "name": "stderr",
     "output_type": "stream",
     "text": [
      "  9%|▊         | 55/640 [00:12<02:25,  4.01it/s]"
     ]
    },
    {
     "name": "stdout",
     "output_type": "stream",
     "text": [
      "too dissimilar /Users/todd/cltk_data/latin/text/latin_text_tesserae/texts/boethius.consolatio_philosophiae.part.4.tess\n"
     ]
    },
    {
     "name": "stderr",
     "output_type": "stream",
     "text": [
      "\r",
      "  9%|▉         | 56/640 [00:12<02:15,  4.30it/s]"
     ]
    },
    {
     "name": "stdout",
     "output_type": "stream",
     "text": [
      "too dissimilar /Users/todd/cltk_data/latin/text/latin_text_tesserae/texts/plautus.epidicus.tess\n"
     ]
    },
    {
     "name": "stderr",
     "output_type": "stream",
     "text": [
      "  9%|▉         | 58/640 [00:13<02:03,  4.71it/s]"
     ]
    },
    {
     "name": "stdout",
     "output_type": "stream",
     "text": [
      "too dissimilar /Users/todd/cltk_data/latin/text/latin_text_tesserae/texts/plautus.asinaria.tess\n",
      "too dissimilar /Users/todd/cltk_data/latin/text/latin_text_tesserae/texts/ovid.fasti.part.2.tess\n"
     ]
    },
    {
     "name": "stderr",
     "output_type": "stream",
     "text": [
      "\r",
      "  9%|▉         | 60/640 [00:13<01:37,  5.93it/s]"
     ]
    },
    {
     "name": "stdout",
     "output_type": "stream",
     "text": [
      "too dissimilar /Users/todd/cltk_data/latin/text/latin_text_tesserae/texts/vergil.georgics.part.2.tess\n",
      "too dissimilar /Users/todd/cltk_data/latin/text/latin_text_tesserae/texts/ovid.metamorphoses.part.15.tess\n"
     ]
    },
    {
     "name": "stderr",
     "output_type": "stream",
     "text": [
      " 10%|▉         | 63/640 [00:13<01:04,  8.97it/s]"
     ]
    },
    {
     "name": "stdout",
     "output_type": "stream",
     "text": [
      "too dissimilar /Users/todd/cltk_data/latin/text/latin_text_tesserae/texts/tacitus.annales.part.16.tess\n",
      "too dissimilar /Users/todd/cltk_data/latin/text/latin_text_tesserae/texts/claudian.de_raptu_proserpinae.part.1.tess\n",
      "too dissimilar /Users/todd/cltk_data/latin/text/latin_text_tesserae/texts/dracontius.satisfactio.tess\n"
     ]
    },
    {
     "name": "stderr",
     "output_type": "stream",
     "text": [
      "\r",
      " 10%|█         | 65/640 [00:14<01:26,  6.63it/s]"
     ]
    },
    {
     "name": "stdout",
     "output_type": "stream",
     "text": [
      "too dissimilar /Users/todd/cltk_data/latin/text/latin_text_tesserae/texts/jerome.vulgate.part.14.2_chronicles.tess\n",
      "too dissimilar /Users/todd/cltk_data/latin/text/latin_text_tesserae/texts/corippus.johannis.part.5.tess\n",
      "too dissimilar /Users/todd/cltk_data/latin/text/latin_text_tesserae/texts/ausonius.libri_de_fastis_conclusio.tess\n"
     ]
    },
    {
     "name": "stderr",
     "output_type": "stream",
     "text": [
      " 11%|█         | 69/640 [00:14<01:01,  9.35it/s]"
     ]
    },
    {
     "name": "stdout",
     "output_type": "stream",
     "text": [
      "too dissimilar /Users/todd/cltk_data/latin/text/latin_text_tesserae/texts/seneca.de_constantia.tess\n",
      "too dissimilar /Users/todd/cltk_data/latin/text/latin_text_tesserae/texts/dracontius.romulea.part.4.tess\n",
      "too dissimilar /Users/todd/cltk_data/latin/text/latin_text_tesserae/texts/jerome.vulgate.part.25.wisdom.tess\n"
     ]
    },
    {
     "name": "stderr",
     "output_type": "stream",
     "text": [
      "\r",
      " 11%|█         | 71/640 [00:14<01:05,  8.72it/s]"
     ]
    },
    {
     "name": "stdout",
     "output_type": "stream",
     "text": [
      "too dissimilar /Users/todd/cltk_data/latin/text/latin_text_tesserae/texts/gellius.attic_nights.part.12.tess\n",
      "too dissimilar /Users/todd/cltk_data/latin/text/latin_text_tesserae/texts/ovid.metamorphoses.part.11.tess\n",
      "too dissimilar /Users/todd/cltk_data/latin/text/latin_text_tesserae/texts/claudian.in_consulatum_olybrii_et_probini.tess\n",
      "too dissimilar /Users/todd/cltk_data/latin/text/latin_text_tesserae/texts/ausonius.griphus_ternarii_numeri.tess\n"
     ]
    },
    {
     "name": "stderr",
     "output_type": "stream",
     "text": [
      "\r",
      " 12%|█▏        | 74/640 [00:15<00:58,  9.61it/s]"
     ]
    },
    {
     "name": "stdout",
     "output_type": "stream",
     "text": [
      "too dissimilar /Users/todd/cltk_data/latin/text/latin_text_tesserae/texts/seneca.de_consolatione_ad_marciam.tess\n",
      "too dissimilar /Users/todd/cltk_data/latin/text/latin_text_tesserae/texts/tacitus.annales.part.6.tess\n"
     ]
    },
    {
     "name": "stderr",
     "output_type": "stream",
     "text": [
      "\r",
      " 12%|█▏        | 76/640 [00:15<00:58,  9.59it/s]"
     ]
    },
    {
     "name": "stdout",
     "output_type": "stream",
     "text": [
      "too dissimilar /Users/todd/cltk_data/latin/text/latin_text_tesserae/texts/jerome.vulgate.part.40.habbakuk.tess\n"
     ]
    },
    {
     "name": "stderr",
     "output_type": "stream",
     "text": [
      "\r",
      " 12%|█▏        | 78/640 [00:16<02:22,  3.93it/s]"
     ]
    },
    {
     "name": "stdout",
     "output_type": "stream",
     "text": [
      "too dissimilar /Users/todd/cltk_data/latin/text/latin_text_tesserae/texts/pliny_the_elder.naturalis_historia.part.4.books_16-20.tess\n",
      "too dissimilar /Users/todd/cltk_data/latin/text/latin_text_tesserae/texts/manilius.astronomicon.part.2.tess\n",
      "too dissimilar /Users/todd/cltk_data/latin/text/latin_text_tesserae/texts/jerome.vulgate.part.61.1_timothy.tess\n"
     ]
    },
    {
     "name": "stderr",
     "output_type": "stream",
     "text": [
      "\r",
      " 12%|█▎        | 80/640 [00:16<01:53,  4.94it/s]"
     ]
    },
    {
     "name": "stdout",
     "output_type": "stream",
     "text": [
      "too dissimilar /Users/todd/cltk_data/latin/text/latin_text_tesserae/texts/silius_italicus.punica.part.6.tess\n"
     ]
    },
    {
     "name": "stderr",
     "output_type": "stream",
     "text": [
      "\r",
      " 13%|█▎        | 81/640 [00:16<01:57,  4.74it/s]"
     ]
    },
    {
     "name": "stdout",
     "output_type": "stream",
     "text": [
      "too dissimilar /Users/todd/cltk_data/latin/text/latin_text_tesserae/texts/tacitus.annales.part.4.tess\n",
      "too dissimilar /Users/todd/cltk_data/latin/text/latin_text_tesserae/texts/quintus_smyrnaeus.fall_of_troy.part.8.tess\n"
     ]
    },
    {
     "name": "stderr",
     "output_type": "stream",
     "text": [
      " 13%|█▎        | 84/640 [00:17<01:46,  5.24it/s]"
     ]
    },
    {
     "name": "stdout",
     "output_type": "stream",
     "text": [
      "too dissimilar /Users/todd/cltk_data/latin/text/latin_text_tesserae/texts/aurelius_victor.epitome_de_caesaribus.tess\n",
      "too dissimilar /Users/todd/cltk_data/latin/text/latin_text_tesserae/texts/valerius_flaccus.argonautica.part.4.tess\n"
     ]
    },
    {
     "name": "stderr",
     "output_type": "stream",
     "text": [
      " 13%|█▎        | 86/640 [00:17<01:27,  6.31it/s]"
     ]
    },
    {
     "name": "stdout",
     "output_type": "stream",
     "text": [
      "too dissimilar /Users/todd/cltk_data/latin/text/latin_text_tesserae/texts/claudian.in_rufinum.part.2.tess\n",
      "too dissimilar /Users/todd/cltk_data/latin/text/latin_text_tesserae/texts/silius_italicus.punica.part.9.tess\n"
     ]
    },
    {
     "name": "stderr",
     "output_type": "stream",
     "text": [
      " 14%|█▍        | 88/640 [00:18<01:41,  5.43it/s]"
     ]
    },
    {
     "name": "stdout",
     "output_type": "stream",
     "text": [
      "too dissimilar /Users/todd/cltk_data/latin/text/latin_text_tesserae/texts/columella.de_re_rustica.part.2.tess\n",
      "too dissimilar /Users/todd/cltk_data/latin/text/latin_text_tesserae/texts/pliny_the_younger.letters.part.6.tess\n"
     ]
    },
    {
     "name": "stderr",
     "output_type": "stream",
     "text": [
      " 14%|█▍        | 91/640 [00:18<01:10,  7.84it/s]"
     ]
    },
    {
     "name": "stdout",
     "output_type": "stream",
     "text": [
      "too dissimilar /Users/todd/cltk_data/latin/text/latin_text_tesserae/texts/statius.thebaid.part.12.tess\n",
      "too dissimilar /Users/todd/cltk_data/latin/text/latin_text_tesserae/texts/jerome.vulgate.part.55.galatians.tess\n",
      "too dissimilar /Users/todd/cltk_data/latin/text/latin_text_tesserae/texts/corippus.johannis.part.7.tess\n",
      "too dissimilar /Users/todd/cltk_data/latin/text/latin_text_tesserae/texts/priscian.carmen_in_laudem_Anastasii_imperatoris.part.1.tess\n"
     ]
    },
    {
     "name": "stderr",
     "output_type": "stream",
     "text": [
      "\r",
      " 15%|█▍        | 93/640 [00:18<01:08,  7.98it/s]"
     ]
    },
    {
     "name": "stdout",
     "output_type": "stream",
     "text": [
      "too dissimilar /Users/todd/cltk_data/latin/text/latin_text_tesserae/texts/jerome.vulgate.part.46.2_maccabees.tess\n",
      "too dissimilar /Users/todd/cltk_data/latin/text/latin_text_tesserae/texts/dracontius.romulea.part.1.tess\n",
      "too dissimilar /Users/todd/cltk_data/latin/text/latin_text_tesserae/texts/jerome.vulgate.part.56.ephesians.tess\n"
     ]
    },
    {
     "name": "stderr",
     "output_type": "stream",
     "text": [
      "\r",
      " 15%|█▌        | 96/640 [00:18<00:56,  9.56it/s]"
     ]
    },
    {
     "name": "stdout",
     "output_type": "stream",
     "text": [
      "too dissimilar /Users/todd/cltk_data/latin/text/latin_text_tesserae/texts/macrobius.saturnalia.part.6.tess\n"
     ]
    },
    {
     "name": "stderr",
     "output_type": "stream",
     "text": [
      "\r",
      " 15%|█▌        | 97/640 [00:19<01:06,  8.18it/s]"
     ]
    },
    {
     "name": "stdout",
     "output_type": "stream",
     "text": [
      "too dissimilar /Users/todd/cltk_data/latin/text/latin_text_tesserae/texts/plautus.stichus.tess\n"
     ]
    },
    {
     "name": "stderr",
     "output_type": "stream",
     "text": [
      " 15%|█▌        | 99/640 [00:19<01:25,  6.30it/s]"
     ]
    },
    {
     "name": "stdout",
     "output_type": "stream",
     "text": [
      "too dissimilar /Users/todd/cltk_data/latin/text/latin_text_tesserae/texts/plautus.rudens.tess\n",
      "too dissimilar /Users/todd/cltk_data/latin/text/latin_text_tesserae/texts/boethius.consolatio_philosophiae.part.2.tess\n"
     ]
    },
    {
     "name": "stderr",
     "output_type": "stream",
     "text": [
      " 16%|█▌        | 101/640 [00:20<01:40,  5.36it/s]"
     ]
    },
    {
     "name": "stdout",
     "output_type": "stream",
     "text": [
      "too dissimilar /Users/todd/cltk_data/latin/text/latin_text_tesserae/texts/tacitus.annales.part.1.tess\n",
      "too dissimilar /Users/todd/cltk_data/latin/text/latin_text_tesserae/texts/jerome.vulgate.part.74.1_esdras.tess\n"
     ]
    },
    {
     "name": "stderr",
     "output_type": "stream",
     "text": [
      "\r",
      " 16%|█▌        | 103/640 [00:20<01:15,  7.10it/s]"
     ]
    },
    {
     "name": "stdout",
     "output_type": "stream",
     "text": [
      "too dissimilar /Users/todd/cltk_data/latin/text/latin_text_tesserae/texts/jerome.vulgate.part.44.malachi.tess\n",
      "too dissimilar /Users/todd/cltk_data/latin/text/latin_text_tesserae/texts/ovid.metamorphoses.part.3.tess\n"
     ]
    },
    {
     "name": "stderr",
     "output_type": "stream",
     "text": [
      " 16%|█▋        | 105/640 [00:20<01:28,  6.05it/s]"
     ]
    },
    {
     "name": "stdout",
     "output_type": "stream",
     "text": [
      "too dissimilar /Users/todd/cltk_data/latin/text/latin_text_tesserae/texts/jerome.vulgate.part.47.matthew.tess\n",
      "too dissimilar /Users/todd/cltk_data/latin/text/latin_text_tesserae/texts/martial.epigrams.part.11.tess\n",
      "too dissimilar /Users/todd/cltk_data/latin/text/latin_text_tesserae/texts/claudian.epithalamium_de_nuptiis_honorii_augusti.tess\n"
     ]
    },
    {
     "name": "stderr",
     "output_type": "stream",
     "text": [
      " 17%|█▋        | 109/640 [00:21<01:06,  7.93it/s]"
     ]
    },
    {
     "name": "stdout",
     "output_type": "stream",
     "text": [
      "too dissimilar /Users/todd/cltk_data/latin/text/latin_text_tesserae/texts/augustine.epistulae_selections.part.6.51-62.tess\n",
      "too dissimilar /Users/todd/cltk_data/latin/text/latin_text_tesserae/texts/gellius.attic_nights.part.8.tess\n",
      "too dissimilar /Users/todd/cltk_data/latin/text/latin_text_tesserae/texts/statius.thebaid.part.4.tess\n"
     ]
    },
    {
     "name": "stderr",
     "output_type": "stream",
     "text": [
      " 18%|█▊        | 112/640 [00:21<01:12,  7.30it/s]"
     ]
    },
    {
     "name": "stdout",
     "output_type": "stream",
     "text": [
      "too dissimilar /Users/todd/cltk_data/latin/text/latin_text_tesserae/texts/macrobius.saturnalia.part.7.tess\n",
      "too dissimilar /Users/todd/cltk_data/latin/text/latin_text_tesserae/texts/jerome.vulgate.part.41.zephoniah.tess\n",
      "too dissimilar /Users/todd/cltk_data/latin/text/latin_text_tesserae/texts/silius_italicus.punica.part.11.tess\n"
     ]
    },
    {
     "name": "stderr",
     "output_type": "stream",
     "text": [
      "\r",
      " 18%|█▊        | 113/640 [00:21<01:09,  7.56it/s]"
     ]
    },
    {
     "name": "stdout",
     "output_type": "stream",
     "text": [
      "too dissimilar /Users/todd/cltk_data/latin/text/latin_text_tesserae/texts/manilius.astronomicon.part.3.tess\n"
     ]
    },
    {
     "name": "stderr",
     "output_type": "stream",
     "text": [
      " 18%|█▊        | 115/640 [00:25<06:28,  1.35it/s]"
     ]
    },
    {
     "name": "stdout",
     "output_type": "stream",
     "text": [
      "too dissimilar /Users/todd/cltk_data/latin/text/latin_text_tesserae/texts/jerome.vulgate.part.22.proverbs.tess\n"
     ]
    },
    {
     "name": "stderr",
     "output_type": "stream",
     "text": [
      "\r",
      " 18%|█▊        | 116/640 [00:25<05:19,  1.64it/s]"
     ]
    },
    {
     "name": "stdout",
     "output_type": "stream",
     "text": [
      "too dissimilar /Users/todd/cltk_data/latin/text/latin_text_tesserae/texts/ammianus.rerum_gestarum.part.31.tess\n",
      "too dissimilar /Users/todd/cltk_data/latin/text/latin_text_tesserae/texts/martial.epigrams.part.4.tess\n"
     ]
    },
    {
     "name": "stderr",
     "output_type": "stream",
     "text": [
      "\r",
      " 18%|█▊        | 118/640 [00:25<03:29,  2.49it/s]"
     ]
    },
    {
     "name": "stdout",
     "output_type": "stream",
     "text": [
      "too dissimilar /Users/todd/cltk_data/latin/text/latin_text_tesserae/texts/tacitus.annales.part.13.tess\n"
     ]
    },
    {
     "name": "stderr",
     "output_type": "stream",
     "text": [
      " 19%|█▉        | 122/640 [00:27<03:04,  2.82it/s]"
     ]
    },
    {
     "name": "stdout",
     "output_type": "stream",
     "text": [
      "too dissimilar /Users/todd/cltk_data/latin/text/latin_text_tesserae/texts/gellius.attic_nights.part.1.tess\n",
      "too dissimilar /Users/todd/cltk_data/latin/text/latin_text_tesserae/texts/vergil.aeneid.part.12.tess\n"
     ]
    },
    {
     "name": "stderr",
     "output_type": "stream",
     "text": [
      " 19%|█▉        | 124/640 [00:28<03:16,  2.62it/s]"
     ]
    },
    {
     "name": "stdout",
     "output_type": "stream",
     "text": [
      "too dissimilar /Users/todd/cltk_data/latin/text/latin_text_tesserae/texts/jerome.vulgate.part.11.1_kings.tess\n",
      "too dissimilar /Users/todd/cltk_data/latin/text/latin_text_tesserae/texts/ausonius.epicedion_in_patrem.tess\n"
     ]
    },
    {
     "name": "stderr",
     "output_type": "stream",
     "text": [
      "\r",
      " 20%|█▉        | 126/640 [00:28<02:20,  3.67it/s]"
     ]
    },
    {
     "name": "stdout",
     "output_type": "stream",
     "text": [
      "too dissimilar /Users/todd/cltk_data/latin/text/latin_text_tesserae/texts/ovid.tristia.part.3.tess\n"
     ]
    },
    {
     "name": "stderr",
     "output_type": "stream",
     "text": [
      "\r",
      " 20%|█▉        | 127/640 [00:29<03:51,  2.22it/s]"
     ]
    },
    {
     "name": "stdout",
     "output_type": "stream",
     "text": [
      "too dissimilar /Users/todd/cltk_data/latin/text/latin_text_tesserae/texts/juvenal.satires.tess\n"
     ]
    },
    {
     "name": "stderr",
     "output_type": "stream",
     "text": [
      "\r",
      " 20%|██        | 128/640 [00:29<03:39,  2.33it/s]"
     ]
    },
    {
     "name": "stdout",
     "output_type": "stream",
     "text": [
      "too dissimilar /Users/todd/cltk_data/latin/text/latin_text_tesserae/texts/priscian.perihegesis.tess\n"
     ]
    },
    {
     "name": "stderr",
     "output_type": "stream",
     "text": [
      "\r",
      " 20%|██        | 129/640 [00:30<03:35,  2.38it/s]"
     ]
    },
    {
     "name": "stdout",
     "output_type": "stream",
     "text": [
      "too dissimilar /Users/todd/cltk_data/latin/text/latin_text_tesserae/texts/jerome.vulgate.part.4.numbers.tess\n"
     ]
    },
    {
     "name": "stderr",
     "output_type": "stream",
     "text": [
      "\r",
      " 20%|██        | 130/640 [00:30<03:05,  2.74it/s]"
     ]
    },
    {
     "name": "stdout",
     "output_type": "stream",
     "text": [
      "too dissimilar /Users/todd/cltk_data/latin/text/latin_text_tesserae/texts/tacitus.annales.part.3.tess\n",
      "too dissimilar /Users/todd/cltk_data/latin/text/latin_text_tesserae/texts/quintus_smyrnaeus.fall_of_troy.part.5.tess\n"
     ]
    },
    {
     "name": "stderr",
     "output_type": "stream",
     "text": [
      " 21%|██        | 133/640 [00:30<01:51,  4.54it/s]"
     ]
    },
    {
     "name": "stdout",
     "output_type": "stream",
     "text": [
      "too dissimilar /Users/todd/cltk_data/latin/text/latin_text_tesserae/texts/ovid.ex_ponto.part.4.tess\n",
      "too dissimilar /Users/todd/cltk_data/latin/text/latin_text_tesserae/texts/rutilius.de_reditu.tess\n"
     ]
    },
    {
     "name": "stderr",
     "output_type": "stream",
     "text": [
      "\r",
      " 21%|██        | 134/640 [00:31<02:17,  3.69it/s]"
     ]
    },
    {
     "name": "stdout",
     "output_type": "stream",
     "text": [
      "too dissimilar /Users/todd/cltk_data/latin/text/latin_text_tesserae/texts/bede.historiam_ecclesiasticam_gentis_anglorum.part.4.tess\n"
     ]
    },
    {
     "name": "stderr",
     "output_type": "stream",
     "text": [
      " 21%|██▏       | 137/640 [00:32<02:33,  3.29it/s]"
     ]
    },
    {
     "name": "stdout",
     "output_type": "stream",
     "text": [
      "too dissimilar /Users/todd/cltk_data/latin/text/latin_text_tesserae/texts/ammianus.rerum_gestarum.part.16.tess\n",
      "too dissimilar /Users/todd/cltk_data/latin/text/latin_text_tesserae/texts/ovid.fasti.part.4.tess\n"
     ]
    },
    {
     "name": "stderr",
     "output_type": "stream",
     "text": [
      "\r",
      " 22%|██▏       | 139/640 [00:32<01:48,  4.62it/s]"
     ]
    },
    {
     "name": "stdout",
     "output_type": "stream",
     "text": [
      "too dissimilar /Users/todd/cltk_data/latin/text/latin_text_tesserae/texts/prudentius.psychomachia.tess\n",
      "too dissimilar /Users/todd/cltk_data/latin/text/latin_text_tesserae/texts/vitruvius.de_architectura.part.3.tess\n"
     ]
    },
    {
     "name": "stderr",
     "output_type": "stream",
     "text": [
      " 22%|██▏       | 142/640 [00:33<01:27,  5.71it/s]"
     ]
    },
    {
     "name": "stdout",
     "output_type": "stream",
     "text": [
      "too dissimilar /Users/todd/cltk_data/latin/text/latin_text_tesserae/texts/ovid.ars_amatoria.part.1.tess\n",
      "too dissimilar /Users/todd/cltk_data/latin/text/latin_text_tesserae/texts/vitruvius.de_architectura.part.8.tess\n",
      "too dissimilar /Users/todd/cltk_data/latin/text/latin_text_tesserae/texts/jerome.vulgate.part.35.amos.tess\n"
     ]
    },
    {
     "name": "stderr",
     "output_type": "stream",
     "text": [
      " 23%|██▎       | 145/640 [00:34<02:03,  4.01it/s]"
     ]
    },
    {
     "name": "stdout",
     "output_type": "stream",
     "text": [
      "too dissimilar /Users/todd/cltk_data/latin/text/latin_text_tesserae/texts/glass.washingtonii_vita.tess\n",
      "too dissimilar /Users/todd/cltk_data/latin/text/latin_text_tesserae/texts/seneca.de_vita_beata.tess\n"
     ]
    },
    {
     "name": "stderr",
     "output_type": "stream",
     "text": [
      " 23%|██▎       | 147/640 [00:34<01:44,  4.73it/s]"
     ]
    },
    {
     "name": "stdout",
     "output_type": "stream",
     "text": [
      "too dissimilar /Users/todd/cltk_data/latin/text/latin_text_tesserae/texts/claudian.in_eutropium.part.2.tess\n",
      "too dissimilar /Users/todd/cltk_data/latin/text/latin_text_tesserae/texts/tacitus.annales.part.12.tess\n"
     ]
    },
    {
     "name": "stderr",
     "output_type": "stream",
     "text": [
      "\r",
      " 23%|██▎       | 148/640 [00:34<02:20,  3.50it/s]"
     ]
    },
    {
     "name": "stdout",
     "output_type": "stream",
     "text": [
      "too dissimilar /Users/todd/cltk_data/latin/text/latin_text_tesserae/texts/jerome.vulgate.part.31.ezekiel.tess\n",
      "too dissimilar /Users/todd/cltk_data/latin/text/latin_text_tesserae/texts/priscian.carmen_in_laudem_Anastasii_imperatoris.tess\n"
     ]
    },
    {
     "name": "stderr",
     "output_type": "stream",
     "text": [
      " 24%|██▍       | 152/640 [00:35<01:53,  4.29it/s]"
     ]
    },
    {
     "name": "stdout",
     "output_type": "stream",
     "text": [
      "too dissimilar /Users/todd/cltk_data/latin/text/latin_text_tesserae/texts/statius.thebaid.part.2.tess\n",
      "too dissimilar /Users/todd/cltk_data/latin/text/latin_text_tesserae/texts/gellius.attic_nights.part.6.tess\n"
     ]
    },
    {
     "name": "stderr",
     "output_type": "stream",
     "text": [
      "\r",
      " 24%|██▍       | 153/640 [00:35<01:39,  4.92it/s]"
     ]
    },
    {
     "name": "stdout",
     "output_type": "stream",
     "text": [
      "too dissimilar /Users/todd/cltk_data/latin/text/latin_text_tesserae/texts/statius.thebaid.part.3.tess\n",
      "too dissimilar /Users/todd/cltk_data/latin/text/latin_text_tesserae/texts/claudian.de_consulatu_stilichonis.part.1.tess\n"
     ]
    },
    {
     "name": "stderr",
     "output_type": "stream",
     "text": [
      "\r",
      " 24%|██▍       | 155/640 [00:36<01:24,  5.75it/s]"
     ]
    },
    {
     "name": "stdout",
     "output_type": "stream",
     "text": [
      "too dissimilar /Users/todd/cltk_data/latin/text/latin_text_tesserae/texts/seneca.phaedra.tess\n"
     ]
    },
    {
     "name": "stderr",
     "output_type": "stream",
     "text": [
      " 25%|██▍       | 158/640 [00:36<01:16,  6.32it/s]"
     ]
    },
    {
     "name": "stdout",
     "output_type": "stream",
     "text": [
      "too dissimilar /Users/todd/cltk_data/latin/text/latin_text_tesserae/texts/jerome.vulgate.part.2.exodus.tess\n",
      "too dissimilar /Users/todd/cltk_data/latin/text/latin_text_tesserae/texts/corippus.johannis.part.2.tess\n",
      "too dissimilar /Users/todd/cltk_data/latin/text/latin_text_tesserae/texts/gellius.attic_nights.part.pr.tess\n"
     ]
    },
    {
     "name": "stderr",
     "output_type": "stream",
     "text": [
      "\r",
      " 25%|██▍       | 159/640 [00:37<01:33,  5.15it/s]"
     ]
    },
    {
     "name": "stdout",
     "output_type": "stream",
     "text": [
      "too dissimilar /Users/todd/cltk_data/latin/text/latin_text_tesserae/texts/ennodius.opera.tess\n"
     ]
    },
    {
     "name": "stderr",
     "output_type": "stream",
     "text": [
      " 25%|██▌       | 161/640 [00:37<01:31,  5.26it/s]"
     ]
    },
    {
     "name": "stdout",
     "output_type": "stream",
     "text": [
      "too dissimilar /Users/todd/cltk_data/latin/text/latin_text_tesserae/texts/gellius.attic_nights.part.2.tess\n",
      "too dissimilar /Users/todd/cltk_data/latin/text/latin_text_tesserae/texts/seneca.medea.tess\n"
     ]
    },
    {
     "name": "stderr",
     "output_type": "stream",
     "text": [
      "\r",
      " 25%|██▌       | 163/640 [00:37<01:09,  6.91it/s]"
     ]
    },
    {
     "name": "stdout",
     "output_type": "stream",
     "text": [
      "too dissimilar /Users/todd/cltk_data/latin/text/latin_text_tesserae/texts/valerius_maximus.facta_et_dicta_memorabilia.part.9.tess\n",
      "too dissimilar /Users/todd/cltk_data/latin/text/latin_text_tesserae/texts/boethius.consolatio_philosophiae.part.1.tess\n"
     ]
    },
    {
     "name": "stderr",
     "output_type": "stream",
     "text": [
      "\r",
      " 26%|██▌       | 165/640 [00:37<01:06,  7.12it/s]"
     ]
    },
    {
     "name": "stdout",
     "output_type": "stream",
     "text": [
      "too dissimilar /Users/todd/cltk_data/latin/text/latin_text_tesserae/texts/columella.de_re_rustica.part.9.tess\n"
     ]
    },
    {
     "name": "stderr",
     "output_type": "stream",
     "text": [
      " 26%|██▌       | 167/640 [00:38<01:18,  6.06it/s]"
     ]
    },
    {
     "name": "stdout",
     "output_type": "stream",
     "text": [
      "too dissimilar /Users/todd/cltk_data/latin/text/latin_text_tesserae/texts/silius_italicus.punica.part.16.tess\n"
     ]
    },
    {
     "name": "stderr",
     "output_type": "stream",
     "text": [
      " 26%|██▋       | 169/640 [00:39<01:51,  4.23it/s]"
     ]
    },
    {
     "name": "stdout",
     "output_type": "stream",
     "text": [
      "too dissimilar /Users/todd/cltk_data/latin/text/latin_text_tesserae/texts/plautus.cistellaria.tess\n"
     ]
    },
    {
     "name": "stderr",
     "output_type": "stream",
     "text": [
      " 27%|██▋       | 172/640 [00:39<01:29,  5.22it/s]"
     ]
    },
    {
     "name": "stdout",
     "output_type": "stream",
     "text": [
      "too dissimilar /Users/todd/cltk_data/latin/text/latin_text_tesserae/texts/prudentius.dittochaeon.tess\n",
      "too dissimilar /Users/todd/cltk_data/latin/text/latin_text_tesserae/texts/quintus_smyrnaeus.fall_of_troy.part.12.tess\n"
     ]
    },
    {
     "name": "stderr",
     "output_type": "stream",
     "text": [
      " 27%|██▋       | 174/640 [00:39<01:18,  5.90it/s]"
     ]
    },
    {
     "name": "stdout",
     "output_type": "stream",
     "text": [
      "too dissimilar /Users/todd/cltk_data/latin/text/latin_text_tesserae/texts/augustine.epistulae_selections.part.4.31-40.tess\n",
      "too dissimilar /Users/todd/cltk_data/latin/text/latin_text_tesserae/texts/corippus.johannis.part.1.tess\n"
     ]
    },
    {
     "name": "stderr",
     "output_type": "stream",
     "text": [
      " 28%|██▊       | 177/640 [00:40<01:59,  3.86it/s]"
     ]
    },
    {
     "name": "stdout",
     "output_type": "stream",
     "text": [
      "too dissimilar /Users/todd/cltk_data/latin/text/latin_text_tesserae/texts/manilius.astronomicon.part.1.tess\n",
      "too dissimilar /Users/todd/cltk_data/latin/text/latin_text_tesserae/texts/macrobius.saturnalia.part.4.tess\n"
     ]
    },
    {
     "name": "stderr",
     "output_type": "stream",
     "text": [
      " 28%|██▊       | 180/640 [00:41<01:28,  5.21it/s]"
     ]
    },
    {
     "name": "stdout",
     "output_type": "stream",
     "text": [
      "too dissimilar /Users/todd/cltk_data/latin/text/latin_text_tesserae/texts/statius.thebaid.part.5.tess\n",
      "too dissimilar /Users/todd/cltk_data/latin/text/latin_text_tesserae/texts/gellius.attic_nights.part.17.tess\n"
     ]
    },
    {
     "name": "stderr",
     "output_type": "stream",
     "text": [
      " 28%|██▊       | 182/640 [00:41<01:44,  4.39it/s]"
     ]
    },
    {
     "name": "stdout",
     "output_type": "stream",
     "text": [
      "too dissimilar /Users/todd/cltk_data/latin/text/latin_text_tesserae/texts/seneca_the_elder.suasoriae.tess\n"
     ]
    },
    {
     "name": "stderr",
     "output_type": "stream",
     "text": [
      "\r",
      " 29%|██▊       | 183/640 [00:42<02:08,  3.56it/s]"
     ]
    },
    {
     "name": "stdout",
     "output_type": "stream",
     "text": [
      "too dissimilar /Users/todd/cltk_data/latin/text/latin_text_tesserae/texts/quintilian.institutio_oratoria.part.1.tess\n"
     ]
    },
    {
     "name": "stderr",
     "output_type": "stream",
     "text": [
      " 29%|██▉       | 186/640 [00:44<04:06,  1.84it/s]"
     ]
    },
    {
     "name": "stdout",
     "output_type": "stream",
     "text": [
      "too dissimilar /Users/todd/cltk_data/latin/text/latin_text_tesserae/texts/pliny_the_elder.naturalis_historia.part.5.books_21-25.tess\n"
     ]
    },
    {
     "name": "stderr",
     "output_type": "stream",
     "text": [
      "\r",
      " 29%|██▉       | 187/640 [00:44<03:31,  2.14it/s]"
     ]
    },
    {
     "name": "stdout",
     "output_type": "stream",
     "text": [
      "too dissimilar /Users/todd/cltk_data/latin/text/latin_text_tesserae/texts/curtius_rufus.historiae_alexandri_magni.part.8.tess\n"
     ]
    },
    {
     "name": "stderr",
     "output_type": "stream",
     "text": [
      "\r",
      " 29%|██▉       | 188/640 [00:45<03:41,  2.04it/s]"
     ]
    },
    {
     "name": "stdout",
     "output_type": "stream",
     "text": [
      "too dissimilar /Users/todd/cltk_data/latin/text/latin_text_tesserae/texts/pliny_the_elder.naturalis_historia.part.1.books_1-5.tess\n",
      "too dissimilar /Users/todd/cltk_data/latin/text/latin_text_tesserae/texts/jerome.vulgate.part.66.james.tess\n"
     ]
    },
    {
     "name": "stderr",
     "output_type": "stream",
     "text": [
      "\r",
      " 30%|██▉       | 190/640 [00:45<03:19,  2.26it/s]"
     ]
    },
    {
     "name": "stdout",
     "output_type": "stream",
     "text": [
      "too dissimilar /Users/todd/cltk_data/latin/text/latin_text_tesserae/texts/scriptores_historiae_augustae.historia_augusta.part.4.books_16-21.tess\n"
     ]
    },
    {
     "name": "stderr",
     "output_type": "stream",
     "text": [
      " 30%|███       | 192/640 [00:46<02:42,  2.76it/s]"
     ]
    },
    {
     "name": "stdout",
     "output_type": "stream",
     "text": [
      "too dissimilar /Users/todd/cltk_data/latin/text/latin_text_tesserae/texts/columella.de_re_rustica.part.1.tess\n"
     ]
    },
    {
     "name": "stderr",
     "output_type": "stream",
     "text": [
      " 30%|███       | 194/640 [00:47<02:17,  3.24it/s]"
     ]
    },
    {
     "name": "stdout",
     "output_type": "stream",
     "text": [
      "too dissimilar /Users/todd/cltk_data/latin/text/latin_text_tesserae/texts/tibullus.elegies.tess\n",
      "too dissimilar /Users/todd/cltk_data/latin/text/latin_text_tesserae/texts/seneca.de_brevitate_vitae.tess\n"
     ]
    },
    {
     "name": "stderr",
     "output_type": "stream",
     "text": [
      " 31%|███       | 196/640 [00:47<01:45,  4.21it/s]"
     ]
    },
    {
     "name": "stdout",
     "output_type": "stream",
     "text": [
      "too dissimilar /Users/todd/cltk_data/latin/text/latin_text_tesserae/texts/vergil.aeneid.part.11.tess\n",
      "too dissimilar /Users/todd/cltk_data/latin/text/latin_text_tesserae/texts/pliny_the_younger.letters.part.7.tess\n"
     ]
    },
    {
     "name": "stderr",
     "output_type": "stream",
     "text": [
      " 31%|███       | 199/640 [00:47<01:04,  6.86it/s]"
     ]
    },
    {
     "name": "stdout",
     "output_type": "stream",
     "text": [
      "too dissimilar /Users/todd/cltk_data/latin/text/latin_text_tesserae/texts/seneca.troades.tess\n",
      "too dissimilar /Users/todd/cltk_data/latin/text/latin_text_tesserae/texts/claudian.de_consulatu_stilichonis.part.2.tess\n",
      "too dissimilar /Users/todd/cltk_data/latin/text/latin_text_tesserae/texts/ovid.medicamina_faciei_femineae.tess\n"
     ]
    },
    {
     "name": "stderr",
     "output_type": "stream",
     "text": [
      " 32%|███▏      | 202/640 [00:47<00:52,  8.42it/s]"
     ]
    },
    {
     "name": "stdout",
     "output_type": "stream",
     "text": [
      "too dissimilar /Users/todd/cltk_data/latin/text/latin_text_tesserae/texts/lucan.bellum_civile.part.6.tess\n",
      "too dissimilar /Users/todd/cltk_data/latin/text/latin_text_tesserae/texts/suetonius.de_vita_caesarum.part.9.vitellius.tess\n",
      "too dissimilar /Users/todd/cltk_data/latin/text/latin_text_tesserae/texts/ovid.tristia.part.1.tess\n"
     ]
    },
    {
     "name": "stderr",
     "output_type": "stream",
     "text": [
      "\r",
      " 32%|███▏      | 203/640 [00:48<00:55,  7.85it/s]"
     ]
    },
    {
     "name": "stdout",
     "output_type": "stream",
     "text": [
      "too dissimilar /Users/todd/cltk_data/latin/text/latin_text_tesserae/texts/vitruvius.de_architectura.part.10.tess\n"
     ]
    },
    {
     "name": "stderr",
     "output_type": "stream",
     "text": [
      "\r",
      " 32%|███▏      | 204/640 [00:48<01:11,  6.11it/s]"
     ]
    },
    {
     "name": "stdout",
     "output_type": "stream",
     "text": [
      "too dissimilar /Users/todd/cltk_data/latin/text/latin_text_tesserae/texts/paulus_diaconus.carmina.tess\n"
     ]
    },
    {
     "name": "stderr",
     "output_type": "stream",
     "text": [
      " 32%|███▏      | 206/640 [00:48<01:21,  5.36it/s]"
     ]
    },
    {
     "name": "stdout",
     "output_type": "stream",
     "text": [
      "too dissimilar /Users/todd/cltk_data/latin/text/latin_text_tesserae/texts/valerius_maximus.facta_et_dicta_memorabilia.part.4.tess\n",
      "too dissimilar /Users/todd/cltk_data/latin/text/latin_text_tesserae/texts/lucan.bellum_civile.part.10.tess\n"
     ]
    },
    {
     "name": "stderr",
     "output_type": "stream",
     "text": [
      " 33%|███▎      | 211/640 [00:49<00:52,  8.15it/s]"
     ]
    },
    {
     "name": "stdout",
     "output_type": "stream",
     "text": [
      "too dissimilar /Users/todd/cltk_data/latin/text/latin_text_tesserae/texts/jerome.vulgate.part.70.2_john.tess\n",
      "too dissimilar /Users/todd/cltk_data/latin/text/latin_text_tesserae/texts/dracontius.romulea.part.7.tess\n",
      "too dissimilar /Users/todd/cltk_data/latin/text/latin_text_tesserae/texts/gellius.attic_nights.part.14.tess\n",
      "too dissimilar /Users/todd/cltk_data/latin/text/latin_text_tesserae/texts/jerome.vulgate.part.57.philippians.tess\n"
     ]
    },
    {
     "name": "stderr",
     "output_type": "stream",
     "text": [
      "\r",
      " 33%|███▎      | 213/640 [00:50<01:54,  3.72it/s]"
     ]
    },
    {
     "name": "stdout",
     "output_type": "stream",
     "text": [
      "too dissimilar /Users/todd/cltk_data/latin/text/latin_text_tesserae/texts/pliny_the_elder.naturalis_historia.part.2.books_6-10.tess\n"
     ]
    },
    {
     "name": "stderr",
     "output_type": "stream",
     "text": [
      "\r",
      " 33%|███▎      | 214/640 [00:50<01:56,  3.65it/s]"
     ]
    },
    {
     "name": "stdout",
     "output_type": "stream",
     "text": [
      "too dissimilar /Users/todd/cltk_data/latin/text/latin_text_tesserae/texts/jerome.vulgate.part.12.1_chronicles.tess\n"
     ]
    },
    {
     "name": "stderr",
     "output_type": "stream",
     "text": [
      " 34%|███▍      | 217/640 [00:51<01:24,  5.00it/s]"
     ]
    },
    {
     "name": "stdout",
     "output_type": "stream",
     "text": [
      "too dissimilar /Users/todd/cltk_data/latin/text/latin_text_tesserae/texts/tacitus.historiae.part.2.tess\n",
      "too dissimilar /Users/todd/cltk_data/latin/text/latin_text_tesserae/texts/prudentius.epilogus.tess\n",
      "too dissimilar /Users/todd/cltk_data/latin/text/latin_text_tesserae/texts/silius_italicus.punica.part.8.tess\n"
     ]
    },
    {
     "name": "stderr",
     "output_type": "stream",
     "text": [
      " 34%|███▍      | 220/640 [00:52<01:36,  4.35it/s]"
     ]
    },
    {
     "name": "stdout",
     "output_type": "stream",
     "text": [
      "too dissimilar /Users/todd/cltk_data/latin/text/latin_text_tesserae/texts/apuleius.metamorphoses.part.8.tess\n",
      "too dissimilar /Users/todd/cltk_data/latin/text/latin_text_tesserae/texts/silius_italicus.punica.part.12.tess\n",
      "too dissimilar /Users/todd/cltk_data/latin/text/latin_text_tesserae/texts/jerome.vulgate.part.71.3_john.tess\n"
     ]
    },
    {
     "name": "stderr",
     "output_type": "stream",
     "text": [
      " 35%|███▍      | 223/640 [00:52<01:08,  6.04it/s]"
     ]
    },
    {
     "name": "stdout",
     "output_type": "stream",
     "text": [
      "too dissimilar /Users/todd/cltk_data/latin/text/latin_text_tesserae/texts/valerius_maximus.facta_et_dicta_memorabilia.part.5.tess\n",
      "too dissimilar /Users/todd/cltk_data/latin/text/latin_text_tesserae/texts/gellius.attic_nights.part.15.tess\n"
     ]
    },
    {
     "name": "stderr",
     "output_type": "stream",
     "text": [
      "\r",
      " 35%|███▌      | 224/640 [00:52<01:31,  4.53it/s]"
     ]
    },
    {
     "name": "stdout",
     "output_type": "stream",
     "text": [
      "too dissimilar /Users/todd/cltk_data/latin/text/latin_text_tesserae/texts/plautus.poenulus.tess\n",
      "too dissimilar /Users/todd/cltk_data/latin/text/latin_text_tesserae/texts/macrobius.fragment.tess\n"
     ]
    },
    {
     "name": "stderr",
     "output_type": "stream",
     "text": [
      "\r",
      " 35%|███▌      | 226/640 [00:53<01:12,  5.74it/s]"
     ]
    },
    {
     "name": "stdout",
     "output_type": "stream",
     "text": [
      "too dissimilar /Users/todd/cltk_data/latin/text/latin_text_tesserae/texts/servius_honoratus.in_virgilii_georgicon_libros_commentarius.part.4.tess\n",
      "too dissimilar /Users/todd/cltk_data/latin/text/latin_text_tesserae/texts/valerius_maximus.facta_et_dicta_memorabilia.part.7.tess\n"
     ]
    },
    {
     "name": "stderr",
     "output_type": "stream",
     "text": [
      " 36%|███▌      | 229/640 [00:53<01:23,  4.94it/s]"
     ]
    },
    {
     "name": "stdout",
     "output_type": "stream",
     "text": [
      "too dissimilar /Users/todd/cltk_data/latin/text/latin_text_tesserae/texts/jerome.vulgate.part.27.isaiah.tess\n",
      "too dissimilar /Users/todd/cltk_data/latin/text/latin_text_tesserae/texts/juvencus.historia_evangelica.part.2.tess\n",
      "too dissimilar /Users/todd/cltk_data/latin/text/latin_text_tesserae/texts/quintus_smyrnaeus.fall_of_troy.part.4.tess\n"
     ]
    },
    {
     "name": "stderr",
     "output_type": "stream",
     "text": [
      " 36%|███▋      | 233/640 [00:54<01:30,  4.51it/s]"
     ]
    },
    {
     "name": "stdout",
     "output_type": "stream",
     "text": [
      "too dissimilar /Users/todd/cltk_data/latin/text/latin_text_tesserae/texts/jerome.vulgate.part.68.2_peter.tess\n",
      "too dissimilar /Users/todd/cltk_data/latin/text/latin_text_tesserae/texts/vergil.aeneid.part.6.tess\n"
     ]
    },
    {
     "name": "stderr",
     "output_type": "stream",
     "text": [
      "\r",
      " 37%|███▋      | 234/640 [00:55<01:31,  4.44it/s]"
     ]
    },
    {
     "name": "stdout",
     "output_type": "stream",
     "text": [
      "too dissimilar /Users/todd/cltk_data/latin/text/latin_text_tesserae/texts/lucretius.de_rerum_natura.part.4.tess\n"
     ]
    },
    {
     "name": "stderr",
     "output_type": "stream",
     "text": [
      " 37%|███▋      | 237/640 [00:55<01:07,  5.94it/s]"
     ]
    },
    {
     "name": "stdout",
     "output_type": "stream",
     "text": [
      "too dissimilar /Users/todd/cltk_data/latin/text/latin_text_tesserae/texts/gellius.attic_nights.part.18.tess\n",
      "too dissimilar /Users/todd/cltk_data/latin/text/latin_text_tesserae/texts/anonymous.laudes_domini.tess\n",
      "too dissimilar /Users/todd/cltk_data/latin/text/latin_text_tesserae/texts/statius.thebaid.part.8.tess\n"
     ]
    },
    {
     "name": "stderr",
     "output_type": "stream",
     "text": [
      "\r",
      " 37%|███▋      | 238/640 [00:55<01:06,  6.06it/s]"
     ]
    },
    {
     "name": "stdout",
     "output_type": "stream",
     "text": [
      "too dissimilar /Users/todd/cltk_data/latin/text/latin_text_tesserae/texts/valerius_flaccus.argonautica.part.1.tess\n",
      "too dissimilar /Users/todd/cltk_data/latin/text/latin_text_tesserae/texts/jerome.vulgate.part.67.1_peter.tess\n"
     ]
    },
    {
     "name": "stderr",
     "output_type": "stream",
     "text": [
      " 38%|███▊      | 242/640 [00:56<01:13,  5.44it/s]"
     ]
    },
    {
     "name": "stdout",
     "output_type": "stream",
     "text": [
      "too dissimilar /Users/todd/cltk_data/latin/text/latin_text_tesserae/texts/polignac.imitatio.tess\n",
      "too dissimilar /Users/todd/cltk_data/latin/text/latin_text_tesserae/texts/lucan.bellum_civile.part.7.tess\n",
      "too dissimilar /Users/todd/cltk_data/latin/text/latin_text_tesserae/texts/jerome.vulgate.part.62.2_timothy.tess\n"
     ]
    },
    {
     "name": "stderr",
     "output_type": "stream",
     "text": [
      "\r",
      " 38%|███▊      | 245/640 [00:56<00:48,  8.15it/s]"
     ]
    },
    {
     "name": "stdout",
     "output_type": "stream",
     "text": [
      "too dissimilar /Users/todd/cltk_data/latin/text/latin_text_tesserae/texts/jerome.vulgate.part.30.baruch.tess\n"
     ]
    },
    {
     "name": "stderr",
     "output_type": "stream",
     "text": [
      "\r",
      " 38%|███▊      | 246/640 [00:56<00:54,  7.28it/s]"
     ]
    },
    {
     "name": "stdout",
     "output_type": "stream",
     "text": [
      "too dissimilar /Users/todd/cltk_data/latin/text/latin_text_tesserae/texts/ammianus.rerum_gestarum.part.28.tess\n"
     ]
    },
    {
     "name": "stderr",
     "output_type": "stream",
     "text": [
      " 39%|███▉      | 248/640 [00:57<01:04,  6.04it/s]"
     ]
    },
    {
     "name": "stdout",
     "output_type": "stream",
     "text": [
      "too dissimilar /Users/todd/cltk_data/latin/text/latin_text_tesserae/texts/celsus.de_medicina.part.2.tess\n",
      "too dissimilar /Users/todd/cltk_data/latin/text/latin_text_tesserae/texts/ovid.fasti.part.6.tess\n"
     ]
    },
    {
     "name": "stderr",
     "output_type": "stream",
     "text": [
      "\r",
      " 39%|███▉      | 249/640 [00:57<01:09,  5.62it/s]"
     ]
    },
    {
     "name": "stdout",
     "output_type": "stream",
     "text": [
      "too dissimilar /Users/todd/cltk_data/latin/text/latin_text_tesserae/texts/lucretius.de_rerum_natura.part.3.tess\n"
     ]
    },
    {
     "name": "stderr",
     "output_type": "stream",
     "text": [
      "\r",
      " 39%|███▉      | 250/640 [01:22<43:27,  6.69s/it]"
     ]
    },
    {
     "name": "stdout",
     "output_type": "stream",
     "text": [
      "too dissimilar /Users/todd/cltk_data/latin/text/latin_text_tesserae/texts/suetonius.de_vita_caesarum.part.11.titus.tess\n",
      "too dissimilar /Users/todd/cltk_data/latin/text/latin_text_tesserae/texts/jerome.vulgate.part.24.song_of_songs.tess\n"
     ]
    },
    {
     "name": "stderr",
     "output_type": "stream",
     "text": [
      " 40%|███▉      | 254/640 [01:22<16:46,  2.61s/it]"
     ]
    },
    {
     "name": "stdout",
     "output_type": "stream",
     "text": [
      "too dissimilar /Users/todd/cltk_data/latin/text/latin_text_tesserae/texts/marcus_mincuius_felix.octavius.tess\n"
     ]
    },
    {
     "name": "stderr",
     "output_type": "stream",
     "text": [
      " 40%|████      | 256/640 [01:25<12:24,  1.94s/it]"
     ]
    },
    {
     "name": "stdout",
     "output_type": "stream",
     "text": [
      "too dissimilar /Users/todd/cltk_data/latin/text/latin_text_tesserae/texts/vergil.aeneid.part.2.tess\n",
      "too dissimilar /Users/todd/cltk_data/latin/text/latin_text_tesserae/texts/jerome.vulgate.part.54.2_corinthians.tess\n"
     ]
    },
    {
     "name": "stderr",
     "output_type": "stream",
     "text": [
      "\r",
      " 40%|████      | 258/640 [01:25<08:02,  1.26s/it]"
     ]
    },
    {
     "name": "stdout",
     "output_type": "stream",
     "text": [
      "too dissimilar /Users/todd/cltk_data/latin/text/latin_text_tesserae/texts/dracontius.romulea.part.3.tess\n"
     ]
    },
    {
     "name": "stderr",
     "output_type": "stream",
     "text": [
      "\r",
      " 41%|████      | 260/640 [01:26<05:44,  1.10it/s]"
     ]
    },
    {
     "name": "stdout",
     "output_type": "stream",
     "text": [
      "too dissimilar /Users/todd/cltk_data/latin/text/latin_text_tesserae/texts/martial.epigrams.part.7.tess\n"
     ]
    },
    {
     "name": "stderr",
     "output_type": "stream",
     "text": [
      "\r",
      " 41%|████      | 262/640 [01:26<04:05,  1.54it/s]"
     ]
    },
    {
     "name": "stdout",
     "output_type": "stream",
     "text": [
      "too dissimilar /Users/todd/cltk_data/latin/text/latin_text_tesserae/texts/gellius.attic_nights.part.13.tess\n",
      "too dissimilar /Users/todd/cltk_data/latin/text/latin_text_tesserae/texts/jerome.vulgate.part.38.micah.tess\n"
     ]
    },
    {
     "name": "stderr",
     "output_type": "stream",
     "text": [
      " 42%|████▏     | 268/640 [01:28<01:57,  3.17it/s]"
     ]
    },
    {
     "name": "stdout",
     "output_type": "stream",
     "text": [
      "too dissimilar /Users/todd/cltk_data/latin/text/latin_text_tesserae/texts/manilius.astronomicon.part.4.tess\n",
      "too dissimilar /Users/todd/cltk_data/latin/text/latin_text_tesserae/texts/seneca_the_elder.fragmenta.tess\n",
      "too dissimilar /Users/todd/cltk_data/latin/text/latin_text_tesserae/texts/lucan.bellum_civile.part.1.tess\n"
     ]
    },
    {
     "name": "stderr",
     "output_type": "stream",
     "text": [
      "\r",
      " 42%|████▏     | 269/640 [01:28<01:41,  3.67it/s]"
     ]
    },
    {
     "name": "stdout",
     "output_type": "stream",
     "text": [
      "too dissimilar /Users/todd/cltk_data/latin/text/latin_text_tesserae/texts/silius_italicus.punica.part.10.tess\n"
     ]
    },
    {
     "name": "stderr",
     "output_type": "stream",
     "text": [
      "\r",
      " 42%|████▏     | 270/640 [01:28<01:42,  3.61it/s]"
     ]
    },
    {
     "name": "stdout",
     "output_type": "stream",
     "text": [
      "too dissimilar /Users/todd/cltk_data/latin/text/latin_text_tesserae/texts/tacitus.historiae.part.3.tess\n"
     ]
    },
    {
     "name": "stderr",
     "output_type": "stream",
     "text": [
      "\r",
      " 42%|████▏     | 271/640 [01:29<01:45,  3.49it/s]"
     ]
    },
    {
     "name": "stdout",
     "output_type": "stream",
     "text": [
      "too dissimilar /Users/todd/cltk_data/latin/text/latin_text_tesserae/texts/servius_honoratus.in_virgilii_georgicon_libros_commentarius.part.2.tess\n"
     ]
    },
    {
     "name": "stderr",
     "output_type": "stream",
     "text": [
      " 43%|████▎     | 274/640 [01:30<01:45,  3.46it/s]"
     ]
    },
    {
     "name": "stdout",
     "output_type": "stream",
     "text": [
      "too dissimilar /Users/todd/cltk_data/latin/text/latin_text_tesserae/texts/apuleius.metamorphoses.part.6.tess\n",
      "too dissimilar /Users/todd/cltk_data/latin/text/latin_text_tesserae/texts/ammianus.rerum_gestarum.part.19.tess\n"
     ]
    },
    {
     "name": "stderr",
     "output_type": "stream",
     "text": [
      "\r",
      " 43%|████▎     | 275/640 [01:30<01:28,  4.13it/s]"
     ]
    },
    {
     "name": "stdout",
     "output_type": "stream",
     "text": [
      "too dissimilar /Users/todd/cltk_data/latin/text/latin_text_tesserae/texts/statius.thebaid.part.11.tess\n"
     ]
    },
    {
     "name": "stderr",
     "output_type": "stream",
     "text": [
      " 43%|████▎     | 278/640 [01:30<01:02,  5.76it/s]"
     ]
    },
    {
     "name": "stdout",
     "output_type": "stream",
     "text": [
      "too dissimilar /Users/todd/cltk_data/latin/text/latin_text_tesserae/texts/curtius_rufus.historiae_alexandri_magni.part.6.tess\n",
      "too dissimilar /Users/todd/cltk_data/latin/text/latin_text_tesserae/texts/apuleius.metamorphoses.part.5.tess\n"
     ]
    },
    {
     "name": "stderr",
     "output_type": "stream",
     "text": [
      " 44%|████▍     | 281/640 [01:31<00:57,  6.25it/s]"
     ]
    },
    {
     "name": "stdout",
     "output_type": "stream",
     "text": [
      "too dissimilar /Users/todd/cltk_data/latin/text/latin_text_tesserae/texts/celsus.de_medicina.part.7.tess\n",
      "too dissimilar /Users/todd/cltk_data/latin/text/latin_text_tesserae/texts/quintus_smyrnaeus.fall_of_troy.part.3.tess\n",
      "too dissimilar /Users/todd/cltk_data/latin/text/latin_text_tesserae/texts/ausonius.gratiarum_actio.tess\n"
     ]
    },
    {
     "name": "stderr",
     "output_type": "stream",
     "text": [
      "\r",
      " 44%|████▍     | 282/640 [01:31<00:52,  6.81it/s]"
     ]
    },
    {
     "name": "stdout",
     "output_type": "stream",
     "text": [
      "too dissimilar /Users/todd/cltk_data/latin/text/latin_text_tesserae/texts/suetonius.de_vita_caesarum.part.12.domitian.tess\n",
      "too dissimilar /Users/todd/cltk_data/latin/text/latin_text_tesserae/texts/dracontius.romulea.part.5.tess\n"
     ]
    },
    {
     "name": "stderr",
     "output_type": "stream",
     "text": [
      " 45%|████▍     | 285/640 [01:31<00:47,  7.54it/s]"
     ]
    },
    {
     "name": "stdout",
     "output_type": "stream",
     "text": [
      "too dissimilar /Users/todd/cltk_data/latin/text/latin_text_tesserae/texts/apuleius.florida.tess\n",
      "too dissimilar /Users/todd/cltk_data/latin/text/latin_text_tesserae/texts/suetonius.de_vita_caesarum.part.6.nero.tess\n"
     ]
    },
    {
     "name": "stderr",
     "output_type": "stream",
     "text": [
      "\r",
      " 45%|████▍     | 286/640 [01:31<00:47,  7.41it/s]"
     ]
    },
    {
     "name": "stdout",
     "output_type": "stream",
     "text": [
      "too dissimilar /Users/todd/cltk_data/latin/text/latin_text_tesserae/texts/statius.thebaid.part.6.tess\n"
     ]
    },
    {
     "name": "stderr",
     "output_type": "stream",
     "text": [
      " 45%|████▌     | 288/640 [01:32<01:17,  4.53it/s]"
     ]
    },
    {
     "name": "stdout",
     "output_type": "stream",
     "text": [
      "too dissimilar /Users/todd/cltk_data/latin/text/latin_text_tesserae/texts/plautus.pseudolus.tess\n"
     ]
    },
    {
     "name": "stderr",
     "output_type": "stream",
     "text": [
      "\r",
      " 45%|████▌     | 289/640 [01:32<01:18,  4.48it/s]"
     ]
    },
    {
     "name": "stdout",
     "output_type": "stream",
     "text": [
      "too dissimilar /Users/todd/cltk_data/latin/text/latin_text_tesserae/texts/suetonius.de_vita_caesarum.part.3.tiberius.tess\n"
     ]
    },
    {
     "name": "stderr",
     "output_type": "stream",
     "text": [
      " 46%|████▌     | 295/640 [01:35<02:04,  2.77it/s]"
     ]
    },
    {
     "name": "stdout",
     "output_type": "stream",
     "text": [
      "too dissimilar /Users/todd/cltk_data/latin/text/latin_text_tesserae/texts/lucretius.de_rerum_natura.part.6.tess\n"
     ]
    },
    {
     "name": "stderr",
     "output_type": "stream",
     "text": [
      " 46%|████▋     | 297/640 [01:36<01:39,  3.45it/s]"
     ]
    },
    {
     "name": "stdout",
     "output_type": "stream",
     "text": [
      "too dissimilar /Users/todd/cltk_data/latin/text/latin_text_tesserae/texts/statius.silvae.part.1.tess\n"
     ]
    },
    {
     "name": "stderr",
     "output_type": "stream",
     "text": [
      " 47%|████▋     | 299/640 [01:36<01:45,  3.23it/s]"
     ]
    },
    {
     "name": "stdout",
     "output_type": "stream",
     "text": [
      "too dissimilar /Users/todd/cltk_data/latin/text/latin_text_tesserae/texts/jerome.vulgate.part.10.2_samuel.tess\n",
      "too dissimilar /Users/todd/cltk_data/latin/text/latin_text_tesserae/texts/quintus_smyrnaeus.fall_of_troy.part.14.tess\n"
     ]
    },
    {
     "name": "stderr",
     "output_type": "stream",
     "text": [
      " 47%|████▋     | 303/640 [01:37<01:15,  4.44it/s]"
     ]
    },
    {
     "name": "stdout",
     "output_type": "stream",
     "text": [
      "too dissimilar /Users/todd/cltk_data/latin/text/latin_text_tesserae/texts/jerome.vulgate.part.33.hosea.tess\n",
      "too dissimilar /Users/todd/cltk_data/latin/text/latin_text_tesserae/texts/claudian.panegyricus_de_quarto_consulatu_honorii_augusti.tess\n"
     ]
    },
    {
     "name": "stderr",
     "output_type": "stream",
     "text": [
      " 48%|████▊     | 307/640 [01:38<00:47,  6.96it/s]"
     ]
    },
    {
     "name": "stdout",
     "output_type": "stream",
     "text": [
      "too dissimilar /Users/todd/cltk_data/latin/text/latin_text_tesserae/texts/ammianus.rerum_gestarum.part.18.tess\n",
      "too dissimilar /Users/todd/cltk_data/latin/text/latin_text_tesserae/texts/jerome.vulgate.part.19.esther.tess\n",
      "too dissimilar /Users/todd/cltk_data/latin/text/latin_text_tesserae/texts/boethius.consolatio_philosophiae.part.5.tess\n"
     ]
    },
    {
     "name": "stderr",
     "output_type": "stream",
     "text": [
      "\r",
      " 48%|████▊     | 308/640 [01:38<00:52,  6.30it/s]"
     ]
    },
    {
     "name": "stdout",
     "output_type": "stream",
     "text": [
      "too dissimilar /Users/todd/cltk_data/latin/text/latin_text_tesserae/texts/augustine.epistulae_selections.part.1.1-10.tess\n"
     ]
    },
    {
     "name": "stderr",
     "output_type": "stream",
     "text": [
      " 48%|████▊     | 310/640 [01:38<01:01,  5.33it/s]"
     ]
    },
    {
     "name": "stdout",
     "output_type": "stream",
     "text": [
      "too dissimilar /Users/todd/cltk_data/latin/text/latin_text_tesserae/texts/tacitus.annales.part.2.tess\n",
      "too dissimilar /Users/todd/cltk_data/latin/text/latin_text_tesserae/texts/ovid.metamorphoses.part.13.tess\n"
     ]
    },
    {
     "name": "stderr",
     "output_type": "stream",
     "text": [
      " 49%|████▉     | 312/640 [01:39<01:00,  5.44it/s]"
     ]
    },
    {
     "name": "stdout",
     "output_type": "stream",
     "text": [
      "too dissimilar /Users/todd/cltk_data/latin/text/latin_text_tesserae/texts/pliny_the_younger.letters.part.9.tess\n",
      "too dissimilar /Users/todd/cltk_data/latin/text/latin_text_tesserae/texts/gellius.attic_nights.part.4.tess\n"
     ]
    },
    {
     "name": "stderr",
     "output_type": "stream",
     "text": [
      " 49%|████▉     | 315/640 [01:39<01:08,  4.78it/s]"
     ]
    },
    {
     "name": "stdout",
     "output_type": "stream",
     "text": [
      "too dissimilar /Users/todd/cltk_data/latin/text/latin_text_tesserae/texts/jerome.vulgate.part.21a.old_latin_psalms.tess\n",
      "too dissimilar /Users/todd/cltk_data/latin/text/latin_text_tesserae/texts/ausonius.de_xii_caesaribus.tess\n",
      "too dissimilar /Users/todd/cltk_data/latin/text/latin_text_tesserae/texts/ammianus.rerum_gestarum.part.15.tess\n"
     ]
    },
    {
     "name": "stderr",
     "output_type": "stream",
     "text": [
      " 50%|████▉     | 317/640 [01:40<01:01,  5.23it/s]"
     ]
    },
    {
     "name": "stdout",
     "output_type": "stream",
     "text": [
      "too dissimilar /Users/todd/cltk_data/latin/text/latin_text_tesserae/texts/lucretius.de_rerum_natura.part.5.tess\n",
      "too dissimilar /Users/todd/cltk_data/latin/text/latin_text_tesserae/texts/ovid.tristia.part.5.tess\n",
      "too dissimilar /Users/todd/cltk_data/latin/text/latin_text_tesserae/texts/martial.epigrams.part.6.tess\n"
     ]
    },
    {
     "name": "stderr",
     "output_type": "stream",
     "text": [
      "\r",
      " 50%|████▉     | 319/640 [01:40<00:46,  6.89it/s]"
     ]
    },
    {
     "name": "stdout",
     "output_type": "stream",
     "text": [
      "too dissimilar /Users/todd/cltk_data/latin/text/latin_text_tesserae/texts/martial.epigrams.part.14.tess\n"
     ]
    },
    {
     "name": "stderr",
     "output_type": "stream",
     "text": [
      "\r",
      " 50%|█████     | 320/640 [01:40<01:02,  5.10it/s]"
     ]
    },
    {
     "name": "stdout",
     "output_type": "stream",
     "text": [
      "too dissimilar /Users/todd/cltk_data/latin/text/latin_text_tesserae/texts/columella.de_re_rustica.part.6.tess\n"
     ]
    },
    {
     "name": "stderr",
     "output_type": "stream",
     "text": [
      " 51%|█████     | 324/640 [01:41<00:57,  5.48it/s]"
     ]
    },
    {
     "name": "stdout",
     "output_type": "stream",
     "text": [
      "too dissimilar /Users/todd/cltk_data/latin/text/latin_text_tesserae/texts/seneca.de_consolatione_ad_helviam.tess\n",
      "too dissimilar /Users/todd/cltk_data/latin/text/latin_text_tesserae/texts/ovid.ars_amatoria.part.3.tess\n",
      "too dissimilar /Users/todd/cltk_data/latin/text/latin_text_tesserae/texts/jerome.vulgate.part.29.lamentations.tess\n"
     ]
    },
    {
     "name": "stderr",
     "output_type": "stream",
     "text": [
      " 51%|█████▏    | 328/640 [01:41<00:41,  7.59it/s]"
     ]
    },
    {
     "name": "stdout",
     "output_type": "stream",
     "text": [
      "too dissimilar /Users/todd/cltk_data/latin/text/latin_text_tesserae/texts/jerome.vulgate.part.17.tobias.tess\n",
      "too dissimilar /Users/todd/cltk_data/latin/text/latin_text_tesserae/texts/jerome.vulgate.part.58.colossians.tess\n"
     ]
    },
    {
     "name": "stderr",
     "output_type": "stream",
     "text": [
      "\r",
      " 51%|█████▏    | 329/640 [01:42<01:15,  4.11it/s]"
     ]
    },
    {
     "name": "stdout",
     "output_type": "stream",
     "text": [
      "too dissimilar /Users/todd/cltk_data/latin/text/latin_text_tesserae/texts/pliny_the_elder.naturalis_historia.part.6.books_26-30.tess\n"
     ]
    },
    {
     "name": "stderr",
     "output_type": "stream",
     "text": [
      "\r",
      " 52%|█████▏    | 330/640 [01:42<01:18,  3.97it/s]"
     ]
    },
    {
     "name": "stdout",
     "output_type": "stream",
     "text": [
      "too dissimilar /Users/todd/cltk_data/latin/text/latin_text_tesserae/texts/bede.historiam_ecclesiasticam_gentis_anglorum.part.2.tess\n",
      "too dissimilar /Users/todd/cltk_data/latin/text/latin_text_tesserae/texts/ausonius.mosella.tess\n"
     ]
    },
    {
     "name": "stderr",
     "output_type": "stream",
     "text": [
      "\r",
      " 52%|█████▏    | 332/640 [01:43<01:14,  4.11it/s]"
     ]
    },
    {
     "name": "stdout",
     "output_type": "stream",
     "text": [
      "too dissimilar /Users/todd/cltk_data/latin/text/latin_text_tesserae/texts/bede.historiam_ecclesiasticam_gentis_anglorum.part.3.tess\n",
      "too dissimilar /Users/todd/cltk_data/latin/text/latin_text_tesserae/texts/suetonius.de_vita_caesarum.part.10.vespasian.tess\n"
     ]
    },
    {
     "name": "stderr",
     "output_type": "stream",
     "text": [
      "\r",
      " 52%|█████▏    | 334/640 [01:43<00:58,  5.21it/s]"
     ]
    },
    {
     "name": "stdout",
     "output_type": "stream",
     "text": [
      "too dissimilar /Users/todd/cltk_data/latin/text/latin_text_tesserae/texts/suetonius.de_vita_caesarum.part.5.claudius.tess\n"
     ]
    },
    {
     "name": "stderr",
     "output_type": "stream",
     "text": [
      "\r",
      " 52%|█████▏    | 335/640 [01:43<00:59,  5.13it/s]"
     ]
    },
    {
     "name": "stdout",
     "output_type": "stream",
     "text": [
      "too dissimilar /Users/todd/cltk_data/latin/text/latin_text_tesserae/texts/plautus.aulularia.tess\n"
     ]
    },
    {
     "name": "stderr",
     "output_type": "stream",
     "text": [
      " 53%|█████▎    | 337/640 [01:56<12:07,  2.40s/it]"
     ]
    },
    {
     "name": "stdout",
     "output_type": "stream",
     "text": [
      "too dissimilar /Users/todd/cltk_data/latin/text/latin_text_tesserae/texts/plautus.curculio.tess\n"
     ]
    },
    {
     "name": "stderr",
     "output_type": "stream",
     "text": [
      " 53%|█████▎    | 340/640 [01:57<05:26,  1.09s/it]"
     ]
    },
    {
     "name": "stdout",
     "output_type": "stream",
     "text": [
      "too dissimilar /Users/todd/cltk_data/latin/text/latin_text_tesserae/texts/horace.epistles.tess\n",
      "too dissimilar /Users/todd/cltk_data/latin/text/latin_text_tesserae/texts/valerius_maximus.facta_et_dicta_memorabilia.part.2.tess\n",
      "too dissimilar /Users/todd/cltk_data/latin/text/latin_text_tesserae/texts/quintus_smyrnaeus.fall_of_troy.part.10.tess\n"
     ]
    },
    {
     "name": "stderr",
     "output_type": "stream",
     "text": [
      "\r",
      " 53%|█████▎    | 341/640 [01:57<04:26,  1.12it/s]"
     ]
    },
    {
     "name": "stdout",
     "output_type": "stream",
     "text": [
      "too dissimilar /Users/todd/cltk_data/latin/text/latin_text_tesserae/texts/catullus.carmina.tess\n"
     ]
    },
    {
     "name": "stderr",
     "output_type": "stream",
     "text": [
      " 54%|█████▍    | 344/640 [02:07<11:07,  2.25s/it]"
     ]
    },
    {
     "name": "stdout",
     "output_type": "stream",
     "text": [
      "too dissimilar /Users/todd/cltk_data/latin/text/latin_text_tesserae/texts/ovid.amores.part.3.tess\n"
     ]
    },
    {
     "name": "stderr",
     "output_type": "stream",
     "text": [
      " 54%|█████▍    | 347/640 [02:08<04:46,  1.02it/s]"
     ]
    },
    {
     "name": "stdout",
     "output_type": "stream",
     "text": [
      "too dissimilar /Users/todd/cltk_data/latin/text/latin_text_tesserae/texts/ammianus.rerum_gestarum.part.22.tess\n",
      "too dissimilar /Users/todd/cltk_data/latin/text/latin_text_tesserae/texts/ovid.tristia.part.2.tess\n",
      "too dissimilar /Users/todd/cltk_data/latin/text/latin_text_tesserae/texts/martial.epigrams.part.10.tess\n"
     ]
    },
    {
     "name": "stderr",
     "output_type": "stream",
     "text": [
      " 55%|█████▍    | 349/640 [02:08<03:01,  1.60it/s]"
     ]
    },
    {
     "name": "stdout",
     "output_type": "stream",
     "text": [
      "too dissimilar /Users/todd/cltk_data/latin/text/latin_text_tesserae/texts/jerome.vulgate.part.53.1_corinthians.tess\n",
      "too dissimilar /Users/todd/cltk_data/latin/text/latin_text_tesserae/texts/curtius_rufus.historiae_alexandri_magni.part.9.tess\n"
     ]
    },
    {
     "name": "stderr",
     "output_type": "stream",
     "text": [
      " 55%|█████▍    | 351/640 [02:08<01:54,  2.53it/s]"
     ]
    },
    {
     "name": "stdout",
     "output_type": "stream",
     "text": [
      "too dissimilar /Users/todd/cltk_data/latin/text/latin_text_tesserae/texts/vergil.aeneid.part.5.tess\n",
      "too dissimilar /Users/todd/cltk_data/latin/text/latin_text_tesserae/texts/ovid.fasti.part.5.tess\n"
     ]
    },
    {
     "name": "stderr",
     "output_type": "stream",
     "text": [
      "\r",
      " 55%|█████▌    | 352/640 [02:09<01:43,  2.77it/s]"
     ]
    },
    {
     "name": "stdout",
     "output_type": "stream",
     "text": [
      "too dissimilar /Users/todd/cltk_data/latin/text/latin_text_tesserae/texts/jerome.vulgate.part.3.leviticus.tess\n"
     ]
    },
    {
     "name": "stderr",
     "output_type": "stream",
     "text": [
      "\r",
      " 55%|█████▌    | 353/640 [02:09<01:48,  2.65it/s]"
     ]
    },
    {
     "name": "stdout",
     "output_type": "stream",
     "text": [
      "too dissimilar /Users/todd/cltk_data/latin/text/latin_text_tesserae/texts/ovid.heroides.part.1.1-15.tess\n"
     ]
    },
    {
     "name": "stderr",
     "output_type": "stream",
     "text": [
      " 56%|█████▌    | 356/640 [02:10<01:22,  3.46it/s]"
     ]
    },
    {
     "name": "stdout",
     "output_type": "stream",
     "text": [
      "too dissimilar /Users/todd/cltk_data/latin/text/latin_text_tesserae/texts/columella.de_re_rustica.part.5.tess\n",
      "too dissimilar /Users/todd/cltk_data/latin/text/latin_text_tesserae/texts/seneca.phoenissae.tess\n",
      "too dissimilar /Users/todd/cltk_data/latin/text/latin_text_tesserae/texts/horace.odes.part.2.tess\n"
     ]
    },
    {
     "name": "stderr",
     "output_type": "stream",
     "text": [
      " 56%|█████▌    | 359/640 [02:11<01:15,  3.70it/s]"
     ]
    },
    {
     "name": "stdout",
     "output_type": "stream",
     "text": [
      "too dissimilar /Users/todd/cltk_data/latin/text/latin_text_tesserae/texts/seneca_the_elder.controversiae.part.10.tess\n",
      "too dissimilar /Users/todd/cltk_data/latin/text/latin_text_tesserae/texts/claudian.panegyricus_dictus_manlio_theodoro_consuli.tess\n"
     ]
    },
    {
     "name": "stderr",
     "output_type": "stream",
     "text": [
      "\r",
      " 56%|█████▋    | 361/640 [02:11<01:00,  4.63it/s]"
     ]
    },
    {
     "name": "stdout",
     "output_type": "stream",
     "text": [
      "too dissimilar /Users/todd/cltk_data/latin/text/latin_text_tesserae/texts/jerome.vulgate.part.6.joshua.tess\n"
     ]
    },
    {
     "name": "stderr",
     "output_type": "stream",
     "text": [
      " 57%|█████▋    | 364/640 [02:12<00:54,  5.06it/s]"
     ]
    },
    {
     "name": "stdout",
     "output_type": "stream",
     "text": [
      "too dissimilar /Users/todd/cltk_data/latin/text/latin_text_tesserae/texts/ammianus.rerum_gestarum.part.25.tess\n",
      "too dissimilar /Users/todd/cltk_data/latin/text/latin_text_tesserae/texts/ammianus.rerum_gestarum.part.24.tess\n"
     ]
    },
    {
     "name": "stderr",
     "output_type": "stream",
     "text": [
      " 57%|█████▋    | 366/640 [02:12<00:47,  5.74it/s]"
     ]
    },
    {
     "name": "stdout",
     "output_type": "stream",
     "text": [
      "too dissimilar /Users/todd/cltk_data/latin/text/latin_text_tesserae/texts/ovid.metamorphoses.part.9.tess\n",
      "too dissimilar /Users/todd/cltk_data/latin/text/latin_text_tesserae/texts/ammianus.rerum_gestarum.part.30.tess\n"
     ]
    },
    {
     "name": "stderr",
     "output_type": "stream",
     "text": [
      "\r",
      " 57%|█████▋    | 367/640 [02:12<00:45,  5.96it/s]"
     ]
    },
    {
     "name": "stdout",
     "output_type": "stream",
     "text": [
      "too dissimilar /Users/todd/cltk_data/latin/text/latin_text_tesserae/texts/seneca.agamemnon.tess\n",
      "too dissimilar /Users/todd/cltk_data/latin/text/latin_text_tesserae/texts/vergil.georgics.part.1.tess\n"
     ]
    },
    {
     "name": "stderr",
     "output_type": "stream",
     "text": [
      " 58%|█████▊    | 370/640 [02:13<00:59,  4.50it/s]"
     ]
    },
    {
     "name": "stdout",
     "output_type": "stream",
     "text": [
      "too dissimilar /Users/todd/cltk_data/latin/text/latin_text_tesserae/texts/juvencus.historia_evangelica.part.3.tess\n"
     ]
    },
    {
     "name": "stderr",
     "output_type": "stream",
     "text": [
      " 58%|█████▊    | 373/640 [02:26<08:12,  1.84s/it]"
     ]
    },
    {
     "name": "stdout",
     "output_type": "stream",
     "text": [
      "too dissimilar /Users/todd/cltk_data/latin/text/latin_text_tesserae/texts/plautus.persa.tess\n",
      "too dissimilar /Users/todd/cltk_data/latin/text/latin_text_tesserae/texts/statius.thebaid.part.7.tess\n"
     ]
    },
    {
     "name": "stderr",
     "output_type": "stream",
     "text": [
      " 59%|█████▊    | 375/640 [02:26<04:26,  1.00s/it]"
     ]
    },
    {
     "name": "stdout",
     "output_type": "stream",
     "text": [
      "too dissimilar /Users/todd/cltk_data/latin/text/latin_text_tesserae/texts/pliny_the_younger.letters.part.8.tess\n",
      "too dissimilar /Users/todd/cltk_data/latin/text/latin_text_tesserae/texts/seneca.oedipus.tess\n"
     ]
    },
    {
     "name": "stderr",
     "output_type": "stream",
     "text": [
      " 59%|█████▉    | 379/640 [02:27<01:46,  2.46it/s]"
     ]
    },
    {
     "name": "stdout",
     "output_type": "stream",
     "text": [
      "too dissimilar /Users/todd/cltk_data/latin/text/latin_text_tesserae/texts/jerome.vulgate.part.20.job.tess\n",
      "too dissimilar /Users/todd/cltk_data/latin/text/latin_text_tesserae/texts/jerome.vulgate.part.60.2_thessalonians.tess\n",
      "too dissimilar /Users/todd/cltk_data/latin/text/latin_text_tesserae/texts/silius_italicus.punica.part.13.tess\n"
     ]
    },
    {
     "name": "stderr",
     "output_type": "stream",
     "text": [
      " 60%|█████▉    | 381/640 [02:27<01:14,  3.47it/s]"
     ]
    },
    {
     "name": "stdout",
     "output_type": "stream",
     "text": [
      "too dissimilar /Users/todd/cltk_data/latin/text/latin_text_tesserae/texts/lucan.bellum_civile.part.5.tess\n",
      "too dissimilar /Users/todd/cltk_data/latin/text/latin_text_tesserae/texts/gellius.attic_nights.part.19.tess\n",
      "too dissimilar /Users/todd/cltk_data/latin/text/latin_text_tesserae/texts/claudian.panegyricus_de_tertio_consulatu_honorii_augusti.tess\n",
      "too dissimilar /Users/todd/cltk_data/latin/text/latin_text_tesserae/texts/jerome.vulgate.part.34.joel.tess\n"
     ]
    },
    {
     "name": "stderr",
     "output_type": "stream",
     "text": [
      " 61%|██████    | 388/640 [02:28<00:34,  7.35it/s]"
     ]
    },
    {
     "name": "stdout",
     "output_type": "stream",
     "text": [
      "too dissimilar /Users/todd/cltk_data/latin/text/latin_text_tesserae/texts/ovid.metamorphoses.part.2.tess\n",
      "too dissimilar /Users/todd/cltk_data/latin/text/latin_text_tesserae/texts/ausonius.cento_nuptialis.tess\n",
      "too dissimilar /Users/todd/cltk_data/latin/text/latin_text_tesserae/texts/ausonius.cupido_cruciatus.tess\n"
     ]
    },
    {
     "name": "stderr",
     "output_type": "stream",
     "text": [
      "\r",
      " 61%|██████    | 390/640 [02:28<00:33,  7.43it/s]"
     ]
    },
    {
     "name": "stdout",
     "output_type": "stream",
     "text": [
      "too dissimilar /Users/todd/cltk_data/latin/text/latin_text_tesserae/texts/dracontius.de_laudibus_dei.part.2.tess\n",
      "too dissimilar /Users/todd/cltk_data/latin/text/latin_text_tesserae/texts/ovid.metamorphoses.part.1.tess\n",
      "too dissimilar /Users/todd/cltk_data/latin/text/latin_text_tesserae/texts/prudentius.contra_symmachum.part.1.tess\n"
     ]
    },
    {
     "name": "stderr",
     "output_type": "stream",
     "text": [
      " 62%|██████▏   | 394/640 [02:30<01:06,  3.71it/s]"
     ]
    },
    {
     "name": "stdout",
     "output_type": "stream",
     "text": [
      "too dissimilar /Users/todd/cltk_data/latin/text/latin_text_tesserae/texts/tertullian.apologeticum.tess\n",
      "too dissimilar /Users/todd/cltk_data/latin/text/latin_text_tesserae/texts/lucan.bellum_civile.part.8.tess\n"
     ]
    },
    {
     "name": "stderr",
     "output_type": "stream",
     "text": [
      "\r",
      " 62%|██████▏   | 395/640 [02:30<01:01,  3.98it/s]"
     ]
    },
    {
     "name": "stdout",
     "output_type": "stream",
     "text": [
      "too dissimilar /Users/todd/cltk_data/latin/text/latin_text_tesserae/texts/ammianus.rerum_gestarum.part.17.tess\n"
     ]
    },
    {
     "name": "stderr",
     "output_type": "stream",
     "text": [
      " 62%|██████▏   | 399/640 [02:31<00:47,  5.11it/s]"
     ]
    },
    {
     "name": "stdout",
     "output_type": "stream",
     "text": [
      "too dissimilar /Users/todd/cltk_data/latin/text/latin_text_tesserae/texts/tacitus.agricola.tess\n",
      "too dissimilar /Users/todd/cltk_data/latin/text/latin_text_tesserae/texts/ausonius.de_bissula.tess\n",
      "too dissimilar /Users/todd/cltk_data/latin/text/latin_text_tesserae/texts/ovid.metamorphoses.part.8.tess\n"
     ]
    },
    {
     "name": "stderr",
     "output_type": "stream",
     "text": [
      " 63%|██████▎   | 402/640 [02:31<00:41,  5.70it/s]"
     ]
    },
    {
     "name": "stdout",
     "output_type": "stream",
     "text": [
      "too dissimilar /Users/todd/cltk_data/latin/text/latin_text_tesserae/texts/jerome.vulgate.part.43.zechariah.tess\n",
      "too dissimilar /Users/todd/cltk_data/latin/text/latin_text_tesserae/texts/valerius_flaccus.argonautica.part.5.tess\n"
     ]
    },
    {
     "name": "stderr",
     "output_type": "stream",
     "text": [
      "\r",
      " 63%|██████▎   | 403/640 [02:32<00:39,  5.99it/s]"
     ]
    },
    {
     "name": "stdout",
     "output_type": "stream",
     "text": [
      "too dissimilar /Users/todd/cltk_data/latin/text/latin_text_tesserae/texts/silius_italicus.punica.part.15.tess\n"
     ]
    },
    {
     "name": "stderr",
     "output_type": "stream",
     "text": [
      " 63%|██████▎   | 405/640 [02:32<00:38,  6.11it/s]"
     ]
    },
    {
     "name": "stdout",
     "output_type": "stream",
     "text": [
      "too dissimilar /Users/todd/cltk_data/latin/text/latin_text_tesserae/texts/tacitus.annales.part.15.tess\n",
      "too dissimilar /Users/todd/cltk_data/latin/text/latin_text_tesserae/texts/vergil.aeneid.part.4.tess\n"
     ]
    },
    {
     "name": "stderr",
     "output_type": "stream",
     "text": [
      " 64%|██████▎   | 407/640 [02:33<00:51,  4.49it/s]"
     ]
    },
    {
     "name": "stdout",
     "output_type": "stream",
     "text": [
      "too dissimilar /Users/todd/cltk_data/latin/text/latin_text_tesserae/texts/ovid.tristia.part.4.tess\n"
     ]
    },
    {
     "name": "stderr",
     "output_type": "stream",
     "text": [
      " 64%|██████▍   | 410/640 [02:33<00:46,  4.97it/s]"
     ]
    },
    {
     "name": "stdout",
     "output_type": "stream",
     "text": [
      "too dissimilar /Users/todd/cltk_data/latin/text/latin_text_tesserae/texts/seneca.ad_lucilium_epistulae_morales.part.6.51-60.tess\n",
      "too dissimilar /Users/todd/cltk_data/latin/text/latin_text_tesserae/texts/jerome.vulgate.part.18.judith.tess\n"
     ]
    },
    {
     "name": "stderr",
     "output_type": "stream",
     "text": [
      " 65%|██████▍   | 414/640 [02:34<00:51,  4.41it/s]"
     ]
    },
    {
     "name": "stdout",
     "output_type": "stream",
     "text": [
      "too dissimilar /Users/todd/cltk_data/latin/text/latin_text_tesserae/texts/florus.epitome_bellorum_omnium_annorum.tess\n",
      "too dissimilar /Users/todd/cltk_data/latin/text/latin_text_tesserae/texts/claudian.de_raptu_proserpinae.part.3.tess\n",
      "too dissimilar /Users/todd/cltk_data/latin/text/latin_text_tesserae/texts/jerome.vulgate.part.23.ecclesiastes.tess\n"
     ]
    },
    {
     "name": "stderr",
     "output_type": "stream",
     "text": [
      " 65%|██████▌   | 416/640 [02:35<00:43,  5.09it/s]"
     ]
    },
    {
     "name": "stdout",
     "output_type": "stream",
     "text": [
      "too dissimilar /Users/todd/cltk_data/latin/text/latin_text_tesserae/texts/prudentius.apotheosis.tess\n",
      "too dissimilar /Users/todd/cltk_data/latin/text/latin_text_tesserae/texts/ovid.fasti.part.1.tess\n",
      "too dissimilar /Users/todd/cltk_data/latin/text/latin_text_tesserae/texts/aristotle.economics_book_3.tess\n"
     ]
    },
    {
     "name": "stderr",
     "output_type": "stream",
     "text": [
      " 66%|██████▌   | 420/640 [02:35<00:32,  6.75it/s]"
     ]
    },
    {
     "name": "stdout",
     "output_type": "stream",
     "text": [
      "too dissimilar /Users/todd/cltk_data/latin/text/latin_text_tesserae/texts/gellius.attic_nights.part.16.tess\n",
      "too dissimilar /Users/todd/cltk_data/latin/text/latin_text_tesserae/texts/silius_italicus.punica.part.3.tess\n"
     ]
    },
    {
     "name": "stderr",
     "output_type": "stream",
     "text": [
      " 66%|██████▌   | 422/640 [02:35<00:30,  7.17it/s]"
     ]
    },
    {
     "name": "stdout",
     "output_type": "stream",
     "text": [
      "too dissimilar /Users/todd/cltk_data/latin/text/latin_text_tesserae/texts/martial.epigrams.part.9.tess\n",
      "too dissimilar /Users/todd/cltk_data/latin/text/latin_text_tesserae/texts/valerius_flaccus.argonautica.part.2.tess\n"
     ]
    },
    {
     "name": "stderr",
     "output_type": "stream",
     "text": [
      " 66%|██████▋   | 425/640 [02:36<00:23,  9.01it/s]"
     ]
    },
    {
     "name": "stdout",
     "output_type": "stream",
     "text": [
      "too dissimilar /Users/todd/cltk_data/latin/text/latin_text_tesserae/texts/augustine.epistulae_selections.part.3.21-30.tess\n",
      "too dissimilar /Users/todd/cltk_data/latin/text/latin_text_tesserae/texts/martial.epigrams.part.5.tess\n",
      "too dissimilar /Users/todd/cltk_data/latin/text/latin_text_tesserae/texts/claudian.in_rufinum.part.1.tess\n"
     ]
    },
    {
     "name": "stderr",
     "output_type": "stream",
     "text": [
      "\r",
      " 67%|██████▋   | 427/640 [02:36<00:23,  9.02it/s]"
     ]
    },
    {
     "name": "stdout",
     "output_type": "stream",
     "text": [
      "too dissimilar /Users/todd/cltk_data/latin/text/latin_text_tesserae/texts/vergil.georgics.part.3.tess\n",
      "too dissimilar /Users/todd/cltk_data/latin/text/latin_text_tesserae/texts/gellius.attic_nights.part.9.tess\n"
     ]
    },
    {
     "name": "stderr",
     "output_type": "stream",
     "text": [
      " 67%|██████▋   | 430/640 [02:37<00:40,  5.22it/s]"
     ]
    },
    {
     "name": "stdout",
     "output_type": "stream",
     "text": [
      "too dissimilar /Users/todd/cltk_data/latin/text/latin_text_tesserae/texts/tertullian.de_spectaculis.tess\n",
      "too dissimilar /Users/todd/cltk_data/latin/text/latin_text_tesserae/texts/valerius_maximus.facta_et_dicta_memorabilia.part.3.tess\n"
     ]
    },
    {
     "name": "stderr",
     "output_type": "stream",
     "text": [
      "\r",
      " 67%|██████▋   | 431/640 [02:37<00:38,  5.45it/s]"
     ]
    },
    {
     "name": "stdout",
     "output_type": "stream",
     "text": [
      "too dissimilar /Users/todd/cltk_data/latin/text/latin_text_tesserae/texts/corippus.johannis.part.6.tess\n"
     ]
    },
    {
     "name": "stderr",
     "output_type": "stream",
     "text": [
      "\r",
      " 68%|██████▊   | 432/640 [02:37<00:47,  4.42it/s]"
     ]
    },
    {
     "name": "stdout",
     "output_type": "stream",
     "text": [
      "too dissimilar /Users/todd/cltk_data/latin/text/latin_text_tesserae/texts/apuleius.apologia.tess\n"
     ]
    },
    {
     "name": "stderr",
     "output_type": "stream",
     "text": [
      "\r",
      " 68%|██████▊   | 433/640 [02:38<00:51,  4.02it/s]"
     ]
    },
    {
     "name": "stdout",
     "output_type": "stream",
     "text": [
      "too dissimilar /Users/todd/cltk_data/latin/text/latin_text_tesserae/texts/servius_honoratus.in_virgilii_georgicon_libros_commentarius.part.3.tess\n"
     ]
    },
    {
     "name": "stderr",
     "output_type": "stream",
     "text": [
      "\r",
      " 68%|██████▊   | 434/640 [02:38<01:00,  3.42it/s]"
     ]
    },
    {
     "name": "stdout",
     "output_type": "stream",
     "text": [
      "too dissimilar /Users/todd/cltk_data/latin/text/latin_text_tesserae/texts/scriptores_historiae_augustae.historia_augusta.part.1.books_1-5.tess\n"
     ]
    },
    {
     "name": "stderr",
     "output_type": "stream",
     "text": [
      " 68%|██████▊   | 436/640 [02:39<01:04,  3.16it/s]"
     ]
    },
    {
     "name": "stdout",
     "output_type": "stream",
     "text": [
      "too dissimilar /Users/todd/cltk_data/latin/text/latin_text_tesserae/texts/valerius_maximus.facta_et_dicta_memorabilia.part.1.tess\n"
     ]
    },
    {
     "name": "stderr",
     "output_type": "stream",
     "text": [
      "\r",
      " 68%|██████▊   | 437/640 [02:40<01:31,  2.23it/s]"
     ]
    },
    {
     "name": "stdout",
     "output_type": "stream",
     "text": [
      "too dissimilar /Users/todd/cltk_data/latin/text/latin_text_tesserae/texts/petronius.satyricon.tess\n"
     ]
    },
    {
     "name": "stderr",
     "output_type": "stream",
     "text": [
      " 69%|██████▊   | 439/640 [02:40<01:02,  3.22it/s]"
     ]
    },
    {
     "name": "stdout",
     "output_type": "stream",
     "text": [
      "too dissimilar /Users/todd/cltk_data/latin/text/latin_text_tesserae/texts/silius_italicus.punica.part.14.tess\n"
     ]
    },
    {
     "name": "stderr",
     "output_type": "stream",
     "text": [
      " 69%|██████▉   | 441/640 [02:41<01:38,  2.01it/s]"
     ]
    },
    {
     "name": "stdout",
     "output_type": "stream",
     "text": [
      "too dissimilar /Users/todd/cltk_data/latin/text/latin_text_tesserae/texts/propertius.elegies.tess\n"
     ]
    },
    {
     "name": "stderr",
     "output_type": "stream",
     "text": [
      " 69%|██████▉   | 443/640 [02:42<01:10,  2.78it/s]"
     ]
    },
    {
     "name": "stdout",
     "output_type": "stream",
     "text": [
      "too dissimilar /Users/todd/cltk_data/latin/text/latin_text_tesserae/texts/plautus.bacchides.tess\n",
      "too dissimilar /Users/todd/cltk_data/latin/text/latin_text_tesserae/texts/vergil.eclogues.tess\n"
     ]
    },
    {
     "name": "stderr",
     "output_type": "stream",
     "text": [
      " 70%|██████▉   | 445/640 [02:42<01:06,  2.92it/s]"
     ]
    },
    {
     "name": "stdout",
     "output_type": "stream",
     "text": [
      "too dissimilar /Users/todd/cltk_data/latin/text/latin_text_tesserae/texts/macrobius.saturnalia.part.1.tess\n",
      "too dissimilar /Users/todd/cltk_data/latin/text/latin_text_tesserae/texts/ovid.metamorphoses.part.6.tess\n"
     ]
    },
    {
     "name": "stderr",
     "output_type": "stream",
     "text": [
      "\r",
      " 70%|██████▉   | 446/640 [02:43<01:00,  3.20it/s]"
     ]
    },
    {
     "name": "stdout",
     "output_type": "stream",
     "text": [
      "too dissimilar /Users/todd/cltk_data/latin/text/latin_text_tesserae/texts/scriptores_historiae_augustae.historia_augusta.part.3.books_11-15.tess\n"
     ]
    },
    {
     "name": "stderr",
     "output_type": "stream",
     "text": [
      " 70%|███████   | 450/640 [02:44<00:45,  4.15it/s]"
     ]
    },
    {
     "name": "stdout",
     "output_type": "stream",
     "text": [
      "too dissimilar /Users/todd/cltk_data/latin/text/latin_text_tesserae/texts/apuleius.metamorphoses.part.7.tess\n",
      "too dissimilar /Users/todd/cltk_data/latin/text/latin_text_tesserae/texts/martial.epigrams.part.1.tess\n"
     ]
    },
    {
     "name": "stderr",
     "output_type": "stream",
     "text": [
      "\r",
      " 70%|███████   | 451/640 [02:44<00:39,  4.75it/s]"
     ]
    },
    {
     "name": "stdout",
     "output_type": "stream",
     "text": [
      "too dissimilar /Users/todd/cltk_data/latin/text/latin_text_tesserae/texts/dracontius.de_laudibus_dei.part.3.tess\n"
     ]
    },
    {
     "name": "stderr",
     "output_type": "stream",
     "text": [
      " 71%|███████   | 453/640 [02:45<00:50,  3.69it/s]"
     ]
    },
    {
     "name": "stdout",
     "output_type": "stream",
     "text": [
      "too dissimilar /Users/todd/cltk_data/latin/text/latin_text_tesserae/texts/bede.historiam_ecclesiasticam_gentis_anglorum.part.1.tess\n"
     ]
    },
    {
     "name": "stderr",
     "output_type": "stream",
     "text": [
      " 71%|███████▏  | 457/640 [02:45<00:34,  5.31it/s]"
     ]
    },
    {
     "name": "stdout",
     "output_type": "stream",
     "text": [
      "too dissimilar /Users/todd/cltk_data/latin/text/latin_text_tesserae/texts/vergil.aeneid.part.7.tess\n",
      "too dissimilar /Users/todd/cltk_data/latin/text/latin_text_tesserae/texts/quintus_smyrnaeus.fall_of_troy.part.13.tess\n",
      "too dissimilar /Users/todd/cltk_data/latin/text/latin_text_tesserae/texts/vitruvius.de_architectura.part.5.tess\n"
     ]
    },
    {
     "name": "stderr",
     "output_type": "stream",
     "text": [
      " 72%|███████▏  | 460/640 [02:46<00:23,  7.69it/s]"
     ]
    },
    {
     "name": "stdout",
     "output_type": "stream",
     "text": [
      "too dissimilar /Users/todd/cltk_data/latin/text/latin_text_tesserae/texts/dracontius.romulea.part.10.tess\n",
      "too dissimilar /Users/todd/cltk_data/latin/text/latin_text_tesserae/texts/ausonius.precationes.tess\n",
      "too dissimilar /Users/todd/cltk_data/latin/text/latin_text_tesserae/texts/ovid.metamorphoses.part.10.tess\n",
      "too dissimilar /Users/todd/cltk_data/latin/text/latin_text_tesserae/texts/dracontius.romulea.part.fragments.tess\n"
     ]
    },
    {
     "name": "stderr",
     "output_type": "stream",
     "text": [
      " 72%|███████▎  | 464/640 [02:46<00:17,  9.87it/s]"
     ]
    },
    {
     "name": "stdout",
     "output_type": "stream",
     "text": [
      "too dissimilar /Users/todd/cltk_data/latin/text/latin_text_tesserae/texts/statius.thebaid.part.1.tess\n",
      "too dissimilar /Users/todd/cltk_data/latin/text/latin_text_tesserae/texts/corippus.johannis.part.4.tess\n",
      "too dissimilar /Users/todd/cltk_data/latin/text/latin_text_tesserae/texts/quintus_smyrnaeus.fall_of_troy.part.9.tess\n"
     ]
    },
    {
     "name": "stderr",
     "output_type": "stream",
     "text": [
      "\r",
      " 73%|███████▎  | 466/640 [02:52<03:00,  1.03s/it]"
     ]
    },
    {
     "name": "stdout",
     "output_type": "stream",
     "text": [
      "too dissimilar /Users/todd/cltk_data/latin/text/latin_text_tesserae/texts/polignac.antilucretius.tess\n",
      "too dissimilar /Users/todd/cltk_data/latin/text/latin_text_tesserae/texts/lucretius.de_rerum_natura.part.2.tess\n"
     ]
    },
    {
     "name": "stderr",
     "output_type": "stream",
     "text": [
      " 73%|███████▎  | 470/640 [02:53<01:40,  1.68it/s]"
     ]
    },
    {
     "name": "stdout",
     "output_type": "stream",
     "text": [
      "too dissimilar /Users/todd/cltk_data/latin/text/latin_text_tesserae/texts/pliny_the_elder.naturalis_historia.part.7.books_31-37.tess\n",
      "too dissimilar /Users/todd/cltk_data/latin/text/latin_text_tesserae/texts/ausonius.ephemeris_id_est_totius_diei_negotium.tess\n",
      "too dissimilar /Users/todd/cltk_data/latin/text/latin_text_tesserae/texts/dracontius.romulea.part.2.tess\n",
      "too dissimilar /Users/todd/cltk_data/latin/text/latin_text_tesserae/texts/ausonius.commemoratio_professorum_burdigalensium.tess\n",
      "too dissimilar /Users/todd/cltk_data/latin/text/latin_text_tesserae/texts/seneca.octavia.tess\n"
     ]
    },
    {
     "name": "stderr",
     "output_type": "stream",
     "text": [
      " 74%|███████▍  | 473/640 [02:53<01:05,  2.55it/s]"
     ]
    },
    {
     "name": "stdout",
     "output_type": "stream",
     "text": [
      "too dissimilar /Users/todd/cltk_data/latin/text/latin_text_tesserae/texts/curtius_rufus.historiae_alexandri_magni.part.3.tess\n",
      "too dissimilar /Users/todd/cltk_data/latin/text/latin_text_tesserae/texts/apuleius.metamorphoses.part.2.tess\n",
      "too dissimilar /Users/todd/cltk_data/latin/text/latin_text_tesserae/texts/horace.epodes.tess\n"
     ]
    },
    {
     "name": "stderr",
     "output_type": "stream",
     "text": [
      " 75%|███████▍  | 478/640 [02:54<00:41,  3.90it/s]"
     ]
    },
    {
     "name": "stdout",
     "output_type": "stream",
     "text": [
      "too dissimilar /Users/todd/cltk_data/latin/text/latin_text_tesserae/texts/martial.epigrams.part.13.tess\n",
      "too dissimilar /Users/todd/cltk_data/latin/text/latin_text_tesserae/texts/vitruvius.de_architectura.part.1.tess\n"
     ]
    },
    {
     "name": "stderr",
     "output_type": "stream",
     "text": [
      " 75%|███████▌  | 481/640 [02:55<00:34,  4.58it/s]"
     ]
    },
    {
     "name": "stdout",
     "output_type": "stream",
     "text": [
      "too dissimilar /Users/todd/cltk_data/latin/text/latin_text_tesserae/texts/seneca.ad_lucilium_epistulae_morales.part.9.81-90.tess\n",
      "too dissimilar /Users/todd/cltk_data/latin/text/latin_text_tesserae/texts/horace.ars_poetica.tess\n",
      "too dissimilar /Users/todd/cltk_data/latin/text/latin_text_tesserae/texts/valerius_flaccus.argonautica.part.8.tess\n",
      "too dissimilar /Users/todd/cltk_data/latin/text/latin_text_tesserae/texts/jerome.vulgate.part.39.nahum.tess\n"
     ]
    },
    {
     "name": "stderr",
     "output_type": "stream",
     "text": [
      " 76%|███████▌  | 484/640 [02:55<00:27,  5.58it/s]"
     ]
    },
    {
     "name": "stdout",
     "output_type": "stream",
     "text": [
      "too dissimilar /Users/todd/cltk_data/latin/text/latin_text_tesserae/texts/plautus.truculentus.tess\n",
      "too dissimilar /Users/todd/cltk_data/latin/text/latin_text_tesserae/texts/ovid.ex_ponto.part.1.tess\n"
     ]
    },
    {
     "name": "stderr",
     "output_type": "stream",
     "text": [
      " 76%|███████▋  | 488/640 [02:56<00:16,  9.06it/s]"
     ]
    },
    {
     "name": "stdout",
     "output_type": "stream",
     "text": [
      "too dissimilar /Users/todd/cltk_data/latin/text/latin_text_tesserae/texts/suetonius.de_vita_caesarum.part.2.augustus.tess\n",
      "too dissimilar /Users/todd/cltk_data/latin/text/latin_text_tesserae/texts/ausonius.oratio_consulis_ausonii_versibus_rhopalicis.tess\n",
      "too dissimilar /Users/todd/cltk_data/latin/text/latin_text_tesserae/texts/quintus_smyrnaeus.fall_of_troy.part.6.tess\n",
      "too dissimilar /Users/todd/cltk_data/latin/text/latin_text_tesserae/texts/horace.odes.part.4.tess\n",
      "too dissimilar /Users/todd/cltk_data/latin/text/latin_text_tesserae/texts/claudian.carmina_minora.tess\n"
     ]
    },
    {
     "name": "stderr",
     "output_type": "stream",
     "text": [
      " 77%|███████▋  | 491/640 [02:57<00:29,  5.03it/s]"
     ]
    },
    {
     "name": "stdout",
     "output_type": "stream",
     "text": [
      "too dissimilar /Users/todd/cltk_data/latin/text/latin_text_tesserae/texts/seneca.de_ira.tess\n",
      "too dissimilar /Users/todd/cltk_data/latin/text/latin_text_tesserae/texts/sallust.histories.tess\n"
     ]
    },
    {
     "name": "stderr",
     "output_type": "stream",
     "text": [
      "\r",
      " 77%|███████▋  | 492/640 [02:57<00:27,  5.43it/s]"
     ]
    },
    {
     "name": "stdout",
     "output_type": "stream",
     "text": [
      "too dissimilar /Users/todd/cltk_data/latin/text/latin_text_tesserae/texts/valerius_maximus.facta_et_dicta_memorabilia.part.6.tess\n"
     ]
    },
    {
     "name": "stderr",
     "output_type": "stream",
     "text": [
      " 77%|███████▋  | 495/640 [02:57<00:23,  6.13it/s]"
     ]
    },
    {
     "name": "stdout",
     "output_type": "stream",
     "text": [
      "too dissimilar /Users/todd/cltk_data/latin/text/latin_text_tesserae/texts/ovid.heroides.part.2.16-21.tess\n",
      "too dissimilar /Users/todd/cltk_data/latin/text/latin_text_tesserae/texts/jerome.vulgate.part.72.jude.tess\n",
      "too dissimilar /Users/todd/cltk_data/latin/text/latin_text_tesserae/texts/seneca.de_tranquillitate_animi.tess\n",
      "too dissimilar /Users/todd/cltk_data/latin/text/latin_text_tesserae/texts/ausonius.ordo_urbium_nobilium.tess\n"
     ]
    },
    {
     "name": "stderr",
     "output_type": "stream",
     "text": [
      " 78%|███████▊  | 499/640 [02:58<00:22,  6.29it/s]"
     ]
    },
    {
     "name": "stdout",
     "output_type": "stream",
     "text": [
      "too dissimilar /Users/todd/cltk_data/latin/text/latin_text_tesserae/texts/valerius_maximus.facta_et_dicta_memorabilia.part.8.tess\n",
      "too dissimilar /Users/todd/cltk_data/latin/text/latin_text_tesserae/texts/ovid.metamorphoses.part.12.tess\n",
      "too dissimilar /Users/todd/cltk_data/latin/text/latin_text_tesserae/texts/martial.epigrams.part.2.tess\n"
     ]
    },
    {
     "name": "stderr",
     "output_type": "stream",
     "text": [
      "\r",
      " 78%|███████▊  | 501/640 [02:58<00:18,  7.34it/s]"
     ]
    },
    {
     "name": "stdout",
     "output_type": "stream",
     "text": [
      "too dissimilar /Users/todd/cltk_data/latin/text/latin_text_tesserae/texts/silius_italicus.punica.part.7.tess\n",
      "too dissimilar /Users/todd/cltk_data/latin/text/latin_text_tesserae/texts/quintus_smyrnaeus.fall_of_troy.part.7.tess\n"
     ]
    },
    {
     "name": "stderr",
     "output_type": "stream",
     "text": [
      "\r",
      " 79%|███████▊  | 503/640 [02:59<00:19,  6.99it/s]"
     ]
    },
    {
     "name": "stdout",
     "output_type": "stream",
     "text": [
      "too dissimilar /Users/todd/cltk_data/latin/text/latin_text_tesserae/texts/curtius_rufus.historiae_alexandri_magni.part.7.tess\n",
      "too dissimilar /Users/todd/cltk_data/latin/text/latin_text_tesserae/texts/martial.epigrams.part.3.tess\n"
     ]
    },
    {
     "name": "stderr",
     "output_type": "stream",
     "text": [
      " 79%|███████▉  | 507/640 [03:00<00:34,  3.87it/s]"
     ]
    },
    {
     "name": "stdout",
     "output_type": "stream",
     "text": [
      "too dissimilar /Users/todd/cltk_data/latin/text/latin_text_tesserae/texts/polignac.epia.tess\n",
      "too dissimilar /Users/todd/cltk_data/latin/text/latin_text_tesserae/texts/apuleius.metamorphoses.part.3.tess\n",
      "too dissimilar /Users/todd/cltk_data/latin/text/latin_text_tesserae/texts/claudian.de_raptu_proserpinae.part.2.tess\n"
     ]
    },
    {
     "name": "stderr",
     "output_type": "stream",
     "text": [
      "\r",
      " 80%|███████▉  | 509/640 [03:00<00:26,  4.97it/s]"
     ]
    },
    {
     "name": "stdout",
     "output_type": "stream",
     "text": [
      "too dissimilar /Users/todd/cltk_data/latin/text/latin_text_tesserae/texts/tacitus.de_origine_et_situ_germanorum_liber.tess\n"
     ]
    },
    {
     "name": "stderr",
     "output_type": "stream",
     "text": [
      " 80%|███████▉  | 511/640 [03:01<00:26,  4.89it/s]"
     ]
    },
    {
     "name": "stdout",
     "output_type": "stream",
     "text": [
      "too dissimilar /Users/todd/cltk_data/latin/text/latin_text_tesserae/texts/plautus.captivi.tess\n",
      "too dissimilar /Users/todd/cltk_data/latin/text/latin_text_tesserae/texts/columella.de_re_rustica.part.7.tess\n",
      "too dissimilar /Users/todd/cltk_data/latin/text/latin_text_tesserae/texts/horace.carmen_saeculare.tess\n"
     ]
    },
    {
     "name": "stderr",
     "output_type": "stream",
     "text": [
      "\r",
      " 80%|████████  | 513/640 [03:01<00:21,  5.93it/s]"
     ]
    },
    {
     "name": "stdout",
     "output_type": "stream",
     "text": [
      "too dissimilar /Users/todd/cltk_data/latin/text/latin_text_tesserae/texts/tacitus.annales.part.14.tess\n"
     ]
    },
    {
     "name": "stderr",
     "output_type": "stream",
     "text": [
      " 80%|████████  | 515/640 [03:01<00:20,  6.17it/s]"
     ]
    },
    {
     "name": "stdout",
     "output_type": "stream",
     "text": [
      "too dissimilar /Users/todd/cltk_data/latin/text/latin_text_tesserae/texts/ammianus.rerum_gestarum.part.14.tess\n",
      "too dissimilar /Users/todd/cltk_data/latin/text/latin_text_tesserae/texts/valerius_flaccus.argonautica.part.7.tess\n",
      "too dissimilar /Users/todd/cltk_data/latin/text/latin_text_tesserae/texts/jerome.vulgate.part.21b.psalm.tess\n"
     ]
    },
    {
     "name": "stderr",
     "output_type": "stream",
     "text": [
      " 81%|████████  | 518/640 [03:02<00:16,  7.62it/s]"
     ]
    },
    {
     "name": "stdout",
     "output_type": "stream",
     "text": [
      "too dissimilar /Users/todd/cltk_data/latin/text/latin_text_tesserae/texts/boethius.consolatio_philosophiae.part.3.tess\n",
      "too dissimilar /Users/todd/cltk_data/latin/text/latin_text_tesserae/texts/claudian.panegyricus_de_sexto_consulatu_honorii_augusti.tess\n"
     ]
    },
    {
     "name": "stderr",
     "output_type": "stream",
     "text": [
      " 81%|████████▏ | 520/640 [03:02<00:17,  6.82it/s]"
     ]
    },
    {
     "name": "stdout",
     "output_type": "stream",
     "text": [
      "too dissimilar /Users/todd/cltk_data/latin/text/latin_text_tesserae/texts/apuleius.metamorphoses.part.4.tess\n"
     ]
    },
    {
     "name": "stderr",
     "output_type": "stream",
     "text": [
      " 82%|████████▏ | 522/640 [03:02<00:16,  7.17it/s]"
     ]
    },
    {
     "name": "stdout",
     "output_type": "stream",
     "text": [
      "too dissimilar /Users/todd/cltk_data/latin/text/latin_text_tesserae/texts/ammianus.rerum_gestarum.part.27.tess\n",
      "too dissimilar /Users/todd/cltk_data/latin/text/latin_text_tesserae/texts/ovid.ibis.tess\n",
      "too dissimilar /Users/todd/cltk_data/latin/text/latin_text_tesserae/texts/tacitus.historiae.part.5.tess\n"
     ]
    },
    {
     "name": "stderr",
     "output_type": "stream",
     "text": [
      "\r",
      " 82%|████████▏ | 524/640 [03:03<00:17,  6.67it/s]"
     ]
    },
    {
     "name": "stdout",
     "output_type": "stream",
     "text": [
      "too dissimilar /Users/todd/cltk_data/latin/text/latin_text_tesserae/texts/columella.de_re_rustica.part.3.tess\n"
     ]
    },
    {
     "name": "stderr",
     "output_type": "stream",
     "text": [
      "\r",
      " 82%|████████▏ | 525/640 [03:03<00:22,  5.15it/s]"
     ]
    },
    {
     "name": "stdout",
     "output_type": "stream",
     "text": [
      "too dissimilar /Users/todd/cltk_data/latin/text/latin_text_tesserae/texts/jerome.vulgate.part.49.luke.tess\n",
      "too dissimilar /Users/todd/cltk_data/latin/text/latin_text_tesserae/texts/martial.epigrams.part.8.tess\n"
     ]
    },
    {
     "name": "stderr",
     "output_type": "stream",
     "text": [
      " 82%|████████▎ | 528/640 [03:03<00:17,  6.33it/s]"
     ]
    },
    {
     "name": "stdout",
     "output_type": "stream",
     "text": [
      "too dissimilar /Users/todd/cltk_data/latin/text/latin_text_tesserae/texts/ammianus.rerum_gestarum.part.23.tess\n",
      "too dissimilar /Users/todd/cltk_data/latin/text/latin_text_tesserae/texts/dracontius.romulea.part.8.tess\n"
     ]
    },
    {
     "name": "stderr",
     "output_type": "stream",
     "text": [
      " 83%|████████▎ | 530/640 [03:04<00:18,  5.98it/s]"
     ]
    },
    {
     "name": "stdout",
     "output_type": "stream",
     "text": [
      "too dissimilar /Users/todd/cltk_data/latin/text/latin_text_tesserae/texts/seneca.hercules_furens.tess\n",
      "too dissimilar /Users/todd/cltk_data/latin/text/latin_text_tesserae/texts/celsus.de_medicina.part.8.tess\n"
     ]
    },
    {
     "name": "stderr",
     "output_type": "stream",
     "text": [
      " 83%|████████▎ | 532/640 [03:04<00:15,  6.82it/s]"
     ]
    },
    {
     "name": "stdout",
     "output_type": "stream",
     "text": [
      "too dissimilar /Users/todd/cltk_data/latin/text/latin_text_tesserae/texts/suetonius.de_vita_caesarum.part.1.julius.tess\n",
      "too dissimilar /Users/todd/cltk_data/latin/text/latin_text_tesserae/texts/statius.silvae.part.4.tess\n"
     ]
    },
    {
     "name": "stderr",
     "output_type": "stream",
     "text": [
      " 83%|████████▎ | 534/640 [03:04<00:13,  7.66it/s]"
     ]
    },
    {
     "name": "stdout",
     "output_type": "stream",
     "text": [
      "too dissimilar /Users/todd/cltk_data/latin/text/latin_text_tesserae/texts/jerome.vulgate.part.52.romans.tess\n",
      "too dissimilar /Users/todd/cltk_data/latin/text/latin_text_tesserae/texts/seneca.de_providentia.tess\n"
     ]
    },
    {
     "name": "stderr",
     "output_type": "stream",
     "text": [
      " 84%|████████▍ | 536/640 [03:04<00:13,  7.92it/s]"
     ]
    },
    {
     "name": "stdout",
     "output_type": "stream",
     "text": [
      "too dissimilar /Users/todd/cltk_data/latin/text/latin_text_tesserae/texts/silius_italicus.punica.part.5.tess\n",
      "too dissimilar /Users/todd/cltk_data/latin/text/latin_text_tesserae/texts/statius.silvae.part.3.tess\n"
     ]
    },
    {
     "name": "stderr",
     "output_type": "stream",
     "text": [
      " 84%|████████▍ | 538/640 [03:05<00:14,  6.81it/s]"
     ]
    },
    {
     "name": "stdout",
     "output_type": "stream",
     "text": [
      "too dissimilar /Users/todd/cltk_data/latin/text/latin_text_tesserae/texts/gellius.attic_nights.part.5.tess\n",
      "too dissimilar /Users/todd/cltk_data/latin/text/latin_text_tesserae/texts/pliny_the_younger.letters.part.1.tess\n"
     ]
    },
    {
     "name": "stderr",
     "output_type": "stream",
     "text": [
      "\r",
      " 84%|████████▍ | 540/640 [03:05<00:13,  7.39it/s]"
     ]
    },
    {
     "name": "stdout",
     "output_type": "stream",
     "text": [
      "too dissimilar /Users/todd/cltk_data/latin/text/latin_text_tesserae/texts/martial.epigrams.part.12.tess\n",
      "too dissimilar /Users/todd/cltk_data/latin/text/latin_text_tesserae/texts/vergil.aeneid.part.1.tess\n"
     ]
    },
    {
     "name": "stderr",
     "output_type": "stream",
     "text": [
      " 85%|████████▍ | 542/640 [03:05<00:14,  6.59it/s]"
     ]
    },
    {
     "name": "stdout",
     "output_type": "stream",
     "text": [
      "too dissimilar /Users/todd/cltk_data/latin/text/latin_text_tesserae/texts/horace.odes.part.3.tess\n",
      "too dissimilar /Users/todd/cltk_data/latin/text/latin_text_tesserae/texts/silius_italicus.punica.part.4.tess\n"
     ]
    },
    {
     "name": "stderr",
     "output_type": "stream",
     "text": [
      "\r",
      " 85%|████████▍ | 543/640 [03:05<00:14,  6.80it/s]"
     ]
    },
    {
     "name": "stdout",
     "output_type": "stream",
     "text": [
      "too dissimilar /Users/todd/cltk_data/latin/text/latin_text_tesserae/texts/seneca.apocolocyntosis.tess\n"
     ]
    },
    {
     "name": "stderr",
     "output_type": "stream",
     "text": [
      " 85%|████████▌ | 547/640 [03:07<00:18,  4.98it/s]"
     ]
    },
    {
     "name": "stdout",
     "output_type": "stream",
     "text": [
      "too dissimilar /Users/todd/cltk_data/latin/text/latin_text_tesserae/texts/tacitus.annales.part.11.tess\n",
      "too dissimilar /Users/todd/cltk_data/latin/text/latin_text_tesserae/texts/claudian.de_consulatu_stilichonis.part.3.tess\n",
      "too dissimilar /Users/todd/cltk_data/latin/text/latin_text_tesserae/texts/statius.silvae.part.2.tess\n"
     ]
    },
    {
     "name": "stderr",
     "output_type": "stream",
     "text": [
      "\r",
      " 86%|████████▌ | 548/640 [03:07<00:27,  3.38it/s]"
     ]
    },
    {
     "name": "stdout",
     "output_type": "stream",
     "text": [
      "too dissimilar /Users/todd/cltk_data/latin/text/latin_text_tesserae/texts/ausonius.ludus_septem_sapientum.tess\n"
     ]
    },
    {
     "name": "stderr",
     "output_type": "stream",
     "text": [
      " 86%|████████▋ | 552/640 [03:08<00:15,  5.51it/s]"
     ]
    },
    {
     "name": "stdout",
     "output_type": "stream",
     "text": [
      "too dissimilar /Users/todd/cltk_data/latin/text/latin_text_tesserae/texts/tacitus.historiae.part.4.tess\n",
      "too dissimilar /Users/todd/cltk_data/latin/text/latin_text_tesserae/texts/jerome.vulgate.part.63.titus.tess\n",
      "too dissimilar /Users/todd/cltk_data/latin/text/latin_text_tesserae/texts/ovid.ars_amatoria.part.2.tess\n",
      "too dissimilar /Users/todd/cltk_data/latin/text/latin_text_tesserae/texts/dracontius.romulea.part.6.tess\n"
     ]
    },
    {
     "name": "stderr",
     "output_type": "stream",
     "text": [
      "\r",
      " 87%|████████▋ | 555/640 [03:08<00:10,  7.85it/s]"
     ]
    },
    {
     "name": "stdout",
     "output_type": "stream",
     "text": [
      "too dissimilar /Users/todd/cltk_data/latin/text/latin_text_tesserae/texts/tacitus.historiae.part.1.tess\n",
      "too dissimilar /Users/todd/cltk_data/latin/text/latin_text_tesserae/texts/apuleius.metamorphoses.part.1.tess\n"
     ]
    },
    {
     "name": "stderr",
     "output_type": "stream",
     "text": [
      " 87%|████████▋ | 559/640 [03:09<00:12,  6.57it/s]"
     ]
    },
    {
     "name": "stdout",
     "output_type": "stream",
     "text": [
      "too dissimilar /Users/todd/cltk_data/latin/text/latin_text_tesserae/texts/pliny_the_younger.letters.part.2.tess\n",
      "too dissimilar /Users/todd/cltk_data/latin/text/latin_text_tesserae/texts/ausonius.praefatiunculae.tess\n",
      "too dissimilar /Users/todd/cltk_data/latin/text/latin_text_tesserae/texts/ovid.metamorphoses.part.7.tess\n"
     ]
    },
    {
     "name": "stderr",
     "output_type": "stream",
     "text": [
      " 88%|████████▊ | 561/640 [03:09<00:14,  5.34it/s]"
     ]
    },
    {
     "name": "stdout",
     "output_type": "stream",
     "text": [
      "too dissimilar /Users/todd/cltk_data/latin/text/latin_text_tesserae/texts/macrobius.saturnalia.part.5.tess\n",
      "too dissimilar /Users/todd/cltk_data/latin/text/latin_text_tesserae/texts/statius.thebaid.part.9.tess\n",
      "too dissimilar /Users/todd/cltk_data/latin/text/latin_text_tesserae/texts/jerome.vulgate.part.76.prayer_of_manasseh.tess\n"
     ]
    },
    {
     "name": "stderr",
     "output_type": "stream",
     "text": [
      "\r",
      " 88%|████████▊ | 563/640 [03:09<00:10,  7.04it/s]"
     ]
    },
    {
     "name": "stdout",
     "output_type": "stream",
     "text": [
      "too dissimilar /Users/todd/cltk_data/latin/text/latin_text_tesserae/texts/gellius.attic_nights.part.7.tess\n"
     ]
    },
    {
     "name": "stderr",
     "output_type": "stream",
     "text": [
      " 88%|████████▊ | 566/640 [03:11<00:18,  3.93it/s]"
     ]
    },
    {
     "name": "stdout",
     "output_type": "stream",
     "text": [
      "too dissimilar /Users/todd/cltk_data/latin/text/latin_text_tesserae/texts/gellius.attic_nights.part.3.tess\n",
      "too dissimilar /Users/todd/cltk_data/latin/text/latin_text_tesserae/texts/ovid.metamorphoses.part.4.tess\n"
     ]
    },
    {
     "name": "stderr",
     "output_type": "stream",
     "text": [
      " 89%|████████▉ | 568/640 [03:11<00:14,  4.81it/s]"
     ]
    },
    {
     "name": "stdout",
     "output_type": "stream",
     "text": [
      "too dissimilar /Users/todd/cltk_data/latin/text/latin_text_tesserae/texts/horace.satires.part.1.tess\n",
      "too dissimilar /Users/todd/cltk_data/latin/text/latin_text_tesserae/texts/silius_italicus.punica.part.2.tess\n",
      "too dissimilar /Users/todd/cltk_data/latin/text/latin_text_tesserae/texts/suetonius.de_vita_caesarum.part.7.galba.tess\n"
     ]
    },
    {
     "name": "stderr",
     "output_type": "stream",
     "text": [
      "\r",
      " 89%|████████▉ | 570/640 [03:11<00:10,  6.96it/s]"
     ]
    },
    {
     "name": "stdout",
     "output_type": "stream",
     "text": [
      "too dissimilar /Users/todd/cltk_data/latin/text/latin_text_tesserae/texts/quintus_smyrnaeus.fall_of_troy.part.1.tess\n",
      "too dissimilar /Users/todd/cltk_data/latin/text/latin_text_tesserae/texts/jerome.vulgate.part.8.ruth.tess\n"
     ]
    },
    {
     "name": "stderr",
     "output_type": "stream",
     "text": [
      " 90%|████████▉ | 573/640 [03:12<00:10,  6.20it/s]"
     ]
    },
    {
     "name": "stdout",
     "output_type": "stream",
     "text": [
      "too dissimilar /Users/todd/cltk_data/latin/text/latin_text_tesserae/texts/jerome.vulgate.part.26.sirach.tess\n",
      "too dissimilar /Users/todd/cltk_data/latin/text/latin_text_tesserae/texts/ovid.ex_ponto.part.2.tess\n"
     ]
    },
    {
     "name": "stderr",
     "output_type": "stream",
     "text": [
      " 90%|████████▉ | 575/640 [03:12<00:10,  5.98it/s]"
     ]
    },
    {
     "name": "stdout",
     "output_type": "stream",
     "text": [
      "too dissimilar /Users/todd/cltk_data/latin/text/latin_text_tesserae/texts/italicus.ilias_latina.tess\n",
      "too dissimilar /Users/todd/cltk_data/latin/text/latin_text_tesserae/texts/gellius.attic_nights.part.10.tess\n"
     ]
    },
    {
     "name": "stderr",
     "output_type": "stream",
     "text": [
      " 90%|█████████ | 577/640 [03:12<00:11,  5.27it/s]"
     ]
    },
    {
     "name": "stdout",
     "output_type": "stream",
     "text": [
      "too dissimilar /Users/todd/cltk_data/latin/text/latin_text_tesserae/texts/suetonius.de_vita_caesarum.part.4.caligula.tess\n",
      "too dissimilar /Users/todd/cltk_data/latin/text/latin_text_tesserae/texts/claudian.in_eutropium.part.1.tess\n"
     ]
    },
    {
     "name": "stderr",
     "output_type": "stream",
     "text": [
      " 91%|█████████ | 580/640 [03:13<00:10,  5.73it/s]"
     ]
    },
    {
     "name": "stdout",
     "output_type": "stream",
     "text": [
      "too dissimilar /Users/todd/cltk_data/latin/text/latin_text_tesserae/texts/manilius.astronomicon.part.5.tess\n",
      "too dissimilar /Users/todd/cltk_data/latin/text/latin_text_tesserae/texts/jerome.vulgate.part.65.hebrews.tess\n"
     ]
    },
    {
     "name": "stderr",
     "output_type": "stream",
     "text": [
      "\r",
      " 91%|█████████ | 582/640 [03:13<00:09,  5.83it/s]"
     ]
    },
    {
     "name": "stdout",
     "output_type": "stream",
     "text": [
      "too dissimilar /Users/todd/cltk_data/latin/text/latin_text_tesserae/texts/plautus.casina.tess\n",
      "too dissimilar /Users/todd/cltk_data/latin/text/latin_text_tesserae/texts/vitruvius.de_architectura.part.9.tess\n"
     ]
    },
    {
     "name": "stderr",
     "output_type": "stream",
     "text": [
      " 91%|█████████▏| 585/640 [03:14<00:08,  6.26it/s]"
     ]
    },
    {
     "name": "stdout",
     "output_type": "stream",
     "text": [
      "too dissimilar /Users/todd/cltk_data/latin/text/latin_text_tesserae/texts/celsus.de_medicina.part.4.tess\n",
      "too dissimilar /Users/todd/cltk_data/latin/text/latin_text_tesserae/texts/vitruvius.de_architectura.part.6.tess\n"
     ]
    },
    {
     "name": "stderr",
     "output_type": "stream",
     "text": [
      " 92%|█████████▏| 587/640 [03:14<00:07,  6.96it/s]"
     ]
    },
    {
     "name": "stdout",
     "output_type": "stream",
     "text": [
      "too dissimilar /Users/todd/cltk_data/latin/text/latin_text_tesserae/texts/gellius.attic_nights.part.20.tess\n",
      "too dissimilar /Users/todd/cltk_data/latin/text/latin_text_tesserae/texts/corippus.johannis.part.8.tess\n"
     ]
    },
    {
     "name": "stderr",
     "output_type": "stream",
     "text": [
      "\r",
      " 92%|█████████▏| 589/640 [03:14<00:06,  7.90it/s]"
     ]
    },
    {
     "name": "stdout",
     "output_type": "stream",
     "text": [
      "too dissimilar /Users/todd/cltk_data/latin/text/latin_text_tesserae/texts/jerome.vulgate.part.15.ezra.tess\n",
      "too dissimilar /Users/todd/cltk_data/latin/text/latin_text_tesserae/texts/silius_italicus.punica.part.1.tess\n"
     ]
    },
    {
     "name": "stderr",
     "output_type": "stream",
     "text": [
      " 92%|█████████▏| 591/640 [03:14<00:06,  8.05it/s]"
     ]
    },
    {
     "name": "stdout",
     "output_type": "stream",
     "text": [
      "too dissimilar /Users/todd/cltk_data/latin/text/latin_text_tesserae/texts/vergil.aeneid.part.3.tess\n",
      "too dissimilar /Users/todd/cltk_data/latin/text/latin_text_tesserae/texts/vitruvius.de_architectura.part.4.tess\n"
     ]
    },
    {
     "name": "stderr",
     "output_type": "stream",
     "text": [
      " 93%|█████████▎| 593/640 [03:15<00:06,  7.48it/s]"
     ]
    },
    {
     "name": "stdout",
     "output_type": "stream",
     "text": [
      "too dissimilar /Users/todd/cltk_data/latin/text/latin_text_tesserae/texts/pliny_the_younger.letters.part.5.tess\n",
      "too dissimilar /Users/todd/cltk_data/latin/text/latin_text_tesserae/texts/ovid.remedia_amoris.tess\n",
      "too dissimilar /Users/todd/cltk_data/latin/text/latin_text_tesserae/texts/vergil.georgics.part.4.tess\n"
     ]
    },
    {
     "name": "stderr",
     "output_type": "stream",
     "text": [
      " 93%|█████████▎| 596/640 [03:15<00:06,  6.56it/s]"
     ]
    },
    {
     "name": "stdout",
     "output_type": "stream",
     "text": [
      "too dissimilar /Users/todd/cltk_data/latin/text/latin_text_tesserae/texts/augustine.epistulae_selections.part.5.41-50.tess\n",
      "too dissimilar /Users/todd/cltk_data/latin/text/latin_text_tesserae/texts/celsus.de_medicina.part.5.tess\n"
     ]
    },
    {
     "name": "stderr",
     "output_type": "stream",
     "text": [
      " 94%|█████████▎| 599/640 [03:16<00:05,  7.30it/s]"
     ]
    },
    {
     "name": "stdout",
     "output_type": "stream",
     "text": [
      "too dissimilar /Users/todd/cltk_data/latin/text/latin_text_tesserae/texts/jerome.vulgate.part.5.deuteronomy.tess\n",
      "too dissimilar /Users/todd/cltk_data/latin/text/latin_text_tesserae/texts/jerome.vulgate.part.42.haggaiah.tess\n",
      "too dissimilar /Users/todd/cltk_data/latin/text/latin_text_tesserae/texts/claudian.de_bello_gildonico.tess\n"
     ]
    },
    {
     "name": "stderr",
     "output_type": "stream",
     "text": [
      " 94%|█████████▍| 602/640 [03:16<00:07,  5.34it/s]"
     ]
    },
    {
     "name": "stdout",
     "output_type": "stream",
     "text": [
      "too dissimilar /Users/todd/cltk_data/latin/text/latin_text_tesserae/texts/quintus_smyrnaeus.fall_of_troy.part.2.tess\n",
      "too dissimilar /Users/todd/cltk_data/latin/text/latin_text_tesserae/texts/dracontius.orestes.tess\n",
      "too dissimilar /Users/todd/cltk_data/latin/text/latin_text_tesserae/texts/ausonius.versus_paschales_pro_augusto_dicti.tess\n"
     ]
    },
    {
     "name": "stderr",
     "output_type": "stream",
     "text": [
      "\r",
      " 94%|█████████▍| 604/640 [03:17<00:05,  6.95it/s]"
     ]
    },
    {
     "name": "stdout",
     "output_type": "stream",
     "text": [
      "too dissimilar /Users/todd/cltk_data/latin/text/latin_text_tesserae/texts/dracontius.de_laudibus_dei.part.1.tess\n"
     ]
    },
    {
     "name": "stderr",
     "output_type": "stream",
     "text": [
      " 95%|█████████▍| 606/640 [03:17<00:05,  5.96it/s]"
     ]
    },
    {
     "name": "stdout",
     "output_type": "stream",
     "text": [
      "too dissimilar /Users/todd/cltk_data/latin/text/latin_text_tesserae/texts/columella.de_re_rustica.part.4.tess\n",
      "too dissimilar /Users/todd/cltk_data/latin/text/latin_text_tesserae/texts/curtius_rufus.historiae_alexandri_magni.part.10.tess\n"
     ]
    },
    {
     "name": "stderr",
     "output_type": "stream",
     "text": [
      " 95%|█████████▌| 608/640 [03:17<00:05,  5.81it/s]"
     ]
    },
    {
     "name": "stdout",
     "output_type": "stream",
     "text": [
      "too dissimilar /Users/todd/cltk_data/latin/text/latin_text_tesserae/texts/statius.achilleid.tess\n",
      "too dissimilar /Users/todd/cltk_data/latin/text/latin_text_tesserae/texts/seneca.thyestes.tess\n"
     ]
    },
    {
     "name": "stderr",
     "output_type": "stream",
     "text": [
      " 95%|█████████▌| 610/640 [03:18<00:04,  6.13it/s]"
     ]
    },
    {
     "name": "stdout",
     "output_type": "stream",
     "text": [
      "too dissimilar /Users/todd/cltk_data/latin/text/latin_text_tesserae/texts/ovid.fasti.part.3.tess\n",
      "too dissimilar /Users/todd/cltk_data/latin/text/latin_text_tesserae/texts/statius.thebaid.part.10.tess\n"
     ]
    },
    {
     "name": "stderr",
     "output_type": "stream",
     "text": [
      "\r",
      " 95%|█████████▌| 611/640 [03:18<00:05,  4.90it/s]"
     ]
    },
    {
     "name": "stdout",
     "output_type": "stream",
     "text": [
      "too dissimilar /Users/todd/cltk_data/latin/text/latin_text_tesserae/texts/jerome.vulgate.part.51.acts.tess\n"
     ]
    },
    {
     "name": "stderr",
     "output_type": "stream",
     "text": [
      "\r",
      " 96%|█████████▌| 612/640 [03:18<00:05,  4.76it/s]"
     ]
    },
    {
     "name": "stdout",
     "output_type": "stream",
     "text": [
      "too dissimilar /Users/todd/cltk_data/latin/text/latin_text_tesserae/texts/seneca.hercules_oetaeus.tess\n",
      "too dissimilar /Users/todd/cltk_data/latin/text/latin_text_tesserae/texts/dracontius.romulea.part.9.tess\n"
     ]
    },
    {
     "name": "stderr",
     "output_type": "stream",
     "text": [
      " 96%|█████████▋| 616/640 [03:20<00:06,  3.64it/s]"
     ]
    },
    {
     "name": "stdout",
     "output_type": "stream",
     "text": [
      "too dissimilar /Users/todd/cltk_data/latin/text/latin_text_tesserae/texts/servius_honoratus.in_virgilii_georgicon_libros_commentarius.part.1.tess\n",
      "too dissimilar /Users/todd/cltk_data/latin/text/latin_text_tesserae/texts/celsus.de_medicina.part.6.tess\n"
     ]
    },
    {
     "name": "stderr",
     "output_type": "stream",
     "text": [
      " 97%|█████████▋| 618/640 [03:20<00:04,  4.88it/s]"
     ]
    },
    {
     "name": "stdout",
     "output_type": "stream",
     "text": [
      "too dissimilar /Users/todd/cltk_data/latin/text/latin_text_tesserae/texts/ovid.metamorphoses.part.14.tess\n",
      "too dissimilar /Users/todd/cltk_data/latin/text/latin_text_tesserae/texts/ovid.metamorphoses.part.5.tess\n"
     ]
    },
    {
     "name": "stderr",
     "output_type": "stream",
     "text": [
      " 97%|█████████▋| 620/640 [03:20<00:03,  5.65it/s]"
     ]
    },
    {
     "name": "stdout",
     "output_type": "stream",
     "text": [
      "too dissimilar /Users/todd/cltk_data/latin/text/latin_text_tesserae/texts/lucan.bellum_civile.part.9.tess\n"
     ]
    },
    {
     "name": "stderr",
     "output_type": "stream",
     "text": [
      " 97%|█████████▋| 622/640 [03:20<00:03,  5.71it/s]"
     ]
    },
    {
     "name": "stdout",
     "output_type": "stream",
     "text": [
      "too dissimilar /Users/todd/cltk_data/latin/text/latin_text_tesserae/texts/aurelius_victor.de_caesaribus.tess\n",
      "too dissimilar /Users/todd/cltk_data/latin/text/latin_text_tesserae/texts/horace.odes.part.1.tess\n",
      "too dissimilar /Users/todd/cltk_data/latin/text/latin_text_tesserae/texts/corippus.johannis.part.3.tess\n"
     ]
    },
    {
     "name": "stderr",
     "output_type": "stream",
     "text": [
      " 98%|█████████▊| 626/640 [03:21<00:03,  4.65it/s]"
     ]
    },
    {
     "name": "stdout",
     "output_type": "stream",
     "text": [
      "too dissimilar /Users/todd/cltk_data/latin/text/latin_text_tesserae/texts/jerome.vulgate.part.48.mark.tess\n",
      "too dissimilar /Users/todd/cltk_data/latin/text/latin_text_tesserae/texts/ovid.amores.part.2.tess\n"
     ]
    },
    {
     "name": "stderr",
     "output_type": "stream",
     "text": [
      " 98%|█████████▊| 629/640 [03:22<00:01,  6.41it/s]"
     ]
    },
    {
     "name": "stdout",
     "output_type": "stream",
     "text": [
      "too dissimilar /Users/todd/cltk_data/latin/text/latin_text_tesserae/texts/ovid.ex_ponto.part.3.tess\n",
      "too dissimilar /Users/todd/cltk_data/latin/text/latin_text_tesserae/texts/jerome.vulgate.part.32.daniel.tess\n",
      "too dissimilar /Users/todd/cltk_data/latin/text/latin_text_tesserae/texts/valerius_flaccus.argonautica.part.6.tess\n"
     ]
    },
    {
     "name": "stderr",
     "output_type": "stream",
     "text": [
      " 99%|█████████▉| 632/640 [03:22<00:01,  6.14it/s]"
     ]
    },
    {
     "name": "stdout",
     "output_type": "stream",
     "text": [
      "too dissimilar /Users/todd/cltk_data/latin/text/latin_text_tesserae/texts/ausonius.parentalia.tess\n",
      "too dissimilar /Users/todd/cltk_data/latin/text/latin_text_tesserae/texts/jerome.vulgate.part.16.nehemiah.tess\n"
     ]
    },
    {
     "name": "stderr",
     "output_type": "stream",
     "text": [
      "\r",
      " 99%|█████████▉| 633/640 [03:23<00:01,  5.87it/s]"
     ]
    },
    {
     "name": "stdout",
     "output_type": "stream",
     "text": [
      "too dissimilar /Users/todd/cltk_data/latin/text/latin_text_tesserae/texts/prudentius.contra_symmachum.part.2.tess\n",
      "too dissimilar /Users/todd/cltk_data/latin/text/latin_text_tesserae/texts/ausonius.eclogarum_liber.tess\n"
     ]
    },
    {
     "name": "stderr",
     "output_type": "stream",
     "text": [
      " 99%|█████████▉| 636/640 [03:23<00:00,  6.88it/s]"
     ]
    },
    {
     "name": "stdout",
     "output_type": "stream",
     "text": [
      "too dissimilar /Users/todd/cltk_data/latin/text/latin_text_tesserae/texts/ammianus.rerum_gestarum.part.20.tess\n",
      "too dissimilar /Users/todd/cltk_data/latin/text/latin_text_tesserae/texts/valerius_flaccus.argonautica.part.3.tess\n"
     ]
    },
    {
     "name": "stderr",
     "output_type": "stream",
     "text": [
      "100%|█████████▉| 638/640 [03:23<00:00,  6.44it/s]"
     ]
    },
    {
     "name": "stdout",
     "output_type": "stream",
     "text": [
      "too dissimilar /Users/todd/cltk_data/latin/text/latin_text_tesserae/texts/columella.de_re_rustica.part.8.tess\n",
      "too dissimilar /Users/todd/cltk_data/latin/text/latin_text_tesserae/texts/apuleius.metamorphoses.part.10.tess\n"
     ]
    },
    {
     "name": "stderr",
     "output_type": "stream",
     "text": [
      "100%|██████████| 640/640 [03:24<00:00,  3.14it/s]"
     ]
    },
    {
     "name": "stdout",
     "output_type": "stream",
     "text": [
      "too dissimilar /Users/todd/cltk_data/latin/text/latin_text_tesserae/texts/vergil.aeneid.part.9.tess\n",
      "too dissimilar /Users/todd/cltk_data/latin/text/latin_text_tesserae/texts/lucan.bellum_civile.part.3.tess\n"
     ]
    },
    {
     "name": "stderr",
     "output_type": "stream",
     "text": [
      "\n"
     ]
    }
   ],
   "source": [
    "# this filtered out too many\n",
    "\n",
    "for file in tqdm(tess_wo_cicero, total=len(tess_wo_cicero)):\n",
    "    candidate_counter =  get_word_counts([file], tesserae=True)\n",
    "    author_words = set(candidate_counter.keys())\n",
    "    cicero_words = set(cicero_inflected_words.keys())\n",
    "    common = author_words & cicero_words\n",
    "    author_uniq = author_words - common \n",
    "    P_inflected_unigram_unk = len(author_uniq) / sum(candidate_counter.values()) \n",
    "    if P_inflected_unigram_unk <= 0.074:\n",
    "        # get filename\n",
    "        with open(f'cicero.train.tesserae/{os.path.basename(file)}.txt', 'wt') as fout:\n",
    "            with open(file, 'rt') as fin:\n",
    "                text = fin.read()\n",
    "                text = swallow(text, ANY_ANGLE)\n",
    "                text = normalize_lat(text, drop_accents=True, drop_macrons=True, jv_replacement=True, ligature_replacement=True)\n",
    "                text = accept_editorial(text)\n",
    "                for sent in sent_toker.tokenize(text):\n",
    "                    tokens = word_toker.tokenize(sent)\n",
    "                    tokens = [truecase(token, case_counts) for token in tokens]\n",
    "                    fout.write(f\"{' '.join(tokens)}\\n\")\n",
    "            fout.write(f\"\\n\\n\")\n",
    "    else: \n",
    "        print(f\"too dissimilar {file}\")"
   ]
  },
  {
   "cell_type": "code",
   "execution_count": 106,
   "metadata": {},
   "outputs": [
    {
     "name": "stdout",
     "output_type": "stream",
     "text": [
      "      95\r\n"
     ]
    }
   ],
   "source": [
    "! ls cicero.train.tesserae/*.txt | wc -l "
   ]
  },
  {
   "cell_type": "code",
   "execution_count": null,
   "metadata": {},
   "outputs": [],
   "source": []
  },
  {
   "cell_type": "code",
   "execution_count": null,
   "metadata": {},
   "outputs": [],
   "source": []
  },
  {
   "cell_type": "code",
   "execution_count": null,
   "metadata": {},
   "outputs": [],
   "source": []
  },
  {
   "cell_type": "code",
   "execution_count": null,
   "metadata": {},
   "outputs": [],
   "source": [
    "# Obelized:\n",
    "# quae si non essent sedulitate effectae et †benivolentie va† , liceret mihi abire in solitudines aliquas .\n",
    "# nunc ne id quidem licet .\n",
    "# \n",
    "# Odd section\n",
    "# Ut cum uidemus speciem primum candorem -que caeli , dein conuersionis celeritatem tantam quantam cogitare non possumus , tum uicissitudines dierum ac noctium commutationes -que temporum quadrupertitas ad maturitatem frugum et ad temperationem corporum aptas eorum -que omnium moderatorem et ducem solem , lunam -que adcretio -ne et deminutio -ne luminis quasi fastorum notantem et significantem dies , tum in eodem orbe in duodecim partes distributo quinque stellas ferri eosdem cursus constantissime seruantis disparibus inter se motibus , nocturnam -que caeli formam undique sideribus ornatam , tum globum terrae eminentem e mari , fixum in medio mundi uniuersi loco , duabus oris distantibus habitabilem et cultum , quarum altera , quam nos incolimus , Sub a/xe posita ad ste/llas septem , unde ho/rrifer , Aquilo/nis stridor ge/lidas molitu/r niues , altera australis , ignota nobis , quam uocant Graeci ἀντίχθονα , ceteras partis incultas , quod aut frigore rigeant aut urantur calore ; hic autem , ubi habitamus , non intermittit suo tempore Caelu/m nitescere , a/rbores fronde/scere , Uite/s laetificae pa/mpinis pube/scere , Rami/ bacarum ube/rtate incurue/scere , Segete/s largiri fru/ges , florere o/mnia , Fonte/s scatere , herbis pra/ta conuesti/rier , tum multitudinem pecudum partim ad uescendum , partim ad cultus agrorum , partim ad uehendum , partim ad corpora uestienda , hominem -que ipsum quasi contemplatorem caeli ac deorum cultorem atque ho- minis utili"
   ]
  },
  {
   "cell_type": "markdown",
   "metadata": {},
   "source": [
    "## Text Cleaning\n",
    "from http://udallasclassics.org/wp-content/uploads/maurer_files/APPARATUSABBREVIATIONS.pdf\n",
    "\n",
    "[...] Square brackets, or in recent editions wavy brackets ʺ{...}ʺ, enclose words etc. that an editor thinks should be deleted (see ʺdel.ʺ) or marked as out of place (see ʺsecl.ʺ).\n",
    "\n",
    "[...] Square  brackets  in  a  papyrus  text, or in an  inscription,  enclose  places  where words have been lost through physical damage.  If this happens in mid-line, editors  use  ʺ[...]ʺ.    If  only  the  end  of  the  line  is  missing,  they  use  a  single  bracket ʺ[...ʺ      If  the  lineʹs  beginning  is  missing,  they  use  ʺ...]ʺ    Within  the  brackets, often each dot represents one missing letter.\n",
    "\n",
    "[[...]] Double brackets enclose letters or words deleted by the medieval copyist himself.\n",
    "\n",
    "(...) Round  brackets  are  used  to  supplement  words  abbreviated  by  the  original  copyist; e.g. in an inscription: ʺtrib(unus) mil(itum) leg(ionis) IIIʺ\n",
    "\n",
    "<...> diamond  (  =  elbow  =  angular)  brackets  enclose  words  etc.  that  an  editor  has  added (see ʺsuppl.ʺ)\n",
    "\n",
    "†   An obelus (pl. obeli) means that the word(s etc.) is very plainly corrupt, but the editor  cannot  see  how  to  emend.    If  only  one  word  is  corrupt,  there  is  only  one obelus, which precedes the word; if two or more words are corrupt, two obeli  enclose  them.    (Such  at  least  is  the  rule--but  that  rule  is  often  broken,  especially  in  older  editions,  which  sometimes  dagger  several  words  using  only one obelus.)  To dagger words in this way is to ʺobelizeʺ them."
   ]
  },
  {
   "cell_type": "markdown",
   "metadata": {},
   "source": [
    "## Load/Build Truecasing dictionary; count all cased tokens, use to normalize cases later"
   ]
  },
  {
   "cell_type": "code",
   "execution_count": 4,
   "metadata": {},
   "outputs": [
    {
     "data": {
      "text/plain": [
       "309529"
      ]
     },
     "execution_count": 4,
     "metadata": {},
     "output_type": "execute_result"
    }
   ],
   "source": [
    "truecase_file = 'truecase_counter.latin.pkl'\n",
    "\n",
    "if os.path.exists(truecase_file):\n",
    "    with open(truecase_file, 'rb') as fin:        \n",
    "        case_counts = pickle.load(fin)\n",
    "else:\n",
    "    tesserae = get_corpus_reader(corpus_name='latin_text_tesserae', language='latin')\n",
    "    case_counts = Counter()\n",
    "    jv_replacer = JVReplacer()\n",
    "    aeoe_replacer = AEOEReplacer()\n",
    "    toker = WordTokenizer('latin')\n",
    "    sent_toker = SentenceTokenizer()\n",
    "    lemmatizer = LemmaReplacer('latin')\n",
    "    \n",
    "    for file in tqdm(tesserae.fileids(), total=len(tesserae.fileids())):\n",
    "        for sent in tesserae.sents(file):\n",
    "            sent = aeoe_replacer.replace(jv_replacer.replace(drop_punct(sent)))\n",
    "            sent = normalize_accents(sent)\n",
    "            sent = accept_editorial(sent)\n",
    "            for token in toker.tokenize(sent):\n",
    "                case_counts.update({token:1})\n",
    "                \n",
    "    with open(truecase_file, 'wb') as fout:        \n",
    "        pickle.dump(case_counts, fout) \n",
    "\n",
    "len(case_counts)"
   ]
  },
  {
   "cell_type": "code",
   "execution_count": 5,
   "metadata": {},
   "outputs": [
    {
     "name": "stdout",
     "output_type": "stream",
     "text": [
      "[('Epicharmium', 1), ('litabilis', 1), ('Adliciunt', 1), ('Praediximus', 1), ('caliculus', 1), ('uolitare', 50), ('Militiam', 3), ('adfuerim', 5), ('Pica', 2), ('induperatorem', 2), ('pericla', 22), ('menstrua', 45), ('delenisse', 1), ('subtrahit', 22), ('uastaris', 1), ('epiphonema', 2), ('tempnunt', 1), ('gloriantis', 2), ('fuluas', 6), ('uthinam', 1), ('Pici', 3), ('Durati', 1), ('uersicolori', 11), ('armeniacum', 1), ('dubitauimus', 1)]\n"
     ]
    }
   ],
   "source": [
    "print(sample(list(case_counts.items()), 25))"
   ]
  },
  {
   "cell_type": "code",
   "execution_count": 6,
   "metadata": {},
   "outputs": [],
   "source": [
    "def get_word_counts(files:List[str])->Tuple[Dict[str, int], Dict[str, int]]:\n",
    "    \"\"\"\n",
    "    Given a list of files, \n",
    "    clean & tokenize the documents\n",
    "    returns: Tuple(counter of lemmatized words, counter of inflected words)\n",
    "    \"\"\"\n",
    "    lemma_word_counter = Counter()\n",
    "    inflected_word_counter = Counter()\n",
    "    jv_replacer = JVReplacer()\n",
    "    aeoe_replacer = AEOEReplacer()\n",
    "    toker = WordTokenizer('latin')\n",
    "    sent_toker = SentenceTokenizer()\n",
    "    lemmatizer = LemmaReplacer('latin')\n",
    "\n",
    "    for file in files: # , total=len(files), unit='files'):\n",
    "        with open(file, 'rt') as fin:\n",
    "            text = fin.read()\n",
    "            text = text.replace(\"-\\n\", \"\")\n",
    "            text = text.replace(\"\\n\", \" \")\n",
    "            text = aeoe_replacer.replace(jv_replacer.replace( text))\n",
    "            for sent in sent_toker.tokenize(text):\n",
    "                sent = dehyphenate(sent) # because it's Phi5\n",
    "                sent = swallow_braces(sent)\n",
    "                sent = swallow_square_brackets(sent)\n",
    "                sent = disappear_round_brackets(sent)\n",
    "                sent = swallow_obelized_words(sent)\n",
    "                sent = disappear_angle_brackets(sent)            \n",
    "                sent = drop_punct(sent)\n",
    "                sent = normalize_accents(sent)            \n",
    "                # lemmatizer prefers lower \n",
    "    #             sent = lemmatizer.lemmatize(sent.lower(), return_string=True)\n",
    "                for word in toker.tokenize(sent):\n",
    "                    if word.isnumeric():\n",
    "                        continue\n",
    "                    inflected_word_counter.update({truecase(word, case_counts) : 1})                    \n",
    "                    word = lemmatizer.lemmatize(word.lower(), return_string=True)\n",
    "                    # normalize capitals\n",
    "                    lemma_word_counter.update({truecase(word, case_counts) : 1})\n",
    "    return  inflected_word_counter, lemma_word_counter"
   ]
  },
  {
   "cell_type": "code",
   "execution_count": 7,
   "metadata": {},
   "outputs": [],
   "source": [
    "def word_stats(author:str,\n",
    "               inflected_counter:Counter,\n",
    "                lemma_counter:Counter)->Tuple[float, float]:\n",
    "    \"\"\"\n",
    "    Compute statistics for an author's corpus\n",
    "    \"\"\"\n",
    "    nw = sum(lemma_counter.values())\n",
    "    print(f\"Total count of all word tokens in {author} corpus: {nw:,}\")\n",
    "    print(f\"Total number of distinct, inflected words/tokens in {author} corpus: {len(inflected_counter):,}\")\n",
    "    print(f\"Total number of lemmatized words/tokens in {author} corpus {len(lemma_counter):,}\")\n",
    "    # Count of inflected unigrams occuring only once\n",
    "    ciw1 = sum([1 for key, val in inflected_counter.items() if val == 1]) \n",
    "    print(f\"Count of inflected tokens only occuring once {ciw1:,}\")\n",
    "    # Count of lemmatized unigrams occuring only once\n",
    "    cw1 = sum([1 for key, val in lemma_counter.items() if val == 1])\n",
    "    print(f\"Count of lemmatized tokens only occuring once {cw1:,}\")\n",
    "    Piu_one = round(ciw1 / nw,3)\n",
    "    print(f\"Probability of a single count unigram occuring in the {author} corpus: {Piu_one:.3f}\") \n",
    "    Plu_one = round(cw1 / nw, 3)\n",
    "    print(f\"Probability of a single count lemmatized unigram in a novel form occuring in the {author} corpus: {Plu_one:.3f}\") \n",
    "    return (Piu_one, Plu_one)"
   ]
  },
  {
   "cell_type": "code",
   "execution_count": 8,
   "metadata": {},
   "outputs": [
    {
     "data": {
      "text/plain": [
       "75"
      ]
     },
     "execution_count": 8,
     "metadata": {},
     "output_type": "execute_result"
    }
   ],
   "source": [
    "# Cicero works\n",
    "cicero_files = glob(f\"{os.path.expanduser('~')}/cltk_data/latin/text/phi5/individual_works/LAT0474.TXT-0*.txt\")\n",
    "len (cicero_files)              "
   ]
  },
  {
   "cell_type": "code",
   "execution_count": 9,
   "metadata": {},
   "outputs": [],
   "source": [
    "cicero_lemmas_counter_file = 'cicero_lemmas_counter.pkl'\n",
    "cicero_inflected_counter_file = 'cicero_inflected_counter.pkl'\n",
    "\n",
    "if os.path.exists(cicero_lemmas_counter_file) and os.path.exists(cicero_inflected_counter_file):\n",
    "    with open(cicero_lemmas_counter_file, 'rb') as fin:\n",
    "        cicero_lemmas = pickle.load(fin)\n",
    "    with open(cicero_inflected_counter_file, 'rb') as fin:\n",
    "        cicero_inflected_words = pickle.load(fin)\n",
    "else:\n",
    "    cicero_inflected_words, cicero_lemmas  = get_word_counts(cicero_files)\n",
    "\n",
    "if not os.path.exists(cicero_lemmas_counter_file):\n",
    "    with open(cicero_lemmas_counter_file, 'wb') as fout:\n",
    "        pickle.dump(cicero_lemmas, fout)\n",
    "if not os.path.exists(cicero_inflected_counter_file):\n",
    "    with open(cicero_inflected_counter_file, 'wb') as fout:\n",
    "        pickle.dump(cicero_inflected_words, fout)"
   ]
  },
  {
   "cell_type": "code",
   "execution_count": 11,
   "metadata": {},
   "outputs": [
    {
     "name": "stdout",
     "output_type": "stream",
     "text": [
      "Total count of all word tokens in Cicero corpus: 1,196,512\n",
      "Total number of distinct, inflected words/tokens in Cicero corpus: 75,705\n",
      "Total number of lemmatized words/tokens in Cicero corpus 23,345\n",
      "Count of inflected tokens only occuring once 34,608\n",
      "Count of lemmatized tokens only occuring once 10,656\n",
      "Probability of a single count unigram occuring in the Cicero corpus: 0.029\n",
      "Probability of a single count lemmatized unigram in a novel form occuring in the Cicero corpus: 0.009\n"
     ]
    },
    {
     "data": {
      "text/plain": [
       "(0.029, 0.009)"
      ]
     },
     "execution_count": 11,
     "metadata": {},
     "output_type": "execute_result"
    }
   ],
   "source": [
    "word_stats(author='Cicero',           \n",
    "            inflected_counter=cicero_inflected_words,\n",
    "            lemma_counter=cicero_lemmas)"
   ]
  },
  {
   "cell_type": "code",
   "execution_count": 12,
   "metadata": {},
   "outputs": [],
   "source": [
    "word_counts =  sorted(cicero_inflected_words.items(), key=lambda x:x[1], reverse=True)\n",
    "# words, counts = zip(*word_counts)\n"
   ]
  },
  {
   "cell_type": "code",
   "execution_count": 13,
   "metadata": {},
   "outputs": [
    {
     "data": {
      "image/png": "[encoded data removed]",
      "text/plain": [
       "<Figure size 504x360 with 1 Axes>"
      ]
     },
     "metadata": {
      "needs_background": "light"
     },
     "output_type": "display_data"
    }
   ],
   "source": [
    "top_label, side_label, bottom_label = ('Frequency Rank',\n",
    "                                       'Occurences',\n",
    "                                       'Word Frequency Distributions of the Cicero Corpus')\n",
    "fig = plt.figure(figsize=(7,5))\n",
    "plt.xlabel(top_label)\n",
    "plt.ylabel(side_label)\n",
    "plt.title(bottom_label)\n",
    "ax = fig.gca()\n",
    "plt.yscale('log')\n",
    "indices, values = zip(*word_counts)\n",
    "# plt.bar(range(len(values)), values)\n",
    "plt.loglog(range(len(values)), values, label='word frequencies')\n",
    "# plt.axvline(x=np.mean(all_vals), color='k', linestyle='-', label='mean')\n",
    "# plt.axvline(x=np.mean(all_vals) + np.std(all_vals), color='b', linestyle='-', label='std')\n",
    "# plt.axvline(x=np.mean(all_vals) + (2 * np.std(all_vals)), color='m', linestyle='-', label='std2')\n",
    "plt.legend(loc='upper right')\n",
    "plt.tight_layout(pad=0.5, w_pad=20, h_pad=0.5)\n",
    "# plt.show()\n",
    "plt.savefig('cicero_frequency_distributions.png')"
   ]
  },
  {
   "cell_type": "code",
   "execution_count": 14,
   "metadata": {},
   "outputs": [
    {
     "data": {
      "text/plain": [
       "[('et', 27952), ('in', 23862), ('non', 18471), ('est', 16045), ('ut', 14957)]"
      ]
     },
     "execution_count": 14,
     "metadata": {},
     "output_type": "execute_result"
    }
   ],
   "source": [
    "word_counts[:5]"
   ]
  },
  {
   "cell_type": "code",
   "execution_count": 15,
   "metadata": {},
   "outputs": [
    {
     "data": {
      "text/plain": [
       "[('adaequatus', 1),\n",
       " ('obfuerint', 1),\n",
       " ('ignorauit', 1),\n",
       " ('erudiri', 1),\n",
       " ('adprobarunt', 1)]"
      ]
     },
     "execution_count": 15,
     "metadata": {},
     "output_type": "execute_result"
    }
   ],
   "source": [
    "word_counts[-5:]"
   ]
  },
  {
   "cell_type": "code",
   "execution_count": 16,
   "metadata": {},
   "outputs": [],
   "source": [
    "first_last = word_counts[:5] +word_counts[-5:]"
   ]
  },
  {
   "cell_type": "code",
   "execution_count": 17,
   "metadata": {},
   "outputs": [
    {
     "name": "stderr",
     "output_type": "stream",
     "text": [
      "No handles with labels found to put in legend.\n"
     ]
    },
    {
     "data": {
      "image/png": "[encoded data removed]",
      "text/plain": [
       "<Figure size 288x360 with 1 Axes>"
      ]
     },
     "metadata": {
      "needs_background": "light"
     },
     "output_type": "display_data"
    }
   ],
   "source": [
    "top_label, side_label, bottom_label = ('Word',\n",
    "                                       'Count',\n",
    "                                       'Top 5 Cicero Words')\n",
    "fig = plt.figure(figsize=(4,5))\n",
    "plt.xlabel(top_label)\n",
    "plt.ylabel(side_label)\n",
    "plt.title(bottom_label)\n",
    "ax = fig.gca()\n",
    "# plt.yscale('log')\n",
    "# word_counts[:5] +word_counts[-5:]\n",
    "indices, values = zip(*word_counts[:5])\n",
    "plt.bar(indices , values)\n",
    "# plt.loglog(range(len(values)), values, label='word frequencies')\n",
    "# plt.axvline(x=np.mean(all_vals), color='k', linestyle='-', label='mean')\n",
    "# plt.axvline(x=np.mean(all_vals) + np.std(all_vals), color='b', linestyle='-', label='std')\n",
    "# plt.axvline(x=np.mean(all_vals) + (2 * np.std(all_vals)), color='m', linestyle='-', label='std2')\n",
    "plt.legend(loc='upper right')\n",
    "plt.tight_layout(pad=0.5, w_pad=20, h_pad=0.5)\n",
    "# plt.show()\n",
    "plt.savefig('cicero_top5_words.png')"
   ]
  },
  {
   "cell_type": "code",
   "execution_count": 18,
   "metadata": {},
   "outputs": [],
   "source": [
    "num_f1 = sum([1 for tmp, cnt in cicero_inflected_words.items() if cnt == 1])\n",
    "num_f2 = sum([1 for tmp, cnt in cicero_inflected_words.items() if cnt == 2])\n",
    "num_f3 = sum([1 for tmp, cnt in cicero_inflected_words.items() if cnt == 3])\n",
    "num_f4 = sum([1 for tmp, cnt in cicero_inflected_words.items() if cnt == 4])\n",
    "num_f5 = sum([1 for tmp, cnt in cicero_inflected_words.items() if cnt == 5])\n",
    "values=[num_f5, num_f4, num_f3, num_f2, num_f1 ]"
   ]
  },
  {
   "cell_type": "code",
   "execution_count": 19,
   "metadata": {},
   "outputs": [
    {
     "data": {
      "text/plain": [
       "[2622, 3936, 6095, 11858, 34608]"
      ]
     },
     "execution_count": 19,
     "metadata": {},
     "output_type": "execute_result"
    }
   ],
   "source": [
    "values"
   ]
  },
  {
   "cell_type": "code",
   "execution_count": 20,
   "metadata": {},
   "outputs": [
    {
     "data": {
      "text/plain": [
       "0.029"
      ]
     },
     "execution_count": 20,
     "metadata": {},
     "output_type": "execute_result"
    }
   ],
   "source": [
    "p0 = round(34608 / sum(cicero_inflected_words.values()),3)\n",
    "p0"
   ]
  },
  {
   "cell_type": "code",
   "execution_count": 21,
   "metadata": {},
   "outputs": [
    {
     "data": {
      "text/plain": [
       "1196512"
      ]
     },
     "execution_count": 21,
     "metadata": {},
     "output_type": "execute_result"
    }
   ],
   "source": [
    "sum(cicero_inflected_words.values())"
   ]
  },
  {
   "cell_type": "code",
   "execution_count": 23,
   "metadata": {},
   "outputs": [
    {
     "data": {
      "image/png": "[encoded data removed]",
      "text/plain": [
       "<Figure size 360x360 with 1 Axes>"
      ]
     },
     "metadata": {
      "needs_background": "light"
     },
     "output_type": "display_data"
    }
   ],
   "source": [
    "top_label, side_label, bottom_label = ('Occurences',\n",
    "                                       'Counts',\n",
    "                                       'Last 5 Cicero Word Frequencies')\n",
    "fig = plt.figure(figsize=(5,5))\n",
    "plt.xlabel(top_label)\n",
    "plt.ylabel(side_label)\n",
    "plt.title(bottom_label)\n",
    "ax = fig.gca()\n",
    "plt.yscale('linear')\n",
    "# indices, values = zip(*word_counts[-5:])\n",
    "values = [num_f1, num_f2, num_f3, num_f4, num_f5]\n",
    "plt.bar(range(1,len(values)+1), values, label='frequency counts')\n",
    "# plt.loglog(range(len(values)), values, label='word frequencies')\n",
    "# plt.axvline(x=np.mean(all_vals), color='k', linestyle='-', label='mean')\n",
    "# plt.axvline(x=np.mean(all_vals) + np.std(all_vals), color='b', linestyle='-', label='std')\n",
    "# plt.axvline(x=np.mean(all_vals) + (2 * np.std(all_vals)), color='m', linestyle='-', label='std2')\n",
    "plt.legend(loc='upper right')\n",
    "plt.tight_layout(pad=0.5, w_pad=20, h_pad=0.5)\n",
    "# plt.show()\n",
    "plt.savefig('cicero_last_five_word_frequencies.png')"
   ]
  },
  {
   "cell_type": "markdown",
   "metadata": {},
   "source": [
    "# Calculate lemmatized values"
   ]
  },
  {
   "cell_type": "code",
   "execution_count": 25,
   "metadata": {},
   "outputs": [],
   "source": [
    "# Probability of a single count unigram occuring in the Cicero corpus: 0.029\n",
    "# Probability of a single count lemmatized unigram in a novel form occuring in the Cicero corpus: 0.009\n",
    "# (0.029, 0.009)\n",
    "# With Curve fitting\n",
    "# Probability of encountering a new inflected word in new Cicero 0.054 (according to curve fitting)\n",
    "# Probability of encountering a new lemmatized word form in new Cicero 0.017 (according to curve fitting)\n",
    "# (0.054, 0.017)"
   ]
  },
  {
   "cell_type": "code",
   "execution_count": 26,
   "metadata": {},
   "outputs": [
    {
     "name": "stdout",
     "output_type": "stream",
     "text": [
      "Expected unknown count 32,361\n",
      "Probability of encountering a new lemmatized word form in new Cicero 0.027 (according to curve fitting)\n",
      "[(10, 249), (9, 280), (8, 332), (7, 406), (6, 542), (5, 644), (4, 959), (3, 1508), (2, 3108), (1, 10656)]\n"
     ]
    },
    {
     "data": {
      "image/png": "[encoded data removed]",
      "text/plain": [
       "<Figure size 360x288 with 1 Axes>"
      ]
     },
     "metadata": {
      "needs_background": "light"
     },
     "output_type": "display_data"
    }
   ],
   "source": [
    "freq_vals = []\n",
    "num_samples =10\n",
    "for i in range(num_samples,0,-1):\n",
    "    freq_vals.append( (i, sum([1 for tmp, cnt in cicero_lemmas.items() if cnt == i])))\n",
    "\n",
    "X,y = zip(*freq_vals)\n",
    "# We will reverse the scale to predict the next number according to a Power Law distribution\n",
    "X =list(reversed(X))\n",
    "\n",
    "def func_powerlaw(x, m, c, c0):\n",
    "    return c0 + x**m * c\n",
    "  \n",
    "popt, pcov = curve_fit(func_powerlaw, X, y, maxfev=2000)\n",
    "expected_unk_count  = round(func_powerlaw(num_samples + 1 , *popt)) \n",
    "plt.figure(figsize=(5,4))\n",
    "plt.plot(X, func_powerlaw(X, *popt), '--', label='predicted counts')\n",
    "plt.plot(X[-1] + 1, func_powerlaw(X[-1]+1, *popt), '*', label='predicted unk')\n",
    "plt.plot(X, y, 'ro', label='actual counts')\n",
    "plt.title(\"Cicero Lemmatized word forms\")\n",
    "plt.xlabel(\"Frequency group\" )\n",
    "plt.ylabel(\"Count\")\n",
    "locs, labels = plt.xticks()  \n",
    "plt.xticks(range(12), ['']+ [str(tmp) for tmp in range(10,0,-1)] +['unk']) \n",
    "plt.legend()\n",
    "# plt.show()\n",
    "plt.tight_layout(pad=0.5, w_pad=20, h_pad=0.5)\n",
    "plt.savefig('cicero_lemmatized_words_unk_prob_curve_fit.png')\n",
    "\n",
    "expected_unk_count  = round(func_powerlaw(num_samples + 1, *popt) ) \n",
    "P_new_lemma_word = expected_unk_count / sum(cicero_lemmas.values())\n",
    "print(f\"Expected unknown count {expected_unk_count:,}\")\n",
    "print(f\"Probability of encountering a new lemmatized word form in new Cicero {round(P_new_lemma_word,3)} (according to curve fitting)\")\n",
    "print(freq_vals)"
   ]
  },
  {
   "cell_type": "code",
   "execution_count": 27,
   "metadata": {},
   "outputs": [
    {
     "name": "stdout",
     "output_type": "stream",
     "text": [
      "Expected unknown count 88,198\n",
      "Probability of encountering a new word in new Cicero 0.074 (according to curve fitting)\n",
      "[(10, 837), (9, 1018), (8, 1260), (7, 1572), (6, 2018), (5, 2622), (4, 3936), (3, 6095), (2, 11858), (1, 34608)]\n"
     ]
    },
    {
     "data": {
      "image/png": "[encoded data removed]",
      "text/plain": [
       "<Figure size 360x288 with 1 Axes>"
      ]
     },
     "metadata": {
      "needs_background": "light"
     },
     "output_type": "display_data"
    }
   ],
   "source": [
    "freq_vals = []\n",
    "num_samples = 10\n",
    "for i in range(num_samples,0,-1):\n",
    "    freq_vals.append( (i, sum([1 for tmp, cnt in cicero_inflected_words.items() if cnt == i])))\n",
    "\n",
    "X,y = zip(*freq_vals)\n",
    "# We will reverse the scale to predict the next number according to a Power Law distribution\n",
    "X =list(reversed(X))\n",
    "\n",
    "def func_powerlaw(x, m, c, c0):\n",
    "    return c0 + x**m * c\n",
    " \n",
    "popt, pcov = curve_fit(func_powerlaw, X, y, maxfev=2000)\n",
    "expected_unk_count  = round(func_powerlaw(num_samples + 1 , *popt)) \n",
    "plt.figure(figsize=(5,4))\n",
    "plt.plot(X, func_powerlaw(X, *popt), '--', label='predicted counts')\n",
    "plt.plot(X[-1] + 1, func_powerlaw(X[-1]+1, *popt), '*', label='predicted unk')\n",
    "plt.plot(X, y, 'ro', label='actual counts')\n",
    "plt.title(\"Cicero inflected word forms\")\n",
    "plt.xlabel(\"Frequency group\" )\n",
    "plt.ylabel(\"Count\")\n",
    "locs, labels = plt.xticks()  \n",
    "plt.xticks(range(12), ['']+ [str(tmp) for tmp in range(10,0,-1)] +['unk']) \n",
    "plt.legend()\n",
    "# plt.show()\n",
    "plt.tight_layout(pad=0.5, w_pad=20, h_pad=0.5)\n",
    "plt.savefig('cicero_inflected_words_unk_prob_curve_fit.png')\n",
    "\n",
    "expected_unk_count  = round(func_powerlaw(num_samples + 1 , *popt)) \n",
    "P_new_word = expected_unk_count / sum(cicero_inflected_words.values())\n",
    "print(f\"Expected unknown count {expected_unk_count:,}\")\n",
    "print(f\"Probability of encountering a new word in new Cicero {round(P_new_word,3)} (according to curve fitting)\")\n",
    "print(freq_vals)"
   ]
  },
  {
   "cell_type": "code",
   "execution_count": 28,
   "metadata": {},
   "outputs": [],
   "source": [
    "# Probability of a single count unigram occuring in the Cicero corpus: 0.029\n",
    "# Probability of a single count lemmatized unigram in a novel form occuring in the Cicero corpus: 0.009\n",
    "# (0.029, 0.009)\n",
    "# With Curve fitting\n",
    "# Probability of encountering a new inflected word in new Cicero 0.054 (according to curve fitting)\n",
    "# Probability of encountering a new lemmatized word form in new Cicero 0.017 (according to curve fitting)\n",
    "# (0.054, 0.017)\n",
    "# With Power Law Curve fitting\n",
    "# (0.074, 0.027)\n",
    "# Probability of encountering a new inflected word in a new page of Cicero: 0.074\n",
    "# Probability of encountering a new form of lemma in Cicero's use: 0.027\n",
    "\n",
    "#  So, if you found a new page of Cicero with a 100 words\n",
    "# we would expect 7 of the words to be new/hitherto/unseen in the Cicero corpus\n",
    "# we would expect 3 of the words to be words that Cicero had used before, but now in novel forms of the lemmas "
   ]
  },
  {
   "cell_type": "markdown",
   "metadata": {},
   "source": [
    "### Good-Turing Frequency Estimation\n",
    "\\begin{align}\n",
    "p_{0}={\\frac {N_{1}}{N}}\n",
    "\\end{align}\n",
    "The probability of an unseen element is equivalent to the the probability of elements seen only once."
   ]
  },
  {
   "cell_type": "code",
   "execution_count": 29,
   "metadata": {},
   "outputs": [
    {
     "data": {
      "text/plain": [
       "0.07371259126527774"
      ]
     },
     "execution_count": 29,
     "metadata": {},
     "output_type": "execute_result"
    }
   ],
   "source": [
    "88198/  1196512"
   ]
  },
  {
   "cell_type": "code",
   "execution_count": 34,
   "metadata": {},
   "outputs": [],
   "source": [
    "author_index = {val:key for key,val in PHI5_INDEX.items()  \n",
    "                if val != 'Marcus Tullius Cicero, Cicero, Tully'}\n",
    "\n",
    "def get_phi5_author_files(author_name, author_index):\n",
    "    stub = author_index[author_name]\n",
    "    return glob(os.path.expanduser(f'~/cltk_data/latin/text/phi5/individual_works/{stub}*.txt'))"
   ]
  },
  {
   "cell_type": "markdown",
   "metadata": {},
   "source": [
    "## Visualization of our corpus comparison: \n",
    "If you took one page from one author and placed it into Cicero, how surprising would it be?\n",
    "\n",
    "If the other author's vocabulary was substantially different, it would be noticeable. We can quantify this.\n",
    "\n",
    "As a result, since we want to predict as close as possible to the author, we should only train a language model where the underlying corpus vocabularies are within a reasonable window of surprise."
   ]
  },
  {
   "cell_type": "code",
   "execution_count": 36,
   "metadata": {},
   "outputs": [],
   "source": [
    "jv_replacer = JVReplacer()\n",
    "aeoe_replacer = AEOEReplacer()\n",
    "toker = WordTokenizer('latin')\n",
    "sent_toker = SentenceTokenizer()\n",
    "lemmatizer = LemmaReplacer('latin')"
   ]
  },
  {
   "cell_type": "markdown",
   "metadata": {},
   "source": [
    "# Examine Phi5 corpus"
   ]
  },
  {
   "cell_type": "code",
   "execution_count": 40,
   "metadata": {},
   "outputs": [],
   "source": [
    "results = []\n",
    "# The following code assumes this is in memory:\n",
    "# cicero_lemmas, cicero_inflected_words = get_word_counts(cicero_files)    \n",
    "\n",
    "for author in author_index:\n",
    "    files = get_phi5_author_files(author, author_index)\n",
    "    # Get a counter of all the author's distinct words & counter of words collapsed by lemmas\n",
    "    author_inflected_words, author_lemmas  = get_word_counts(files)        \n",
    "    # Calculate the overlap & find the differences; lemmas:\n",
    "    author_words = set(author_lemmas.keys())\n",
    "    cicero_words = set(cicero_lemmas.keys())\n",
    "    common = author_words & cicero_words\n",
    "    author_uniq = author_words - common \n",
    "    P_lemma_unigram_unk = len(author_uniq) / sum(author_lemmas.values())\n",
    "    # now inflected forms: \n",
    "    author_words = set(author_inflected_words.keys())\n",
    "    cicero_words = set(cicero_inflected_words.keys())\n",
    "    common = author_words & cicero_words\n",
    "    author_uniq = author_words - common \n",
    "    P_inflected_unigram_unk = len(author_uniq) / sum(author_inflected_words.values())\n",
    "    results.append((author, round(P_inflected_unigram_unk, 3), round(P_lemma_unigram_unk, 3)))\n",
    "    if P_inflected_unigram_unk <= 0.074:\n",
    "        for file in files: # , total=len(files), unit='files'):\n",
    "            with open(file, 'rt') as fin:\n",
    "                text = fin.read()\n",
    "                text = text.replace(\"-\\n\", \"\")\n",
    "                text = text.replace(\"\\n\", \" \")\n",
    "                text = aeoe_replacer.replace(jv_replacer.replace( text))\n",
    "                filename = file[file.rfind('/')+1:]\n",
    "                with open(f\"cicero_training_corpus/{filename}\", 'wt') as fout:\n",
    "                    for sent in sent_toker.tokenize(text):\n",
    "                        sent = dehyphenate(sent) # because it's Phi5\n",
    "                        sent = swallow_braces(sent)\n",
    "                        sent = swallow_square_brackets(sent)\n",
    "                        sent = disappear_round_brackets(sent)\n",
    "                        sent = swallow_obelized_words(sent)\n",
    "                        sent = disappear_angle_brackets(sent)            \n",
    "#                         sent = drop_punct(sent)\n",
    "                        sent = normalize_accents(sent)\n",
    "                        sentence = [truecase(word, case_counts)\n",
    "                                    for word in toker.tokenize(sent) \n",
    "                                    if not word.isnumeric()]\n",
    "                        fout.write(f\"{' '.join(sentence)}\\n\")\n"
   ]
  },
  {
   "cell_type": "code",
   "execution_count": 25,
   "metadata": {},
   "outputs": [
    {
     "name": "stdout",
     "output_type": "stream",
     "text": [
      "('Publius Cominius', 0.0, 0.0)\n",
      "('Publius Cornelius Dolabella', 0.0, 0.0)\n",
      "('Gaius Calpurnius Piso', 0.0, 0.0)\n",
      "('Publius Saturius', 0.0, 0.0)\n",
      "('Lucius Cassius Longinus', 0.0, 0.0)\n",
      "('Gaius Memmius', 0.0, 0.0)\n",
      "('Passienus Crispus', 0.0, 0.0)\n",
      "('Marcus Antonius', 0.0, 0.0)\n",
      "('Caecilius Metellus', 0.0, 0.0)\n",
      "('Gaius Aurelius Cotta', 0.0, 0.0)\n",
      "('Gaius Scribonius Curio avus', 0.0, 0.0)\n",
      "('Vibius Crispus', 0.0, 0.0)\n",
      "('Gallus Antipater', 0.0, 0.0)\n",
      "('Lucius Herennius Balbus', 0.0, 0.0)\n",
      "('Marcus Antonius triumvir', 0.0, 0.0)\n",
      "('Sevius Nicanor', 0.0, 0.0)\n",
      "('Gaius Papirius Carbo Arvina', 0.0, 0.0)\n",
      "('Gaius vel Lucius Caepasius', 0.0, 0.0)\n",
      "('Titus Labienus', 0.0, 0.0)\n",
      "('Lucius Quinctius', 0.0, 0.0)\n",
      "('Q. Lutatius Catulus iunior', 0.0, 0.0)\n",
      "('Gaius Servilius Glaucia', 0.0, 0.0)\n",
      "('Gaius Aquilius Gallus', 0.0, 0.0)\n",
      "('Lucius Marcius Philippus', 0.0, 0.0)\n",
      "('Iulius Africanus', 0.0, 0.0)\n",
      "('Marcus Porcius Cato Uticensis', 0.0, 0.0)\n",
      "('Publius Clodius Pulcher', 0.0, 0.0)\n",
      "('Vagellius', 0.0, 0.0)\n",
      "('Publius Mucius Scaevola', 0.0, 0.0)\n",
      "('Marullus', 0.0, 0.0)\n",
      "('Gaius Papirius Carbo', 0.0, 0.0)\n",
      "('Gaius Erucius', 0.0, 0.0)\n",
      "('Lucius Cincius Alimentus', 0.0, 0.0)\n",
      "('Marcus Iuventius Laterensis', 0.0, 0.012)\n",
      "('Laelius Felix', 0.0, 0.016)\n",
      "('Lucius Cornelius Sulla', 0.017, 0.017)\n",
      "('P. Cornel. Scipio Nasica Ser.', 0.0, 0.018)\n",
      "('Lucius Licinius Crassus', 0.005, 0.02)\n",
      "('Iustinianus, Justinian, Digest', 0.007, 0.02)\n",
      "('Cn. Cornel. Lentulus Marcell.', 0.0, 0.021)\n",
      "('Trabea', 0.0, 0.022)\n",
      "('P. Cornel. Scipio Afr. ma.', 0.023, 0.023)\n",
      "('Q. Caecilius Metellus Maced.', 0.0, 0.024)\n",
      "('Gaius Asinius Gallus', 0.029, 0.029)\n",
      "('Aufidius Bassus', 0.0, 0.03)\n",
      "('Quintus Asconius Pedianus', 0.01, 0.03)\n",
      "('Publilius Syrus', 0.007, 0.032)\n",
      "('Quintus Tullius Cicero', 0.008, 0.034)\n",
      "('Lucilius iunior', 0.034, 0.034)\n",
      "('Gaius, iur., Gaius', 0.011, 0.035)\n",
      "('Aurelius Augustinus', 0.0, 0.037)\n",
      "('Titus Livius, Livy', 0.011, 0.039)\n",
      "('Marcus Iunius Brutus [iur.]', 0.0, 0.04)\n",
      "('Marcus Iunius Brutus [tyr.]', 0.04, 0.04)\n",
      "('Q. Caecilius Metellus Numid.', 0.021, 0.041)\n",
      "('Marcus Fabius Quintilianus', 0.009, 0.042)\n",
      "('Sentius Augurinus', 0.043, 0.043)\n",
      "('Quintus Lutatius Catulus', 0.03, 0.045)\n",
      "('Gaius Iulius Caesar, Caesar', 0.016, 0.046)\n",
      "('Cornelius Nepos', 0.018, 0.047)\n",
      "('Gaius Trebatius Testa', 0.008, 0.048)\n",
      "('M. Valerius Messalla Rufus', 0.027, 0.048)\n",
      "('Atilius', 0.048, 0.048)\n",
      "('Gaius Laelius Sapiens', 0.048, 0.048)\n",
      "('Lucius Annaeus Seneca senior', 0.016, 0.052)\n",
      "('Lucius Annaeus Seneca iunior', 0.013, 0.054)\n",
      "('Hyginus Astronomus', 0.024, 0.054)\n",
      "('Precatio Omnium Herbarum', 0.009, 0.055)\n",
      "('Publius Rutilius Lupus', 0.02, 0.055)\n",
      "('Q. Mucius Scaevola [pontifex]', 0.031, 0.055)\n",
      "('Aulus Cornelius Celsus', 0.017, 0.056)\n",
      "('Bellum Alexandrinum [Anonymous]', 0.018, 0.057)\n",
      "('Bellum Africum [Anonymous]', 0.019, 0.057)\n",
      "('Volcacius Sedigitus', 0.025, 0.057)\n",
      "('Calpurnius Flaccus', 0.01, 0.058)\n",
      "('Gaius Sempronius Gracchus', 0.025, 0.058)\n",
      "('Aulus Hirtius', 0.019, 0.059)\n",
      "('Gaius Sallustius Crispus', 0.021, 0.059)\n",
      "('Maurus Servius Honoratus, Servius', 0.025, 0.059)\n",
      "('Publius Terentius Afer, Terence', 0.029, 0.059)\n",
      "('Cornelia, mater Gracchorum', 0.012, 0.06)\n",
      "('Bellum Hispaniense [Anonymous]', 0.021, 0.061)\n",
      "('Bruttedius Niger', 0.016, 0.062)\n",
      "('Titus Maccius Plautus', 0.027, 0.062)\n",
      "('Sempronius Asellio', 0.03, 0.064)\n",
      "('Carmen Devotionis', 0.018, 0.065)\n",
      "('Publius Ovidius Naso', 0.024, 0.065)\n",
      "('C. Plinius Caecilius Secundus, Pliny', 0.017, 0.066)\n",
      "('Aulus Cascellius', 0.0, 0.067)\n",
      "('Marcus Porcius Cato M.f.M.n.', 0.033, 0.067)\n",
      "('Titus Lucretius Carus', 0.022, 0.068)\n",
      "('Sabidius', 0.023, 0.068)\n",
      "('Lucius Calpurnius Piso Frugi', 0.037, 0.07)\n",
      "('Titus Annius Luscus', 0.0, 0.071)\n",
      "('Pupius (?)', 0.0, 0.071)\n",
      "('Scriptores Historiae Augustae', 0.032, 0.071)\n",
      "('Publius Cannutius', 0.071, 0.071)\n",
      "('Turranius Niger', 0.071, 0.071)\n",
      "('Valerius Maximus', 0.02, 0.073)\n",
      "('Lucius Annaeus Cornutus', 0.028, 0.073)\n",
      "('Velleius Paterculus', 0.026, 0.074)\n",
      "('Quintus Curtius Rufus', 0.021, 0.075)\n",
      "('Helvius Mancia', 0.033, 0.075)\n",
      "('Siculus Flaccus', 0.02, 0.076)\n",
      "('Cornelius Tacitus', 0.025, 0.076)\n",
      "('Arbonius Silo', 0.0, 0.077)\n",
      "('Gnaeus Tremelius Scrofa', 0.0, 0.077)\n",
      "('Aulus Gellius', 0.038, 0.077)\n",
      "('Aemilius Sura', 0.058, 0.077)\n",
      "('Publius Alfenus Varus', 0.039, 0.078)\n",
      "('Gaius Caesius Bassus', 0.04, 0.08)\n",
      "('Quintus Remmius Palaemon', 0.033, 0.081)\n",
      "('Lucius Iulius Caesar', 0.0, 0.083)\n",
      "('Marcus Manilius, Manilius', 0.02, 0.083)\n",
      "('Aulus Cremutius Cordus', 0.025, 0.083)\n",
      "('Gaius Aelius Gallus', 0.029, 0.083)\n",
      "('Hyginus Gromaticus', 0.029, 0.083)\n",
      "('Marcus Cornelius Fronto', 0.036, 0.084)\n",
      "('Marcus Valerius Probus', 0.038, 0.084)\n",
      "('Pseudo-Varro', 0.03, 0.085)\n",
      "('Terentianus Maurus', 0.036, 0.085)\n",
      "('Valerius Aedituus', 0.042, 0.085)\n",
      "('Velius Longus', 0.042, 0.086)\n",
      "('Cn. Arulenus Caelius Sabinus', 0.048, 0.086)\n",
      "('P. Cornel. Scipio Aem. Afr.', 0.041, 0.087)\n",
      "('Tabulae Censoriae', 0.052, 0.087)\n",
      "('Aulus Caecina', 0.087, 0.087)\n",
      "('Appius Claudius Caecus', 0.087, 0.087)\n",
      "('Marcus Tullius Tiro', 0.046, 0.088)\n",
      "('Anonymi Grammatici', 0.036, 0.089)\n",
      "('Gaius Asinius Pollio', 0.036, 0.09)\n",
      "('Lucius Volusius Maecianus', 0.037, 0.09)\n",
      "('Gaius Plinius Secundus, Pliny', 0.044, 0.09)\n",
      "('Publilius Optatianus Porfyrius', 0.0, 0.091)\n",
      "('Carmen Evocationis', 0.01, 0.091)\n",
      "('Lucius Novius', 0.03, 0.091)\n",
      "('Annius Florus', 0.038, 0.091)\n",
      "('Aufustius', 0.045, 0.091)\n",
      "('Commentarius Anquisit. Sergii', 0.05, 0.091)\n",
      "('Turnus', 0.091, 0.091)\n",
      "('Aulus Postumius Albinus', 0.091, 0.091)\n",
      "('Precatio Terrae', 0.014, 0.092)\n",
      "('Vitruvius', 0.037, 0.092)\n",
      "('Quintus Terentius Scaurus', 0.047, 0.092)\n",
      "('Zeno of Verona', 0.026, 0.093)\n",
      "('Sextus Iulius Frontinus', 0.03, 0.093)\n",
      "('Publius Vergilius Maro, Virgil, Vergil', 0.033, 0.093)\n",
      "('Pomponius Porphyrio', 0.04, 0.093)\n",
      "('Valerius Antias', 0.058, 0.093)\n",
      "('Servius Sulpicius Rufus', 0.024, 0.094)\n",
      "('Marcus Terentius Varro, Varro', 0.046, 0.094)\n",
      "('Gaius Suetonius Tranquillus', 0.034, 0.096)\n",
      "('Anonymi de Differentiis [Fronto]', 0.031, 0.097)\n",
      "('Marcus Annaeus Lucanus', 0.032, 0.098)\n",
      "('Scribonius Largus', 0.049, 0.098)\n",
      "('Phaedrus', 0.026, 0.099)\n",
      "('Ticidas', 0.0, 0.1)\n",
      "('Publius Rutilius Rufus', 0.0, 0.1)\n",
      "('Caelius Apicius', 0.044, 0.1)\n",
      "('Gaius Fannius', 0.064, 0.1)\n",
      "('Luscius Lanuvinus', 0.1, 0.1)\n",
      "('Anonymi Fragmenta de Iure Fisci', 0.049, 0.101)\n",
      "('L. Iunius Moderatus Columella', 0.029, 0.102)\n",
      "('Publius Papinius Statius', 0.037, 0.102)\n",
      "('Quintus Claudius Quadrigarius', 0.056, 0.102)\n",
      "('Aquilius, comoed.', 0.044, 0.103)\n",
      "('Pompeius Trogus', 0.075, 0.103)\n",
      "('Silius Italicus', 0.035, 0.104)\n",
      "('Gaius Ateius Capito', 0.037, 0.104)\n",
      "('Anonymi Comici et Tragici', 0.06, 0.104)\n",
      "('Antonius Panurgus', 0.053, 0.105)\n",
      "('Porcius Licinus', 0.028, 0.106)\n",
      "('Gaius Valerius Flaccus', 0.042, 0.106)\n",
      "('Balbus, grom.', 0.036, 0.107)\n",
      "('Fenestella', 0.038, 0.107)\n",
      "('Marcus Valerius Martialis', 0.048, 0.107)\n",
      "('Granius Licinianus', 0.074, 0.107)\n",
      "('Altercatio Hadr. et Epicteti', 0.06, 0.108)\n",
      "('M. Valerius Messalla Corvinus', 0.077, 0.108)\n",
      "('Hyginus, myth.', 0.074, 0.109)\n",
      "('Publius Nigidius Figulus', 0.054, 0.11)\n",
      "('Granius Flaccus', 0.077, 0.11)\n",
      "('M. Aemilius Lepidus Porcina', 0.0, 0.111)\n",
      "('Tullius Laurea', 0.016, 0.111)\n",
      "('Sextus Pomponius', 0.111, 0.111)\n",
      "('Albius Tibullus', 0.033, 0.112)\n",
      "('Sextus Propertius', 0.045, 0.114)\n",
      "('Favorinus', 0.039, 0.117)\n",
      "('Petronius', 0.043, 0.118)\n",
      "('Lucius Cincius', 0.058, 0.118)\n",
      "('Commentarii Consulares', 0.051, 0.119)\n",
      "('Gaius Licinius Macer Calvus', 0.057, 0.119)\n",
      "('Marcus Aemilius Scaurus', 0.075, 0.119)\n",
      "('Quintus Ennius', 0.057, 0.12)\n",
      "('Aemilius Asper', 0.078, 0.12)\n",
      "('Apuleius Madaurensis', 0.04, 0.121)\n",
      "('Lucius Coelius Antipater', 0.075, 0.121)\n",
      "('Lucius Ampelius', 0.084, 0.121)\n",
      "('Gaius Cornelius Gallus, Gallus', 0.089, 0.122)\n",
      "('Quintus Horatius Flaccus, Horace', 0.045, 0.123)\n",
      "('Homerus Latinus', 0.054, 0.124)\n",
      "('L. Aurel. Avianius Symmachus', 0.07, 0.126)\n",
      "('Gaius Iulius Hyginus', 0.085, 0.126)\n",
      "('Claudius Caesar Germanicus', 0.04, 0.129)\n",
      "('L. Aemilius L.f.M.n. Paulus', 0.037, 0.13)\n",
      "('Marcus Porcius Cato, Cato', 0.061, 0.131)\n",
      "('Gavius Bassus', 0.08, 0.131)\n",
      "('Gaius Titius', 0.017, 0.132)\n",
      "('Decimus Iunius Iuvenalis, Juvenal', 0.052, 0.133)\n",
      "('Sulpicia, Caleni uxor', 0.052, 0.133)\n",
      "('Sextus Pompeius Festus', 0.079, 0.133)\n",
      "('Gaius Valerius Catullus', 0.056, 0.134)\n",
      "('Parthenius Presbyter', 0.072, 0.134)\n",
      "('Lucius Arruntius', 0.027, 0.135)\n",
      "('Marcus Furius Bibaculus', 0.073, 0.136)\n",
      "('Didascaliae et Per. in Terentium', 0.078, 0.136)\n",
      "('Albinovanus Pedo', 0.034, 0.137)\n",
      "('Marcus Iunius Gracchanus', 0.092, 0.137)\n",
      "('Albinus, poet.', 0.069, 0.138)\n",
      "('Sextus Turpilius', 0.064, 0.139)\n",
      "('Fragmenta Bobiensia', 0.074, 0.139)\n",
      "('Appendix Vergiliana', 0.05, 0.142)\n",
      "('Caecilius Statius', 0.083, 0.142)\n",
      "('Marcus Duronius', 0.024, 0.143)\n",
      "('Lucius Verginius Rufus', 0.071, 0.143)\n",
      "('Mummius', 0.071, 0.143)\n",
      "('Lucius Neratius Priscus', 0.095, 0.143)\n",
      "('Mimi Poetarum Incertorum', 0.112, 0.143)\n",
      "('Marcus Calidius', 0.143, 0.143)\n",
      "('Lucius Varius Rufus', 0.061, 0.144)\n",
      "('Argum. Aen. et Tetrast.', 0.071, 0.144)\n",
      "('Gaius Lucilius', 0.08, 0.144)\n",
      "('Gaius Licinius Macer', 0.081, 0.145)\n",
      "('Iulius Atherianus', 0.081, 0.145)\n",
      "('Lucius Afranius', 0.069, 0.147)\n",
      "('Pomponius Mela', 0.094, 0.147)\n",
      "('Hostius', 0.074, 0.148)\n",
      "('Didascaliae et Argum. in Plautum', 0.077, 0.148)\n",
      "('Marianus', 0.05, 0.15)\n",
      "('Lucius Cornelius Sisenna', 0.075, 0.15)\n",
      "('Marcus Antistius Labeo', 0.103, 0.15)\n",
      "('Laus Pisonis', 0.047, 0.152)\n",
      "('Hilarius Arelatensis', 0.077, 0.154)\n",
      "('Vita Iuvenalis', 0.083, 0.154)\n",
      "('Gaius Cassius Hemina', 0.084, 0.155)\n",
      "('Paulus Quaestor', 0.105, 0.158)\n",
      "('Gaius Memmius L. f.', 0.045, 0.159)\n",
      "('Philumenus medicus', 0.085, 0.159)\n",
      "('Domitius Marsus', 0.128, 0.16)\n",
      "('Sextus (vel Spurius) Ennius', 0.113, 0.161)\n",
      "('Priapea', 0.076, 0.162)\n",
      "('Quintus Aelius Tubero', 0.037, 0.163)\n",
      "('Bucolica Einsidlensia', 0.067, 0.166)\n",
      "('Lucius Accius', 0.085, 0.166)\n",
      "('Publius Aufidius Namusa', 0.0, 0.167)\n",
      "('Manius Manilius', 0.076, 0.167)\n",
      "('Ninnius Crassus', 0.083, 0.167)\n",
      "('Quintus Servilius Caepio', 0.111, 0.167)\n",
      "('Quintus Valerius Soranus', 0.172, 0.172)\n",
      "('Titus Calpurnius Siculus', 0.065, 0.174)\n",
      "('Grattius', 0.071, 0.175)\n",
      "('Marcus Verrius Flaccus', 0.128, 0.179)\n",
      "('Marcus Pacuvius', 0.095, 0.181)\n",
      "('Q. Pompeius Q.f.Q.n. Rufus', 0.0, 0.182)\n",
      "('Marcus Caelius Rufus', 0.067, 0.187)\n",
      "('Decimus Iunius Silanus', 0.083, 0.19)\n",
      "('Anonymi Epici et Lyrici', 0.097, 0.192)\n",
      "('Publius Pomponius Secundus', 0.135, 0.192)\n",
      "('Papinius, epigram.', 0.192, 0.192)\n",
      "('Aulus Persius Flaccus', 0.082, 0.194)\n",
      "('Chalcidius', 0.063, 0.198)\n",
      "('Titinius', 0.1, 0.198)\n",
      "('Flavius Caper', 0.115, 0.198)\n",
      "('Saserna', 0.086, 0.2)\n",
      "('Ablabius', 0.1, 0.2)\n",
      "('Gaius Scribonius Curio pater', 0.1, 0.2)\n",
      "('Gaius Oppius', 0.163, 0.2)\n",
      "('C. Iul. Caes. Augustus Octavianus', 0.168, 0.205)\n",
      "('Caesellius Vindex', 0.169, 0.205)\n",
      "('Quintus Serenus (Sammonicus)', 0.075, 0.206)\n",
      "('Gnaeus Naevius', 0.117, 0.206)\n",
      "('Iulius Valerius', 0.111, 0.207)\n",
      "('Sacra Argeorum', 0.174, 0.209)\n",
      "('Caelius Aurelianus', 0.105, 0.211)\n",
      "('Hadrianus', 0.087, 0.212)\n",
      "('Alfius Avitus', 0.095, 0.214)\n",
      "('Q. Fabius Maximus Servilianus', 0.143, 0.214)\n",
      "('Licinius Imbrex', 0.214, 0.214)\n",
      "('Cornelius Severus', 0.102, 0.215)\n",
      "('Numitorius', 0.174, 0.217)\n",
      "('Veranius', 0.119, 0.218)\n",
      "('Sinnius Capito', 0.136, 0.22)\n",
      "('Lucius Pomponius Bononiensis', 0.129, 0.221)\n",
      "('Pompilius', 0.056, 0.222)\n",
      "('Annianus', 0.133, 0.222)\n",
      "('P. Terentius Varro Atacinus', 0.117, 0.224)\n",
      "('Tarquitius Priscus', 0.134, 0.224)\n",
      "('Decimus Laberius', 0.155, 0.225)\n",
      "('Commentarii Augurum', 0.205, 0.227)\n",
      "('Iulius Modestus', 0.138, 0.231)\n",
      "('Novius, comoed.', 0.142, 0.232)\n",
      "('Gnaeus Gellius', 0.181, 0.236)\n",
      "('Q. Aurelius Memmius Symmachus', 0.127, 0.24)\n",
      "('Santra', 0.13, 0.241)\n",
      "('Q. Pompeius Q.f.A.n. Rufus', 0.0, 0.25)\n",
      "('Marcus Aurelius', 0.0, 0.25)\n",
      "('Titus Quinctius Atta', 0.098, 0.25)\n",
      "('Valerius, comoed.', 0.125, 0.25)\n",
      "('Lucius Livius Andronicus', 0.146, 0.25)\n",
      "('Carmen Arvale', 0.185, 0.25)\n",
      "('Gaius Valgius Rufus', 0.143, 0.255)\n",
      "('Iuventius, comoed.', 0.163, 0.256)\n",
      "('Gaius Iulius Caesar Strabo', 0.16, 0.26)\n",
      "('Quintus Hortensius Hortalus', 0.158, 0.263)\n",
      "('Aemilius Macer', 0.117, 0.266)\n",
      "('Carmen de Bello Aegyptiaco', 0.248, 0.274)\n",
      "('Fabius Pictor', 0.195, 0.276)\n",
      "('Gracchus, trag.', 0.0, 0.278)\n",
      "('Aulus Furius Antias', 0.194, 0.278)\n",
      "('Dorcatius', 0.071, 0.286)\n",
      "('Manilius, poet.', 0.095, 0.286)\n",
      "('Cornificius Gallus', 0.143, 0.286)\n",
      "('Gnaeus Matius', 0.148, 0.287)\n",
      "('Egnatius', 0.235, 0.294)\n",
      "('Septimius Serenus', 0.189, 0.3)\n",
      "('Lucius Orbilius Pupillus', 0.2, 0.3)\n",
      "('Gaius Helvius Cinna', 0.195, 0.301)\n",
      "('Sueius', 0.204, 0.32)\n",
      "('Gaius Cilnius Maecenas', 0.187, 0.327)\n",
      "('Cornelius Epicadus', 0.0, 0.333)\n",
      "('Cn. Cornel. Lentulus Gaetulicus', 0.167, 0.333)\n",
      "('Rabirius', 0.233, 0.333)\n",
      "('Gnaeus Marcius vates', 0.25, 0.333)\n",
      "('Clodius Tuscus', 0.333, 0.333)\n",
      "('Laevius', 0.236, 0.348)\n",
      "('Quintus Cornificius', 0.143, 0.357)\n",
      "('Servius Clodius', 0.156, 0.375)\n",
      "('Aprissius (?)', 0.25, 0.375)\n",
      "('Iulius Montanus', 0.108, 0.378)\n",
      "('Cornificius Longus', 0.323, 0.387)\n",
      "('Gaius Clodius Licinus', 0.056, 0.389)\n",
      "('L. Aelius Praeconinus Stilo', 0.312, 0.396)\n",
      "('Aurelius Opillus', 0.349, 0.397)\n",
      "('Gnaeus Domitius Ahenobarbus', 0.0, 0.4)\n",
      "('Naevius, iunior', 0.1, 0.4)\n",
      "('Quintus Mucius Scaevola', 0.4, 0.4)\n",
      "('Imp. Marcus Ulpius Traianus, Trajan', 0.4, 0.4)\n",
      "('Gannius', 0.158, 0.421)\n",
      "('Sextilius Ena', 0.143, 0.429)\n",
      "('Imperator Nero', 0.294, 0.441)\n",
      "('Staberius Eros', 0.222, 0.444)\n",
      "('Gaius Licinius Mucianus', 0.333, 0.481)\n",
      "('Fabius Dossennus', 0.25, 0.5)\n",
      "('Attius Labeo', 0.333, 0.5)\n",
      "('Lentulus, mimus', 0.357, 0.5)\n",
      "('Titius, gram.', 0.5, 0.5)\n",
      "('Volumnius', 0.5, 0.5)\n",
      "('Sextus Paconianus', 0.4, 0.55)\n",
      "('Cloatius Verus', 0.525, 0.57)\n",
      "('Lucius Ateius Praetextatus', 0.429, 0.571)\n",
      "('Scaevus Memor', 0.167, 0.667)\n"
     ]
    }
   ],
   "source": [
    "results_map = {key: (val, val2) for key,val,val2 in results}\n",
    "\n",
    "results = sorted(results, key=lambda x:x[2])\n",
    "\n",
    "for tmp in results:\n",
    "    print(tmp)"
   ]
  },
  {
   "cell_type": "code",
   "execution_count": 29,
   "metadata": {
    "scrolled": false
   },
   "outputs": [
    {
     "name": "stdout",
     "output_type": "stream",
     "text": [
      "('Quintus Asconius Pedianus', (0.01, 0.03))\n",
      "('Gaius, iur., Gaius', (0.011, 0.035))\n",
      "('Titus Livius, Livy', (0.011, 0.039))\n",
      "('Marcus Fabius Quintilianus', (0.009, 0.042))\n",
      "('Gaius Iulius Caesar, Caesar', (0.016, 0.046))\n",
      "('Lucius Annaeus Seneca senior', (0.016, 0.052))\n",
      "('Lucius Annaeus Seneca iunior', (0.013, 0.054))\n",
      "('Aulus Cornelius Celsus', (0.017, 0.056))\n",
      "('Publius Terentius Afer, Terence', (0.029, 0.059))\n",
      "('Gaius Sallustius Crispus', (0.021, 0.059))\n",
      "('Maurus Servius Honoratus, Servius', (0.025, 0.059))\n",
      "('Titus Maccius Plautus', (0.027, 0.062))\n",
      "('Publius Ovidius Naso', (0.024, 0.065))\n",
      "('C. Plinius Caecilius Secundus, Pliny', (0.017, 0.066))\n",
      "('Titus Lucretius Carus', (0.022, 0.068))\n",
      "('Scriptores Historiae Augustae', (0.032, 0.071))\n",
      "('Cornelius Tacitus', (0.025, 0.076))\n",
      "('Gaius Caesius Bassus', (0.04, 0.08))\n",
      "('Hyginus Gromaticus', (0.029, 0.083))\n",
      "('Marcus Valerius Probus', (0.038, 0.084))\n",
      "('Marcus Cornelius Fronto', (0.036, 0.084))\n",
      "('Gaius Asinius Pollio', (0.036, 0.09))\n",
      "('Annius Florus', (0.038, 0.091))\n",
      "('Quintus Terentius Scaurus', (0.047, 0.092))\n",
      "('Publius Vergilius Maro, Virgil, Vergil', (0.033, 0.093))\n",
      "('Pomponius Porphyrio', (0.04, 0.093))\n",
      "('Sextus Iulius Frontinus', (0.03, 0.093))\n",
      "('Marcus Terentius Varro, Varro', (0.046, 0.094))\n",
      "('Gaius Suetonius Tranquillus', (0.034, 0.096))\n",
      "('Caelius Apicius', (0.044, 0.1))\n",
      "('Publius Papinius Statius', (0.037, 0.102))\n",
      "('Anonymi Comici et Tragici', (0.06, 0.104))\n",
      "('Quintus Ennius', (0.057, 0.12))\n",
      "('Apuleius Madaurensis', (0.04, 0.121))\n",
      "('Quintus Horatius Flaccus, Horace', (0.045, 0.123))\n",
      "('Claudius Caesar Germanicus', (0.04, 0.129))\n",
      "('Marcus Porcius Cato, Cato', (0.061, 0.131))\n",
      "('Didascaliae et Per. in Terentium', (0.078, 0.136))\n",
      "('Fragmenta Bobiensia', (0.074, 0.139))\n",
      "('Appendix Vergiliana', (0.05, 0.142))\n",
      "('Argum. Aen. et Tetrast.', (0.071, 0.144))\n",
      "('Didascaliae et Argum. in Plautum', (0.077, 0.148))\n",
      "('Lucius Accius', (0.085, 0.166))\n",
      "('Anonymi Epici et Lyrici', (0.097, 0.192))\n",
      "('C. Iul. Caes. Augustus Octavianus', (0.168, 0.205))\n",
      "('Gnaeus Naevius', (0.117, 0.206))\n",
      "('Lucius Livius Andronicus', (0.146, 0.25))\n"
     ]
    }
   ],
   "source": [
    "author_results = []\n",
    "for author in author_index:\n",
    "    files = get_phi5_author_files(author, author_index)\n",
    "    if len(files) >= 3:\n",
    "#     print(author, results_map[author])\n",
    "        author_results.append((author, results_map[author]) )\n",
    "\n",
    "author_results.sort(key=lambda x: x[1][1])    \n",
    "for tmp in author_results:\n",
    "    print(tmp)\n",
    "    \n",
    "# the values analogous to Cicero are: (0.02892407263780054, 0.008905886443261747)    \n",
    "# ~ 0.03  and  0.01 # we can tolerate some distance above this baseline, 2x, 3x, depends\n",
    "# Results are mapped into Cicero's Vocabulary space\n",
    "# Table below:\n",
    "# Author\n",
    "# Probability of encountering a word once that we've seen in the author previously in a different lemmatized form\n",
    "# Probability of seeing a truly new word once in this authors corpus "
   ]
  },
  {
   "cell_type": "markdown",
   "metadata": {},
   "source": [
    "#### Translating the statistics:\n",
    "* Cicero: # ~ 0.03  and  0.01  \n",
    "* Gaius Iulius Caesar, Caesar (0.016170899832329378, 0.0464137117307334)\n",
    "\n",
    "#### If one were to find a new page (100 words) of Cicero, one would expect to find: \n",
    "* 3 words that Cicero had previously used, but in novel inflected forms \n",
    "    * (root words that we know have been used by Cicero, but without previous examples of that particular inflection)\n",
    "* 1 word hapax legomena to the author\n",
    "    * Not a global hapax legomena, but one that we have no record of occuring in Cicero before (in any inflected form).\n",
    "#### if one were to take a page from Caesar and claim it was a new page of Cicero, one would expect to find:\n",
    "* 2 words that Cicero had previously used but now in a novel inflected form.\n",
    "* 5 words that Cicero had never used (in any inflected form).\n"
   ]
  },
  {
   "cell_type": "code",
   "execution_count": 18,
   "metadata": {},
   "outputs": [],
   "source": [
    "# Let's look at Cicero's near contemporaries, and see if the individual works come closer to \n",
    "# matching Cicero's language in terms of Probability Distributions\n",
    "candidates = ['Gaius Iulius Caesar, Caesar', \n",
    "'C. Iul. Caes. Augustus Octavianus',  \n",
    "'Publius Vergilius Maro, Virgil, Vergil',  \n",
    "'Gaius Suetonius Tranquillus', \n",
    "'Marcus Terentius Varro, Varro', \n",
    "'Cornelius Tacitus', \n",
    "'Titus Livius, Livy', \n",
    "'Lucius Annaeus Seneca senior', \n",
    "'Quintus Horatius Flaccus, Horace',  \n",
    "'Gaius Sallustius Crispus', \n",
    "'Titus Lucretius Carus', \n",
    "'Lucius Annaeus Seneca iunior']"
   ]
  },
  {
   "cell_type": "code",
   "execution_count": 25,
   "metadata": {
    "scrolled": true
   },
   "outputs": [
    {
     "data": {
      "application/vnd.jupyter.widget-view+json": {
       "model_id": "8b199b6d4b48446d9ee822e710d977e4",
       "version_major": 2,
       "version_minor": 0
      },
      "text/plain": [
       "  0%|          | 0/1 [00:00<?, ?files/s]"
      ]
     },
     "metadata": {},
     "output_type": "display_data"
    },
    {
     "data": {
      "application/vnd.jupyter.widget-view+json": {
       "model_id": "b0a6559b36ec4ba8841782a335da8cc8",
       "version_major": 2,
       "version_minor": 0
      },
      "text/plain": [
       "  0%|          | 0/1 [00:00<?, ?files/s]"
      ]
     },
     "metadata": {},
     "output_type": "display_data"
    },
    {
     "data": {
      "application/vnd.jupyter.widget-view+json": {
       "model_id": "bfb5619117754bb89ac782ed29c8959f",
       "version_major": 2,
       "version_minor": 0
      },
      "text/plain": [
       "  0%|          | 0/1 [00:00<?, ?files/s]"
      ]
     },
     "metadata": {},
     "output_type": "display_data"
    },
    {
     "data": {
      "application/vnd.jupyter.widget-view+json": {
       "model_id": "658447d3d957464784879aba79545597",
       "version_major": 2,
       "version_minor": 0
      },
      "text/plain": [
       "  0%|          | 0/1 [00:00<?, ?files/s]"
      ]
     },
     "metadata": {},
     "output_type": "display_data"
    },
    {
     "data": {
      "application/vnd.jupyter.widget-view+json": {
       "model_id": "78db55df7e154f0fbfadf8271a212d99",
       "version_major": 2,
       "version_minor": 0
      },
      "text/plain": [
       "  0%|          | 0/1 [00:00<?, ?files/s]"
      ]
     },
     "metadata": {},
     "output_type": "display_data"
    },
    {
     "data": {
      "application/vnd.jupyter.widget-view+json": {
       "model_id": "2e1b6cac1a0e4850887cba67ac689b2a",
       "version_major": 2,
       "version_minor": 0
      },
      "text/plain": [
       "  0%|          | 0/1 [00:00<?, ?files/s]"
      ]
     },
     "metadata": {},
     "output_type": "display_data"
    },
    {
     "data": {
      "application/vnd.jupyter.widget-view+json": {
       "model_id": "5c4d1c189b6046acbd360bd16e97486b",
       "version_major": 2,
       "version_minor": 0
      },
      "text/plain": [
       "  0%|          | 0/1 [00:00<?, ?files/s]"
      ]
     },
     "metadata": {},
     "output_type": "display_data"
    },
    {
     "data": {
      "application/vnd.jupyter.widget-view+json": {
       "model_id": "43fa49da28d8445c9c2f3e3206e45c3a",
       "version_major": 2,
       "version_minor": 0
      },
      "text/plain": [
       "  0%|          | 0/1 [00:00<?, ?files/s]"
      ]
     },
     "metadata": {},
     "output_type": "display_data"
    },
    {
     "data": {
      "application/vnd.jupyter.widget-view+json": {
       "model_id": "92514cd7a5c340d2884f83fb95a51cd2",
       "version_major": 2,
       "version_minor": 0
      },
      "text/plain": [
       "  0%|          | 0/1 [00:00<?, ?files/s]"
      ]
     },
     "metadata": {},
     "output_type": "display_data"
    },
    {
     "data": {
      "application/vnd.jupyter.widget-view+json": {
       "model_id": "98df72e87b15408a96402a9c4e18e53e",
       "version_major": 2,
       "version_minor": 0
      },
      "text/plain": [
       "  0%|          | 0/1 [00:00<?, ?files/s]"
      ]
     },
     "metadata": {},
     "output_type": "display_data"
    },
    {
     "data": {
      "application/vnd.jupyter.widget-view+json": {
       "model_id": "213859c800c84d09b14fc2e64d9f4b57",
       "version_major": 2,
       "version_minor": 0
      },
      "text/plain": [
       "  0%|          | 0/1 [00:00<?, ?files/s]"
      ]
     },
     "metadata": {},
     "output_type": "display_data"
    },
    {
     "data": {
      "application/vnd.jupyter.widget-view+json": {
       "model_id": "4ac85f4336374136a3ecdf07e488e3f0",
       "version_major": 2,
       "version_minor": 0
      },
      "text/plain": [
       "  0%|          | 0/1 [00:00<?, ?files/s]"
      ]
     },
     "metadata": {},
     "output_type": "display_data"
    },
    {
     "data": {
      "application/vnd.jupyter.widget-view+json": {
       "model_id": "c127a8c939214df88d9cfc7acfc64987",
       "version_major": 2,
       "version_minor": 0
      },
      "text/plain": [
       "  0%|          | 0/1 [00:00<?, ?files/s]"
      ]
     },
     "metadata": {},
     "output_type": "display_data"
    },
    {
     "data": {
      "application/vnd.jupyter.widget-view+json": {
       "model_id": "c2bc56aa61bf44339b359e3b5e5241d4",
       "version_major": 2,
       "version_minor": 0
      },
      "text/plain": [
       "  0%|          | 0/1 [00:00<?, ?files/s]"
      ]
     },
     "metadata": {},
     "output_type": "display_data"
    },
    {
     "data": {
      "application/vnd.jupyter.widget-view+json": {
       "model_id": "510a3d48be324dceb9c16f3d12020532",
       "version_major": 2,
       "version_minor": 0
      },
      "text/plain": [
       "  0%|          | 0/1 [00:00<?, ?files/s]"
      ]
     },
     "metadata": {},
     "output_type": "display_data"
    },
    {
     "data": {
      "application/vnd.jupyter.widget-view+json": {
       "model_id": "c2287fa3680a46b6a83a3e42fe324b85",
       "version_major": 2,
       "version_minor": 0
      },
      "text/plain": [
       "  0%|          | 0/1 [00:00<?, ?files/s]"
      ]
     },
     "metadata": {},
     "output_type": "display_data"
    },
    {
     "data": {
      "application/vnd.jupyter.widget-view+json": {
       "model_id": "3bd899fdcc624a27a43cc11c5f441e7e",
       "version_major": 2,
       "version_minor": 0
      },
      "text/plain": [
       "  0%|          | 0/1 [00:00<?, ?files/s]"
      ]
     },
     "metadata": {},
     "output_type": "display_data"
    },
    {
     "data": {
      "application/vnd.jupyter.widget-view+json": {
       "model_id": "48148368642b4d8faa38c3f112467e28",
       "version_major": 2,
       "version_minor": 0
      },
      "text/plain": [
       "  0%|          | 0/1 [00:00<?, ?files/s]"
      ]
     },
     "metadata": {},
     "output_type": "display_data"
    },
    {
     "data": {
      "application/vnd.jupyter.widget-view+json": {
       "model_id": "1d2a02251ee94eff80e4554723fa9fed",
       "version_major": 2,
       "version_minor": 0
      },
      "text/plain": [
       "  0%|          | 0/1 [00:00<?, ?files/s]"
      ]
     },
     "metadata": {},
     "output_type": "display_data"
    },
    {
     "data": {
      "application/vnd.jupyter.widget-view+json": {
       "model_id": "e2348012b47548e79668a874e0ec6dc7",
       "version_major": 2,
       "version_minor": 0
      },
      "text/plain": [
       "  0%|          | 0/1 [00:00<?, ?files/s]"
      ]
     },
     "metadata": {},
     "output_type": "display_data"
    },
    {
     "data": {
      "application/vnd.jupyter.widget-view+json": {
       "model_id": "6acbda5216ed41ac9b96b6cccef64306",
       "version_major": 2,
       "version_minor": 0
      },
      "text/plain": [
       "  0%|          | 0/1 [00:00<?, ?files/s]"
      ]
     },
     "metadata": {},
     "output_type": "display_data"
    },
    {
     "data": {
      "application/vnd.jupyter.widget-view+json": {
       "model_id": "1cdf2e60279247c097b69369aaf82813",
       "version_major": 2,
       "version_minor": 0
      },
      "text/plain": [
       "  0%|          | 0/1 [00:00<?, ?files/s]"
      ]
     },
     "metadata": {},
     "output_type": "display_data"
    },
    {
     "data": {
      "application/vnd.jupyter.widget-view+json": {
       "model_id": "36c71672bc4f4da1a51c8843c0ea8b2c",
       "version_major": 2,
       "version_minor": 0
      },
      "text/plain": [
       "  0%|          | 0/1 [00:00<?, ?files/s]"
      ]
     },
     "metadata": {},
     "output_type": "display_data"
    },
    {
     "data": {
      "application/vnd.jupyter.widget-view+json": {
       "model_id": "df367afaf51d4610b6eb010a6c30060b",
       "version_major": 2,
       "version_minor": 0
      },
      "text/plain": [
       "  0%|          | 0/1 [00:00<?, ?files/s]"
      ]
     },
     "metadata": {},
     "output_type": "display_data"
    },
    {
     "data": {
      "application/vnd.jupyter.widget-view+json": {
       "model_id": "c620c06ab4884e91be1e7b84517a30d0",
       "version_major": 2,
       "version_minor": 0
      },
      "text/plain": [
       "  0%|          | 0/1 [00:00<?, ?files/s]"
      ]
     },
     "metadata": {},
     "output_type": "display_data"
    },
    {
     "data": {
      "application/vnd.jupyter.widget-view+json": {
       "model_id": "37105615fb5a40e681c9167649f5e082",
       "version_major": 2,
       "version_minor": 0
      },
      "text/plain": [
       "  0%|          | 0/1 [00:00<?, ?files/s]"
      ]
     },
     "metadata": {},
     "output_type": "display_data"
    },
    {
     "data": {
      "application/vnd.jupyter.widget-view+json": {
       "model_id": "36cdcf9e333b46e6ba6ec1788f0a7a78",
       "version_major": 2,
       "version_minor": 0
      },
      "text/plain": [
       "  0%|          | 0/1 [00:00<?, ?files/s]"
      ]
     },
     "metadata": {},
     "output_type": "display_data"
    },
    {
     "data": {
      "application/vnd.jupyter.widget-view+json": {
       "model_id": "cca5c7bd0b3442b28c757b0485506fc4",
       "version_major": 2,
       "version_minor": 0
      },
      "text/plain": [
       "  0%|          | 0/1 [00:00<?, ?files/s]"
      ]
     },
     "metadata": {},
     "output_type": "display_data"
    },
    {
     "data": {
      "application/vnd.jupyter.widget-view+json": {
       "model_id": "ed79c66ca01f4000bba317fd15ff8786",
       "version_major": 2,
       "version_minor": 0
      },
      "text/plain": [
       "  0%|          | 0/1 [00:00<?, ?files/s]"
      ]
     },
     "metadata": {},
     "output_type": "display_data"
    },
    {
     "data": {
      "application/vnd.jupyter.widget-view+json": {
       "model_id": "fa6af132a29d4fbdab205842b72a9fee",
       "version_major": 2,
       "version_minor": 0
      },
      "text/plain": [
       "  0%|          | 0/1 [00:00<?, ?files/s]"
      ]
     },
     "metadata": {},
     "output_type": "display_data"
    },
    {
     "data": {
      "application/vnd.jupyter.widget-view+json": {
       "model_id": "68f86174d301454cbfad566334b193fc",
       "version_major": 2,
       "version_minor": 0
      },
      "text/plain": [
       "  0%|          | 0/1 [00:00<?, ?files/s]"
      ]
     },
     "metadata": {},
     "output_type": "display_data"
    },
    {
     "data": {
      "application/vnd.jupyter.widget-view+json": {
       "model_id": "614dac1e81d442448de0430adc1b4a91",
       "version_major": 2,
       "version_minor": 0
      },
      "text/plain": [
       "  0%|          | 0/1 [00:00<?, ?files/s]"
      ]
     },
     "metadata": {},
     "output_type": "display_data"
    },
    {
     "data": {
      "application/vnd.jupyter.widget-view+json": {
       "model_id": "08d362678d6442dc9ecb0e56fd288548",
       "version_major": 2,
       "version_minor": 0
      },
      "text/plain": [
       "  0%|          | 0/1 [00:00<?, ?files/s]"
      ]
     },
     "metadata": {},
     "output_type": "display_data"
    },
    {
     "data": {
      "application/vnd.jupyter.widget-view+json": {
       "model_id": "1645a83bed094562b6294a0e6d9e5066",
       "version_major": 2,
       "version_minor": 0
      },
      "text/plain": [
       "  0%|          | 0/1 [00:00<?, ?files/s]"
      ]
     },
     "metadata": {},
     "output_type": "display_data"
    },
    {
     "data": {
      "application/vnd.jupyter.widget-view+json": {
       "model_id": "16c739cb045f4740889cd501b87d56c7",
       "version_major": 2,
       "version_minor": 0
      },
      "text/plain": [
       "  0%|          | 0/1 [00:00<?, ?files/s]"
      ]
     },
     "metadata": {},
     "output_type": "display_data"
    },
    {
     "data": {
      "application/vnd.jupyter.widget-view+json": {
       "model_id": "0af7a9c98c1546d1bee2c818377d439f",
       "version_major": 2,
       "version_minor": 0
      },
      "text/plain": [
       "  0%|          | 0/1 [00:00<?, ?files/s]"
      ]
     },
     "metadata": {},
     "output_type": "display_data"
    },
    {
     "data": {
      "application/vnd.jupyter.widget-view+json": {
       "model_id": "591617d8659c44acb42c43d5276fd0ce",
       "version_major": 2,
       "version_minor": 0
      },
      "text/plain": [
       "  0%|          | 0/1 [00:00<?, ?files/s]"
      ]
     },
     "metadata": {},
     "output_type": "display_data"
    },
    {
     "data": {
      "application/vnd.jupyter.widget-view+json": {
       "model_id": "3291820a197248b4bb3edb53e28c42d6",
       "version_major": 2,
       "version_minor": 0
      },
      "text/plain": [
       "  0%|          | 0/1 [00:00<?, ?files/s]"
      ]
     },
     "metadata": {},
     "output_type": "display_data"
    },
    {
     "data": {
      "application/vnd.jupyter.widget-view+json": {
       "model_id": "1780324834f942818d2049b5bd5edc7c",
       "version_major": 2,
       "version_minor": 0
      },
      "text/plain": [
       "  0%|          | 0/1 [00:00<?, ?files/s]"
      ]
     },
     "metadata": {},
     "output_type": "display_data"
    },
    {
     "data": {
      "application/vnd.jupyter.widget-view+json": {
       "model_id": "fa8bb1579c4f46a1a7b1ed6a2b819c52",
       "version_major": 2,
       "version_minor": 0
      },
      "text/plain": [
       "  0%|          | 0/1 [00:00<?, ?files/s]"
      ]
     },
     "metadata": {},
     "output_type": "display_data"
    },
    {
     "data": {
      "application/vnd.jupyter.widget-view+json": {
       "model_id": "608084b59e684a31b6dca37a7b358343",
       "version_major": 2,
       "version_minor": 0
      },
      "text/plain": [
       "  0%|          | 0/1 [00:00<?, ?files/s]"
      ]
     },
     "metadata": {},
     "output_type": "display_data"
    },
    {
     "data": {
      "application/vnd.jupyter.widget-view+json": {
       "model_id": "d668d3c2ecbd45a1a8c2511df9e8036e",
       "version_major": 2,
       "version_minor": 0
      },
      "text/plain": [
       "  0%|          | 0/1 [00:00<?, ?files/s]"
      ]
     },
     "metadata": {},
     "output_type": "display_data"
    },
    {
     "data": {
      "application/vnd.jupyter.widget-view+json": {
       "model_id": "69d781e5d65840dcbfeed0f1d61f7cf5",
       "version_major": 2,
       "version_minor": 0
      },
      "text/plain": [
       "  0%|          | 0/1 [00:00<?, ?files/s]"
      ]
     },
     "metadata": {},
     "output_type": "display_data"
    },
    {
     "data": {
      "application/vnd.jupyter.widget-view+json": {
       "model_id": "1a2baf508f9941c8a32cba8ee13f2028",
       "version_major": 2,
       "version_minor": 0
      },
      "text/plain": [
       "  0%|          | 0/1 [00:00<?, ?files/s]"
      ]
     },
     "metadata": {},
     "output_type": "display_data"
    },
    {
     "data": {
      "application/vnd.jupyter.widget-view+json": {
       "model_id": "593a3be49c4e4b4ea4125a70f2843bea",
       "version_major": 2,
       "version_minor": 0
      },
      "text/plain": [
       "  0%|          | 0/1 [00:00<?, ?files/s]"
      ]
     },
     "metadata": {},
     "output_type": "display_data"
    },
    {
     "data": {
      "application/vnd.jupyter.widget-view+json": {
       "model_id": "b4916e0f28f74518b0291a1e7990b9bd",
       "version_major": 2,
       "version_minor": 0
      },
      "text/plain": [
       "  0%|          | 0/1 [00:00<?, ?files/s]"
      ]
     },
     "metadata": {},
     "output_type": "display_data"
    },
    {
     "data": {
      "application/vnd.jupyter.widget-view+json": {
       "model_id": "ade7ccc252c34cd093040278dc209046",
       "version_major": 2,
       "version_minor": 0
      },
      "text/plain": [
       "  0%|          | 0/1 [00:00<?, ?files/s]"
      ]
     },
     "metadata": {},
     "output_type": "display_data"
    },
    {
     "data": {
      "application/vnd.jupyter.widget-view+json": {
       "model_id": "e3c594b2c0fb407282f5ac08c820fdba",
       "version_major": 2,
       "version_minor": 0
      },
      "text/plain": [
       "  0%|          | 0/1 [00:00<?, ?files/s]"
      ]
     },
     "metadata": {},
     "output_type": "display_data"
    },
    {
     "data": {
      "application/vnd.jupyter.widget-view+json": {
       "model_id": "fd51970b00ef4cdea4fbb4efb917f359",
       "version_major": 2,
       "version_minor": 0
      },
      "text/plain": [
       "  0%|          | 0/1 [00:00<?, ?files/s]"
      ]
     },
     "metadata": {},
     "output_type": "display_data"
    },
    {
     "data": {
      "application/vnd.jupyter.widget-view+json": {
       "model_id": "d904405de8884c748d42e48744982c9e",
       "version_major": 2,
       "version_minor": 0
      },
      "text/plain": [
       "  0%|          | 0/1 [00:00<?, ?files/s]"
      ]
     },
     "metadata": {},
     "output_type": "display_data"
    },
    {
     "data": {
      "application/vnd.jupyter.widget-view+json": {
       "model_id": "eb420285b93d47b6b40060b1a4af1e4a",
       "version_major": 2,
       "version_minor": 0
      },
      "text/plain": [
       "  0%|          | 0/1 [00:00<?, ?files/s]"
      ]
     },
     "metadata": {},
     "output_type": "display_data"
    },
    {
     "data": {
      "application/vnd.jupyter.widget-view+json": {
       "model_id": "ec2a8998a2734387ad50ceca66eaf0ef",
       "version_major": 2,
       "version_minor": 0
      },
      "text/plain": [
       "  0%|          | 0/1 [00:00<?, ?files/s]"
      ]
     },
     "metadata": {},
     "output_type": "display_data"
    },
    {
     "data": {
      "application/vnd.jupyter.widget-view+json": {
       "model_id": "82e27a65fb98419ba8918e174415a748",
       "version_major": 2,
       "version_minor": 0
      },
      "text/plain": [
       "  0%|          | 0/1 [00:00<?, ?files/s]"
      ]
     },
     "metadata": {},
     "output_type": "display_data"
    },
    {
     "data": {
      "application/vnd.jupyter.widget-view+json": {
       "model_id": "7a54abcc12e141fcad7180b77a421c44",
       "version_major": 2,
       "version_minor": 0
      },
      "text/plain": [
       "  0%|          | 0/1 [00:00<?, ?files/s]"
      ]
     },
     "metadata": {},
     "output_type": "display_data"
    },
    {
     "data": {
      "application/vnd.jupyter.widget-view+json": {
       "model_id": "afefc0d798cb4d66a9b67b51818f5050",
       "version_major": 2,
       "version_minor": 0
      },
      "text/plain": [
       "  0%|          | 0/1 [00:00<?, ?files/s]"
      ]
     },
     "metadata": {},
     "output_type": "display_data"
    },
    {
     "data": {
      "application/vnd.jupyter.widget-view+json": {
       "model_id": "dba56326838743d6aaf403c19dfb38a0",
       "version_major": 2,
       "version_minor": 0
      },
      "text/plain": [
       "  0%|          | 0/1 [00:00<?, ?files/s]"
      ]
     },
     "metadata": {},
     "output_type": "display_data"
    },
    {
     "data": {
      "application/vnd.jupyter.widget-view+json": {
       "model_id": "7f07cf2b26f343d9999948cc5dfca177",
       "version_major": 2,
       "version_minor": 0
      },
      "text/plain": [
       "  0%|          | 0/1 [00:00<?, ?files/s]"
      ]
     },
     "metadata": {},
     "output_type": "display_data"
    },
    {
     "data": {
      "application/vnd.jupyter.widget-view+json": {
       "model_id": "a5f7efc718ce46d0a3d9626ae81aa530",
       "version_major": 2,
       "version_minor": 0
      },
      "text/plain": [
       "  0%|          | 0/1 [00:00<?, ?files/s]"
      ]
     },
     "metadata": {},
     "output_type": "display_data"
    },
    {
     "data": {
      "application/vnd.jupyter.widget-view+json": {
       "model_id": "a5a65945e15941faa53ebbdb7f629e7f",
       "version_major": 2,
       "version_minor": 0
      },
      "text/plain": [
       "  0%|          | 0/1 [00:00<?, ?files/s]"
      ]
     },
     "metadata": {},
     "output_type": "display_data"
    },
    {
     "data": {
      "application/vnd.jupyter.widget-view+json": {
       "model_id": "01a2e109d76e4f3396ff269b7e5f2008",
       "version_major": 2,
       "version_minor": 0
      },
      "text/plain": [
       "  0%|          | 0/1 [00:00<?, ?files/s]"
      ]
     },
     "metadata": {},
     "output_type": "display_data"
    },
    {
     "data": {
      "application/vnd.jupyter.widget-view+json": {
       "model_id": "ad7ec247b92446668799dec654d44c54",
       "version_major": 2,
       "version_minor": 0
      },
      "text/plain": [
       "  0%|          | 0/1 [00:00<?, ?files/s]"
      ]
     },
     "metadata": {},
     "output_type": "display_data"
    },
    {
     "data": {
      "application/vnd.jupyter.widget-view+json": {
       "model_id": "8395fb6dd4dc49859ba0d2eafb185780",
       "version_major": 2,
       "version_minor": 0
      },
      "text/plain": [
       "  0%|          | 0/1 [00:00<?, ?files/s]"
      ]
     },
     "metadata": {},
     "output_type": "display_data"
    },
    {
     "data": {
      "application/vnd.jupyter.widget-view+json": {
       "model_id": "411712263db64b77a5dd4baf7fa7619f",
       "version_major": 2,
       "version_minor": 0
      },
      "text/plain": [
       "  0%|          | 0/1 [00:00<?, ?files/s]"
      ]
     },
     "metadata": {},
     "output_type": "display_data"
    },
    {
     "data": {
      "application/vnd.jupyter.widget-view+json": {
       "model_id": "4165c7bae684447eb14843182736c98a",
       "version_major": 2,
       "version_minor": 0
      },
      "text/plain": [
       "  0%|          | 0/1 [00:00<?, ?files/s]"
      ]
     },
     "metadata": {},
     "output_type": "display_data"
    },
    {
     "data": {
      "application/vnd.jupyter.widget-view+json": {
       "model_id": "a237a7acbe1b4e8e9530f6733f89c333",
       "version_major": 2,
       "version_minor": 0
      },
      "text/plain": [
       "  0%|          | 0/1 [00:00<?, ?files/s]"
      ]
     },
     "metadata": {},
     "output_type": "display_data"
    },
    {
     "data": {
      "application/vnd.jupyter.widget-view+json": {
       "model_id": "278c2a8746b14d79ae8d71734d5c4581",
       "version_major": 2,
       "version_minor": 0
      },
      "text/plain": [
       "  0%|          | 0/1 [00:00<?, ?files/s]"
      ]
     },
     "metadata": {},
     "output_type": "display_data"
    },
    {
     "data": {
      "application/vnd.jupyter.widget-view+json": {
       "model_id": "d5bf9341f3ac429a819ea7b988f42865",
       "version_major": 2,
       "version_minor": 0
      },
      "text/plain": [
       "  0%|          | 0/1 [00:00<?, ?files/s]"
      ]
     },
     "metadata": {},
     "output_type": "display_data"
    },
    {
     "data": {
      "application/vnd.jupyter.widget-view+json": {
       "model_id": "fa931812a5f34889a8520a431e0391f4",
       "version_major": 2,
       "version_minor": 0
      },
      "text/plain": [
       "  0%|          | 0/1 [00:00<?, ?files/s]"
      ]
     },
     "metadata": {},
     "output_type": "display_data"
    },
    {
     "data": {
      "application/vnd.jupyter.widget-view+json": {
       "model_id": "b2164eaf869b49c2b3cd65d2f3773e99",
       "version_major": 2,
       "version_minor": 0
      },
      "text/plain": [
       "  0%|          | 0/1 [00:00<?, ?files/s]"
      ]
     },
     "metadata": {},
     "output_type": "display_data"
    },
    {
     "data": {
      "application/vnd.jupyter.widget-view+json": {
       "model_id": "8d7e30b298ed4a76bdb23fbe0ab741c1",
       "version_major": 2,
       "version_minor": 0
      },
      "text/plain": [
       "  0%|          | 0/1 [00:00<?, ?files/s]"
      ]
     },
     "metadata": {},
     "output_type": "display_data"
    },
    {
     "data": {
      "application/vnd.jupyter.widget-view+json": {
       "model_id": "0e60ae1cf491403db056eb2b2df8ed0d",
       "version_major": 2,
       "version_minor": 0
      },
      "text/plain": [
       "  0%|          | 0/1 [00:00<?, ?files/s]"
      ]
     },
     "metadata": {},
     "output_type": "display_data"
    },
    {
     "data": {
      "application/vnd.jupyter.widget-view+json": {
       "model_id": "3a487d46144549d185df66a344bd72e5",
       "version_major": 2,
       "version_minor": 0
      },
      "text/plain": [
       "  0%|          | 0/1 [00:00<?, ?files/s]"
      ]
     },
     "metadata": {},
     "output_type": "display_data"
    },
    {
     "data": {
      "application/vnd.jupyter.widget-view+json": {
       "model_id": "9efe0d932c7843438a6b690d76209468",
       "version_major": 2,
       "version_minor": 0
      },
      "text/plain": [
       "  0%|          | 0/1 [00:00<?, ?files/s]"
      ]
     },
     "metadata": {},
     "output_type": "display_data"
    },
    {
     "data": {
      "application/vnd.jupyter.widget-view+json": {
       "model_id": "e45357a5eea6472f8b8030d49ba6ac90",
       "version_major": 2,
       "version_minor": 0
      },
      "text/plain": [
       "  0%|          | 0/1 [00:00<?, ?files/s]"
      ]
     },
     "metadata": {},
     "output_type": "display_data"
    },
    {
     "data": {
      "application/vnd.jupyter.widget-view+json": {
       "model_id": "921663098ee24efcbc9dc425087d7f5f",
       "version_major": 2,
       "version_minor": 0
      },
      "text/plain": [
       "  0%|          | 0/1 [00:00<?, ?files/s]"
      ]
     },
     "metadata": {},
     "output_type": "display_data"
    },
    {
     "data": {
      "application/vnd.jupyter.widget-view+json": {
       "model_id": "0edc9e200cec43528056ddbbfdc71115",
       "version_major": 2,
       "version_minor": 0
      },
      "text/plain": [
       "  0%|          | 0/1 [00:00<?, ?files/s]"
      ]
     },
     "metadata": {},
     "output_type": "display_data"
    },
    {
     "data": {
      "application/vnd.jupyter.widget-view+json": {
       "model_id": "c2e9d5bfc71c41ffbd54d47386b5ae7e",
       "version_major": 2,
       "version_minor": 0
      },
      "text/plain": [
       "  0%|          | 0/1 [00:00<?, ?files/s]"
      ]
     },
     "metadata": {},
     "output_type": "display_data"
    },
    {
     "data": {
      "application/vnd.jupyter.widget-view+json": {
       "model_id": "35b6bfbf5390487083160ca35d07df6d",
       "version_major": 2,
       "version_minor": 0
      },
      "text/plain": [
       "  0%|          | 0/1 [00:00<?, ?files/s]"
      ]
     },
     "metadata": {},
     "output_type": "display_data"
    },
    {
     "data": {
      "application/vnd.jupyter.widget-view+json": {
       "model_id": "9a4735df4b5e48bf96f596dc413ff8e0",
       "version_major": 2,
       "version_minor": 0
      },
      "text/plain": [
       "  0%|          | 0/1 [00:00<?, ?files/s]"
      ]
     },
     "metadata": {},
     "output_type": "display_data"
    },
    {
     "data": {
      "application/vnd.jupyter.widget-view+json": {
       "model_id": "84496cc97f8a480b8b7e175375a7f7b5",
       "version_major": 2,
       "version_minor": 0
      },
      "text/plain": [
       "  0%|          | 0/1 [00:00<?, ?files/s]"
      ]
     },
     "metadata": {},
     "output_type": "display_data"
    },
    {
     "data": {
      "application/vnd.jupyter.widget-view+json": {
       "model_id": "e9393ea013b248808c9049ebafb1ebc2",
       "version_major": 2,
       "version_minor": 0
      },
      "text/plain": [
       "  0%|          | 0/1 [00:00<?, ?files/s]"
      ]
     },
     "metadata": {},
     "output_type": "display_data"
    },
    {
     "data": {
      "application/vnd.jupyter.widget-view+json": {
       "model_id": "205a59c9ae1741b6991963f7fdb08e9c",
       "version_major": 2,
       "version_minor": 0
      },
      "text/plain": [
       "  0%|          | 0/1 [00:00<?, ?files/s]"
      ]
     },
     "metadata": {},
     "output_type": "display_data"
    },
    {
     "data": {
      "application/vnd.jupyter.widget-view+json": {
       "model_id": "d33fbde94c8343d78b32baaac2bc5cdc",
       "version_major": 2,
       "version_minor": 0
      },
      "text/plain": [
       "  0%|          | 0/1 [00:00<?, ?files/s]"
      ]
     },
     "metadata": {},
     "output_type": "display_data"
    },
    {
     "data": {
      "application/vnd.jupyter.widget-view+json": {
       "model_id": "3f80045203ea4ab1b1279ff116ac371f",
       "version_major": 2,
       "version_minor": 0
      },
      "text/plain": [
       "  0%|          | 0/1 [00:00<?, ?files/s]"
      ]
     },
     "metadata": {},
     "output_type": "display_data"
    },
    {
     "data": {
      "application/vnd.jupyter.widget-view+json": {
       "model_id": "43db0a1b3ba2486d9b4c2eb21cc4c286",
       "version_major": 2,
       "version_minor": 0
      },
      "text/plain": [
       "  0%|          | 0/1 [00:00<?, ?files/s]"
      ]
     },
     "metadata": {},
     "output_type": "display_data"
    },
    {
     "data": {
      "application/vnd.jupyter.widget-view+json": {
       "model_id": "b0833429deee4107be86f9f4b522d1ec",
       "version_major": 2,
       "version_minor": 0
      },
      "text/plain": [
       "  0%|          | 0/1 [00:00<?, ?files/s]"
      ]
     },
     "metadata": {},
     "output_type": "display_data"
    },
    {
     "data": {
      "application/vnd.jupyter.widget-view+json": {
       "model_id": "c113116e6b414e9a8c1ea18e282cccf6",
       "version_major": 2,
       "version_minor": 0
      },
      "text/plain": [
       "  0%|          | 0/1 [00:00<?, ?files/s]"
      ]
     },
     "metadata": {},
     "output_type": "display_data"
    },
    {
     "data": {
      "application/vnd.jupyter.widget-view+json": {
       "model_id": "61ccaaff5d224875bea01049abe3317f",
       "version_major": 2,
       "version_minor": 0
      },
      "text/plain": [
       "  0%|          | 0/1 [00:00<?, ?files/s]"
      ]
     },
     "metadata": {},
     "output_type": "display_data"
    },
    {
     "data": {
      "application/vnd.jupyter.widget-view+json": {
       "model_id": "bfd1890357d14755aebbcd41db117980",
       "version_major": 2,
       "version_minor": 0
      },
      "text/plain": [
       "  0%|          | 0/1 [00:00<?, ?files/s]"
      ]
     },
     "metadata": {},
     "output_type": "display_data"
    },
    {
     "data": {
      "application/vnd.jupyter.widget-view+json": {
       "model_id": "be0614be59134f4183a39c327189fd9b",
       "version_major": 2,
       "version_minor": 0
      },
      "text/plain": [
       "  0%|          | 0/1 [00:00<?, ?files/s]"
      ]
     },
     "metadata": {},
     "output_type": "display_data"
    }
   ],
   "source": [
    "results = []\n",
    "\n",
    "for author in candidates:\n",
    "    files = get_phi5_author_files(author, author_index)\n",
    "    #     cicero_lemmas, cicero_inflected_words = get_word_counts(cicero_files)    \n",
    "    for file in files:\n",
    "        author_inflected_words, author_lemmas = get_word_counts([file])    \n",
    "        author_words = set(author_lemmas.keys())\n",
    "        cicero_words = set(cicero_lemmas.keys())\n",
    "        common = author_words & cicero_words\n",
    "        author_uniq  = author_words - common \n",
    "        P_one_x_lemma_unigram = round(len(author_uniq) / sum(author_lemmas.values()),3)\n",
    "        author_words = set(author_inflected_words.keys())\n",
    "        cicero_words = set(cicero_inflected_words.keys())\n",
    "        common = author_words & cicero_words\n",
    "        author_uniq  = author_words - common \n",
    "        P_one_x_inflected_unigram = round(len(author_uniq) / sum(author_inflected_words.values()), 3)\n",
    "        results.append((author, file, sum(author_inflected_words.values()), P_one_x_inflected_unigram, P_one_x_lemma_unigram))"
   ]
  },
  {
   "cell_type": "code",
   "execution_count": 30,
   "metadata": {},
   "outputs": [
    {
     "name": "stdout",
     "output_type": "stream",
     "text": [
      "Gaius Iulius Caesar, Caesar 286 0.0034965034965034965 0.006993006993006993\n",
      "Gaius Iulius Caesar, Caesar 134 0.08955223880597014 0.13432835820895522\n",
      "Gaius Iulius Caesar, Caesar 386 0.0025906735751295338 0.0025906735751295338\n",
      "Gaius Iulius Caesar, Caesar 49 0.061224489795918366 0.20408163265306123\n",
      "Gaius Iulius Caesar, Caesar 33437 0.014923587642432037 0.0506923468014475\n",
      "Gaius Iulius Caesar, Caesar 179 0.027932960893854747 0.061452513966480445\n",
      "Gaius Iulius Caesar, Caesar 46014 0.018603033859260223 0.05059329769200678\n",
      "C. Iul. Caes. Augustus Octavianus 2398 0.26980817347789826 0.2964970809007506\n",
      "C. Iul. Caes. Augustus Octavianus 85 0.07058823529411765 0.12941176470588237\n",
      "C. Iul. Caes. Augustus Octavianus 1424 0.07935393258426966 0.12289325842696629\n",
      "C. Iul. Caes. Augustus Octavianus 33 0.030303030303030304 0.12121212121212122\n",
      "C. Iul. Caes. Augustus Octavianus 69 0.11594202898550725 0.21739130434782608\n",
      "C. Iul. Caes. Augustus Octavianus 338 0.08875739644970414 0.1301775147928994\n",
      "C. Iul. Caes. Augustus Octavianus 767 0.07953063885267275 0.1290743155149935\n",
      "Publius Vergilius Maro, Virgil, Vergil 67238 0.03246675986793182 0.09195692911746334\n",
      "Publius Vergilius Maro, Virgil, Vergil 14849 0.05912856084584821 0.16149235638763554\n",
      "Publius Vergilius Maro, Virgil, Vergil 5781 0.05794845182494378 0.13527071440927174\n",
      "Gaius Suetonius Tranquillus 4317 0.0463284688441047 0.09520500347463516\n",
      "Gaius Suetonius Tranquillus 2274 0.06904133685136324 0.14160070360598065\n",
      "Gaius Suetonius Tranquillus 596 0.07885906040268456 0.12583892617449666\n",
      "Gaius Suetonius Tranquillus 1660 0.03855421686746988 0.09397590361445783\n",
      "Gaius Suetonius Tranquillus 92 0.08695652173913043 0.18478260869565216\n",
      "Gaius Suetonius Tranquillus 72536 0.03228741590382707 0.09651759126502703\n",
      "Marcus Terentius Varro, Varro 360 0.23055555555555557 0.3055555555555556\n",
      "Marcus Terentius Varro, Varro 1347 0.06087602078693393 0.11729769858945806\n",
      "Marcus Terentius Varro, Varro 36323 0.039451587148638605 0.09470583376923712\n",
      "Marcus Terentius Varro, Varro 115 0.034782608695652174 0.06086956521739131\n",
      "Marcus Terentius Varro, Varro 354 0.08757062146892655 0.1327683615819209\n",
      "Marcus Terentius Varro, Varro 167 0.11976047904191617 0.16167664670658682\n",
      "Marcus Terentius Varro, Varro 40767 0.04623837908111953 0.08455368312605784\n",
      "Marcus Terentius Varro, Varro 16 0.0625 0.125\n",
      "Marcus Terentius Varro, Varro 6577 0.11038467386346358 0.1947696518169378\n",
      "Marcus Terentius Varro, Varro 134 0.1044776119402985 0.15671641791044777\n",
      "Marcus Terentius Varro, Varro 1052 0.03136882129277566 0.06844106463878327\n",
      "Marcus Terentius Varro, Varro 99 0.1111111111111111 0.15151515151515152\n",
      "Marcus Terentius Varro, Varro 108 0.08333333333333333 0.1111111111111111\n",
      "Marcus Terentius Varro, Varro 1990 0.07135678391959799 0.13919597989949747\n",
      "Marcus Terentius Varro, Varro 34 0.029411764705882353 0.058823529411764705\n",
      "Marcus Terentius Varro, Varro 880 0.09659090909090909 0.15454545454545454\n",
      "Cornelius Tacitus 6889 0.03512846566990855 0.1029176948758891\n",
      "Cornelius Tacitus 9421 0.016771043413650356 0.0633690691009447\n",
      "Cornelius Tacitus 5689 0.04605378801195289 0.11706802601511689\n",
      "Cornelius Tacitus 91347 0.02934962286665134 0.0882897084742794\n",
      "Cornelius Tacitus 52847 0.030313925104547088 0.09620224421443034\n",
      "Titus Livius, Livy 1284 0.14330218068535824 0.16978193146417445\n",
      "Titus Livius, Livy 20763 0.034484419399894044 0.06530848143331888\n",
      "Titus Livius, Livy 1275 0.054901960784313725 0.10823529411764705\n",
      "Titus Livius, Livy 516063 0.010702181710372571 0.039026242919953574\n",
      "Lucius Annaeus Seneca senior 68556 0.01849582822801797 0.05808390221133088\n",
      "Lucius Annaeus Seneca senior 19571 0.012365234275203106 0.057227530529865615\n",
      "Lucius Annaeus Seneca senior 10322 0.030323580701414454 0.08002325130788607\n",
      "Lucius Annaeus Seneca senior 24 0.041666666666666664 0.08333333333333333\n",
      "Quintus Horatius Flaccus, Horace 14601 0.044517498801451956 0.11910143140880762\n",
      "Quintus Horatius Flaccus, Horace 10120 0.04189723320158103 0.12282608695652174\n",
      "Quintus Horatius Flaccus, Horace 3214 0.04169259489732421 0.12258867454884878\n",
      "Quintus Horatius Flaccus, Horace 337 0.06528189910979229 0.1572700296735905\n",
      "Quintus Horatius Flaccus, Horace 3084 0.07652399481193256 0.19649805447470817\n",
      "Quintus Horatius Flaccus, Horace 13669 0.06511083473553296 0.16826395493452337\n",
      "Gaius Sallustius Crispus 1210 0.05206611570247934 0.11735537190082644\n",
      "Gaius Sallustius Crispus 4223 0.026284631778356618 0.07861709685058016\n",
      "Gaius Sallustius Crispus 212 0.15566037735849056 0.20754716981132076\n",
      "Gaius Sallustius Crispus 4080 0.015931372549019607 0.050490196078431374\n",
      "Gaius Sallustius Crispus 4047 0.05114899925871016 0.12725475660983446\n",
      "Gaius Sallustius Crispus 21650 0.01861431870669746 0.05796766743648961\n",
      "Gaius Sallustius Crispus 10866 0.01582919197496779 0.05135284373274434\n",
      "Gaius Sallustius Crispus 720 0.0125 0.05\n",
      "Titus Lucretius Carus 703 0.05689900426742532 0.09103840682788052\n",
      "Titus Lucretius Carus 67 0.08955223880597014 0.208955223880597\n",
      "Titus Lucretius Carus 50559 0.02177653830178603 0.06762396408156807\n",
      "Lucius Annaeus Seneca iunior 7208 0.04869589345172031 0.14983351831298558\n",
      "Lucius Annaeus Seneca iunior 3037 0.057951926243002966 0.10997695093842608\n",
      "Lucius Annaeus Seneca iunior 5261 0.02033833871887474 0.08705569283406196\n",
      "Lucius Annaeus Seneca iunior 5686 0.048012662680267326 0.1429827646851917\n",
      "Lucius Annaeus Seneca iunior 76269 0.012403466677155856 0.06980555664817947\n",
      "Lucius Annaeus Seneca iunior 5959 0.04967276388655815 0.15774458801812385\n",
      "Lucius Annaeus Seneca iunior 5592 0.0536480686695279 0.14914163090128754\n",
      "Lucius Annaeus Seneca iunior 45899 0.011459944661103727 0.0556439138107584\n",
      "Lucius Annaeus Seneca iunior 4147 0.027489751627682663 0.10851217747769472\n",
      "Lucius Annaeus Seneca iunior 6853 0.03896103896103896 0.11688311688311688\n",
      "Lucius Annaeus Seneca iunior 48052 0.01783484558395072 0.07446100058270207\n",
      "Lucius Annaeus Seneca iunior 8316 0.015993265993265993 0.06962481962481963\n",
      "Lucius Annaeus Seneca iunior 120945 0.014089048741163339 0.058663028649386086\n",
      "Lucius Annaeus Seneca iunior 7736 0.03968459152016546 0.13094622543950363\n",
      "Lucius Annaeus Seneca iunior 11471 0.04010112457501525 0.11550867404759829\n",
      "Lucius Annaeus Seneca iunior 6320 0.034968354430379746 0.13069620253164557\n"
     ]
    }
   ],
   "source": [
    "for author, _, count, P_one_x_inflected_unigram, P_one_x_lemma_unigram in results:\n",
    "    if P_one_x_lemma_unigram != 0.0:\n",
    "        print (author, count, P_one_x_inflected_unigram, P_one_x_lemma_unigram)\n",
    "# Cicero's values for:\n",
    "# Probability of unigrams that occur once, Probability of a lemmatized unigram occurring once\n",
    "# (0.02892407263780054, 0.008905886443261747)  Cicero's values for"
   ]
  },
  {
   "cell_type": "code",
   "execution_count": 41,
   "metadata": {},
   "outputs": [
    {
     "data": {
      "text/plain": [
       "612"
      ]
     },
     "execution_count": 41,
     "metadata": {},
     "output_type": "execute_result"
    }
   ],
   "source": [
    "aquinas = glob(\"../data/aquinas/*.txt\")\n",
    "len(aquinas)"
   ]
  },
  {
   "cell_type": "code",
   "execution_count": 43,
   "metadata": {},
   "outputs": [
    {
     "name": "stderr",
     "output_type": "stream",
     "text": [
      "100%|██████████| 612/612 [14:49<00:00,  1.45s/it]\n"
     ]
    }
   ],
   "source": [
    "results = []\n",
    "author='aquinas'\n",
    "for file in tqdm(aquinas):\n",
    "    author_inflected_words, author_lemmas = get_word_counts([file])    \n",
    "    author_words = set(author_lemmas.keys())\n",
    "    cicero_words = set(cicero_lemmas.keys())\n",
    "    common = author_words & cicero_words\n",
    "    author_uniq  = author_words - common \n",
    "    P_one_x_lemma_unigram = len(author_uniq) / sum(author_lemmas.values())\n",
    "    author_words = set(author_inflected_words.keys())\n",
    "    cicero_words = set(cicero_inflected_words.keys())\n",
    "    common = author_words & cicero_words\n",
    "    author_uniq  = author_words - common \n",
    "    P_one_x_inflected_unigram = len(author_uniq) / sum(author_inflected_words.values())\n",
    "    results.append((author, file, sum(author_inflected_words.values()), P_one_x_inflected_unigram, P_one_x_lemma_unigram))\n",
    "    if P_one_x_inflected_unigram <= 0.074:\n",
    "        with open(file, 'rt') as fin:\n",
    "            text = fin.read()\n",
    "            text = text.replace(\"-\\n\", \"\")\n",
    "            text = text.replace(\"\\n\", \" \")\n",
    "            text = aeoe_replacer.replace(jv_replacer.replace(text))\n",
    "            filename = file[file.rfind('/')+1:]\n",
    "            with open(f\"cicero_training_corpus_aquinas/{filename}\", 'wt') as fout:\n",
    "                for sent in sent_toker.tokenize(text):\n",
    "                    sent = dehyphenate(sent) # because it's Phi5\n",
    "                    sent = swallow_braces(sent)\n",
    "                    sent = swallow_square_brackets(sent)\n",
    "                    sent = disappear_round_brackets(sent)\n",
    "                    sent = swallow_obelized_words(sent)\n",
    "                    sent = disappear_angle_brackets(sent)            \n",
    "    #                         sent = drop_punct(sent)\n",
    "                    sent = normalize_accents(sent)\n",
    "                    sentence = [truecase(word, case_counts)\n",
    "                                for word in toker.tokenize(sent) \n",
    "                                if not word.isnumeric()]\n",
    "                    fout.write(f\"{' '.join(sentence)}\\n\")"
   ]
  },
  {
   "cell_type": "code",
   "execution_count": 15,
   "metadata": {},
   "outputs": [
    {
     "data": {
      "text/plain": [
       "[('aquinas',\n",
       "  '../data/aquinas/ccm0.txt',\n",
       "  1134,\n",
       "  0.03262786596119929,\n",
       "  0.06437389770723104),\n",
       " ('aquinas',\n",
       "  '../data/aquinas/cmt00b.txt',\n",
       "  2132,\n",
       "  0.06894934333958724,\n",
       "  0.11538461538461539),\n",
       " ('aquinas',\n",
       "  '../data/aquinas/cih00.txt',\n",
       "  2813,\n",
       "  0.04550302168503377,\n",
       "  0.0810522573764664)]"
      ]
     },
     "execution_count": 15,
     "metadata": {},
     "output_type": "execute_result"
    }
   ],
   "source": [
    "results[:3]"
   ]
  },
  {
   "cell_type": "markdown",
   "metadata": {},
   "source": [
    "# Examine Tesserae Corpus Docs"
   ]
  },
  {
   "cell_type": "code",
   "execution_count": 56,
   "metadata": {},
   "outputs": [
    {
     "name": "stderr",
     "output_type": "stream",
     "text": [
      "100%|██████████| 762/762 [15:13<00:00,  1.20s/it]  \n"
     ]
    }
   ],
   "source": [
    "tesserae = get_corpus_reader(corpus_name='latin_text_tesserae', language='latin')\n",
    "files =tesserae.fileids()\n",
    "\n",
    "results = []\n",
    "tesserae = get_corpus_reader(corpus_name='latin_text_tesserae', language='latin')\n",
    "case_counts = Counter()\n",
    "jv_replacer = JVReplacer()\n",
    "aeoe_replacer = AEOEReplacer()\n",
    "toker = WordTokenizer('latin')\n",
    "sent_toker = SentenceTokenizer()\n",
    "lemmatizer = LemmaReplacer('latin')\n",
    "\n",
    "for file in tqdm(tesserae.fileids(), total=len(tesserae.fileids())): \n",
    "    author_inflected_words, author_lemmas = get_word_counts([ f\"/Users/todd/cltk_data/latin/text/latin_text_tesserae/{file}\" ])    \n",
    "    author_words = set(author_lemmas.keys())\n",
    "    cicero_words = set(cicero_lemmas.keys())\n",
    "    common = author_words & cicero_words\n",
    "    author_uniq  = author_words - common \n",
    "    P_one_x_lemma_unigram = len(author_uniq) / sum(author_lemmas.values())\n",
    "    author_words = set(author_inflected_words.keys())\n",
    "    cicero_words = set(cicero_inflected_words.keys())\n",
    "    common = author_words & cicero_words\n",
    "    author_uniq  = author_words - common \n",
    "    P_one_x_inflected_unigram = len(author_uniq) / sum(author_inflected_words.values())\n",
    "    results.append((author, file, sum(author_inflected_words.values()), P_one_x_inflected_unigram, P_one_x_lemma_unigram))\n",
    "    if P_one_x_inflected_unigram <= 0.074:        \n",
    "        filename = file[file.rfind('/')+1:]\n",
    "        with open(f\"cicero_training_corpus_tesserae/{filename}\", 'wt') as fout:\n",
    "            for sentence in tesserae.sents(file):\n",
    "                sentence = aeoe_replacer.replace(jv_replacer.replace((sentence)))\n",
    "                sentence = normalize_accents(sentence)\n",
    "                sentence = accept_editorial(sentence)\n",
    "#         for token in toker.tokenize(sent):\n",
    "#             case_counts.update({token:1})\n",
    "                for sent in sent_toker.tokenize(sentence):\n",
    "                    sent = dehyphenate(sent) # because it's Phi5\n",
    "                    sent = swallow_braces(sent)\n",
    "                    sent = swallow_square_brackets(sent)\n",
    "                    sent = disappear_round_brackets(sent)\n",
    "                    sent = swallow_obelized_words(sent)\n",
    "                    sent = disappear_angle_brackets(sent)            \n",
    "        #                         sent = drop_punct(sent)\n",
    "                    sent = normalize_accents(sent)\n",
    "                    sent2 = [truecase(word, case_counts)\n",
    "                                for word in toker.tokenize(sent) \n",
    "                                if not word.isnumeric()]\n",
    "                    fout.write(f\"{' '.join(sent2)}\\n\")"
   ]
  },
  {
   "cell_type": "code",
   "execution_count": 18,
   "metadata": {},
   "outputs": [
    {
     "data": {
      "text/plain": [
       "(0.040614957083179186, 0.07611207700363683)"
      ]
     },
     "execution_count": 18,
     "metadata": {},
     "output_type": "execute_result"
    }
   ],
   "source": [
    "authors, files, sizes, lemma_counts, inflected_counts = zip(*results)\n",
    "\n",
    " np.mean(inflected_counts), np.std(inflected_counts)"
   ]
  },
  {
   "cell_type": "code",
   "execution_count": 25,
   "metadata": {},
   "outputs": [
    {
     "data": {
      "text/plain": [
       "(array([ 42., 358., 137.,  44.,  20.,   7.,   1.,   0.,   2.,   1.]),\n",
       " array([0.        , 0.03870968, 0.07741935, 0.11612903, 0.15483871,\n",
       "        0.19354839, 0.23225806, 0.27096774, 0.30967742, 0.3483871 ,\n",
       "        0.38709677]),\n",
       " <a list of 10 Patch objects>)"
      ]
     },
     "execution_count": 25,
     "metadata": {},
     "output_type": "execute_result"
    },
    {
     "data": {
      "image/png": "[encoded data removed]",
      "text/plain": [
       "<Figure size 432x288 with 1 Axes>"
      ]
     },
     "metadata": {
      "needs_background": "light"
     },
     "output_type": "display_data"
    }
   ],
   "source": [
    "plt.hist( inflected_counts, bins=10)"
   ]
  },
  {
   "cell_type": "code",
   "execution_count": 26,
   "metadata": {},
   "outputs": [
    {
     "data": {
      "text/plain": [
       "(array([261., 268.,  53.,  18.,   9.,   0.,   0.,   0.,   1.,   2.]),\n",
       " array([0.        , 0.03333333, 0.06666667, 0.1       , 0.13333333,\n",
       "        0.16666667, 0.2       , 0.23333333, 0.26666667, 0.3       ,\n",
       "        0.33333333]),\n",
       " <a list of 10 Patch objects>)"
      ]
     },
     "execution_count": 26,
     "metadata": {},
     "output_type": "execute_result"
    },
    {
     "data": {
      "image/png": "[encoded data removed]",
      "text/plain": [
       "<Figure size 432x288 with 1 Axes>"
      ]
     },
     "metadata": {
      "needs_background": "light"
     },
     "output_type": "display_data"
    }
   ],
   "source": [
    "plt.hist(lemma_counts, bins=10)"
   ]
  },
  {
   "cell_type": "code",
   "execution_count": null,
   "metadata": {},
   "outputs": [],
   "source": []
  }
 ],
 "metadata": {
  "kernelspec": {
   "display_name": "Python (mlycu3.8)",
   "language": "python",
   "name": "mlycu3.8"
  },
  "language_info": {
   "codemirror_mode": {
    "name": "ipython",
    "version": 3
   },
   "file_extension": ".py",
   "mimetype": "text/x-python",
   "name": "python",
   "nbconvert_exporter": "python",
   "pygments_lexer": "ipython3",
   "version": "3.8.8"
  }
 },
 "nbformat": 4,
 "nbformat_minor": 2
}
