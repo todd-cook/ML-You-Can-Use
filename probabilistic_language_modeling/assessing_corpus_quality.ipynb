{
 "cells": [
  {
   "cell_type": "markdown",
   "metadata": {},
   "source": [
    "# Assessing Corpus Quality\n",
    "### In this notebook, we'll learn about assessing corpus quality and potentially correcting problems. \n",
    "## Potential Problem areas\n",
    "1. Unexpected characters\n",
    "1. Improperly joined words\n",
    "1. Loanwords\n",
    "### We will consider each of these in turn.\n",
    "### Datasets: We'll be using the freely available CLTK datasets of the Latin Library and Perseus Latin texts, but the techniques in this notebook will apply to other languages as well.\n",
    "#### set up the notebook"
   ]
  },
  {
   "cell_type": "code",
   "execution_count": 2,
   "metadata": {},
   "outputs": [],
   "source": [
    "%load_ext autoreload\n",
    "%autoreload 2\n",
    "%matplotlib inline"
   ]
  },
  {
   "cell_type": "markdown",
   "metadata": {},
   "source": [
    "### A few open source imports"
   ]
  },
  {
   "cell_type": "code",
   "execution_count": 3,
   "metadata": {},
   "outputs": [],
   "source": [
    "from collections import Counter, defaultdict\n",
    "import re\n",
    "from bisect import bisect\n",
    "import statistics\n",
    "\n",
    "from cltk.corpus.readers import get_corpus_reader\n",
    "from cltk.stem.latin.j_v import JVReplacer\n",
    "from tqdm import tqdm\n",
    "import matplotlib.pyplot as plt\n",
    "from matplotlib.ticker import MaxNLocator\n",
    "plt.style.use('fivethirtyeight')"
   ]
  },
  {
   "cell_type": "markdown",
   "metadata": {},
   "source": [
    "### Add parent directory to path so we can access our common code"
   ]
  },
  {
   "cell_type": "code",
   "execution_count": 4,
   "metadata": {},
   "outputs": [],
   "source": [
    "import os,sys,inspect\n",
    "currentdir = os.path.dirname(os.path.abspath(inspect.getfile(inspect.currentframe())))\n",
    "parentdir = os.path.dirname(currentdir)\n",
    "sys.path.insert(0,parentdir) "
   ]
  },
  {
   "cell_type": "code",
   "execution_count": 5,
   "metadata": {},
   "outputs": [],
   "source": [
    "from mlyoucanuse.corpus_analysis_fun import (get_word_lengths,\n",
    "                                             get_samples_for_lengths,\n",
    "                                             get_char_counts)"
   ]
  },
  {
   "cell_type": "markdown",
   "metadata": {},
   "source": [
    "## The Latin Library Corpus"
   ]
  },
  {
   "cell_type": "code",
   "execution_count": 4,
   "metadata": {
    "collapsed": true
   },
   "outputs": [],
   "source": [
    "latin_library_reader = get_corpus_reader(corpus_name='latin_text_latin_library', language='latin')"
   ]
  },
  {
   "cell_type": "markdown",
   "metadata": {},
   "source": [
    "## The Perseus Latin Corpus"
   ]
  },
  {
   "cell_type": "code",
   "execution_count": 5,
   "metadata": {
    "collapsed": true
   },
   "outputs": [],
   "source": [
    "perseus_latin_reader = get_corpus_reader(corpus_name='latin_text_perseus', language='latin')"
   ]
  },
  {
   "cell_type": "markdown",
   "metadata": {
    "collapsed": true
   },
   "source": [
    "### 1. Unexpected Characters\n",
    "#### Let's have a look at the characters: Grab all the words, check if they are alphabetical, and count them"
   ]
  },
  {
   "cell_type": "code",
   "execution_count": 6,
   "metadata": {},
   "outputs": [
    {
     "name": "stderr",
     "output_type": "stream",
     "text": [
      "100%|██████████| 2141/2141 [14:50<00:00,  1.77files/s]    | 1/2141 [00:00<06:09,  5.79files/s]\n",
      "  0%|          | 0/293 [00:00<?, ?files/s]"
     ]
    },
    {
     "name": "stdout",
     "output_type": "stream",
     "text": [
      "Latin Library Corpus: Number of characters: 75,451,171\n",
      "Latin Library character frequency distribution: Counter({'e': 8576123, 'i': 8573678, 't': 6306262, 'a': 6258185, 'u': 6106664, 's': 5695715, 'r': 4717114, 'n': 4700797, 'o': 4184861, 'm': 3968984, 'c': 2826383, 'd': 2323221, 'l': 2220037, 'p': 2046252, 'b': 1052786, 'q': 1000896, 'v': 764958, 'g': 761427, 'f': 676516, 'h': 536389, 'x': 341117, 'I': 205845, 'A': 153068, 'S': 134701, 'C': 130344, 'D': 119576, 'P': 107924, 'E': 90935, 'N': 74718, 'T': 73036, 'M': 69371, 'R': 64627, 'V': 64109, 'H': 58901, 'Q': 57106, 'y': 56645, 'L': 56146, 'X': 42245, 'O': 41873, 'U': 38028, 'G': 35341, 'B': 28814, 'F': 26066, 'j': 19535, 'æ': 8938, 'z': 6607, 'k': 5944, 'J': 5182, 'K': 2833, 'w': 2767, 'Y': 2480, 'Z': 1969, 'ν': 1809, 'W': 1672, 'τ': 1613, 'α': 1509, 'ο': 1445, 'ε': 1064, 'ι': 1042, 'ê': 882, 'ς': 782, 'ρ': 770, 'â': 743, 'π': 712, 'κ': 684, 'μ': 667, 'σ': 638, 'λ': 553, 'δ': 527, 'ὶ': 333, 'ω': 322, 'ί': 313, 'υ': 302, 'γ': 296, 'έ': 272, 'η': 264, 'ἐ': 263, 'ά': 254, 'θ': 247, 'φ': 233, 'ῶ': 233, 'ë': 228, 'ό': 226, 'œ': 225, 'ὰ': 222, 'ὲ': 216, 'à': 211, 'ù': 208, 'ἀ': 208, 'ò': 193, 'ὸ': 183, 'Æ': 159, 'ὐ': 159, 'í': 156, 'ῖ': 148, 'χ': 146, 'β': 146, 'ῦ': 140, 'Ç': 139, 'ύ': 139, 'ô': 138, 'î': 130, 'ἰ': 124, 'ὴ': 103, 'ή': 96, 'é': 91, 'û': 73, 'ξ': 71, 'ῆ': 68, 'Î': 64, 'Œ': 61, 'ἔ': 61, 'ζ': 58, 'ὺ': 57, 'Ï': 56, 'ὑ': 55, 'ώ': 55, 'Ò': 54, 'ὅ': 54, 'ἄ': 52, 'ῷ': 49, 'ὁ': 49, 'ï': 47, 'è': 43, 'ἂ': 42, 'ó': 40, 'ä': 40, 'ü': 39, 'Ì': 37, 'É': 37, 'ἴ': 36, 'ψ': 35, 'ἡ': 35, 'Þ': 35, 'Ü': 33, 'ῳ': 33, 'ἱ': 31, 'ὔ': 31, 'ὡ': 28, 'ἢ': 28, 'À': 27, 'Ī': 27, 'ᾶ': 27, 'ὼ': 27, 'ὀ': 26, 'ὕ': 25, 'ῃ': 23, 'ἶ': 21, 'ὖ': 21, 'ἑ': 20, 'Ω': 20, 'È': 19, 'ç': 19, 'Ἀ': 19, 'ã': 18, 'ª': 17, 'ì': 17, 'Â': 17, 'þ': 17, 'Í': 16, 'ÿ': 16, 'Ê': 15, 'ἕ': 15, 'ῇ': 14, 'ß': 13, 'ἤ': 13, 'ὄ': 12, 'ἅ': 12, 'ἁ': 11, 'Ú': 10, 'ñ': 10, 'š': 10, 'ῥ': 10, 'ἷ': 10, 'ὥ': 10, 'á': 9, 'ᾳ': 9, 'Δ': 9, 'Π': 9, 'Ô': 8, 'ἦ': 8, 'Κ': 8, 'Θ': 8, 'Û': 7, 'ἵ': 7, 'ἠ': 7, 'Φ': 7, 'ᾷ': 7, 'Τ': 7, 'ð': 7, 'Ã': 6, 'ﬁ': 6, 'ö': 6, 'Ù': 6, 'ﬂ': 6, 'Õ': 6, 'Å': 6, 'Ε': 6, 'ἧ': 6, 'ú': 5, 'ί': 5, 'ƒ': 5, 'Ὀ': 5, 'Μ': 5, 'ἥ': 5, 'ὠ': 5, 'Ἰ': 5, 'Σ': 5, 'Λ': 5, 'ῄ': 5, 'ό': 5, 'Á': 4, 'Ö': 4, 'å': 4, 'Ø': 4, 'Ð': 4, 'ὧ': 4, 'Ὁ': 4, 'Ä': 4, 'Ó': 3, 'ʻ': 3, 'ž': 3, 'Ž': 3, 'ῴ': 3, 'Ἡ': 3, 'ὗ': 3, 'Ῥ': 3, 'ᾄ': 3, 'ὃ': 3, 'Ο': 3, 'ἃ': 3, 'ὦ': 3, 'Ñ': 3, 'Ë': 3, 'Υ': 3, 'Α': 3, 'Ι': 3, 'ˇ': 2, 'Ÿ': 2, 'ý': 2, 'Ἑ': 2, 'ἳ': 2, 'ὤ': 2, 'Γ': 2, 'Ἔ': 2, 'Ý': 2, 'έ': 2, 'Ἤ': 2, 'ũ': 1, 'ę': 1, 'ˆ': 1, 'õ': 1, 'Ἠ': 1, 'ᾴ': 1, 'Ὅ': 1, 'ᾤ': 1, 'ᾅ': 1, 'ἣ': 1, 'Ἥ': 1, 'ϋ': 1, 'ᾧ': 1, 'ῂ': 1, 'ἆ': 1, 'Ὦ': 1, 'Ὥ': 1, 'Ἕ': 1, 'Ἐ': 1, 'ύ': 1, 'ά': 1, 'Β': 1, 'Η': 1, 'Ψ': 1})\n"
     ]
    },
    {
     "name": "stderr",
     "output_type": "stream",
     "text": [
      "100%|██████████| 293/293 [02:41<00:00,  6.91files/s]1%|          | 2/293 [00:05<15:47,  3.25s/files]\n"
     ]
    },
    {
     "name": "stdout",
     "output_type": "stream",
     "text": [
      "Perseus Latin Corpus: Number of characters: 22,570,613\n",
      "Perseus Latin character frequency distribution: Counter({'e': 2573626, 'i': 2540681, 'a': 1950909, 't': 1859409, 'u': 1826139, 's': 1713549, 'r': 1424121, 'n': 1384612, 'm': 1239489, 'o': 1230708, 'c': 856902, 'l': 695765, 'd': 680521, 'p': 593449, 'q': 322142, 'b': 314761, 'v': 258914, 'g': 232105, 'f': 208419, 'h': 168682, 'x': 104819, 'A': 35456, 'C': 33845, 'I': 32417, 'S': 29175, 'P': 25424, 'y': 22051, 'N': 17196, 'M': 17033, 'T': 16179, 'E': 15970, 'H': 13570, 'V': 13223, 'L': 12281, 'Q': 12187, 'D': 11757, 'R': 11549, 'G': 9311, 'O': 6775, 'F': 6029, 'B': 5992, 'X': 5248, 'U': 2926, 'é': 2180, 'í': 1803, 'ν': 1785, 'α': 1656, 'ο': 1615, 'j': 1518, 'á': 1477, 'σ': 1402, 'ó': 1286, 'ι': 1285, 'τ': 1281, 'z': 1267, 'ú': 1170, 'ε': 1152, 'ρ': 1015, 'π': 852, 'λ': 748, 'μ': 748, 'κ': 671, 'Z': 641, 'K': 573, 'δ': 501, 'υ': 460, 'η': 369, 'γ': 355, 'ί': 337, 'χ': 334, 'ς': 315, 'ω': 315, 'θ': 301, 'φ': 295, 'ἀ': 290, 'ë': 266, 'έ': 264, 'ό': 248, 'k': 241, 'ά': 226, 'ἐ': 209, 'ὸ': 151, 'ύ': 151, 'ὶ': 147, 'ῶ': 136, 'ὐ': 133, 'ↄ': 132, 'β': 129, 'ῖ': 111, 'ί': 110, 'ή': 109, 'ὰ': 101, 'w': 101, 'ό': 96, 'ῦ': 96, 'ἰ': 80, 'ὴ': 76, 'ώ': 76, 'ὑ': 74, 'ξ': 72, 'έ': 70, 'ἔ': 68, 'ἄ': 68, 'ῆ': 65, 'ζ': 62, 'Y': 60, 'ï': 51, 'ῳ': 47, 'û': 46, 'ὲ': 45, 'ά': 44, 'ψ': 38, 'Ↄ': 37, 'ύ': 34, 'ὁ': 34, 'ῃ': 33, 'ὺ': 32, 'î': 31, 'Ἀ': 29, 'ἴ': 28, 'ἱ': 26, 'а': 25, 'е': 24, 'ή': 23, 'ῤ': 23, 'Π': 21, 'J': 21, 'ʼ': 19, 'ἡ': 19, 'Κ': 19, 'ῷ': 18, 'ὀ': 18, 'ʽ': 18, 'ὅ': 18, 'ᾶ': 17, 'ᾳ': 17, 'Τ': 17, 'ὔ': 16, 'ώ': 14, 'ῇ': 14, 'ὄ': 14, 'ἶ': 13, 'W': 13, 'ὃ': 13, 'ἑ': 13, 'Α': 13, 'Μ': 13, 'Σ': 13, 'É': 13, 'Í': 12, 'о': 12, 'ē': 12, 'Δ': 10, 'ὕ': 10, 'Á': 10, 'ὼ': 9, 'ἠ': 9, 'Θ': 9, 'Λ': 9, 'ü': 9, 'ý': 9, 'ἷ': 8, 'Φ': 8, 'Ι': 8, 'ἕ': 7, 'ἅ': 7, 'ἤ': 7, 'Ω': 7, 'ὠ': 7, 'Ἡ': 7, 'ἢ': 7, 'Ν': 7, 'м': 7, 'Χ': 6, 'Ε': 6, 'ἁ': 6, 'ἥ': 5, 'Ἄ': 5, 'Ο': 5, 'ἂ': 5, 'ὗ': 4, 'Ὀ': 4, 'Ó': 4, 'ὢ': 4, 'ö': 4, 'ᾧ': 3, 'ᾷ': 3, 'Ῥ': 3, 'ὦ': 3, 'ἦ': 3, 'Γ': 3, 'ἵ': 3, 'ὖ': 3, 'à': 3, 'æ': 3, 'Β': 2, 'Ψ': 2, 'ὤ': 2, 'ὥ': 2, 'Ἐ': 2, 'Ш': 2, 'Ὄ': 1, 'ἲ': 1, 'Ἑ': 1, 'Ξ': 1, 'Ϡ': 1, 'ᾠ': 1, 'ἆ': 1, 'œ': 1, 'ϊ': 1, 'ΐ': 1, 'ἧ': 1, 'ἓ': 1, 'ὧ': 1, 'Ἰ': 1, 'Ἕ': 1, 'ὡ': 1, 'Ζ': 1, 'ἳ': 1, 'С': 1, 'Ἆ': 1, 'ϝ': 1, 'ῥ': 1, 'Å': 1, 'ϋ': 1, 'Ἤ': 1, 'Ὦ': 1, 'Î': 1, 'ů': 1, 'Υ': 1, 'Ρ': 1, 'Ἁ': 1})\n"
     ]
    }
   ],
   "source": [
    "latin_lib_char_freq = get_char_counts(latin_library_reader)\n",
    "print(f'Latin Library Corpus: Number of characters: {sum(latin_lib_char_freq.values()):,}')\n",
    "print('Latin Library character frequency distribution:', latin_lib_char_freq)\n",
    "#####################\n",
    "perseus_latin_char_freq = get_char_counts(perseus_latin_reader)\n",
    "print(f'Perseus Latin Corpus: Number of characters: {sum(perseus_latin_char_freq.values()):,}')\n",
    "print('Perseus Latin character frequency distribution:', perseus_latin_char_freq)\n"
   ]
  },
  {
   "cell_type": "markdown",
   "metadata": {},
   "source": [
    "## We can see some obvious dirtiness:\n",
    "1. There are two characters 'œ' and 'æ' that represent dipthongs which should be split into two characters.\n",
    "1. There are some Greek letters in a Greek font, and some accented vowels foreign to Greek and Latin."
   ]
  },
  {
   "cell_type": "markdown",
   "metadata": {},
   "source": [
    "#### Let's consider these items the start of a bread crumb trail towards something bad and let's look further. "
   ]
  },
  {
   "cell_type": "markdown",
   "metadata": {},
   "source": [
    "## 1. OE and AE \n",
    "#### Classical Latin wrote the o and e separately (as has today again become the general practice), but the ligature was used by medieval and early modern writings, in part because the diphthongal sound had, by Late Latin, merged into the sound [e].\n",
    "#### https://en.wikipedia.org/wiki/%C5%92\n",
    "\n",
    "#### Æ (minuscule: æ) is a grapheme named æsc or ash, formed from the letters a and e, originally a ligature representing the Latin diphthong ae. It has been promoted to the full status of a letter in the alphabets of some languages, including Danish, Norwegian, Icelandic, and Faroese. \n",
    "#### https://en.wikipedia.org/wiki/%C3%86\n",
    "\n",
    "#### We have written an AEOEReplacer in the style of the CLTK JVReplacer and will use this to clean the corpora in other notebooks."
   ]
  },
  {
   "cell_type": "markdown",
   "metadata": {},
   "source": [
    "## 2. Greek Letters, Greek words; Foreign characters\n",
    "### Filtering out these Greek words and obvious characters is easy"
   ]
  },
  {
   "cell_type": "code",
   "execution_count": 7,
   "metadata": {},
   "outputs": [
    {
     "name": "stderr",
     "output_type": "stream",
     "text": [
      "0it [00:00, ?it/s]136it [00:00, 1350.96it/s]"
     ]
    },
    {
     "name": "stdout",
     "output_type": "stream",
     "text": [
      "foreign_characters ['φ', 'α', 'ν', 'τ', 'σ', 'ί', 'ς', 'ἔ', 'λ', 'β', 'ε', 'π', 'ο', 'ρ', 'ύ', 'ά', 'κ', 'ὶ', 'μ', 'ῖ', 'ι', 'ή', 'δ', 'ἱ', 'ό', 'υ', 'ῳ', 'ῷ', 'χ', 'ἄ', 'ῃ', 'ἀ', 'ω', 'θ', 'ζ', 'ὐ', 'ὰ', 'η', 'γ', 'ὸ', 'ἷ', 'ἐ', 'ἶ', 'έ', 'ὺ', 'ὲ', 'ὴ', 'ῆ', 'ἴ', 'ὁ', 'ῶ', 'ῦ', 'ώ', 'ἰ', 'ῇ', 'ὀ', 'ξ', 'ʽ', 'ᾶ', 'ὃ', 'ʼ', 'ᾧ', 'ὑ', 'ἡ', 'ἑ', 'ὼ', 'ὗ', 'ᾷ', 'ᾳ', 'ἠ', 'ὅ', 'ἕ', 'ἅ', 'ὔ', 'ώ', 'ύ', 'ά', 'Ἀ', 'ί', 'ë', 'έ', 'ἥ', 'ό', 'Δ', 'ὕ', 'Κ', 'Α', 'Ὄ', 'Μ', 'Φ', 'Β', 'ή', 'Τ', 'ἲ', 'ῤ', 'Χ', 'Θ', 'Ψ', 'Λ', 'Ἑ', 'Ἄ', 'Ι', 'ψ', 'Π', 'ἤ', 'Ο', 'Σ', 'Ῥ', 'Ὀ', 'Ξ', 'Ϡ', 'Ε', 'Ω', 'ὄ', 'ὦ', 'ὤ', 'ᾠ', 'ὥ', 'ὠ', 'ἆ', 'ü', 'é', 'ↄ', 'ú', 'í', 'á', 'ó', 'Í', 'ý', 'œ', 'Ó', 'ϊ', 'ΐ', 'Ↄ', 'Ἡ', 'ἧ', 'É', 'ἂ', 'ὢ', 'ἦ', 'ἢ', 'ἁ', 'ἓ', 'Γ', 'ἵ', 'ὖ', 'ὧ', 'Ἐ', 'Ἰ', 'Ἕ', 'ὡ', 'Ν', 'Ζ', 'ἳ', 'à', 'ï', 'а', 'е', 'м', 'Ш', 'о', 'С', 'î', 'Á', 'Ἆ', 'ē', 'ϝ', 'ῥ', 'Å', 'ϋ', 'æ', 'Ἤ', 'Ὦ', 'Î', 'ů', 'Υ', 'Ρ', 'ö', 'û', 'Ἁ']\n"
     ]
    },
    {
     "name": "stderr",
     "output_type": "stream",
     "text": [
      "16455728it [15:05, 18170.19it/s] [00:00, 2421.71it/s]"
     ]
    },
    {
     "name": "stdout",
     "output_type": "stream",
     "text": [
      "Number just latin words: 16,450,347\n"
     ]
    },
    {
     "name": "stderr",
     "output_type": "stream",
     "text": [
      "\n"
     ]
    }
   ],
   "source": [
    "foreign_characters = [ tmp for tmp in \n",
    "                        perseus_latin_char_freq.keys()\n",
    "                        if not re.match('[a-zA-Z]', tmp) ]\n",
    "print('foreign_characters', foreign_characters)\n",
    "\n",
    "just_latin_words = []\n",
    "latin_library_reader = get_corpus_reader(corpus_name='latin_text_latin_library', language='latin')\n",
    "for word in tqdm(latin_library_reader.words()):\n",
    "    if not re.match('[{}]'.format(''.join(foreign_characters)), word):\n",
    "        just_latin_words.append(word)\n",
    "\n",
    "print(f'Number just latin words: {len(just_latin_words):,}')"
   ]
  },
  {
   "cell_type": "markdown",
   "metadata": {},
   "source": [
    "### This is easily extended to \"Show me all the Greek in Cicero\", \"Show me Plautus without Greek\", etc.\n",
    "#### But other problems lurk: such as \n",
    "## Acceptable Characters may represent foreign words transliterated:"
   ]
  },
  {
   "cell_type": "code",
   "execution_count": 8,
   "metadata": {},
   "outputs": [
    {
     "data": {
      "text/plain": [
       "True"
      ]
     },
     "execution_count": 8,
     "metadata": {},
     "output_type": "execute_result"
    }
   ],
   "source": [
    "'kai' in just_latin_words # kai means 'and' in Greek"
   ]
  },
  {
   "cell_type": "markdown",
   "metadata": {},
   "source": [
    "### We will deal with the complex problem of detecting and correcting transliterated loadwords in another notebook"
   ]
  },
  {
   "cell_type": "markdown",
   "metadata": {},
   "source": [
    "## Simple Heuristic for detecting improperly joined words\n",
    "### Almost always when a sequence of lower case letters is followed by a capital letter without a space intervening it is an indicator of improperly joined words."
   ]
  },
  {
   "cell_type": "code",
   "execution_count": 9,
   "metadata": {},
   "outputs": [
    {
     "name": "stderr",
     "output_type": "stream",
     "text": [
      "\r",
      "  0%|          | 0/16450347 [00:00<?, ?it/s]"
     ]
    },
    {
     "name": "stdout",
     "output_type": "stream",
     "text": [
      "naviIndica\n",
      "quaeGoa\n",
      "seuMadagascar\n",
      "digitiIndici\n",
      "aureaMozambici\n",
      "anniDecembri\n",
      "quiCafres\n",
      "suntCafres\n",
      "osCafres\n",
      "estBazaini\n",
      "cantaturPraefatio\n"
     ]
    },
    {
     "name": "stderr",
     "output_type": "stream",
     "text": [
      "100%|██████████| 16450347/16450347 [00:24<00:00, 659738.78it/s]%|          | 114161/16450347 [00:00<00:28, 575202.76it/s]"
     ]
    },
    {
     "name": "stdout",
     "output_type": "stream",
     "text": [
      "Number of camel cased words 516\n"
     ]
    },
    {
     "name": "stderr",
     "output_type": "stream",
     "text": [
      "\n"
     ]
    }
   ],
   "source": [
    "camelCase_regex = '[a-z]+[A-Z][a-z]+'\n",
    "\n",
    "for word in just_latin_words[:10000]:\n",
    "    if re.match(camelCase_regex, word):\n",
    "        print (word)\n",
    "\n",
    "camel_case_count = 0\n",
    "\n",
    "for word in tqdm(just_latin_words):\n",
    "    if re.match(camelCase_regex, word):\n",
    "        camel_case_count +=1 \n",
    "\n",
    "print(f'Number of camel cased words {camel_case_count:,}')        \n",
    "        "
   ]
  },
  {
   "cell_type": "markdown",
   "metadata": {},
   "source": [
    "## camelCased words are easily corrected\n",
    "### e.g.:\n",
    "#### from cltk.util.matrix_corpus_fun import split_camel\n",
    "at: https://github.com/cltk/cltk/blob/master/cltk/utils/matrix_corpus_fun.py#L213"
   ]
  },
  {
   "cell_type": "markdown",
   "metadata": {},
   "source": [
    "## Detecting Improperly Joined Words In General\n",
    "* Errors in data transmission, \n",
    "* Improperly OCRed text\n",
    "* botched formating (e.g. blindly joining lines and dropping newline characters that are also meant to encode word separations)\n",
    "\n",
    "#### Can all cause words to become improperly joined in a corpus.\n",
    "#### To help spot candidates of improperly joined words, we need to first examine some sample corpora to determine typical word lengths."
   ]
  },
  {
   "cell_type": "code",
   "execution_count": 10,
   "metadata": {},
   "outputs": [
    {
     "name": "stderr",
     "output_type": "stream",
     "text": [
      "100%|██████████| 2141/2141 [7:52:48<00:00,  1.33files/s]     /2141 [00:00<06:48,  5.24files/s]\n"
     ]
    }
   ],
   "source": [
    "latin_lib_lengths = get_word_lengths(latin_library_reader)"
   ]
  },
  {
   "cell_type": "code",
   "execution_count": 33,
   "metadata": {},
   "outputs": [
    {
     "data": {
      "image/png": "[encoded data removed]",
      "text/plain": [
       "<Figure size 504x504 with 1 Axes>"
      ]
     },
     "metadata": {},
     "output_type": "display_data"
    }
   ],
   "source": [
    "top_label, side_label, bottom_label = ( 'Word Lengths', 'Number of words',\n",
    "                                       'Raw Word Lengths of Latin Library Corpus')\n",
    "fig = plt.figure(figsize=(7,7))\n",
    "plt.xlabel(top_label)\n",
    "plt.ylabel(side_label)\n",
    "plt.title(bottom_label)\n",
    "ax = fig.gca()\n",
    "ax.xaxis.set_major_locator(MaxNLocator(integer=True))\n",
    "data = list(latin_lib_lengths.items())\n",
    "data.sort(key=lambda k: k[0])\n",
    "indices, values = zip(*data)\n",
    "idx= bisect(indices, 28) \n",
    "# expert testimony, reasonably longest words:\n",
    "# undēquinquāgēsimōrum = 24 letters\n",
    "# conscrībillātūrōrum\n",
    "# percrēbrēscēbāminī\n",
    "indices, values = zip(*data[:idx]) # reasonably longest word in latin \n",
    "indices, values = zip(*data[:16]) # Nothing shows up on the graph beyond this range\n",
    "plt.bar(indices, values)\n",
    "plt.tight_layout(pad=0.5, w_pad=20, h_pad=0.5)\n",
    "plt.show()"
   ]
  },
  {
   "cell_type": "code",
   "execution_count": 17,
   "metadata": {},
   "outputs": [
    {
     "name": "stdout",
     "output_type": "stream",
     "text": [
      "Total words 13,137,256\n",
      "Word lengths: Counter({5: 1736309, 2: 1608422, 3: 1605589, 4: 1601042, 6: 1600574, 7: 1466665, 8: 1207092, 9: 882205, 10: 615554, 11: 371324, 12: 192327, 13: 94100, 1: 87346, 14: 41324, 15: 17094, 16: 6702, 17: 2162, 18: 575, 19: 354, 20: 289, 21: 86, 22: 45, 23: 38, 25: 12, 26: 7, 24: 6, 28: 6, 30: 1, 27: 1, 48: 1, 32: 1, 36: 1, 29: 1, 39: 1})\n",
      "Mean Latin word length: 5.74, standard deviation: 2.76\n",
      "98% cutoff 11 letters\n"
     ]
    }
   ],
   "source": [
    "total_words = sum(latin_lib_lengths.values())\n",
    "print(f'Total words {total_words:,}')\n",
    "print('Word lengths:', latin_lib_lengths)\n",
    "all_lens = [] \n",
    "for key in latin_lib_lengths:\n",
    "    all_lens += [key] * mycounter[key]\n",
    "mean_word_len, stdev_word_length = round(statistics.mean(all_lens), 3), round(statistics.stdev(all_lens), 3)\n",
    "print(f'Mean Latin word length: {round(mean_word_len, 2)}, standard deviation: {round(stdev_word_length, 2)}')\n",
    "print(f'98% cutoff {round(mean_word_len + (2* stdev_word_length))} letters')"
   ]
  },
  {
   "cell_type": "code",
   "execution_count": 18,
   "metadata": {},
   "outputs": [
    {
     "name": "stderr",
     "output_type": "stream",
     "text": [
      "100%|██████████| 293/293 [02:50<00:00,  6.41files/s]     | 1/293 [00:04<21:21,  4.39s/files]\n"
     ]
    }
   ],
   "source": [
    "perseus_latin_lengths = get_word_lengths(perseus_latin_reader) "
   ]
  },
  {
   "cell_type": "code",
   "execution_count": 31,
   "metadata": {},
   "outputs": [
    {
     "data": {
      "image/png": "[encoded data removed]",
      "text/plain": [
       "<Figure size 504x504 with 1 Axes>"
      ]
     },
     "metadata": {},
     "output_type": "display_data"
    }
   ],
   "source": [
    "top_label, side_label, bottom_label = ('Word Lengths', 'Number of words',\n",
    "                                       'Raw Word Lengths of Perseus Latin(CLTK)')\n",
    "fig = plt.figure(2, figsize=(7,7))\n",
    "ax = fig.gca()\n",
    "ax.xaxis.set_major_locator(MaxNLocator(integer=True))\n",
    "plt.xlabel(top_label)\n",
    "plt.ylabel(side_label)\n",
    "plt.title(bottom_label )\n",
    "data = list(perseus_latin_lengths.items())\n",
    "data.sort(key=lambda k: k[0])\n",
    "indices, values = zip(*data)\n",
    "idx = bisect(indices, 28) \n",
    "indices, values = zip(*data[:16]) # reasonably Longest word in latin \n",
    "# print(indices)\n",
    "# print(values)\n",
    "plt.bar(indices, values)\n",
    "plt.tight_layout(pad=0.5, w_pad=20, h_pad=0.5)\n",
    "plt.show();"
   ]
  },
  {
   "cell_type": "code",
   "execution_count": 23,
   "metadata": {},
   "outputs": [
    {
     "name": "stdout",
     "output_type": "stream",
     "text": [
      "Total words 3,932,338\n",
      "Word Lengths Counter({5: 554740, 6: 524202, 4: 491842, 7: 456598, 3: 453098, 2: 449547, 8: 349433, 9: 242573, 10: 166776, 11: 97863, 12: 52377, 1: 33003, 13: 28622, 14: 15548, 15: 8358, 16: 4370, 17: 1942, 18: 864, 19: 287, 20: 146, 21: 64, 22: 41, 23: 16, 24: 10, 25: 7, 28: 3, 38: 2, 26: 2, 31: 1, 33: 1, 32: 1, 34: 1})\n",
      "Mean Latin word length: 5.74, standard deviation: 2.73\n",
      "98% cutoff 11 letters\n"
     ]
    }
   ],
   "source": [
    "total_words = sum(perseus_latin_lengths.values())\n",
    "print(f'Total words {total_words:,}')\n",
    "print('Word Lengths', perseus_latin_lengths)\n",
    "all_lens = [] \n",
    "for key in perseus_latin_lengths:\n",
    "    all_lens += [key] * mycounter[key]\n",
    "mean_word_len, stdev_word_length = round(statistics.mean(all_lens), 3), round(statistics.stdev(all_lens), 3)\n",
    "print(f'Mean Latin word length: {round(mean_word_len, 2)}, standard deviation: {round(stdev_word_length, 2)}')\n",
    "print(f'98% cutoff {round(mean_word_len + (2* stdev_word_length))} letters')"
   ]
  },
  {
   "cell_type": "markdown",
   "metadata": {},
   "source": [
    "### Based on these numbers we can see that the long words in the Latin corpora are exceptional, and we can take a reasonable stance that any word in a corpus 12 letters or longer is a candidate for examination to determine whether or not it's an improperly joined word. Let's take a closer look at their representations."
   ]
  },
  {
   "cell_type": "markdown",
   "metadata": {
    "collapsed": true
   },
   "source": [
    "## Breaking long words in two when possible, to do this we'll need to \n",
    "### Build a language model that will help us find word boundaries and vet candidates for un-merging, this is the task in another notebook `make_trie_language_model.ipynb`.\n",
    "### In another notebook, `detecting_and_correcting_loanwords.ipynb` we will take on the complex problem of transliterated loanwords."
   ]
  },
  {
   "cell_type": "markdown",
   "metadata": {},
   "source": [
    "## That's all for now folks!"
   ]
  }
 ],
 "metadata": {
  "kernelspec": {
   "display_name": "Python 3",
   "language": "python",
   "name": "python3"
  },
  "language_info": {
   "codemirror_mode": {
    "name": "ipython",
    "version": 3
   },
   "file_extension": ".py",
   "mimetype": "text/x-python",
   "name": "python",
   "nbconvert_exporter": "python",
   "pygments_lexer": "ipython3",
   "version": "3.7.0"
  }
 },
 "nbformat": 4,
 "nbformat_minor": 2
}
