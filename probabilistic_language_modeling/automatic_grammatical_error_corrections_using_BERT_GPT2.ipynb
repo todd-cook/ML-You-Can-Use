{
 "cells": [
  {
   "cell_type": "markdown",
   "metadata": {},
   "source": [
    "# Automated Grammatical Error Correction using BERT and GPT2\n",
    "In this notebook, we'll look at word probabilities, sentence probabilities and how both can assist with improved spell checking and automatic grammatical error correction.\n",
    "This notebook fleshes out, expands and clarifies some ideas mentioned in:\n",
    "* `The Unreasonable Effectiveness of Transformer Language Models in Grammatical Error Correction` by Dimitris Alikaniotis, Vipul Raheja [https://arxiv.org/abs/1906.01733]\n",
    "* `BERT has a Mouth, and It Must Speak: BERT as a Markov Random Field Language Model` by Alex Wang, Kyunghyun Cho [https://arxiv.org/pdf/1902.04094.pdf]\n",
    "\n",
    "### Key Points:\n",
    "* \"We extract the probability of a sentence from BERT, by iteratively masking every word in the sentence and then summing the log probabilities. While this approach is far from ideal, it has been shown (Wang and Cho, 2019) that it approximates the log-likelihood of a sentence.\"\n",
    "\n",
    "Log probabilities are summed so as to avoid issues with underflow."
   ]
  },
  {
   "cell_type": "code",
   "execution_count": 1,
   "metadata": {},
   "outputs": [],
   "source": [
    "%load_ext autoreload\n",
    "%autoreload 2"
   ]
  },
  {
   "cell_type": "code",
   "execution_count": 2,
   "metadata": {},
   "outputs": [],
   "source": [
    "import logging\n",
    "LOG = logging.getLogger(\"probas\")\n",
    "logging.basicConfig(level=logging.ERROR)\n",
    "logging.disable(logging.INFO)\n",
    "import json\n",
    "from pprint import pprint\n",
    "from itertools import chain\n",
    "\n",
    "import requests\n",
    "from transformers import BertTokenizer, BertForMaskedLM, GPT2Tokenizer, GPT2LMHeadModel\n",
    "\n",
    "# Add parent dir, so we can access our common code\n",
    "import os, sys, inspect\n",
    "currentdir = os.path.dirname(os.path.abspath(inspect.getfile(inspect.currentframe())))\n",
    "parentdir = os.path.dirname(currentdir)\n",
    "sys.path.insert(0,parentdir) \n",
    "\n",
    "from mlyoucanuse.bert_fun import (\n",
    "    get_alternate_words, \n",
    "    get_word_probabilities,\n",
    "    get_word_in_sentence_probability, \n",
    "    sum_log_probabilities)\n",
    "from mlyoucanuse.gpt2_fun import predict_next_token"
   ]
  },
  {
   "cell_type": "markdown",
   "metadata": {},
   "source": [
    "### We'll be using free versions of LanguageTool to spot problem areas:\n",
    "Open a terminal, install docker, and then run:\n",
    "\n",
    "`docker pull erikvl87/languagetool`\n",
    "\n",
    "`docker run --rm -p 8010:8010 erikvl87/languagetool`\n",
    "\n",
    "This will allow you to hit the grammar check endpoint in sections of the code below\n",
    "\n",
    "#### The paid version is undoubtedly worth it.\n",
    "\n",
    "We'll call the service and check for problems to fix using the following function:"
   ]
  },
  {
   "cell_type": "code",
   "execution_count": 3,
   "metadata": {},
   "outputs": [],
   "source": [
    "def check_sentence(sentence):\n",
    "    \"\"\"Helper method to check sentences using languagetool\"\"\"\n",
    "    res = requests.post('http://localhost:8010/v2/check', data= f\"language=en-US&text={sentence}\")    \n",
    "    obj = json.loads(res.content.decode('utf-8'))\n",
    "    return obj.get('matches')"
   ]
  },
  {
   "cell_type": "code",
   "execution_count": 4,
   "metadata": {},
   "outputs": [
    {
     "data": {
      "application/vnd.jupyter.widget-view+json": {
       "model_id": "e0199b01a6c2495a86ef8bd24a40e4fa",
       "version_major": 2,
       "version_minor": 0
      },
      "text/plain": [
       "Downloading:   0%|          | 0.00/208k [00:00<?, ?B/s]"
      ]
     },
     "metadata": {},
     "output_type": "display_data"
    },
    {
     "data": {
      "application/vnd.jupyter.widget-view+json": {
       "model_id": "ad03b7679e184e92b475cc707bbbd7f4",
       "version_major": 2,
       "version_minor": 0
      },
      "text/plain": [
       "Downloading:   0%|          | 0.00/29.0 [00:00<?, ?B/s]"
      ]
     },
     "metadata": {},
     "output_type": "display_data"
    },
    {
     "data": {
      "application/vnd.jupyter.widget-view+json": {
       "model_id": "c92004ff511441d1a3dd64309c2fdcb8",
       "version_major": 2,
       "version_minor": 0
      },
      "text/plain": [
       "Downloading:   0%|          | 0.00/426k [00:00<?, ?B/s]"
      ]
     },
     "metadata": {},
     "output_type": "display_data"
    },
    {
     "data": {
      "application/vnd.jupyter.widget-view+json": {
       "model_id": "d76222536feb4e1cb1dcf8c329f98f01",
       "version_major": 2,
       "version_minor": 0
      },
      "text/plain": [
       "Downloading:   0%|          | 0.00/762 [00:00<?, ?B/s]"
      ]
     },
     "metadata": {},
     "output_type": "display_data"
    },
    {
     "data": {
      "application/vnd.jupyter.widget-view+json": {
       "model_id": "4613dbab2da54604a7b965e161c9d024",
       "version_major": 2,
       "version_minor": 0
      },
      "text/plain": [
       "Downloading:   0%|          | 0.00/625 [00:00<?, ?B/s]"
      ]
     },
     "metadata": {},
     "output_type": "display_data"
    },
    {
     "data": {
      "application/vnd.jupyter.widget-view+json": {
       "model_id": "fd8c3260ab304cc6b10cca0d449eeb4b",
       "version_major": 2,
       "version_minor": 0
      },
      "text/plain": [
       "Downloading:   0%|          | 0.00/1.25G [00:00<?, ?B/s]"
      ]
     },
     "metadata": {},
     "output_type": "display_data"
    },
    {
     "name": "stderr",
     "output_type": "stream",
     "text": [
      "Some weights of the model checkpoint at bert-large-cased-whole-word-masking were not used when initializing BertForMaskedLM: ['cls.seq_relationship.bias', 'cls.seq_relationship.weight']\n",
      "- This IS expected if you are initializing BertForMaskedLM from the checkpoint of a model trained on another task or with another architecture (e.g. initializing a BertForSequenceClassification model from a BertForPreTraining model).\n",
      "- This IS NOT expected if you are initializing BertForMaskedLM from the checkpoint of a model that you expect to be exactly identical (initializing a BertForSequenceClassification model from a BertForSequenceClassification model).\n"
     ]
    }
   ],
   "source": [
    "bert_tokenizer = BertTokenizer.from_pretrained('bert-large-cased')\n",
    "bert_model = BertForMaskedLM.from_pretrained(\"bert-large-cased-whole-word-masking\")\n",
    "bert_model.eval()\n",
    "logging.disable(logging.NOTSET)\n",
    "LOG.info('Done!')"
   ]
  },
  {
   "cell_type": "markdown",
   "metadata": {},
   "source": [
    "# The follow example sentence has an error, can you spot it?\n",
    "## `I am looking forway to see you.`"
   ]
  },
  {
   "cell_type": "code",
   "execution_count": 5,
   "metadata": {},
   "outputs": [
    {
     "name": "stdout",
     "output_type": "stream",
     "text": [
      "[{'context': {'length': 6,\n",
      "              'offset': 13,\n",
      "              'text': 'I am looking forway to see you.'},\n",
      "  'contextForSureMatch': 0,\n",
      "  'ignoreForIncompleteSentence': False,\n",
      "  'length': 6,\n",
      "  'message': 'Possible spelling mistake found.',\n",
      "  'offset': 13,\n",
      "  'replacements': [{'value': 'Norway'},\n",
      "                   {'value': 'foray'},\n",
      "                   {'value': 'for way'}],\n",
      "  'rule': {'category': {'id': 'TYPOS', 'name': 'Possible Typo'},\n",
      "           'description': 'Possible spelling mistake',\n",
      "           'id': 'MORFOLOGIK_RULE_EN_US',\n",
      "           'issueType': 'misspelling'},\n",
      "  'sentence': 'I am looking forway to see you.',\n",
      "  'shortMessage': 'Spelling mistake',\n",
      "  'type': {'typeName': 'Other'}}]\n"
     ]
    }
   ],
   "source": [
    "error_sent_1 = 'I am looking forway to see you.' \n",
    "\n",
    "pprint(check_sentence(error_sent_1))"
   ]
  },
  {
   "cell_type": "markdown",
   "metadata": {},
   "source": [
    "# The 4th word is a problem, let's mask it and see BERT's top 5 predictions"
   ]
  },
  {
   "cell_type": "code",
   "execution_count": 6,
   "metadata": {},
   "outputs": [
    {
     "data": {
      "text/plain": [
       "(('up', 0.554697573184967),\n",
       " ('forward', 0.2861657440662384),\n",
       " ('down', 0.039398763328790665),\n",
       " ('happy', 0.017491035163402557),\n",
       " ('back', 0.01694393716752529))"
      ]
     },
     "execution_count": 6,
     "metadata": {},
     "output_type": "execute_result"
    }
   ],
   "source": [
    "get_alternate_words(sentence=error_sent_1, \n",
    "                    word_index=3,\n",
    "                    bert_tokenizer=bert_tokenizer,\n",
    "                    bert_model=bert_model,\n",
    "                    top=5)"
   ]
  },
  {
   "cell_type": "markdown",
   "metadata": {},
   "source": [
    "# Our winner is in second place, perhaps BERT can look at the whole context and give us a better decision"
   ]
  },
  {
   "cell_type": "code",
   "execution_count": 7,
   "metadata": {},
   "outputs": [
    {
     "data": {
      "text/plain": [
       "(['I', 'am', 'looking', 'up', 'to', 'see', 'you.'],\n",
       " (('I', ('I',), (0.9983968138694763,)),\n",
       "  ('am', ('am',), (0.08720280230045319,)),\n",
       "  ('looking', ('looking',), (0.006682963576167822,)),\n",
       "  ('up', ('up',), (0.554697573184967,)),\n",
       "  ('to', ('to',), (0.9951606392860413,)),\n",
       "  ('see', ('see',), (0.24864201247692108,)),\n",
       "  ('you', ('you',), (0.004596360959112644,)),\n",
       "  ('.', ('.',), (0.9333391785621643,))),\n",
       " -14.88671847175187)"
      ]
     },
     "execution_count": 7,
     "metadata": {},
     "output_type": "execute_result"
    }
   ],
   "source": [
    "tmp = error_sent_1.split()\n",
    "tmp[3] = 'up'\n",
    "res = get_word_probabilities(' '.join(tmp), bert_tokenizer=bert_tokenizer, bert_model=bert_model)\n",
    "tmp, res, sum_log_probabilities(res)"
   ]
  },
  {
   "cell_type": "code",
   "execution_count": 8,
   "metadata": {},
   "outputs": [
    {
     "data": {
      "text/plain": [
       "(['I', 'am', 'looking', 'forward', 'to', 'see', 'you.'],\n",
       " (('I', ('I',), (0.9980271458625793,)),\n",
       "  ('am', ('am',), (0.4386550784111023,)),\n",
       "  ('looking', ('looking',), (0.9980376362800598,)),\n",
       "  ('forward', ('forward',), (0.2861657440662384,)),\n",
       "  ('to', ('to',), (0.9999135732650757,)),\n",
       "  ('see', ('see',), (0.0016449571121484041,)),\n",
       "  ('you', ('you',), (0.07751502841711044,)),\n",
       "  ('.', ('.',), (0.9046356081962585,))),\n",
       " -11.146798981701433)"
      ]
     },
     "execution_count": 8,
     "metadata": {},
     "output_type": "execute_result"
    }
   ],
   "source": [
    "tmp = error_sent_1.split()\n",
    "tmp[3] = 'forward'\n",
    "res = get_word_probabilities(' '.join(tmp), bert_tokenizer=bert_tokenizer, bert_model=bert_model)\n",
    "tmp, res, sum_log_probabilities(res)"
   ]
  },
  {
   "cell_type": "markdown",
   "metadata": {},
   "source": [
    "## Notice: although `up` had a higher predicted probability than `forward`, one word influences all the other probabilities. Thus, on the whole, taken in context, BERT predicts the correct word in context."
   ]
  },
  {
   "cell_type": "markdown",
   "metadata": {},
   "source": [
    "## Let's check Language Tool's suggestions against BERT"
   ]
  },
  {
   "cell_type": "code",
   "execution_count": 9,
   "metadata": {},
   "outputs": [
    {
     "data": {
      "text/plain": [
       "(['I', 'am', 'looking', 'foray', 'to', 'see', 'you.'],\n",
       " (('I', ('I',), (0.9969447255134583,)),\n",
       "  ('am', ('am',), (0.17091619968414307,)),\n",
       "  ('looking', ('looking',), (0.0023975924123078585,)),\n",
       "  ('foray', ('for', '##ay'), (0.07495932281017303, 2.0115612642257474e-07)),\n",
       "  ('to', ('to',), (0.9413219094276428,)),\n",
       "  ('see', ('see',), (0.031592097133398056,)),\n",
       "  ('you', ('you',), (0.3327822685241699,)),\n",
       "  ('.', ('.',), (0.9425782561302185,))),\n",
       " -30.487647787328548)"
      ]
     },
     "execution_count": 9,
     "metadata": {},
     "output_type": "execute_result"
    }
   ],
   "source": [
    "tmp = error_sent_1.split()\n",
    "tmp[3] = 'foray'\n",
    "res = get_word_probabilities(' '.join(tmp), bert_tokenizer=bert_tokenizer, bert_model=bert_model)\n",
    "tmp, res, sum_log_probabilities(res)"
   ]
  },
  {
   "cell_type": "code",
   "execution_count": 10,
   "metadata": {},
   "outputs": [
    {
     "data": {
      "text/plain": [
       "(['I', 'am', 'looking', 'for way', 'to', 'see', 'you.'],\n",
       " (('I', ('I',), (0.9954105019569397,)),\n",
       "  ('am', ('am',), (0.17129291594028473,)),\n",
       "  ('looking', ('looking',), (0.7401918768882751,)),\n",
       "  ('for', ('for',), (3.599639057938475e-06,)),\n",
       "  ('way', ('way',), (0.0035734777338802814,)),\n",
       "  ('to', ('to',), (0.9701237678527832,)),\n",
       "  ('see', ('see',), (0.04050043597817421,)),\n",
       "  ('you', ('you',), (0.16742444038391113,)),\n",
       "  ('.', ('.',), (0.9485463500022888,))),\n",
       " -25.31554102184821)"
      ]
     },
     "execution_count": 10,
     "metadata": {},
     "output_type": "execute_result"
    }
   ],
   "source": [
    "tmp = error_sent_1.split()\n",
    "tmp[3] = 'for way'\n",
    "res = get_word_probabilities(' '.join(tmp), bert_tokenizer=bert_tokenizer, bert_model=bert_model)\n",
    "tmp, res, sum_log_probabilities(res)"
   ]
  },
  {
   "cell_type": "code",
   "execution_count": 11,
   "metadata": {
    "scrolled": true
   },
   "outputs": [
    {
     "data": {
      "text/plain": [
       "(['I', 'am', 'looking', 'Norway', 'to', 'see', 'you.'],\n",
       " (('I', ('I',), (0.998480498790741,)),\n",
       "  ('am', ('am',), (0.14284664392471313,)),\n",
       "  ('looking', ('looking',), (0.00012327726290095598,)),\n",
       "  ('Norway', ('Norway',), (1.3437646551039961e-08,)),\n",
       "  ('to', ('to',), (0.9193994402885437,)),\n",
       "  ('see', ('see',), (0.009753890335559845,)),\n",
       "  ('you', ('you',), (0.008466791361570358,)),\n",
       "  ('.', ('.',), (0.9369243383407593,))),\n",
       " -38.62466457959271)"
      ]
     },
     "execution_count": 11,
     "metadata": {},
     "output_type": "execute_result"
    }
   ],
   "source": [
    "tmp = error_sent_1.split()\n",
    "tmp[3] = 'Norway'\n",
    "res = get_word_probabilities(' '.join(tmp), bert_tokenizer=bert_tokenizer, bert_model=bert_model)\n",
    "tmp, res, sum_log_probabilities(res)"
   ]
  },
  {
   "cell_type": "markdown",
   "metadata": {},
   "source": [
    "### BERT does subword tokenization for words OOV (aka beyond its basic whole word range)\n",
    "* Anybody want to guess where this will make for pain and suffering?"
   ]
  },
  {
   "cell_type": "code",
   "execution_count": 12,
   "metadata": {},
   "outputs": [
    {
     "data": {
      "text/plain": [
       "['for', '##ay']"
      ]
     },
     "execution_count": 12,
     "metadata": {},
     "output_type": "execute_result"
    }
   ],
   "source": [
    "bert_tokenizer.tokenize('foray')"
   ]
  },
  {
   "cell_type": "code",
   "execution_count": 13,
   "metadata": {},
   "outputs": [
    {
     "data": {
      "text/plain": [
       "[1111, 4164]"
      ]
     },
     "execution_count": 13,
     "metadata": {},
     "output_type": "execute_result"
    }
   ],
   "source": [
    "bert_tokenizer.encode('foray', add_special_tokens=False)"
   ]
  },
  {
   "cell_type": "markdown",
   "metadata": {},
   "source": [
    "# GPT2 can also predict the best match:"
   ]
  },
  {
   "cell_type": "code",
   "execution_count": 14,
   "metadata": {},
   "outputs": [],
   "source": [
    "logging.disable(logging.INFO)\n",
    "gpt2_tokenizer = GPT2Tokenizer.from_pretrained('gpt2')\n",
    "gpt2_model = GPT2LMHeadModel.from_pretrained('gpt2')\n",
    "gpt2_model.eval()\n",
    "logging.disable(logging.NOTSET)"
   ]
  },
  {
   "cell_type": "markdown",
   "metadata": {},
   "source": [
    "## `I am looking`..."
   ]
  },
  {
   "cell_type": "code",
   "execution_count": 15,
   "metadata": {},
   "outputs": [
    {
     "data": {
      "text/plain": [
       "(('forward', 0.3665640652179718),\n",
       " ('for', 0.35346919298171997),\n",
       " ('to', 0.08423731476068497))"
      ]
     },
     "execution_count": 15,
     "metadata": {},
     "output_type": "execute_result"
    }
   ],
   "source": [
    "predict_next_token('I am looking ', gpt2_model, gpt2_tokenizer)"
   ]
  },
  {
   "cell_type": "markdown",
   "metadata": {},
   "source": [
    "# GPT2 may be more accurate because it was trained a lot more data, however:\n",
    "* it can only predict next token\n",
    "* it doesn't provide a masked word prediction like BERT"
   ]
  },
  {
   "cell_type": "markdown",
   "metadata": {},
   "source": [
    "# Let's examine some common classes of grammatical errors:\n",
    "* Real word spelling errors; e.g. not OOV\n",
    "* Errors involving a missing word\n",
    "* Errors of an extra word\n",
    "* Errors of agreement\n",
    "* Errors of verb form"
   ]
  },
  {
   "cell_type": "markdown",
   "metadata": {},
   "source": [
    "# Real word spelling errors; e.g. not OOV, e.g.\n",
    "## `We can order then directly from the web.`"
   ]
  },
  {
   "cell_type": "code",
   "execution_count": 15,
   "metadata": {},
   "outputs": [
    {
     "name": "stdout",
     "output_type": "stream",
     "text": [
      "[]\n"
     ]
    }
   ],
   "source": [
    "err_7 = \"We can order then directly from the web.\"\n",
    "err_7c = \"We can order them directly from the web.\"\n",
    "\n",
    "pprint(check_sentence(err_7))"
   ]
  },
  {
   "cell_type": "markdown",
   "metadata": {},
   "source": [
    "## LanguageTool doesn't detect this error, let's pretend we know where it's at"
   ]
  },
  {
   "cell_type": "code",
   "execution_count": 16,
   "metadata": {},
   "outputs": [
    {
     "data": {
      "text/plain": [
       "(('them', 0.2877809405326843),\n",
       " ('it', 0.27451109886169434),\n",
       " ('these', 0.0369507297873497),\n",
       " ('everything', 0.03518752008676529),\n",
       " ('this', 0.029018063098192215))"
      ]
     },
     "execution_count": 16,
     "metadata": {},
     "output_type": "execute_result"
    }
   ],
   "source": [
    "get_alternate_words(sentence=err_7,\n",
    "                    word_index=3,\n",
    "                    bert_tokenizer=bert_tokenizer,\n",
    "                    bert_model=bert_model,\n",
    "                    top=5)"
   ]
  },
  {
   "cell_type": "code",
   "execution_count": 17,
   "metadata": {},
   "outputs": [
    {
     "data": {
      "text/plain": [
       "('We can order then directly from the web.',\n",
       " (('We', ('We',), (0.17043927311897278,)),\n",
       "  ('can', ('can',), (0.14545994997024536,)),\n",
       "  ('order', ('order',), (0.0012560535687953234,)),\n",
       "  ('then', ('then',), (3.108142118435353e-05,)),\n",
       "  ('directly', ('directly',), (0.0045493245124816895,)),\n",
       "  ('from', ('from',), (0.46224740147590637,)),\n",
       "  ('the', ('the',), (0.9203201532363892,)),\n",
       "  ('web', ('web',), (9.851193681242876e-06,)),\n",
       "  ('.', ('.',), (0.9614834785461426,))),\n",
       " -38.57057261585004)"
      ]
     },
     "execution_count": 17,
     "metadata": {},
     "output_type": "execute_result"
    }
   ],
   "source": [
    "err_7_res = get_word_probabilities(err_7, bert_tokenizer=bert_tokenizer, bert_model=bert_model)\n",
    "err_7, err_7_res, sum_log_probabilities(err_7_res) "
   ]
  },
  {
   "cell_type": "code",
   "execution_count": 18,
   "metadata": {},
   "outputs": [
    {
     "data": {
      "text/plain": [
       "('We can order them directly from the web.',\n",
       " (('We', ('We',), (0.12232314050197601,)),\n",
       "  ('can', ('can',), (0.6350147724151611,)),\n",
       "  ('order', ('order',), (0.0019470882834866643,)),\n",
       "  ('them', ('them',), (0.2877809405326843,)),\n",
       "  ('directly', ('directly',), (0.5957993865013123,)),\n",
       "  ('from', ('from',), (0.5842000842094421,)),\n",
       "  ('the', ('the',), (0.8040723204612732,)),\n",
       "  ('web', ('web',), (0.0001781903556548059,)),\n",
       "  ('.', ('.',), (0.9475058913230896,))),\n",
       " -20.002181347529007)"
      ]
     },
     "execution_count": 18,
     "metadata": {},
     "output_type": "execute_result"
    }
   ],
   "source": [
    "err_7c_res = get_word_probabilities(err_7c, bert_tokenizer=bert_tokenizer, bert_model=bert_model)\n",
    "err_7c, err_7c_res, sum_log_probabilities(err_7c_res)"
   ]
  },
  {
   "cell_type": "markdown",
   "metadata": {},
   "source": [
    "# Another real word spelling error; e.g. not OOV:\n",
    "## `Yoga brings peace and vitality to you life.`"
   ]
  },
  {
   "cell_type": "code",
   "execution_count": 19,
   "metadata": {},
   "outputs": [
    {
     "name": "stdout",
     "output_type": "stream",
     "text": [
      "[]\n"
     ]
    }
   ],
   "source": [
    "# real word spelling error; e.g. not OOV\n",
    "err_6 = \"Yoga brings peace and vitality to you life.\"\n",
    "err_6c = \"Yoga brings peace and vitality to your life.\"\n",
    "\n",
    "pprint(check_sentence(err_6))"
   ]
  },
  {
   "cell_type": "code",
   "execution_count": 20,
   "metadata": {},
   "outputs": [
    {
     "data": {
      "text/plain": [
       "(('human', 0.436617910861969),\n",
       " ('daily', 0.28348585963249207),\n",
       " ('all', 0.12590579688549042),\n",
       " ('everyday', 0.04189103841781616),\n",
       " ('a', 0.03219813108444214))"
      ]
     },
     "execution_count": 20,
     "metadata": {},
     "output_type": "execute_result"
    }
   ],
   "source": [
    "err_6_res = get_word_probabilities(err_6, bert_tokenizer=bert_tokenizer, bert_model=bert_model)\n",
    "err_6c_res = get_word_probabilities(err_6c, bert_tokenizer=bert_tokenizer, bert_model=bert_model)\n",
    "\n",
    "get_alternate_words(sentence=err_6, word_index=6, bert_tokenizer=bert_tokenizer, bert_model=bert_model, top=5)"
   ]
  },
  {
   "cell_type": "code",
   "execution_count": 21,
   "metadata": {},
   "outputs": [
    {
     "data": {
      "text/plain": [
       "(1.3105238849675516e-06,)"
      ]
     },
     "execution_count": 21,
     "metadata": {},
     "output_type": "execute_result"
    }
   ],
   "source": [
    "get_word_in_sentence_probability(sentence=err_6,\n",
    "                                 word='you',\n",
    "                                 bert_model=bert_model,\n",
    "                                 bert_tokenizer=bert_tokenizer,\n",
    "                                 word_index=6)"
   ]
  },
  {
   "cell_type": "code",
   "execution_count": 22,
   "metadata": {},
   "outputs": [
    {
     "data": {
      "text/plain": [
       "(0.0052108122035861015,)"
      ]
     },
     "execution_count": 22,
     "metadata": {},
     "output_type": "execute_result"
    }
   ],
   "source": [
    "get_word_in_sentence_probability(sentence=err_6, \n",
    "                                 word='your',       \n",
    "                                 bert_model=bert_model,\n",
    "                                 bert_tokenizer=bert_tokenizer, \n",
    "                                 word_index=6)"
   ]
  },
  {
   "cell_type": "code",
   "execution_count": 23,
   "metadata": {},
   "outputs": [
    {
     "data": {
      "text/plain": [
       "('Yoga brings peace and vitality to you life.',\n",
       " (('Yoga', ('Yoga',), (3.730556272785179e-05,)),\n",
       "  ('brings', ('brings',), (0.7759060859680176,)),\n",
       "  ('peace', ('peace',), (0.03733048215508461,)),\n",
       "  ('and', ('and',), (0.9945646524429321,)),\n",
       "  ('vitality',\n",
       "   ('vital', '##ity'),\n",
       "   (0.006993272807449102, 0.04066557437181473)),\n",
       "  ('to', ('to',), (0.5615279674530029,)),\n",
       "  ('you', ('you',), (1.3105238849675516e-06,)),\n",
       "  ('life', ('life',), (9.634750313125551e-05,)),\n",
       "  ('.', ('.',), (0.9477788805961609,))),\n",
       " -45.33202755876794)"
      ]
     },
     "execution_count": 23,
     "metadata": {},
     "output_type": "execute_result"
    }
   ],
   "source": [
    "err_6, err_6_res, sum_log_probabilities(err_6_res)"
   ]
  },
  {
   "cell_type": "code",
   "execution_count": 24,
   "metadata": {},
   "outputs": [
    {
     "data": {
      "text/plain": [
       "('Yoga brings peace and vitality to your life.',\n",
       " (('Yoga', ('Yoga',), (0.0001000980701064691,)),\n",
       "  ('brings', ('brings',), (0.9058755040168762,)),\n",
       "  ('peace', ('peace',), (0.11302768439054489,)),\n",
       "  ('and', ('and',), (0.9984421133995056,)),\n",
       "  ('vitality', ('vital', '##ity'), (0.02805033139884472, 0.10872020572423935)),\n",
       "  ('to', ('to',), (0.6823605895042419,)),\n",
       "  ('your', ('your',), (0.0052108122035861015,)),\n",
       "  ('life', ('life',), (0.21406103670597076,)),\n",
       "  ('.', ('.',), (0.9949281215667725,))),\n",
       " -24.468423042951493)"
      ]
     },
     "execution_count": 24,
     "metadata": {},
     "output_type": "execute_result"
    }
   ],
   "source": [
    "err_6c, err_6c_res, sum_log_probabilities(err_6c_res)"
   ]
  },
  {
   "cell_type": "markdown",
   "metadata": {},
   "source": [
    "# Errors involving a missing word\n",
    "(challenging to assess, but technically possible)\n",
    "## `I'm not sure what I'm up tomorrow.`"
   ]
  },
  {
   "cell_type": "code",
   "execution_count": 25,
   "metadata": {},
   "outputs": [
    {
     "name": "stdout",
     "output_type": "stream",
     "text": [
      "[]\n"
     ]
    }
   ],
   "source": [
    "err_2 = \"I'm not sure what I'm up tomorrow.\"\n",
    "err_2c = \"I'm not sure what I'm up to tomorrow.\"\n",
    "\n",
    "pprint(check_sentence(err_2))"
   ]
  },
  {
   "cell_type": "code",
   "execution_count": 26,
   "metadata": {},
   "outputs": [
    {
     "data": {
      "text/plain": [
       "(\"I'm not sure what I'm up tomorrow.\",\n",
       " (('I', ('I',), (0.9999278783798218,)),\n",
       "  (\"'m\", (\"'\", 'm'), (0.9940817952156067, 0.9981948733329773)),\n",
       "  ('not', ('not',), (0.9955098628997803,)),\n",
       "  ('sure', ('sure',), (0.9942660927772522,)),\n",
       "  ('what', ('what',), (0.29661574959754944,)),\n",
       "  ('I', ('I',), (0.9999932050704956,)),\n",
       "  (\"'m\", (\"'\", 'm'), (0.03428991511464119, 0.00015710253501310945)),\n",
       "  ('up', ('up',), (2.1657100660377182e-05,)),\n",
       "  ('tomorrow', ('tomorrow',), (2.44925679737662e-08,)),\n",
       "  ('.', ('.',), (0.9749104380607605,))),\n",
       " -41.65538870204863)"
      ]
     },
     "execution_count": 26,
     "metadata": {},
     "output_type": "execute_result"
    }
   ],
   "source": [
    "err_2_res = get_word_probabilities(err_2, bert_tokenizer=bert_tokenizer, bert_model=bert_model)\n",
    "err_2, err_2_res, sum_log_probabilities(err_2_res)"
   ]
  },
  {
   "cell_type": "code",
   "execution_count": 27,
   "metadata": {},
   "outputs": [
    {
     "data": {
      "text/plain": [
       "(\"I'm not sure what I'm up to tomorrow.\",\n",
       " (('I', ('I',), (0.9999313354492188,)),\n",
       "  (\"'m\", (\"'\", 'm'), (0.9962669014930725, 0.9988389611244202)),\n",
       "  ('not', ('not',), (0.9957733750343323,)),\n",
       "  ('sure', ('sure',), (0.9943144917488098,)),\n",
       "  ('what', ('what',), (0.9879710078239441,)),\n",
       "  ('I', ('I',), (0.9999955892562866,)),\n",
       "  (\"'m\", (\"'\", 'm'), (0.8611570000648499, 0.9070966243743896)),\n",
       "  ('up', ('up',), (0.5622091889381409,)),\n",
       "  ('to', ('to',), (0.5460034608840942,)),\n",
       "  ('tomorrow', ('tomorrow',), (0.0015979717718437314,)),\n",
       "  ('.', ('.',), (0.9823225140571594,))),\n",
       " -7.911865799294704)"
      ]
     },
     "execution_count": 27,
     "metadata": {},
     "output_type": "execute_result"
    }
   ],
   "source": [
    "err_2c_res = get_word_probabilities(err_2c, bert_tokenizer=bert_tokenizer, bert_model=bert_model)\n",
    "err_2c, err_2c_res, sum_log_probabilities(err_2c_res)"
   ]
  },
  {
   "cell_type": "markdown",
   "metadata": {},
   "source": [
    "# Another missing word example:\n",
    "## `I am psychologist.`"
   ]
  },
  {
   "cell_type": "code",
   "execution_count": 28,
   "metadata": {},
   "outputs": [
    {
     "name": "stdout",
     "output_type": "stream",
     "text": [
      "[]\n"
     ]
    }
   ],
   "source": [
    "err_3 = \"I am psychologist.\"\n",
    "err_3c = \"I am a psychologist.\"\n",
    "\n",
    "pprint(check_sentence(err_3))"
   ]
  },
  {
   "cell_type": "code",
   "execution_count": 29,
   "metadata": {},
   "outputs": [
    {
     "data": {
      "text/plain": [
       "('I am psychologist.',\n",
       " (('I', ('I',), (0.9840011596679688,)),\n",
       "  ('am', ('am',), (0.7002142667770386,)),\n",
       "  ('psychologist', ('psychologist',), (4.375794560473878e-06,)),\n",
       "  ('.', ('.',), (0.8807179927825928,))),\n",
       " -12.83893734289548)"
      ]
     },
     "execution_count": 29,
     "metadata": {},
     "output_type": "execute_result"
    }
   ],
   "source": [
    "err_3_res = get_word_probabilities(err_3, bert_tokenizer=bert_tokenizer, bert_model=bert_model)\n",
    "err_3, err_3_res, sum_log_probabilities(err_3_res)"
   ]
  },
  {
   "cell_type": "code",
   "execution_count": 30,
   "metadata": {},
   "outputs": [
    {
     "data": {
      "text/plain": [
       "('I am a psychologist.',\n",
       " (('I', ('I',), (0.9992541670799255,)),\n",
       "  ('am', ('am',), (0.7013963460922241,)),\n",
       "  ('a', ('a',), (0.9869096875190735,)),\n",
       "  ('psychologist', ('psychologist',), (0.0009734426275826991,)),\n",
       "  ('.', ('.',), (0.9416044354438782,))),\n",
       " -7.363446689242413)"
      ]
     },
     "execution_count": 30,
     "metadata": {},
     "output_type": "execute_result"
    }
   ],
   "source": [
    "err_3c_res = get_word_probabilities(err_3c, bert_tokenizer=bert_tokenizer, bert_model=bert_model)\n",
    "err_3c, err_3c_res, sum_log_probabilities(err_3c_res)"
   ]
  },
  {
   "cell_type": "markdown",
   "metadata": {},
   "source": [
    "# Errors of an extra word, e.g.:\n",
    "## `Why is do they appear in this particular section?`"
   ]
  },
  {
   "cell_type": "code",
   "execution_count": 31,
   "metadata": {},
   "outputs": [
    {
     "name": "stdout",
     "output_type": "stream",
     "text": [
      "[{'context': {'length': 2,\n",
      "              'offset': 7,\n",
      "              'text': 'Why is do they appear in this particular section?...'},\n",
      "  'contextForSureMatch': -1,\n",
      "  'ignoreForIncompleteSentence': True,\n",
      "  'length': 2,\n",
      "  'message': 'Consider using either the past participle “done” or the present '\n",
      "             'participle “doing” here.',\n",
      "  'offset': 7,\n",
      "  'replacements': [{'value': 'done'}, {'value': 'doing'}],\n",
      "  'rule': {'category': {'id': 'GRAMMAR', 'name': 'Grammar'},\n",
      "           'description': \"Agreement: 'been' or 'was' + past tense\",\n",
      "           'id': 'BEEN_PART_AGREEMENT',\n",
      "           'issueType': 'grammar',\n",
      "           'sourceFile': 'grammar.xml',\n",
      "           'subId': '9'},\n",
      "  'sentence': 'Why is do they appear in this particular section?',\n",
      "  'shortMessage': 'Possible agreement error',\n",
      "  'type': {'typeName': 'Other'}}]\n"
     ]
    }
   ],
   "source": [
    "err_4 = \"Why is do they appear in this particular section?\"\n",
    "err_4c = \"Why do they appear in this particular section?\"\n",
    "\n",
    "pprint(check_sentence(err_4))"
   ]
  },
  {
   "cell_type": "code",
   "execution_count": 32,
   "metadata": {},
   "outputs": [
    {
     "data": {
      "text/plain": [
       "('Why is do they appear in this particular section?',\n",
       " (('Why', ('Why',), (0.16757825016975403,)),\n",
       "  ('is', ('is',), (5.6386539654340595e-05,)),\n",
       "  ('do', ('do',), (7.702327025072009e-07,)),\n",
       "  ('they', ('they',), (0.20910966396331787,)),\n",
       "  ('appear', ('appear',), (0.2699648439884186,)),\n",
       "  ('in', ('in',), (0.9779276847839355,)),\n",
       "  ('this', ('this',), (0.2772179841995239,)),\n",
       "  ('particular', ('particular',), (0.07984210550785065,)),\n",
       "  ('section', ('section',), (0.0006671780720353127,)),\n",
       "  ('?', ('?',), (0.9757105708122253,))),\n",
       " -39.690535928477864)"
      ]
     },
     "execution_count": 32,
     "metadata": {},
     "output_type": "execute_result"
    }
   ],
   "source": [
    "err_4_res = get_word_probabilities(err_4, bert_tokenizer=bert_tokenizer, bert_model=bert_model)\n",
    "err_4, err_4_res, sum_log_probabilities(err_4_res)"
   ]
  },
  {
   "cell_type": "code",
   "execution_count": 33,
   "metadata": {},
   "outputs": [
    {
     "data": {
      "text/plain": [
       "('Why do they appear in this particular section?',\n",
       " (('Why', ('Why',), (0.7214864492416382,)),\n",
       "  ('do', ('do',), (0.4936559796333313,)),\n",
       "  ('they', ('they',), (0.36473700404167175,)),\n",
       "  ('appear', ('appear',), (0.25730466842651367,)),\n",
       "  ('in', ('in',), (0.9865928292274475,)),\n",
       "  ('this', ('this',), (0.5284489989280701,)),\n",
       "  ('particular', ('particular',), (0.09415006637573242,)),\n",
       "  ('section', ('section',), (0.0003871993103530258,)),\n",
       "  ('?', ('?',), (0.9983170032501221,))),\n",
       " -14.270858777541996)"
      ]
     },
     "execution_count": 33,
     "metadata": {},
     "output_type": "execute_result"
    }
   ],
   "source": [
    "err_4c_res = get_word_probabilities(err_4c, bert_tokenizer=bert_tokenizer, bert_model=bert_model)\n",
    "err_4c, err_4c_res, sum_log_probabilities(err_4c_res)"
   ]
  },
  {
   "cell_type": "markdown",
   "metadata": {},
   "source": [
    "# Duplicate word errors, e.g.:\n",
    "## `Is our youth really in in such a state of disrepair?`"
   ]
  },
  {
   "cell_type": "code",
   "execution_count": 34,
   "metadata": {},
   "outputs": [
    {
     "name": "stdout",
     "output_type": "stream",
     "text": [
      "[{'context': {'length': 5,\n",
      "              'offset': 20,\n",
      "              'text': 'Is our youth really in in such a state of disrepair?'},\n",
      "  'contextForSureMatch': 1,\n",
      "  'ignoreForIncompleteSentence': False,\n",
      "  'length': 5,\n",
      "  'message': 'Possible typo: you repeated a word',\n",
      "  'offset': 20,\n",
      "  'replacements': [{'value': 'in'}],\n",
      "  'rule': {'category': {'id': 'MISC', 'name': 'Miscellaneous'},\n",
      "           'description': \"Word repetition (e.g. 'will will')\",\n",
      "           'id': 'ENGLISH_WORD_REPEAT_RULE',\n",
      "           'issueType': 'duplication'},\n",
      "  'sentence': 'Is our youth really in in such a state of disrepair?',\n",
      "  'shortMessage': 'Word repetition',\n",
      "  'type': {'typeName': 'Other'}}]\n"
     ]
    }
   ],
   "source": [
    "err_5 = \"Is our youth really in in such a state of disrepair?\"\n",
    "err_5c = \"Is our youth really in such a state of disrepair?\"\n",
    "\n",
    "pprint(check_sentence(err_5))"
   ]
  },
  {
   "cell_type": "markdown",
   "metadata": {},
   "source": [
    "## Here, LanguageTool's suggestion is excellent, and it would be hard to detect via BERT"
   ]
  },
  {
   "cell_type": "code",
   "execution_count": 35,
   "metadata": {},
   "outputs": [
    {
     "data": {
      "text/plain": [
       "('Is our youth really in in such a state of disrepair?',\n",
       " (('Is', ('Is',), (0.529249906539917,)),\n",
       "  ('our', ('our',), (0.12770050764083862,)),\n",
       "  ('youth', ('youth',), (1.3720389688387513e-05,)),\n",
       "  ('really', ('really',), (0.005016029812395573,)),\n",
       "  ('in', ('in',), (7.473444566130638e-05,)),\n",
       "  ('in', ('in',), (0.024649903178215027,)),\n",
       "  ('such', ('such',), (0.8042277097702026,)),\n",
       "  ('a', ('a',), (0.9959418177604675,)),\n",
       "  ('state', ('state',), (0.9993483424186707,)),\n",
       "  ('of', ('of',), (0.9995388984680176,)),\n",
       "  ('disrepair',\n",
       "   ('di', '##s', '##re', '##pair'),\n",
       "   (0.13680821657180786,\n",
       "    0.03776433318853378,\n",
       "    0.007090019062161446,\n",
       "    0.012891368940472603)),\n",
       "  ('?', ('?',), (0.9985206723213196,))),\n",
       " -47.18102059567564)"
      ]
     },
     "execution_count": 35,
     "metadata": {},
     "output_type": "execute_result"
    }
   ],
   "source": [
    "err_5_res = get_word_probabilities(err_5, bert_tokenizer=bert_tokenizer, bert_model=bert_model)\n",
    "err_5, err_5_res, sum_log_probabilities(err_5_res)"
   ]
  },
  {
   "cell_type": "code",
   "execution_count": 36,
   "metadata": {},
   "outputs": [
    {
     "data": {
      "text/plain": [
       "('Is our youth really in such a state of disrepair?',\n",
       " (('Is', ('Is',), (0.9524368047714233,)),\n",
       "  ('our', ('our',), (0.1444408893585205,)),\n",
       "  ('youth', ('youth',), (7.70058704802068e-06,)),\n",
       "  ('really', ('really',), (0.11454037576913834,)),\n",
       "  ('in', ('in',), (0.9997240900993347,)),\n",
       "  ('such', ('such',), (0.9997158646583557,)),\n",
       "  ('a', ('a',), (0.9996241331100464,)),\n",
       "  ('state', ('state',), (0.9997543692588806,)),\n",
       "  ('of', ('of',), (0.9999294281005859,)),\n",
       "  ('disrepair',\n",
       "   ('di', '##s', '##re', '##pair'),\n",
       "   (0.07161868363618851,\n",
       "    0.023905493319034576,\n",
       "    0.008383141830563545,\n",
       "    0.009917513467371464)),\n",
       "  ('?', ('?',), (0.9991294741630554,))),\n",
       " -31.691813388194507)"
      ]
     },
     "execution_count": 36,
     "metadata": {},
     "output_type": "execute_result"
    }
   ],
   "source": [
    "err_5c_res = get_word_probabilities(err_5c, bert_tokenizer=bert_tokenizer, bert_model=bert_model)\n",
    "err_5c, err_5c_res, sum_log_probabilities(err_5c_res)"
   ]
  },
  {
   "cell_type": "markdown",
   "metadata": {},
   "source": [
    "# Errors of Agreement, e.g.:\n",
    "## `I awaits your response.`"
   ]
  },
  {
   "cell_type": "code",
   "execution_count": 37,
   "metadata": {},
   "outputs": [
    {
     "name": "stdout",
     "output_type": "stream",
     "text": [
      "[{'context': {'length': 6, 'offset': 2, 'text': 'I awaits your response.'},\n",
      "  'contextForSureMatch': 4,\n",
      "  'ignoreForIncompleteSentence': True,\n",
      "  'length': 6,\n",
      "  'message': 'Possible agreement error — use the base form here.',\n",
      "  'offset': 2,\n",
      "  'replacements': [{'value': 'await'}],\n",
      "  'rule': {'category': {'id': 'GRAMMAR', 'name': 'Grammar'},\n",
      "           'description': 'base form after I/you/we/they',\n",
      "           'id': 'BASE_FORM',\n",
      "           'issueType': 'grammar',\n",
      "           'sourceFile': 'grammar.xml',\n",
      "           'subId': '2'},\n",
      "  'sentence': 'I awaits your response.',\n",
      "  'shortMessage': '',\n",
      "  'type': {'typeName': 'Other'}}]\n"
     ]
    }
   ],
   "source": [
    "err_8 = \"I awaits your response.\"\n",
    "err_8c = \"I await your response.\"\n",
    "\n",
    "pprint(check_sentence(err_8))"
   ]
  },
  {
   "cell_type": "markdown",
   "metadata": {},
   "source": [
    "## Another excellent LanguageTool suggestion!"
   ]
  },
  {
   "cell_type": "code",
   "execution_count": 38,
   "metadata": {},
   "outputs": [
    {
     "data": {
      "text/plain": [
       "('I awaits your response.',\n",
       " (('I', ('I',), (0.0030388347804546356,)),\n",
       "  ('awaits',\n",
       "   ('a', '##wai', '##ts'),\n",
       "   (0.0018924882169812918, 0.5225626230239868, 2.2834132323623635e-05)),\n",
       "  ('your', ('your',), (0.006523116026073694,)),\n",
       "  ('response', ('response',), (0.03266255930066109,)),\n",
       "  ('.', ('.',), (0.9765116572380066,))),\n",
       " -31.880106013770572)"
      ]
     },
     "execution_count": 38,
     "metadata": {},
     "output_type": "execute_result"
    }
   ],
   "source": [
    "err_8_res = get_word_probabilities(err_8, bert_tokenizer=bert_tokenizer, bert_model=bert_model)\n",
    "err_8, err_8_res, sum_log_probabilities(err_8_res)"
   ]
  },
  {
   "cell_type": "code",
   "execution_count": 39,
   "metadata": {},
   "outputs": [
    {
     "data": {
      "text/plain": [
       "('I await your response.',\n",
       " (('I', ('I',), (0.6984617710113525,)),\n",
       "  ('await',\n",
       "   ('a', '##wai', '##t'),\n",
       "   (0.0018924882169812918, 0.5225626230239868, 0.011545822024345398)),\n",
       "  ('your', ('your',), (0.016748905181884766,)),\n",
       "  ('response', ('response',), (0.014317264780402184,)),\n",
       "  ('.', ('.',), (0.9831327795982361,))),\n",
       " -20.09190233717632)"
      ]
     },
     "execution_count": 39,
     "metadata": {},
     "output_type": "execute_result"
    }
   ],
   "source": [
    "err_8c_res = get_word_probabilities(err_8c, bert_tokenizer=bert_tokenizer, bert_model=bert_model)\n",
    "err_8c, err_8c_res, sum_log_probabilities(err_8c_res)"
   ]
  },
  {
   "cell_type": "markdown",
   "metadata": {},
   "source": [
    "# Another error of agreement:\n",
    "## `The first of these scientist begin in January.`"
   ]
  },
  {
   "cell_type": "code",
   "execution_count": 40,
   "metadata": {},
   "outputs": [
    {
     "name": "stdout",
     "output_type": "stream",
     "text": [
      "[{'context': {'length': 15,\n",
      "              'offset': 13,\n",
      "              'text': 'The first of these scientist begin in January.'},\n",
      "  'contextForSureMatch': 8,\n",
      "  'ignoreForIncompleteSentence': True,\n",
      "  'length': 15,\n",
      "  'message': 'The plural demonstrative ‘these’ does not agree with the '\n",
      "             'singular noun ‘scientist’.',\n",
      "  'offset': 13,\n",
      "  'replacements': [{'value': 'this scientist'}, {'value': 'these scientists'}],\n",
      "  'rule': {'category': {'id': 'GRAMMAR', 'name': 'Grammar'},\n",
      "           'description': \"'this' vs. 'these'\",\n",
      "           'id': 'THIS_NNS',\n",
      "           'issueType': 'grammar',\n",
      "           'sourceFile': 'grammar.xml',\n",
      "           'subId': '4'},\n",
      "  'sentence': 'The first of these scientist begin in January.',\n",
      "  'shortMessage': 'Grammatical problem: use ‘this’',\n",
      "  'type': {'typeName': 'Other'}}]\n"
     ]
    }
   ],
   "source": [
    "err_9 = \"The first of these scientist begin in January.\"\n",
    "err_9c = \"The first of these scientists begin in January.\"\n",
    "\n",
    "pprint(check_sentence(err_9))"
   ]
  },
  {
   "cell_type": "code",
   "execution_count": 41,
   "metadata": {},
   "outputs": [
    {
     "data": {
      "text/plain": [
       "('The first of these scientist begin in January.',\n",
       " (('The', ('The',), (0.9965754151344299,)),\n",
       "  ('first', ('first',), (0.003906280733644962,)),\n",
       "  ('of', ('of',), (0.9852672815322876,)),\n",
       "  ('these', ('these',), (0.06135643273591995,)),\n",
       "  ('scientist', ('scientist',), (1.1261241938953503e-09,)),\n",
       "  ('begin', ('begin',), (0.01121385209262371,)),\n",
       "  ('in', ('in',), (0.9632464647293091,)),\n",
       "  ('January', ('January',), (0.0035626052413135767,)),\n",
       "  ('.', ('.',), (0.929932713508606,))),\n",
       " -39.19693931416358)"
      ]
     },
     "execution_count": 41,
     "metadata": {},
     "output_type": "execute_result"
    }
   ],
   "source": [
    "err_9_res = get_word_probabilities(err_9, bert_tokenizer=bert_tokenizer, bert_model=bert_model)\n",
    "err_9, err_9_res, sum_log_probabilities(err_9_res)"
   ]
  },
  {
   "cell_type": "code",
   "execution_count": 42,
   "metadata": {},
   "outputs": [
    {
     "data": {
      "text/plain": [
       "('The first of these scientists begin in January.',\n",
       " (('The', ('The',), (0.9947475790977478,)),\n",
       "  ('first', ('first',), (0.0005034923669882119,)),\n",
       "  ('of', ('of',), (0.9047554731369019,)),\n",
       "  ('these', ('these',), (0.05980180203914642,)),\n",
       "  ('scientists', ('scientists',), (8.274631113636133e-07,)),\n",
       "  ('begin', ('begin',), (0.0018082300666719675,)),\n",
       "  ('in', ('in',), (0.8767003417015076,)),\n",
       "  ('January', ('January',), (0.0017494859639555216,)),\n",
       "  ('.', ('.',), (0.9212959408760071,))),\n",
       " -37.39832367384093)"
      ]
     },
     "execution_count": 42,
     "metadata": {},
     "output_type": "execute_result"
    }
   ],
   "source": [
    "err_9c_res = get_word_probabilities(err_9c, bert_tokenizer=bert_tokenizer, bert_model=bert_model)\n",
    "err_9c, err_9c_res, sum_log_probabilities(err_9c_res)"
   ]
  },
  {
   "cell_type": "markdown",
   "metadata": {},
   "source": [
    "# one of the LanguageTool suggested corrections, not so good:\n",
    "## `The first of this scientist begin in January.`"
   ]
  },
  {
   "cell_type": "code",
   "execution_count": 43,
   "metadata": {},
   "outputs": [
    {
     "data": {
      "text/plain": [
       "('The first of this scientist begin in January.',\n",
       " (('The', ('The',), (0.935041606426239,)),\n",
       "  ('first', ('first',), (6.021699391567381e-06,)),\n",
       "  ('of', ('of',), (0.07830952852964401,)),\n",
       "  ('this', ('this',), (0.0009151458507403731,)),\n",
       "  ('scientist', ('scientist',), (2.6872328362514963e-07,)),\n",
       "  ('begin', ('begin',), (0.011763887479901314,)),\n",
       "  ('in', ('in',), (0.9169101119041443,)),\n",
       "  ('January', ('January',), (0.0047429585829377174,)),\n",
       "  ('.', ('.',), (0.9340659379959106,))),\n",
       " -46.70917113698211)"
      ]
     },
     "execution_count": 43,
     "metadata": {},
     "output_type": "execute_result"
    }
   ],
   "source": [
    "err_9clt = \"The first of this scientist begin in January.\"\n",
    "err_9clt_res = get_word_probabilities(err_9clt, bert_tokenizer=bert_tokenizer, bert_model=bert_model)\n",
    "err_9clt, err_9clt_res, sum_log_probabilities(err_9clt_res)"
   ]
  },
  {
   "cell_type": "markdown",
   "metadata": {},
   "source": [
    "# Errors with Verb Form:\n",
    "## `Brent would often became stunned by resentment.`"
   ]
  },
  {
   "cell_type": "code",
   "execution_count": 44,
   "metadata": {},
   "outputs": [
    {
     "name": "stdout",
     "output_type": "stream",
     "text": [
      "[{'context': {'length': 6,\n",
      "              'offset': 18,\n",
      "              'text': 'Brent would often became stunned by resentment.'},\n",
      "  'contextForSureMatch': -1,\n",
      "  'ignoreForIncompleteSentence': True,\n",
      "  'length': 6,\n",
      "  'message': 'The modal verb ‘would’ requires the verb’s base form.',\n",
      "  'offset': 18,\n",
      "  'replacements': [{'value': 'become'}],\n",
      "  'rule': {'category': {'id': 'GRAMMAR', 'name': 'Grammar'},\n",
      "           'description': 'Non-infinitive verb after modal verbs',\n",
      "           'id': 'MD_BASEFORM',\n",
      "           'issueType': 'grammar',\n",
      "           'sourceFile': 'grammar.xml',\n",
      "           'subId': '2'},\n",
      "  'sentence': 'Brent would often became stunned by resentment.',\n",
      "  'shortMessage': 'Grammatical problem: use the base form',\n",
      "  'type': {'typeName': 'Other'}}]\n"
     ]
    }
   ],
   "source": [
    "err_10 = \"Brent would often became stunned by resentment.\"\n",
    "err_10c = \"Brent would often become stunned by resentment.\"\n",
    "\n",
    "pprint(check_sentence(err_10))"
   ]
  },
  {
   "cell_type": "markdown",
   "metadata": {},
   "source": [
    "## Error not found?"
   ]
  },
  {
   "cell_type": "code",
   "execution_count": 45,
   "metadata": {},
   "outputs": [
    {
     "data": {
      "text/plain": [
       "('Brent would often became stunned by resentment.',\n",
       " (('Brent', ('Brent',), (5.3277675760909915e-05,)),\n",
       "  ('would', ('would',), (0.0011291676200926304,)),\n",
       "  ('often', ('often',), (0.0006896409904584289,)),\n",
       "  ('became', ('became',), (1.8070495571009815e-05,)),\n",
       "  ('stunned', ('stunned',), (0.0001664818119024858,)),\n",
       "  ('by', ('by',), (0.32945454120635986,)),\n",
       "  ('resentment', ('resentment',), (7.654621731489897e-05,)),\n",
       "  ('.', ('.',), (0.942987322807312,))),\n",
       " -54.174096802403675)"
      ]
     },
     "execution_count": 45,
     "metadata": {},
     "output_type": "execute_result"
    }
   ],
   "source": [
    "err_10_res = get_word_probabilities(err_10, bert_tokenizer=bert_tokenizer, bert_model=bert_model)\n",
    "err_10, err_10_res, sum_log_probabilities(err_10_res)"
   ]
  },
  {
   "cell_type": "code",
   "execution_count": 46,
   "metadata": {},
   "outputs": [
    {
     "data": {
      "text/plain": [
       "('Brent would often become stunned by resentment.',\n",
       " (('Brent', ('Brent',), (6.463535100920126e-05,)),\n",
       "  ('would', ('would',), (0.38164862990379333,)),\n",
       "  ('often', ('often',), (0.02204342558979988,)),\n",
       "  ('become', ('become',), (0.03031110018491745,)),\n",
       "  ('stunned', ('stunned',), (8.590563083998859e-05,)),\n",
       "  ('by', ('by',), (0.3531121015548706,)),\n",
       "  ('resentment', ('resentment',), (5.8304620324634016e-05,)),\n",
       "  ('.', ('.',), (0.9311017990112305,))),\n",
       " -38.14543291502301)"
      ]
     },
     "execution_count": 46,
     "metadata": {},
     "output_type": "execute_result"
    }
   ],
   "source": [
    "err_10c_res = get_word_probabilities(err_10c, bert_tokenizer=bert_tokenizer, bert_model=bert_model)\n",
    "err_10c, err_10c_res, sum_log_probabilities(err_10c_res)"
   ]
  },
  {
   "cell_type": "markdown",
   "metadata": {},
   "source": [
    "# Another verb form error:\n",
    "## `I having mostly been moving flat.`"
   ]
  },
  {
   "cell_type": "code",
   "execution_count": 47,
   "metadata": {},
   "outputs": [
    {
     "name": "stdout",
     "output_type": "stream",
     "text": [
      "[{'context': {'length': 6,\n",
      "              'offset': 18,\n",
      "              'text': 'Brent would often became stunned by resentment.'},\n",
      "  'contextForSureMatch': -1,\n",
      "  'ignoreForIncompleteSentence': True,\n",
      "  'length': 6,\n",
      "  'message': 'The modal verb ‘would’ requires the verb’s base form.',\n",
      "  'offset': 18,\n",
      "  'replacements': [{'value': 'become'}],\n",
      "  'rule': {'category': {'id': 'GRAMMAR', 'name': 'Grammar'},\n",
      "           'description': 'Non-infinitive verb after modal verbs',\n",
      "           'id': 'MD_BASEFORM',\n",
      "           'issueType': 'grammar',\n",
      "           'sourceFile': 'grammar.xml',\n",
      "           'subId': '2'},\n",
      "  'sentence': 'Brent would often became stunned by resentment.',\n",
      "  'shortMessage': 'Grammatical problem: use the base form',\n",
      "  'type': {'typeName': 'Other'}}]\n"
     ]
    }
   ],
   "source": [
    "err_11 = \"I having mostly been moving flat.\"\n",
    "err_11c = \"I have mostly been moving flat.\"\n",
    "\n",
    "pprint(check_sentence(err_10))"
   ]
  },
  {
   "cell_type": "code",
   "execution_count": 48,
   "metadata": {},
   "outputs": [
    {
     "data": {
      "text/plain": [
       "('I having mostly been moving flat.',\n",
       " (('I', ('I',), (0.004502556286752224,)),\n",
       "  ('having', ('having',), (6.764967838535085e-05,)),\n",
       "  ('mostly', ('mostly',), (0.005808720365166664,)),\n",
       "  ('been', ('been',), (0.6068595051765442,)),\n",
       "  ('moving', ('moving',), (0.00011972850188612938,)),\n",
       "  ('flat', ('flat',), (1.0321228728571441e-05,)),\n",
       "  ('.', ('.',), (0.8743120431900024,))),\n",
       " -41.29804043209969)"
      ]
     },
     "execution_count": 48,
     "metadata": {},
     "output_type": "execute_result"
    }
   ],
   "source": [
    "err_11_res = get_word_probabilities(err_11, bert_tokenizer=bert_tokenizer, bert_model=bert_model)\n",
    "err_11, err_11_res, sum_log_probabilities(err_11_res)"
   ]
  },
  {
   "cell_type": "code",
   "execution_count": 49,
   "metadata": {},
   "outputs": [
    {
     "data": {
      "text/plain": [
       "('I have mostly been moving flat.',\n",
       " (('I', ('I',), (0.09664551168680191,)),\n",
       "  ('have', ('have',), (0.4320402443408966,)),\n",
       "  ('mostly', ('mostly',), (0.0061361235566437244,)),\n",
       "  ('been', ('been',), (0.9096378087997437,)),\n",
       "  ('moving', ('moving',), (0.00013921161007601768,)),\n",
       "  ('flat', ('flat',), (9.656163456384093e-06,)),\n",
       "  ('.', ('.',), (0.9592146277427673,))),\n",
       " -28.833282879516847)"
      ]
     },
     "execution_count": 49,
     "metadata": {},
     "output_type": "execute_result"
    }
   ],
   "source": [
    "err_11c_res = get_word_probabilities(err_11c, bert_tokenizer=bert_tokenizer, bert_model=bert_model)\n",
    "err_11c, err_11c_res, sum_log_probabilities(err_11c_res)"
   ]
  },
  {
   "cell_type": "markdown",
   "metadata": {},
   "source": [
    "# Areas for further investigation\n",
    "* Detecting errors is difficult!\n",
    "    * Can anomaly detection be used to detect errors?\n",
    "        * e.g. anomalies in the sequence of word probabilities for a sentence\n",
    "    * Research seems to indicate that anomaly/error thresholds have to be tuned per domain.\n",
    "* Good datasets of true grammatical errors are hard to find; best to collect your own if you can.\n",
    "* Machine generated grammatical error datasets are difficult to get right; but some augmentation is possible."
   ]
  },
  {
   "cell_type": "markdown",
   "metadata": {},
   "source": [
    "# That's all for now!"
   ]
  }
 ],
 "metadata": {
  "kernelspec": {
   "display_name": "Python 3 (ipykernel)",
   "language": "python",
   "name": "python3"
  },
  "language_info": {
   "codemirror_mode": {
    "name": "ipython",
    "version": 3
   },
   "file_extension": ".py",
   "mimetype": "text/x-python",
   "name": "python",
   "nbconvert_exporter": "python",
   "pygments_lexer": "ipython3",
   "version": "3.9.5"
  }
 },
 "nbformat": 4,
 "nbformat_minor": 2
}
